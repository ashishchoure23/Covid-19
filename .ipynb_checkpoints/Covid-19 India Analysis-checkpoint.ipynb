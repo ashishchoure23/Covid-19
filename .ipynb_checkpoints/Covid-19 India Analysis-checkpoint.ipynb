{
 "cells": [
  {
   "cell_type": "markdown",
   "metadata": {},
   "source": [
    "# Covid-19 India Visualization and Animation"
   ]
  },
  {
   "cell_type": "markdown",
   "metadata": {
    "ExecuteTime": {
     "end_time": "2020-04-03T15:43:35.814518Z",
     "start_time": "2020-04-03T15:43:35.806519Z"
    }
   },
   "source": [
    "## Description\n",
    "\n",
    "Coronavirus disease 2019 (COVID-19) is an infectious disease caused by severe acute respiratory syndrome coronavirus 2 (SARS-CoV-2).[6] The disease was first identified in December 2019 in Wuhan, the capital of China's Hubei province, and has since spread globally, resulting in the ongoing 2019–20 coronavirus pandemic.[7][8] Common symptoms include fever, cough, and shortness of breath.[9] Other symptoms may include muscle pain, sputum production, diarrhea, sore throat, loss of smell, and abdominal pain.[4][10][11] While the majority of cases result in mild symptoms, some progress to viral pneumonia and multi-organ failure.[7][12] As of 3 April 2020, more than 1,040,000[5] cases of COVID-19 have been reported in more than two hundred countries and territories,[13] resulting in over 55,100 deaths.[5] More than 221,000 people have recovered.[5]\n",
    "\n",
    "The virus is mainly spread during close contact,[a] and by small droplets produced when people cough, sneeze, or talk.[14][16][15] Respiratory droplets may be produced during breathing but the virus is not generally airborne.[14][16] People may also contract COVID-19 by touching a contaminated surface and then their face.[14][15] It is most contagious when people are symptomatic, although spread may be possible before symptoms appear.[15] The virus can survive on surfaces up to 72 hours.[17] Time from exposure to onset of symptoms is generally between two and fourteen days, with an average of five days.[9][18] The standard method of diagnosis is by reverse transcription polymerase chain reaction (rRT-PCR) from a nasopharyngeal swab.[19] The infection can also be diagnosed from a combination of symptoms, risk factors and a chest CT scan showing features of pneumonia.[20][21]\n",
    "\n",
    "Recommended measures to prevent infection include frequent hand washing, social distancing (maintaining physical distance from others, especially from those with symptoms), covering coughs and sneezes with a tissue or inner elbow, and keeping unwashed hands away from the face.[22][23] The use of masks is recommended for those who suspect they have the virus and their caregivers.[24] Recommendations for mask use by the general public vary, with some authorities recommending against their use, some recommending their use, and others requiring their use.[25][26][27] Currently, there is no vaccine or specific antiviral treatment for COVID-19. Management involves treatment of symptoms, supportive care, isolation, and experimental measures.[28]\n",
    "\n",
    "The World Health Organization (WHO) declared the 2019–20 coronavirus outbreak a Public Health Emergency of International Concern (PHEIC)[29][30] on 30 January 2020, and a pandemic on 11 March 2020.[8] Local transmission of the disease has been recorded in many countries across all six WHO regions.[31] \n",
    "\n",
    "Source https://en.wikipedia.org/wiki/Coronavirus_disease_2019"
   ]
  },
  {
   "cell_type": "code",
   "execution_count": 1,
   "metadata": {
    "ExecuteTime": {
     "end_time": "2020-04-06T06:23:07.482890Z",
     "start_time": "2020-04-06T06:23:04.884117Z"
    },
    "hide_input": true,
    "jupyter": {
     "source_hidden": true
    }
   },
   "outputs": [
    {
     "data": {
      "text/html": [
       "        <script type=\"text/javascript\">\n",
       "        window.PlotlyConfig = {MathJaxConfig: 'local'};\n",
       "        if (window.MathJax) {MathJax.Hub.Config({SVG: {font: \"STIX-Web\"}});}\n",
       "        if (typeof require !== 'undefined') {\n",
       "        require.undef(\"plotly\");\n",
       "        requirejs.config({\n",
       "            paths: {\n",
       "                'plotly': ['https://cdn.plot.ly/plotly-latest.min']\n",
       "            }\n",
       "        });\n",
       "        require(['plotly'], function(Plotly) {\n",
       "            window._Plotly = Plotly;\n",
       "        });\n",
       "        }\n",
       "        </script>\n",
       "        "
      ]
     },
     "metadata": {},
     "output_type": "display_data"
    },
    {
     "data": {
      "text/html": [
       "        <script type=\"text/javascript\">\n",
       "        window.PlotlyConfig = {MathJaxConfig: 'local'};\n",
       "        if (window.MathJax) {MathJax.Hub.Config({SVG: {font: \"STIX-Web\"}});}\n",
       "        if (typeof require !== 'undefined') {\n",
       "        require.undef(\"plotly\");\n",
       "        requirejs.config({\n",
       "            paths: {\n",
       "                'plotly': ['https://cdn.plot.ly/plotly-latest.min']\n",
       "            }\n",
       "        });\n",
       "        require(['plotly'], function(Plotly) {\n",
       "            window._Plotly = Plotly;\n",
       "        });\n",
       "        }\n",
       "        </script>\n",
       "        "
      ]
     },
     "metadata": {},
     "output_type": "display_data"
    }
   ],
   "source": [
    "# import libs\n",
    "import pandas as pd\n",
    "import numpy as np\n",
    "import matplotlib.pyplot as plt\n",
    "import seaborn as sns\n",
    "from IPython.display import Markdown, display\n",
    "%matplotlib inline\n",
    "\n",
    "from plotly.offline import download_plotlyjs, init_notebook_mode, plot, iplot\n",
    "init_notebook_mode(connected=True)\n",
    "import cufflinks as cf\n",
    "cf.go_offline()\n",
    "\n",
    "import plotly.express as px\n",
    "import plotly.graph_objects as go\n",
    "\n",
    "# Load covid_19_india\n",
    "covid_19_india_df = pd.read_csv('./data/covid_19_india.csv', index_col='Sno')\n",
    "\n",
    "covid_19_india_df.Date = pd.to_datetime(covid_19_india_df.Date, format='%d/%m/%y')"
   ]
  },
  {
   "cell_type": "markdown",
   "metadata": {
    "hide_input": true
   },
   "source": [
    "## All cases"
   ]
  },
  {
   "cell_type": "code",
   "execution_count": 2,
   "metadata": {
    "ExecuteTime": {
     "end_time": "2020-04-06T06:23:07.500969Z",
     "start_time": "2020-04-06T06:23:07.484876Z"
    },
    "hide_input": true,
    "jupyter": {
     "outputs_hidden": true,
     "source_hidden": true
    }
   },
   "outputs": [],
   "source": [
    "date_table = covid_19_india_df.groupby(['Date', 'State/UnionTerritory']).sum().reset_index().set_index('Date')\n",
    "total = date_table.loc[date_table.last_valid_index()].sum()\n",
    "confirmed_count = total.Confirmed\n",
    "death_count = total.Deaths\n",
    "cured_count = total.Cured"
   ]
  },
  {
   "cell_type": "code",
   "execution_count": 3,
   "metadata": {
    "ExecuteTime": {
     "end_time": "2020-04-06T06:23:07.828489Z",
     "start_time": "2020-04-06T06:23:07.502492Z"
    },
    "hide_input": true
   },
   "outputs": [
    {
     "ename": "NameError",
     "evalue": "name 'Markdown' is not defined",
     "output_type": "error",
     "traceback": [
      "\u001b[1;31m---------------------------------------------------------------------------\u001b[0m",
      "\u001b[1;31mNameError\u001b[0m                                 Traceback (most recent call last)",
      "\u001b[1;32m<ipython-input-3-1394c135a79e>\u001b[0m in \u001b[0;36m<module>\u001b[1;34m\u001b[0m\n\u001b[0;32m      2\u001b[0m \u001b[0mconfirmed\u001b[0m \u001b[1;33m=\u001b[0m \u001b[1;34m\"<span style='color:{}; font-size:1.4em;'>{}</span>\"\u001b[0m\u001b[1;33m.\u001b[0m\u001b[0mformat\u001b[0m\u001b[1;33m(\u001b[0m\u001b[1;34m'blue'\u001b[0m\u001b[1;33m,\u001b[0m \u001b[1;34m'Confirmed cases - '\u001b[0m\u001b[1;33m+\u001b[0m\u001b[0mstr\u001b[0m\u001b[1;33m(\u001b[0m\u001b[0mconfirmed_count\u001b[0m\u001b[1;33m)\u001b[0m\u001b[1;33m)\u001b[0m\u001b[1;33m\u001b[0m\u001b[0m\n\u001b[0;32m      3\u001b[0m \u001b[0mdeaths\u001b[0m \u001b[1;33m=\u001b[0m \u001b[1;34m\"<span style='color:{}; font-size:1.4em;'>{}</span>\"\u001b[0m\u001b[1;33m.\u001b[0m\u001b[0mformat\u001b[0m\u001b[1;33m(\u001b[0m\u001b[1;34m'red'\u001b[0m\u001b[1;33m,\u001b[0m \u001b[1;34m'Deaths - '\u001b[0m\u001b[1;33m+\u001b[0m\u001b[0mstr\u001b[0m\u001b[1;33m(\u001b[0m\u001b[0mdeath_count\u001b[0m\u001b[1;33m)\u001b[0m\u001b[1;33m)\u001b[0m\u001b[1;33m\u001b[0m\u001b[0m\n\u001b[1;32m----> 4\u001b[1;33m \u001b[0mdisplay\u001b[0m\u001b[1;33m(\u001b[0m\u001b[0mMarkdown\u001b[0m\u001b[1;33m(\u001b[0m\u001b[0mcured\u001b[0m\u001b[1;33m)\u001b[0m\u001b[1;33m)\u001b[0m\u001b[1;33m\u001b[0m\u001b[0m\n\u001b[0m\u001b[0;32m      5\u001b[0m \u001b[0mdisplay\u001b[0m\u001b[1;33m(\u001b[0m\u001b[0mMarkdown\u001b[0m\u001b[1;33m(\u001b[0m\u001b[0mconfirmed\u001b[0m\u001b[1;33m)\u001b[0m\u001b[1;33m)\u001b[0m\u001b[1;33m\u001b[0m\u001b[0m\n\u001b[0;32m      6\u001b[0m \u001b[0mdisplay\u001b[0m\u001b[1;33m(\u001b[0m\u001b[0mMarkdown\u001b[0m\u001b[1;33m(\u001b[0m\u001b[0mdeaths\u001b[0m\u001b[1;33m)\u001b[0m\u001b[1;33m)\u001b[0m\u001b[1;33m\u001b[0m\u001b[0m\n",
      "\u001b[1;31mNameError\u001b[0m: name 'Markdown' is not defined"
     ]
    }
   ],
   "source": [
    "cured = \"<span style='color:{}; font-size:1.4em;'>{}</span>\".format('green', 'Cured - '+str(cured_count))    \n",
    "confirmed = \"<span style='color:{}; font-size:1.4em;'>{}</span>\".format('blue', 'Confirmed cases - '+str(confirmed_count))    \n",
    "deaths = \"<span style='color:{}; font-size:1.4em;'>{}</span>\".format('red', 'Deaths - '+str(death_count))\n",
    "display(Markdown(cured))\n",
    "display(Markdown(confirmed))\n",
    "display(Markdown(deaths))"
   ]
  },
  {
   "cell_type": "code",
   "execution_count": null,
   "metadata": {
    "ExecuteTime": {
     "end_time": "2020-04-06T06:23:07.830490Z",
     "start_time": "2020-04-06T06:23:04.899Z"
    },
    "hide_input": true,
    "jupyter": {
     "source_hidden": true
    },
    "scrolled": false
   },
   "outputs": [],
   "source": [
    "\n",
    "from plotly.subplots import make_subplots\n",
    "fig = make_subplots(rows=1, cols=3, shared_yaxes=True,\n",
    "                    subplot_titles=(\"Total deaths - \" + str(death_count),\"Total confirmed - \" + str(confirmed_count),\n",
    "                                    \"Total cured - \" + str(cured_count)))\n",
    "\n",
    "# Create and style traces\n",
    "fig.add_trace(go.Scatter(x=date_group.Date, y=date_group.Deaths, name='Deaths',\n",
    "                         line=dict(color='firebrick', width=1), mode='lines+markers'), row=1, col=1)\n",
    "fig.add_trace(go.Scatter(x=date_group.Date, y=date_group.Confirmed, name = 'Confirmed',\n",
    "                         line=dict(color='royalblue', width=1), mode='lines+markers',), row=1, col=2)\n",
    "fig.add_trace(go.Scatter(x=date_group.Date, y=date_group.Cured, name='Cured',\n",
    "                         line=dict(color='green', width=1), mode='lines+markers',), row=1, col=3)\n",
    "\n",
    "fig.update_layout(\n",
    "    title=\"All Cases\",\n",
    "    xaxis_title=\"Date\",\n",
    "    yaxis_title=\"Count\",\n",
    "    font=dict(\n",
    "        family=\"Courier New, monospace\",\n",
    "        size=18,\n",
    "        color=\"black\"\n",
    "    )\n",
    ")\n",
    "\n",
    "fig.update_xaxes(ticks=\"inside\")\n",
    "fig.update_yaxes(ticks=\"inside\", col=1)\n",
    "\n",
    "fig.show()\n",
    "\n"
   ]
  },
  {
   "cell_type": "code",
   "execution_count": null,
   "metadata": {
    "ExecuteTime": {
     "end_time": "2020-04-06T06:23:07.832489Z",
     "start_time": "2020-04-06T06:23:04.907Z"
    },
    "hide_input": true,
    "jupyter": {
     "source_hidden": true
    },
    "scrolled": false
   },
   "outputs": [],
   "source": [
    "fig = go.Figure(data=[\n",
    "    go.Bar(name='Confirmed', x=date_group.Date, y=date_group.Confirmed),\n",
    "    go.Bar(name='Deaths', x=date_group.Date, y=date_group.Deaths),\n",
    "    go.Bar(name='Cured', x=date_group.Date, y=date_group.Cured)\n",
    "])\n",
    "# Change the bar mode\n",
    "fig.update_layout(autosize=False,\n",
    "    width=1000,\n",
    "    height=750,\n",
    "    title=\"All Cases\",\n",
    "    xaxis_title=\"Date\",\n",
    "    yaxis_title=\"Count\",\n",
    "    barmode='relative')\n",
    "fig.show()"
   ]
  },
  {
   "cell_type": "markdown",
   "metadata": {},
   "source": [
    "## Confirmed cases"
   ]
  },
  {
   "cell_type": "code",
   "execution_count": null,
   "metadata": {
    "ExecuteTime": {
     "end_time": "2020-04-06T06:23:07.833494Z",
     "start_time": "2020-04-06T06:23:04.918Z"
    },
    "hide_input": true,
    "jupyter": {
     "source_hidden": true
    }
   },
   "outputs": [],
   "source": [
    "date_group = covid_19_india_df.groupby(['Date']).sum()\n",
    "date_group.reset_index(inplace=True)\n",
    "\n",
    "date_group.sort_values('Date',inplace=True)\n",
    "\n",
    "import plotly.express as px\n",
    "fig = px.bar(date_group, x='Date', y='Confirmed', color='Confirmed')\n",
    "\n",
    "fig.update_layout(\n",
    "    title=\"Confirmed cases\",    \n",
    "    font=dict(\n",
    "        family=\"Courier New, monospace\",\n",
    "        size=18,\n",
    "        color=\"black\"\n",
    "    )\n",
    ")\n",
    "\n",
    "fig.show()"
   ]
  },
  {
   "cell_type": "markdown",
   "metadata": {},
   "source": [
    "## Deaths"
   ]
  },
  {
   "cell_type": "code",
   "execution_count": null,
   "metadata": {
    "ExecuteTime": {
     "end_time": "2020-04-06T06:23:07.834490Z",
     "start_time": "2020-04-06T06:23:04.924Z"
    },
    "hide_input": true,
    "jupyter": {
     "source_hidden": true
    }
   },
   "outputs": [],
   "source": [
    "fig = px.bar(date_group, x='Date', y='Deaths', color='Deaths')\n",
    "\n",
    "fig.update_layout(\n",
    "    title=\"Deaths\",    \n",
    "    font=dict(\n",
    "        family=\"Courier New, monospace\",\n",
    "        size=18,\n",
    "        color=\"black\"\n",
    "    )\n",
    ")\n",
    "\n",
    "fig.show()"
   ]
  },
  {
   "cell_type": "markdown",
   "metadata": {},
   "source": [
    "## Cured"
   ]
  },
  {
   "cell_type": "code",
   "execution_count": null,
   "metadata": {
    "ExecuteTime": {
     "end_time": "2020-04-06T06:23:07.835490Z",
     "start_time": "2020-04-06T06:23:04.930Z"
    },
    "hide_input": true,
    "jupyter": {
     "source_hidden": true
    }
   },
   "outputs": [],
   "source": [
    "fig = px.bar(date_group, x='Date', y='Cured', color='Cured')\n",
    "\n",
    "fig.update_layout(\n",
    "    title=\"Cured trend\",    \n",
    "    font=dict(\n",
    "        family=\"Courier New, monospace\",\n",
    "        size=18,\n",
    "        color=\"black\"\n",
    "    )\n",
    ")\n",
    "\n",
    "fig.show()"
   ]
  },
  {
   "cell_type": "markdown",
   "metadata": {},
   "source": [
    "## State wise trend"
   ]
  },
  {
   "cell_type": "code",
   "execution_count": null,
   "metadata": {
    "ExecuteTime": {
     "end_time": "2020-04-06T06:23:07.837490Z",
     "start_time": "2020-04-06T06:23:04.935Z"
    },
    "hide_input": true,
    "jupyter": {
     "source_hidden": true
    },
    "scrolled": false
   },
   "outputs": [],
   "source": [
    "fig = go.Figure(data=[\n",
    "    go.Bar(name='Confirmed', x=date_table.loc[date_table.last_valid_index()]['State/UnionTerritory'], y=date_table.loc[date_table.last_valid_index()].Confirmed),\n",
    "    go.Bar(name='Deaths', x=date_table.loc[date_table.last_valid_index()]['State/UnionTerritory'], y=date_table.loc[date_table.last_valid_index()].Deaths),\n",
    "    go.Bar(name='Cured', x=date_table.loc[date_table.last_valid_index()]['State/UnionTerritory'], y=date_table.loc[date_table.last_valid_index()].Cured)\n",
    "])\n",
    "# Change the bar mode\n",
    "fig.update_layout(\n",
    "    autosize=False,\n",
    "    width=1000,\n",
    "    height=750,\n",
    "    title=\"State wise cases\",\n",
    "    xaxis_title=\"State\",\n",
    "    yaxis_title=\"Count\",\n",
    "    barmode='stack')\n",
    "fig.show()"
   ]
  },
  {
   "cell_type": "markdown",
   "metadata": {},
   "source": [
    "### Confirmed cases pie chart"
   ]
  },
  {
   "cell_type": "code",
   "execution_count": null,
   "metadata": {
    "ExecuteTime": {
     "end_time": "2020-04-06T06:23:07.838491Z",
     "start_time": "2020-04-06T06:23:04.941Z"
    },
    "hide_input": true,
    "jupyter": {
     "source_hidden": true
    },
    "scrolled": false
   },
   "outputs": [],
   "source": [
    "fig = px.pie(date_table.loc[date_table.last_valid_index()], values='Confirmed', names='State/UnionTerritory', title='Confirmed cases')\n",
    "fig.update_layout(\n",
    "    autosize=False,\n",
    "    width=900,\n",
    "    height=650)\n",
    "fig.update_traces(textposition='inside', textinfo='percent+label')\n",
    "fig.show()"
   ]
  },
  {
   "cell_type": "markdown",
   "metadata": {},
   "source": [
    "### Deaths pie chart"
   ]
  },
  {
   "cell_type": "code",
   "execution_count": null,
   "metadata": {
    "ExecuteTime": {
     "end_time": "2020-04-06T06:23:07.839490Z",
     "start_time": "2020-04-06T06:23:04.946Z"
    },
    "hide_input": true,
    "jupyter": {
     "source_hidden": true
    }
   },
   "outputs": [],
   "source": [
    "fig = px.pie(date_table.loc[date_table.last_valid_index()], values='Deaths', names='State/UnionTerritory', title='Deaths')\n",
    "fig.update_layout(\n",
    "    autosize=False,\n",
    "    width=900,\n",
    "    height=650)\n",
    "fig.update_traces(textposition='inside', textinfo='percent+label')\n",
    "fig.show()"
   ]
  },
  {
   "cell_type": "markdown",
   "metadata": {},
   "source": [
    "### Cured pie chart"
   ]
  },
  {
   "cell_type": "code",
   "execution_count": null,
   "metadata": {
    "ExecuteTime": {
     "end_time": "2020-04-06T06:23:07.840489Z",
     "start_time": "2020-04-06T06:23:04.951Z"
    },
    "hide_input": true,
    "jupyter": {
     "source_hidden": true
    }
   },
   "outputs": [],
   "source": [
    "fig = px.pie(date_table.loc[date_table.last_valid_index()], values='Cured', names='State/UnionTerritory', title='Cured')\n",
    "fig.update_layout(\n",
    "    autosize=False,\n",
    "    width=900,\n",
    "    height=650)\n",
    "fig.update_traces(textposition='inside', textinfo='percent+label')\n",
    "fig.show()"
   ]
  },
  {
   "cell_type": "markdown",
   "metadata": {},
   "source": [
    "### State wise confirmed cases animation"
   ]
  },
  {
   "cell_type": "code",
   "execution_count": null,
   "metadata": {
    "ExecuteTime": {
     "end_time": "2020-04-06T06:23:07.841489Z",
     "start_time": "2020-04-06T06:23:04.957Z"
    },
    "hide_input": true,
    "jupyter": {
     "source_hidden": true
    }
   },
   "outputs": [],
   "source": [
    "import matplotlib\n",
    "\n",
    "hex_colors_dic = {}\n",
    "rgb_colors_dic = {}\n",
    "hex_colors_only = []\n",
    "for name, hex in matplotlib.colors.cnames.items():\n",
    "    hex_colors_only.append(hex)\n",
    "    hex_colors_dic[name] = hex\n",
    "    rgb_colors_dic[name] = matplotlib.colors.to_rgb(hex)\n",
    "    \n",
    "dummy = pd.DataFrame()\n",
    "\n",
    "dummy['State'] = covid_19_india_df['State/UnionTerritory'].unique()\n",
    "\n",
    "import plotly.io as pio\n",
    "\n",
    "def animate_bar_chart():\n",
    "    frames = []\n",
    "    grouped = covid_19_india_df[['Date', 'State/UnionTerritory', 'Confirmed', 'Deaths', 'Cured']].groupby(['Date'])\n",
    "    #colors = px.colors.n_colors('rgb(127, 60, 141)', 'rgb(165, 170, 153)', 33, colortype='rgb')\n",
    "    colors = np.random.choice(hex_colors_only, 33).tolist()\n",
    "    for name, group in iter(grouped):\n",
    "        merged = pd.merge(group, dummy, how='outer', left_on='State/UnionTerritory', right_on='State')        \n",
    "        merged.fillna(0, inplace=True)\n",
    "        merged.sort_values('State', inplace=True)\n",
    "        frames.append(go.Frame(data = [go.Bar(x = merged['State'].tolist(), y=merged['Confirmed'].tolist(), marker_color=colors)], \n",
    "                              layout=go.Layout(title='Confirmed cases - '+group.Date.iloc[0].strftime('%Y-%m-%d'))))\n",
    "    \n",
    "    fig = go.Figure(\n",
    "        data = [go.Bar(x = merged['State'].tolist(), y = [0] * len(merged['State'].tolist()))],\n",
    "        frames=frames, \n",
    "        layout=go.Layout(\n",
    "            width=1000,\n",
    "            height=750,\n",
    "            xaxis=dict(type='category'),\n",
    "            yaxis=dict(range=[0, 600], autorange=False),            \n",
    "            title=\"Confirmed cases\",\n",
    "            xaxis_title=\"State\",\n",
    "            yaxis_title=\"Count\",\n",
    "            updatemenus=[dict(\n",
    "                type=\"buttons\",\n",
    "                buttons=[dict(label=\"Play\",\n",
    "                              method=\"animate\",\n",
    "                              args=[None])])]))\n",
    "    fig.show()\n",
    "                                       \n",
    "                                       \n",
    "\n",
    "animate_bar_chart()"
   ]
  },
  {
   "cell_type": "code",
   "execution_count": null,
   "metadata": {},
   "outputs": [],
   "source": []
  }
 ],
 "metadata": {
  "hide_input": false,
  "kernelspec": {
   "display_name": "Python 3",
   "language": "python",
   "name": "python3"
  },
  "language_info": {
   "codemirror_mode": {
    "name": "ipython",
    "version": 3
   },
   "file_extension": ".py",
   "mimetype": "text/x-python",
   "name": "python",
   "nbconvert_exporter": "python",
   "pygments_lexer": "ipython3",
   "version": "3.6.2"
  },
  "toc": {
   "base_numbering": 1,
   "nav_menu": {},
   "number_sections": true,
   "sideBar": true,
   "skip_h1_title": false,
   "title_cell": "Table of Contents",
   "title_sidebar": "Contents",
   "toc_cell": false,
   "toc_position": {
    "height": "calc(100% - 180px)",
    "left": "10px",
    "top": "150px",
    "width": "384px"
   },
   "toc_section_display": true,
   "toc_window_display": true
  }
 },
 "nbformat": 4,
 "nbformat_minor": 4
}
