{
 "cells": [
  {
   "cell_type": "markdown",
   "metadata": {},
   "source": [
    "# Covid-19 India Visualization and Animation"
   ]
  },
  {
   "cell_type": "markdown",
   "metadata": {
    "ExecuteTime": {
     "end_time": "2020-04-03T15:43:35.814518Z",
     "start_time": "2020-04-03T15:43:35.806519Z"
    }
   },
   "source": [
    "## Description\n",
    "\n",
    "Coronavirus disease 2019 (COVID-19) is an infectious disease caused by severe acute respiratory syndrome coronavirus 2 (SARS-CoV-2).[6] The disease was first identified in December 2019 in Wuhan, the capital of China's Hubei province, and has since spread globally, resulting in the ongoing 2019–20 coronavirus pandemic.[7][8] Common symptoms include fever, cough, and shortness of breath.[9] Other symptoms may include muscle pain, sputum production, diarrhea, sore throat, loss of smell, and abdominal pain.[4][10][11] While the majority of cases result in mild symptoms, some progress to viral pneumonia and multi-organ failure.[7][12] As of 3 April 2020, more than 1,040,000[5] cases of COVID-19 have been reported in more than two hundred countries and territories,[13] resulting in over 55,100 deaths.[5] More than 221,000 people have recovered.[5]\n",
    "\n",
    "The virus is mainly spread during close contact,[a] and by small droplets produced when people cough, sneeze, or talk.[14][16][15] Respiratory droplets may be produced during breathing but the virus is not generally airborne.[14][16] People may also contract COVID-19 by touching a contaminated surface and then their face.[14][15] It is most contagious when people are symptomatic, although spread may be possible before symptoms appear.[15] The virus can survive on surfaces up to 72 hours.[17] Time from exposure to onset of symptoms is generally between two and fourteen days, with an average of five days.[9][18] The standard method of diagnosis is by reverse transcription polymerase chain reaction (rRT-PCR) from a nasopharyngeal swab.[19] The infection can also be diagnosed from a combination of symptoms, risk factors and a chest CT scan showing features of pneumonia.[20][21]\n",
    "\n",
    "Recommended measures to prevent infection include frequent hand washing, social distancing (maintaining physical distance from others, especially from those with symptoms), covering coughs and sneezes with a tissue or inner elbow, and keeping unwashed hands away from the face.[22][23] The use of masks is recommended for those who suspect they have the virus and their caregivers.[24] Recommendations for mask use by the general public vary, with some authorities recommending against their use, some recommending their use, and others requiring their use.[25][26][27] Currently, there is no vaccine or specific antiviral treatment for COVID-19. Management involves treatment of symptoms, supportive care, isolation, and experimental measures.[28]\n",
    "\n",
    "The World Health Organization (WHO) declared the 2019–20 coronavirus outbreak a Public Health Emergency of International Concern (PHEIC)[29][30] on 30 January 2020, and a pandemic on 11 March 2020.[8] Local transmission of the disease has been recorded in many countries across all six WHO regions.[31] \n",
    "\n",
    "Source https://en.wikipedia.org/wiki/Coronavirus_disease_2019"
   ]
  },
  {
   "cell_type": "code",
   "execution_count": 1,
   "metadata": {
    "ExecuteTime": {
     "end_time": "2020-04-05T13:37:03.072073Z",
     "start_time": "2020-04-05T13:37:00.982300Z"
    },
    "hide_input": true,
    "jupyter": {
     "source_hidden": true
    }
   },
   "outputs": [
    {
     "data": {
      "text/html": [
       "        <script type=\"text/javascript\">\n",
       "        window.PlotlyConfig = {MathJaxConfig: 'local'};\n",
       "        if (window.MathJax) {MathJax.Hub.Config({SVG: {font: \"STIX-Web\"}});}\n",
       "        if (typeof require !== 'undefined') {\n",
       "        require.undef(\"plotly\");\n",
       "        requirejs.config({\n",
       "            paths: {\n",
       "                'plotly': ['https://cdn.plot.ly/plotly-latest.min']\n",
       "            }\n",
       "        });\n",
       "        require(['plotly'], function(Plotly) {\n",
       "            window._Plotly = Plotly;\n",
       "        });\n",
       "        }\n",
       "        </script>\n",
       "        "
      ]
     },
     "metadata": {},
     "output_type": "display_data"
    },
    {
     "data": {
      "text/html": [
       "        <script type=\"text/javascript\">\n",
       "        window.PlotlyConfig = {MathJaxConfig: 'local'};\n",
       "        if (window.MathJax) {MathJax.Hub.Config({SVG: {font: \"STIX-Web\"}});}\n",
       "        if (typeof require !== 'undefined') {\n",
       "        require.undef(\"plotly\");\n",
       "        requirejs.config({\n",
       "            paths: {\n",
       "                'plotly': ['https://cdn.plot.ly/plotly-latest.min']\n",
       "            }\n",
       "        });\n",
       "        require(['plotly'], function(Plotly) {\n",
       "            window._Plotly = Plotly;\n",
       "        });\n",
       "        }\n",
       "        </script>\n",
       "        "
      ]
     },
     "metadata": {},
     "output_type": "display_data"
    }
   ],
   "source": [
    "# import libs\n",
    "import pandas as pd\n",
    "import numpy as np\n",
    "import matplotlib.pyplot as plt\n",
    "import seaborn as sns\n",
    "\n",
    "%matplotlib inline\n",
    "\n",
    "from plotly.offline import download_plotlyjs, init_notebook_mode, plot, iplot\n",
    "init_notebook_mode(connected=True)\n",
    "import cufflinks as cf\n",
    "cf.go_offline()\n",
    "\n",
    "import plotly.express as px\n",
    "import plotly.graph_objects as go\n",
    "\n",
    "# Load covid_19_india\n",
    "covid_19_india_df = pd.read_csv('./data/covid_19_india.csv', index_col='Sno')\n",
    "\n",
    "covid_19_india_df.Date = pd.to_datetime(covid_19_india_df.Date, format='%d/%m/%y')"
   ]
  },
  {
   "cell_type": "markdown",
   "metadata": {
    "hide_input": true
   },
   "source": [
    "## Last 2 days record"
   ]
  },
  {
   "cell_type": "code",
   "execution_count": 2,
   "metadata": {
    "ExecuteTime": {
     "end_time": "2020-04-05T13:37:03.529616Z",
     "start_time": "2020-04-05T13:37:03.073073Z"
    },
    "hide_input": false,
    "jupyter": {
     "source_hidden": true
    },
    "scrolled": false
   },
   "outputs": [
    {
     "data": {
      "text/html": [
       "<style  type=\"text/css\" >\n",
       "    #T_88d0b02c_7742_11ea_ba56_10f00569e262row0_col0 {\n",
       "            background-color:  #ffe5e5;\n",
       "            color:  #000000;\n",
       "        }    #T_88d0b02c_7742_11ea_ba56_10f00569e262row0_col1 {\n",
       "            background-color:  #ffe5e5;\n",
       "            color:  #000000;\n",
       "        }    #T_88d0b02c_7742_11ea_ba56_10f00569e262row0_col2 {\n",
       "            background-color:  #ffe2e2;\n",
       "            color:  #000000;\n",
       "        }    #T_88d0b02c_7742_11ea_ba56_10f00569e262row1_col0 {\n",
       "            background-color:  #ffe1e1;\n",
       "            color:  #000000;\n",
       "        }    #T_88d0b02c_7742_11ea_ba56_10f00569e262row1_col1 {\n",
       "            background-color:  #ffdcdc;\n",
       "            color:  #000000;\n",
       "        }    #T_88d0b02c_7742_11ea_ba56_10f00569e262row1_col2 {\n",
       "            background-color:  #ff9b9b;\n",
       "            color:  #000000;\n",
       "        }    #T_88d0b02c_7742_11ea_ba56_10f00569e262row2_col0 {\n",
       "            background-color:  #ffe5e5;\n",
       "            color:  #000000;\n",
       "        }    #T_88d0b02c_7742_11ea_ba56_10f00569e262row2_col1 {\n",
       "            background-color:  #ffe5e5;\n",
       "            color:  #000000;\n",
       "        }    #T_88d0b02c_7742_11ea_ba56_10f00569e262row2_col2 {\n",
       "            background-color:  #ffe5e5;\n",
       "            color:  #000000;\n",
       "        }    #T_88d0b02c_7742_11ea_ba56_10f00569e262row3_col0 {\n",
       "            background-color:  #ffe5e5;\n",
       "            color:  #000000;\n",
       "        }    #T_88d0b02c_7742_11ea_ba56_10f00569e262row3_col1 {\n",
       "            background-color:  #ffe5e5;\n",
       "            color:  #000000;\n",
       "        }    #T_88d0b02c_7742_11ea_ba56_10f00569e262row3_col2 {\n",
       "            background-color:  #ffdbdb;\n",
       "            color:  #000000;\n",
       "        }    #T_88d0b02c_7742_11ea_ba56_10f00569e262row4_col0 {\n",
       "            background-color:  #ffe5e5;\n",
       "            color:  #000000;\n",
       "        }    #T_88d0b02c_7742_11ea_ba56_10f00569e262row4_col1 {\n",
       "            background-color:  #ffdcdc;\n",
       "            color:  #000000;\n",
       "        }    #T_88d0b02c_7742_11ea_ba56_10f00569e262row4_col2 {\n",
       "            background-color:  #ffd8d8;\n",
       "            color:  #000000;\n",
       "        }    #T_88d0b02c_7742_11ea_ba56_10f00569e262row5_col0 {\n",
       "            background-color:  #ffe5e5;\n",
       "            color:  #000000;\n",
       "        }    #T_88d0b02c_7742_11ea_ba56_10f00569e262row5_col1 {\n",
       "            background-color:  #ffe5e5;\n",
       "            color:  #000000;\n",
       "        }    #T_88d0b02c_7742_11ea_ba56_10f00569e262row5_col2 {\n",
       "            background-color:  #ffdede;\n",
       "            color:  #000000;\n",
       "        }    #T_88d0b02c_7742_11ea_ba56_10f00569e262row6_col0 {\n",
       "            background-color:  #ffd8d8;\n",
       "            color:  #000000;\n",
       "        }    #T_88d0b02c_7742_11ea_ba56_10f00569e262row6_col1 {\n",
       "            background-color:  #ffe5e5;\n",
       "            color:  #000000;\n",
       "        }    #T_88d0b02c_7742_11ea_ba56_10f00569e262row6_col2 {\n",
       "            background-color:  #ffe2e2;\n",
       "            color:  #000000;\n",
       "        }    #T_88d0b02c_7742_11ea_ba56_10f00569e262row7_col0 {\n",
       "            background-color:  #ff9f9f;\n",
       "            color:  #000000;\n",
       "        }    #T_88d0b02c_7742_11ea_ba56_10f00569e262row7_col1 {\n",
       "            background-color:  #ffacac;\n",
       "            color:  #000000;\n",
       "        }    #T_88d0b02c_7742_11ea_ba56_10f00569e262row7_col2 {\n",
       "            background-color:  #ff1515;\n",
       "            color:  #f1f1f1;\n",
       "        }    #T_88d0b02c_7742_11ea_ba56_10f00569e262row8_col0 {\n",
       "            background-color:  #ffe5e5;\n",
       "            color:  #000000;\n",
       "        }    #T_88d0b02c_7742_11ea_ba56_10f00569e262row8_col1 {\n",
       "            background-color:  #ffe5e5;\n",
       "            color:  #000000;\n",
       "        }    #T_88d0b02c_7742_11ea_ba56_10f00569e262row8_col2 {\n",
       "            background-color:  #ffe3e3;\n",
       "            color:  #000000;\n",
       "        }    #T_88d0b02c_7742_11ea_ba56_10f00569e262row9_col0 {\n",
       "            background-color:  #ffa4a4;\n",
       "            color:  #000000;\n",
       "        }    #T_88d0b02c_7742_11ea_ba56_10f00569e262row9_col1 {\n",
       "            background-color:  #ff8686;\n",
       "            color:  #000000;\n",
       "        }    #T_88d0b02c_7742_11ea_ba56_10f00569e262row9_col2 {\n",
       "            background-color:  #ffb5b5;\n",
       "            color:  #000000;\n",
       "        }    #T_88d0b02c_7742_11ea_ba56_10f00569e262row10_col0 {\n",
       "            background-color:  #ff7575;\n",
       "            color:  #000000;\n",
       "        }    #T_88d0b02c_7742_11ea_ba56_10f00569e262row10_col1 {\n",
       "            background-color:  #ffe5e5;\n",
       "            color:  #000000;\n",
       "        }    #T_88d0b02c_7742_11ea_ba56_10f00569e262row10_col2 {\n",
       "            background-color:  #ffcfcf;\n",
       "            color:  #000000;\n",
       "        }    #T_88d0b02c_7742_11ea_ba56_10f00569e262row11_col0 {\n",
       "            background-color:  #ffe1e1;\n",
       "            color:  #000000;\n",
       "        }    #T_88d0b02c_7742_11ea_ba56_10f00569e262row11_col1 {\n",
       "            background-color:  #ffdcdc;\n",
       "            color:  #000000;\n",
       "        }    #T_88d0b02c_7742_11ea_ba56_10f00569e262row11_col2 {\n",
       "            background-color:  #ffe4e4;\n",
       "            color:  #000000;\n",
       "        }    #T_88d0b02c_7742_11ea_ba56_10f00569e262row12_col0 {\n",
       "            background-color:  #ffd8d8;\n",
       "            color:  #000000;\n",
       "        }    #T_88d0b02c_7742_11ea_ba56_10f00569e262row12_col1 {\n",
       "            background-color:  #ffd3d3;\n",
       "            color:  #000000;\n",
       "        }    #T_88d0b02c_7742_11ea_ba56_10f00569e262row12_col2 {\n",
       "            background-color:  #ffc3c3;\n",
       "            color:  #000000;\n",
       "        }    #T_88d0b02c_7742_11ea_ba56_10f00569e262row13_col0 {\n",
       "            background-color:  #ffe5e5;\n",
       "            color:  #000000;\n",
       "        }    #T_88d0b02c_7742_11ea_ba56_10f00569e262row13_col1 {\n",
       "            background-color:  #ffe5e5;\n",
       "            color:  #000000;\n",
       "        }    #T_88d0b02c_7742_11ea_ba56_10f00569e262row13_col2 {\n",
       "            background-color:  #ffe5e5;\n",
       "            color:  #000000;\n",
       "        }    #T_88d0b02c_7742_11ea_ba56_10f00569e262row14_col0 {\n",
       "            background-color:  #ffaeae;\n",
       "            color:  #000000;\n",
       "        }    #T_88d0b02c_7742_11ea_ba56_10f00569e262row14_col1 {\n",
       "            background-color:  #ffc9c9;\n",
       "            color:  #000000;\n",
       "        }    #T_88d0b02c_7742_11ea_ba56_10f00569e262row14_col2 {\n",
       "            background-color:  #ffaaaa;\n",
       "            color:  #000000;\n",
       "        }    #T_88d0b02c_7742_11ea_ba56_10f00569e262row15_col0 {\n",
       "            background-color:  #ff2525;\n",
       "            color:  #f1f1f1;\n",
       "        }    #T_88d0b02c_7742_11ea_ba56_10f00569e262row15_col1 {\n",
       "            background-color:  #ffd3d3;\n",
       "            color:  #000000;\n",
       "        }    #T_88d0b02c_7742_11ea_ba56_10f00569e262row15_col2 {\n",
       "            background-color:  #ff5c5c;\n",
       "            color:  #000000;\n",
       "        }    #T_88d0b02c_7742_11ea_ba56_10f00569e262row16_col0 {\n",
       "            background-color:  #ffd8d8;\n",
       "            color:  #000000;\n",
       "        }    #T_88d0b02c_7742_11ea_ba56_10f00569e262row16_col1 {\n",
       "            background-color:  #ffe5e5;\n",
       "            color:  #000000;\n",
       "        }    #T_88d0b02c_7742_11ea_ba56_10f00569e262row16_col2 {\n",
       "            background-color:  #ffe0e0;\n",
       "            color:  #000000;\n",
       "        }    #T_88d0b02c_7742_11ea_ba56_10f00569e262row17_col0 {\n",
       "            background-color:  #ffe5e5;\n",
       "            color:  #000000;\n",
       "        }    #T_88d0b02c_7742_11ea_ba56_10f00569e262row17_col1 {\n",
       "            background-color:  #ffacac;\n",
       "            color:  #000000;\n",
       "        }    #T_88d0b02c_7742_11ea_ba56_10f00569e262row17_col2 {\n",
       "            background-color:  #ffb6b6;\n",
       "            color:  #000000;\n",
       "        }    #T_88d0b02c_7742_11ea_ba56_10f00569e262row18_col0 {\n",
       "            background-color:  #ff2020;\n",
       "            color:  #f1f1f1;\n",
       "        }    #T_88d0b02c_7742_11ea_ba56_10f00569e262row18_col1 {\n",
       "            background-color:  #ff0000;\n",
       "            color:  #f1f1f1;\n",
       "        }    #T_88d0b02c_7742_11ea_ba56_10f00569e262row18_col2 {\n",
       "            background-color:  #ff0000;\n",
       "            color:  #f1f1f1;\n",
       "        }    #T_88d0b02c_7742_11ea_ba56_10f00569e262row19_col0 {\n",
       "            background-color:  #ffe5e5;\n",
       "            color:  #000000;\n",
       "        }    #T_88d0b02c_7742_11ea_ba56_10f00569e262row19_col1 {\n",
       "            background-color:  #ffe5e5;\n",
       "            color:  #000000;\n",
       "        }    #T_88d0b02c_7742_11ea_ba56_10f00569e262row19_col2 {\n",
       "            background-color:  #ffe5e5;\n",
       "            color:  #000000;\n",
       "        }    #T_88d0b02c_7742_11ea_ba56_10f00569e262row20_col0 {\n",
       "            background-color:  #ffe5e5;\n",
       "            color:  #000000;\n",
       "        }    #T_88d0b02c_7742_11ea_ba56_10f00569e262row20_col1 {\n",
       "            background-color:  #ffe5e5;\n",
       "            color:  #000000;\n",
       "        }    #T_88d0b02c_7742_11ea_ba56_10f00569e262row20_col2 {\n",
       "            background-color:  #ffe5e5;\n",
       "            color:  #000000;\n",
       "        }    #T_88d0b02c_7742_11ea_ba56_10f00569e262row21_col0 {\n",
       "            background-color:  #ffe5e5;\n",
       "            color:  #000000;\n",
       "        }    #T_88d0b02c_7742_11ea_ba56_10f00569e262row21_col1 {\n",
       "            background-color:  #ffe5e5;\n",
       "            color:  #000000;\n",
       "        }    #T_88d0b02c_7742_11ea_ba56_10f00569e262row21_col2 {\n",
       "            background-color:  #ffe4e4;\n",
       "            color:  #000000;\n",
       "        }    #T_88d0b02c_7742_11ea_ba56_10f00569e262row22_col0 {\n",
       "            background-color:  #ffe1e1;\n",
       "            color:  #000000;\n",
       "        }    #T_88d0b02c_7742_11ea_ba56_10f00569e262row22_col1 {\n",
       "            background-color:  #ffe5e5;\n",
       "            color:  #000000;\n",
       "        }    #T_88d0b02c_7742_11ea_ba56_10f00569e262row22_col2 {\n",
       "            background-color:  #ffe4e4;\n",
       "            color:  #000000;\n",
       "        }    #T_88d0b02c_7742_11ea_ba56_10f00569e262row23_col0 {\n",
       "            background-color:  #ffe1e1;\n",
       "            color:  #000000;\n",
       "        }    #T_88d0b02c_7742_11ea_ba56_10f00569e262row23_col1 {\n",
       "            background-color:  #ffb6b6;\n",
       "            color:  #000000;\n",
       "        }    #T_88d0b02c_7742_11ea_ba56_10f00569e262row23_col2 {\n",
       "            background-color:  #ffcbcb;\n",
       "            color:  #000000;\n",
       "        }    #T_88d0b02c_7742_11ea_ba56_10f00569e262row24_col0 {\n",
       "            background-color:  #ff8383;\n",
       "            color:  #000000;\n",
       "        }    #T_88d0b02c_7742_11ea_ba56_10f00569e262row24_col1 {\n",
       "            background-color:  #ffe5e5;\n",
       "            color:  #000000;\n",
       "        }    #T_88d0b02c_7742_11ea_ba56_10f00569e262row24_col2 {\n",
       "            background-color:  #ff8888;\n",
       "            color:  #000000;\n",
       "        }    #T_88d0b02c_7742_11ea_ba56_10f00569e262row25_col0 {\n",
       "            background-color:  #ffcaca;\n",
       "            color:  #000000;\n",
       "        }    #T_88d0b02c_7742_11ea_ba56_10f00569e262row25_col1 {\n",
       "            background-color:  #ffd3d3;\n",
       "            color:  #000000;\n",
       "        }    #T_88d0b02c_7742_11ea_ba56_10f00569e262row25_col2 {\n",
       "            background-color:  #ff2525;\n",
       "            color:  #f1f1f1;\n",
       "        }    #T_88d0b02c_7742_11ea_ba56_10f00569e262row26_col0 {\n",
       "            background-color:  #ffe1e1;\n",
       "            color:  #000000;\n",
       "        }    #T_88d0b02c_7742_11ea_ba56_10f00569e262row26_col1 {\n",
       "            background-color:  #ffa3a3;\n",
       "            color:  #000000;\n",
       "        }    #T_88d0b02c_7742_11ea_ba56_10f00569e262row26_col2 {\n",
       "            background-color:  #ff9c9c;\n",
       "            color:  #000000;\n",
       "        }    #T_88d0b02c_7742_11ea_ba56_10f00569e262row27_col0 {\n",
       "            background-color:  #ff8c8c;\n",
       "            color:  #000000;\n",
       "        }    #T_88d0b02c_7742_11ea_ba56_10f00569e262row27_col1 {\n",
       "            background-color:  #ffd3d3;\n",
       "            color:  #000000;\n",
       "        }    #T_88d0b02c_7742_11ea_ba56_10f00569e262row27_col2 {\n",
       "            background-color:  #ff9494;\n",
       "            color:  #000000;\n",
       "        }    #T_88d0b02c_7742_11ea_ba56_10f00569e262row28_col0 {\n",
       "            background-color:  #ffdcdc;\n",
       "            color:  #000000;\n",
       "        }    #T_88d0b02c_7742_11ea_ba56_10f00569e262row28_col1 {\n",
       "            background-color:  #ffe5e5;\n",
       "            color:  #000000;\n",
       "        }    #T_88d0b02c_7742_11ea_ba56_10f00569e262row28_col2 {\n",
       "            background-color:  #ffdfdf;\n",
       "            color:  #000000;\n",
       "        }    #T_88d0b02c_7742_11ea_ba56_10f00569e262row29_col0 {\n",
       "            background-color:  #ffd8d8;\n",
       "            color:  #000000;\n",
       "        }    #T_88d0b02c_7742_11ea_ba56_10f00569e262row29_col1 {\n",
       "            background-color:  #ffc9c9;\n",
       "            color:  #000000;\n",
       "        }    #T_88d0b02c_7742_11ea_ba56_10f00569e262row29_col2 {\n",
       "            background-color:  #ffc6c6;\n",
       "            color:  #000000;\n",
       "        }    #T_88d0b02c_7742_11ea_ba56_10f00569e262row30_col0 {\n",
       "            background-color:  #ffe5e5;\n",
       "            color:  #000000;\n",
       "        }    #T_88d0b02c_7742_11ea_ba56_10f00569e262row30_col1 {\n",
       "            background-color:  #ffe5e5;\n",
       "            color:  #000000;\n",
       "        }    #T_88d0b02c_7742_11ea_ba56_10f00569e262row30_col2 {\n",
       "            background-color:  #ffe2e2;\n",
       "            color:  #000000;\n",
       "        }    #T_88d0b02c_7742_11ea_ba56_10f00569e262row31_col0 {\n",
       "            background-color:  #ffe1e1;\n",
       "            color:  #000000;\n",
       "        }    #T_88d0b02c_7742_11ea_ba56_10f00569e262row31_col1 {\n",
       "            background-color:  #ffdcdc;\n",
       "            color:  #000000;\n",
       "        }    #T_88d0b02c_7742_11ea_ba56_10f00569e262row31_col2 {\n",
       "            background-color:  #ff9b9b;\n",
       "            color:  #000000;\n",
       "        }    #T_88d0b02c_7742_11ea_ba56_10f00569e262row32_col0 {\n",
       "            background-color:  #ffe5e5;\n",
       "            color:  #000000;\n",
       "        }    #T_88d0b02c_7742_11ea_ba56_10f00569e262row32_col1 {\n",
       "            background-color:  #ffe5e5;\n",
       "            color:  #000000;\n",
       "        }    #T_88d0b02c_7742_11ea_ba56_10f00569e262row32_col2 {\n",
       "            background-color:  #ffe5e5;\n",
       "            color:  #000000;\n",
       "        }    #T_88d0b02c_7742_11ea_ba56_10f00569e262row33_col0 {\n",
       "            background-color:  #ffe5e5;\n",
       "            color:  #000000;\n",
       "        }    #T_88d0b02c_7742_11ea_ba56_10f00569e262row33_col1 {\n",
       "            background-color:  #ffe5e5;\n",
       "            color:  #000000;\n",
       "        }    #T_88d0b02c_7742_11ea_ba56_10f00569e262row33_col2 {\n",
       "            background-color:  #ffdbdb;\n",
       "            color:  #000000;\n",
       "        }    #T_88d0b02c_7742_11ea_ba56_10f00569e262row34_col0 {\n",
       "            background-color:  #ffe5e5;\n",
       "            color:  #000000;\n",
       "        }    #T_88d0b02c_7742_11ea_ba56_10f00569e262row34_col1 {\n",
       "            background-color:  #ffdcdc;\n",
       "            color:  #000000;\n",
       "        }    #T_88d0b02c_7742_11ea_ba56_10f00569e262row34_col2 {\n",
       "            background-color:  #ffd8d8;\n",
       "            color:  #000000;\n",
       "        }    #T_88d0b02c_7742_11ea_ba56_10f00569e262row35_col0 {\n",
       "            background-color:  #ffe5e5;\n",
       "            color:  #000000;\n",
       "        }    #T_88d0b02c_7742_11ea_ba56_10f00569e262row35_col1 {\n",
       "            background-color:  #ffe5e5;\n",
       "            color:  #000000;\n",
       "        }    #T_88d0b02c_7742_11ea_ba56_10f00569e262row35_col2 {\n",
       "            background-color:  #ffdede;\n",
       "            color:  #000000;\n",
       "        }    #T_88d0b02c_7742_11ea_ba56_10f00569e262row36_col0 {\n",
       "            background-color:  #ffd8d8;\n",
       "            color:  #000000;\n",
       "        }    #T_88d0b02c_7742_11ea_ba56_10f00569e262row36_col1 {\n",
       "            background-color:  #ffe5e5;\n",
       "            color:  #000000;\n",
       "        }    #T_88d0b02c_7742_11ea_ba56_10f00569e262row36_col2 {\n",
       "            background-color:  #ffe2e2;\n",
       "            color:  #000000;\n",
       "        }    #T_88d0b02c_7742_11ea_ba56_10f00569e262row37_col0 {\n",
       "            background-color:  #ff9f9f;\n",
       "            color:  #000000;\n",
       "        }    #T_88d0b02c_7742_11ea_ba56_10f00569e262row37_col1 {\n",
       "            background-color:  #ffacac;\n",
       "            color:  #000000;\n",
       "        }    #T_88d0b02c_7742_11ea_ba56_10f00569e262row37_col2 {\n",
       "            background-color:  #ff1515;\n",
       "            color:  #f1f1f1;\n",
       "        }    #T_88d0b02c_7742_11ea_ba56_10f00569e262row38_col0 {\n",
       "            background-color:  #ffe5e5;\n",
       "            color:  #000000;\n",
       "        }    #T_88d0b02c_7742_11ea_ba56_10f00569e262row38_col1 {\n",
       "            background-color:  #ffe5e5;\n",
       "            color:  #000000;\n",
       "        }    #T_88d0b02c_7742_11ea_ba56_10f00569e262row38_col2 {\n",
       "            background-color:  #ffe3e3;\n",
       "            color:  #000000;\n",
       "        }    #T_88d0b02c_7742_11ea_ba56_10f00569e262row39_col0 {\n",
       "            background-color:  #ffa4a4;\n",
       "            color:  #000000;\n",
       "        }    #T_88d0b02c_7742_11ea_ba56_10f00569e262row39_col1 {\n",
       "            background-color:  #ff8686;\n",
       "            color:  #000000;\n",
       "        }    #T_88d0b02c_7742_11ea_ba56_10f00569e262row39_col2 {\n",
       "            background-color:  #ffb5b5;\n",
       "            color:  #000000;\n",
       "        }    #T_88d0b02c_7742_11ea_ba56_10f00569e262row40_col0 {\n",
       "            background-color:  #ff7575;\n",
       "            color:  #000000;\n",
       "        }    #T_88d0b02c_7742_11ea_ba56_10f00569e262row40_col1 {\n",
       "            background-color:  #ffe5e5;\n",
       "            color:  #000000;\n",
       "        }    #T_88d0b02c_7742_11ea_ba56_10f00569e262row40_col2 {\n",
       "            background-color:  #ffcfcf;\n",
       "            color:  #000000;\n",
       "        }    #T_88d0b02c_7742_11ea_ba56_10f00569e262row41_col0 {\n",
       "            background-color:  #ffe1e1;\n",
       "            color:  #000000;\n",
       "        }    #T_88d0b02c_7742_11ea_ba56_10f00569e262row41_col1 {\n",
       "            background-color:  #ffdcdc;\n",
       "            color:  #000000;\n",
       "        }    #T_88d0b02c_7742_11ea_ba56_10f00569e262row41_col2 {\n",
       "            background-color:  #ffe4e4;\n",
       "            color:  #000000;\n",
       "        }    #T_88d0b02c_7742_11ea_ba56_10f00569e262row42_col0 {\n",
       "            background-color:  #ffd3d3;\n",
       "            color:  #000000;\n",
       "        }    #T_88d0b02c_7742_11ea_ba56_10f00569e262row42_col1 {\n",
       "            background-color:  #ffd3d3;\n",
       "            color:  #000000;\n",
       "        }    #T_88d0b02c_7742_11ea_ba56_10f00569e262row42_col2 {\n",
       "            background-color:  #ffbbbb;\n",
       "            color:  #000000;\n",
       "        }    #T_88d0b02c_7742_11ea_ba56_10f00569e262row43_col0 {\n",
       "            background-color:  #ffe5e5;\n",
       "            color:  #000000;\n",
       "        }    #T_88d0b02c_7742_11ea_ba56_10f00569e262row43_col1 {\n",
       "            background-color:  #ffe5e5;\n",
       "            color:  #000000;\n",
       "        }    #T_88d0b02c_7742_11ea_ba56_10f00569e262row43_col2 {\n",
       "            background-color:  #ffe5e5;\n",
       "            color:  #000000;\n",
       "        }    #T_88d0b02c_7742_11ea_ba56_10f00569e262row44_col0 {\n",
       "            background-color:  #ffaeae;\n",
       "            color:  #000000;\n",
       "        }    #T_88d0b02c_7742_11ea_ba56_10f00569e262row44_col1 {\n",
       "            background-color:  #ffc0c0;\n",
       "            color:  #000000;\n",
       "        }    #T_88d0b02c_7742_11ea_ba56_10f00569e262row44_col2 {\n",
       "            background-color:  #ffa3a3;\n",
       "            color:  #000000;\n",
       "        }    #T_88d0b02c_7742_11ea_ba56_10f00569e262row45_col0 {\n",
       "            background-color:  #ff0000;\n",
       "            color:  #f1f1f1;\n",
       "        }    #T_88d0b02c_7742_11ea_ba56_10f00569e262row45_col1 {\n",
       "            background-color:  #ffd3d3;\n",
       "            color:  #000000;\n",
       "        }    #T_88d0b02c_7742_11ea_ba56_10f00569e262row45_col2 {\n",
       "            background-color:  #ff5656;\n",
       "            color:  #000000;\n",
       "        }    #T_88d0b02c_7742_11ea_ba56_10f00569e262row46_col0 {\n",
       "            background-color:  #ffb7b7;\n",
       "            color:  #000000;\n",
       "        }    #T_88d0b02c_7742_11ea_ba56_10f00569e262row46_col1 {\n",
       "            background-color:  #ffe5e5;\n",
       "            color:  #000000;\n",
       "        }    #T_88d0b02c_7742_11ea_ba56_10f00569e262row46_col2 {\n",
       "            background-color:  #ffe0e0;\n",
       "            color:  #000000;\n",
       "        }    #T_88d0b02c_7742_11ea_ba56_10f00569e262row47_col0 {\n",
       "            background-color:  #ffe5e5;\n",
       "            color:  #000000;\n",
       "        }    #T_88d0b02c_7742_11ea_ba56_10f00569e262row47_col1 {\n",
       "            background-color:  #ffacac;\n",
       "            color:  #000000;\n",
       "        }    #T_88d0b02c_7742_11ea_ba56_10f00569e262row47_col2 {\n",
       "            background-color:  #ffb6b6;\n",
       "            color:  #000000;\n",
       "        }    #T_88d0b02c_7742_11ea_ba56_10f00569e262row48_col0 {\n",
       "            background-color:  #ff2020;\n",
       "            color:  #f1f1f1;\n",
       "        }    #T_88d0b02c_7742_11ea_ba56_10f00569e262row48_col1 {\n",
       "            background-color:  #ff0000;\n",
       "            color:  #f1f1f1;\n",
       "        }    #T_88d0b02c_7742_11ea_ba56_10f00569e262row48_col2 {\n",
       "            background-color:  #ff0000;\n",
       "            color:  #f1f1f1;\n",
       "        }    #T_88d0b02c_7742_11ea_ba56_10f00569e262row49_col0 {\n",
       "            background-color:  #ffe5e5;\n",
       "            color:  #000000;\n",
       "        }    #T_88d0b02c_7742_11ea_ba56_10f00569e262row49_col1 {\n",
       "            background-color:  #ffe5e5;\n",
       "            color:  #000000;\n",
       "        }    #T_88d0b02c_7742_11ea_ba56_10f00569e262row49_col2 {\n",
       "            background-color:  #ffe5e5;\n",
       "            color:  #000000;\n",
       "        }    #T_88d0b02c_7742_11ea_ba56_10f00569e262row50_col0 {\n",
       "            background-color:  #ffe5e5;\n",
       "            color:  #000000;\n",
       "        }    #T_88d0b02c_7742_11ea_ba56_10f00569e262row50_col1 {\n",
       "            background-color:  #ffe5e5;\n",
       "            color:  #000000;\n",
       "        }    #T_88d0b02c_7742_11ea_ba56_10f00569e262row50_col2 {\n",
       "            background-color:  #ffe5e5;\n",
       "            color:  #000000;\n",
       "        }    #T_88d0b02c_7742_11ea_ba56_10f00569e262row51_col0 {\n",
       "            background-color:  #ffe5e5;\n",
       "            color:  #000000;\n",
       "        }    #T_88d0b02c_7742_11ea_ba56_10f00569e262row51_col1 {\n",
       "            background-color:  #ffe5e5;\n",
       "            color:  #000000;\n",
       "        }    #T_88d0b02c_7742_11ea_ba56_10f00569e262row51_col2 {\n",
       "            background-color:  #ffdddd;\n",
       "            color:  #000000;\n",
       "        }    #T_88d0b02c_7742_11ea_ba56_10f00569e262row52_col0 {\n",
       "            background-color:  #ffe1e1;\n",
       "            color:  #000000;\n",
       "        }    #T_88d0b02c_7742_11ea_ba56_10f00569e262row52_col1 {\n",
       "            background-color:  #ffe5e5;\n",
       "            color:  #000000;\n",
       "        }    #T_88d0b02c_7742_11ea_ba56_10f00569e262row52_col2 {\n",
       "            background-color:  #ffe4e4;\n",
       "            color:  #000000;\n",
       "        }    #T_88d0b02c_7742_11ea_ba56_10f00569e262row53_col0 {\n",
       "            background-color:  #ffe1e1;\n",
       "            color:  #000000;\n",
       "        }    #T_88d0b02c_7742_11ea_ba56_10f00569e262row53_col1 {\n",
       "            background-color:  #ffb6b6;\n",
       "            color:  #000000;\n",
       "        }    #T_88d0b02c_7742_11ea_ba56_10f00569e262row53_col2 {\n",
       "            background-color:  #ffcbcb;\n",
       "            color:  #000000;\n",
       "        }    #T_88d0b02c_7742_11ea_ba56_10f00569e262row54_col0 {\n",
       "            background-color:  #ff8383;\n",
       "            color:  #000000;\n",
       "        }    #T_88d0b02c_7742_11ea_ba56_10f00569e262row54_col1 {\n",
       "            background-color:  #ffe5e5;\n",
       "            color:  #000000;\n",
       "        }    #T_88d0b02c_7742_11ea_ba56_10f00569e262row54_col2 {\n",
       "            background-color:  #ff8888;\n",
       "            color:  #000000;\n",
       "        }    #T_88d0b02c_7742_11ea_ba56_10f00569e262row55_col0 {\n",
       "            background-color:  #ffcaca;\n",
       "            color:  #000000;\n",
       "        }    #T_88d0b02c_7742_11ea_ba56_10f00569e262row55_col1 {\n",
       "            background-color:  #ffc9c9;\n",
       "            color:  #000000;\n",
       "        }    #T_88d0b02c_7742_11ea_ba56_10f00569e262row55_col2 {\n",
       "            background-color:  #ff0202;\n",
       "            color:  #f1f1f1;\n",
       "        }    #T_88d0b02c_7742_11ea_ba56_10f00569e262row56_col0 {\n",
       "            background-color:  #ff4f4f;\n",
       "            color:  #000000;\n",
       "        }    #T_88d0b02c_7742_11ea_ba56_10f00569e262row56_col1 {\n",
       "            background-color:  #ffa3a3;\n",
       "            color:  #000000;\n",
       "        }    #T_88d0b02c_7742_11ea_ba56_10f00569e262row56_col2 {\n",
       "            background-color:  #ff6767;\n",
       "            color:  #000000;\n",
       "        }    #T_88d0b02c_7742_11ea_ba56_10f00569e262row57_col0 {\n",
       "            background-color:  #ff8c8c;\n",
       "            color:  #000000;\n",
       "        }    #T_88d0b02c_7742_11ea_ba56_10f00569e262row57_col1 {\n",
       "            background-color:  #ffd3d3;\n",
       "            color:  #000000;\n",
       "        }    #T_88d0b02c_7742_11ea_ba56_10f00569e262row57_col2 {\n",
       "            background-color:  #ff7b7b;\n",
       "            color:  #000000;\n",
       "        }    #T_88d0b02c_7742_11ea_ba56_10f00569e262row58_col0 {\n",
       "            background-color:  #ffdcdc;\n",
       "            color:  #000000;\n",
       "        }    #T_88d0b02c_7742_11ea_ba56_10f00569e262row58_col1 {\n",
       "            background-color:  #ffe5e5;\n",
       "            color:  #000000;\n",
       "        }    #T_88d0b02c_7742_11ea_ba56_10f00569e262row58_col2 {\n",
       "            background-color:  #ffdcdc;\n",
       "            color:  #000000;\n",
       "        }    #T_88d0b02c_7742_11ea_ba56_10f00569e262row59_col0 {\n",
       "            background-color:  #ffb7b7;\n",
       "            color:  #000000;\n",
       "        }    #T_88d0b02c_7742_11ea_ba56_10f00569e262row59_col1 {\n",
       "            background-color:  #ffc9c9;\n",
       "            color:  #000000;\n",
       "        }    #T_88d0b02c_7742_11ea_ba56_10f00569e262row59_col2 {\n",
       "            background-color:  #ffc6c6;\n",
       "            color:  #000000;\n",
       "        }</style><table id=\"T_88d0b02c_7742_11ea_ba56_10f00569e262\" ><thead>    <tr>        <th class=\"blank\" ></th>        <th class=\"blank level0\" ></th>        <th class=\"col_heading level0 col0\" >Cured</th>        <th class=\"col_heading level0 col1\" >Deaths</th>        <th class=\"col_heading level0 col2\" >Confirmed</th>    </tr>    <tr>        <th class=\"index_name level0\" >Date</th>        <th class=\"index_name level1\" >State/UnionTerritory</th>        <th class=\"blank\" ></th>        <th class=\"blank\" ></th>        <th class=\"blank\" ></th>    </tr></thead><tbody>\n",
       "                <tr>\n",
       "                        <th id=\"T_88d0b02c_7742_11ea_ba56_10f00569e262level0_row0\" class=\"row_heading level0 row0\" rowspan=30>2020-04-04 00:00:00</th>\n",
       "                        <th id=\"T_88d0b02c_7742_11ea_ba56_10f00569e262level1_row0\" class=\"row_heading level1 row0\" >Andaman and Nicobar Islands</th>\n",
       "                        <td id=\"T_88d0b02c_7742_11ea_ba56_10f00569e262row0_col0\" class=\"data row0 col0\" >0</td>\n",
       "                        <td id=\"T_88d0b02c_7742_11ea_ba56_10f00569e262row0_col1\" class=\"data row0 col1\" >0</td>\n",
       "                        <td id=\"T_88d0b02c_7742_11ea_ba56_10f00569e262row0_col2\" class=\"data row0 col2\" >10</td>\n",
       "            </tr>\n",
       "            <tr>\n",
       "                                <th id=\"T_88d0b02c_7742_11ea_ba56_10f00569e262level1_row1\" class=\"row_heading level1 row1\" >Andhra Pradesh</th>\n",
       "                        <td id=\"T_88d0b02c_7742_11ea_ba56_10f00569e262row1_col0\" class=\"data row1 col0\" >1</td>\n",
       "                        <td id=\"T_88d0b02c_7742_11ea_ba56_10f00569e262row1_col1\" class=\"data row1 col1\" >1</td>\n",
       "                        <td id=\"T_88d0b02c_7742_11ea_ba56_10f00569e262row1_col2\" class=\"data row1 col2\" >161</td>\n",
       "            </tr>\n",
       "            <tr>\n",
       "                                <th id=\"T_88d0b02c_7742_11ea_ba56_10f00569e262level1_row2\" class=\"row_heading level1 row2\" >Arunachal Pradesh</th>\n",
       "                        <td id=\"T_88d0b02c_7742_11ea_ba56_10f00569e262row2_col0\" class=\"data row2 col0\" >0</td>\n",
       "                        <td id=\"T_88d0b02c_7742_11ea_ba56_10f00569e262row2_col1\" class=\"data row2 col1\" >0</td>\n",
       "                        <td id=\"T_88d0b02c_7742_11ea_ba56_10f00569e262row2_col2\" class=\"data row2 col2\" >1</td>\n",
       "            </tr>\n",
       "            <tr>\n",
       "                                <th id=\"T_88d0b02c_7742_11ea_ba56_10f00569e262level1_row3\" class=\"row_heading level1 row3\" >Assam</th>\n",
       "                        <td id=\"T_88d0b02c_7742_11ea_ba56_10f00569e262row3_col0\" class=\"data row3 col0\" >0</td>\n",
       "                        <td id=\"T_88d0b02c_7742_11ea_ba56_10f00569e262row3_col1\" class=\"data row3 col1\" >0</td>\n",
       "                        <td id=\"T_88d0b02c_7742_11ea_ba56_10f00569e262row3_col2\" class=\"data row3 col2\" >24</td>\n",
       "            </tr>\n",
       "            <tr>\n",
       "                                <th id=\"T_88d0b02c_7742_11ea_ba56_10f00569e262level1_row4\" class=\"row_heading level1 row4\" >Bihar</th>\n",
       "                        <td id=\"T_88d0b02c_7742_11ea_ba56_10f00569e262row4_col0\" class=\"data row4 col0\" >0</td>\n",
       "                        <td id=\"T_88d0b02c_7742_11ea_ba56_10f00569e262row4_col1\" class=\"data row4 col1\" >1</td>\n",
       "                        <td id=\"T_88d0b02c_7742_11ea_ba56_10f00569e262row4_col2\" class=\"data row4 col2\" >30</td>\n",
       "            </tr>\n",
       "            <tr>\n",
       "                                <th id=\"T_88d0b02c_7742_11ea_ba56_10f00569e262level1_row5\" class=\"row_heading level1 row5\" >Chandigarh</th>\n",
       "                        <td id=\"T_88d0b02c_7742_11ea_ba56_10f00569e262row5_col0\" class=\"data row5 col0\" >0</td>\n",
       "                        <td id=\"T_88d0b02c_7742_11ea_ba56_10f00569e262row5_col1\" class=\"data row5 col1\" >0</td>\n",
       "                        <td id=\"T_88d0b02c_7742_11ea_ba56_10f00569e262row5_col2\" class=\"data row5 col2\" >18</td>\n",
       "            </tr>\n",
       "            <tr>\n",
       "                                <th id=\"T_88d0b02c_7742_11ea_ba56_10f00569e262level1_row6\" class=\"row_heading level1 row6\" >Chhattisgarh</th>\n",
       "                        <td id=\"T_88d0b02c_7742_11ea_ba56_10f00569e262row6_col0\" class=\"data row6 col0\" >3</td>\n",
       "                        <td id=\"T_88d0b02c_7742_11ea_ba56_10f00569e262row6_col1\" class=\"data row6 col1\" >0</td>\n",
       "                        <td id=\"T_88d0b02c_7742_11ea_ba56_10f00569e262row6_col2\" class=\"data row6 col2\" >9</td>\n",
       "            </tr>\n",
       "            <tr>\n",
       "                                <th id=\"T_88d0b02c_7742_11ea_ba56_10f00569e262level1_row7\" class=\"row_heading level1 row7\" >Delhi</th>\n",
       "                        <td id=\"T_88d0b02c_7742_11ea_ba56_10f00569e262row7_col0\" class=\"data row7 col0\" >15</td>\n",
       "                        <td id=\"T_88d0b02c_7742_11ea_ba56_10f00569e262row7_col1\" class=\"data row7 col1\" >6</td>\n",
       "                        <td id=\"T_88d0b02c_7742_11ea_ba56_10f00569e262row7_col2\" class=\"data row7 col2\" >445</td>\n",
       "            </tr>\n",
       "            <tr>\n",
       "                                <th id=\"T_88d0b02c_7742_11ea_ba56_10f00569e262level1_row8\" class=\"row_heading level1 row8\" >Goa</th>\n",
       "                        <td id=\"T_88d0b02c_7742_11ea_ba56_10f00569e262row8_col0\" class=\"data row8 col0\" >0</td>\n",
       "                        <td id=\"T_88d0b02c_7742_11ea_ba56_10f00569e262row8_col1\" class=\"data row8 col1\" >0</td>\n",
       "                        <td id=\"T_88d0b02c_7742_11ea_ba56_10f00569e262row8_col2\" class=\"data row8 col2\" >7</td>\n",
       "            </tr>\n",
       "            <tr>\n",
       "                                <th id=\"T_88d0b02c_7742_11ea_ba56_10f00569e262level1_row9\" class=\"row_heading level1 row9\" >Gujarat</th>\n",
       "                        <td id=\"T_88d0b02c_7742_11ea_ba56_10f00569e262row9_col0\" class=\"data row9 col0\" >14</td>\n",
       "                        <td id=\"T_88d0b02c_7742_11ea_ba56_10f00569e262row9_col1\" class=\"data row9 col1\" >10</td>\n",
       "                        <td id=\"T_88d0b02c_7742_11ea_ba56_10f00569e262row9_col2\" class=\"data row9 col2\" >105</td>\n",
       "            </tr>\n",
       "            <tr>\n",
       "                                <th id=\"T_88d0b02c_7742_11ea_ba56_10f00569e262level1_row10\" class=\"row_heading level1 row10\" >Haryana</th>\n",
       "                        <td id=\"T_88d0b02c_7742_11ea_ba56_10f00569e262row10_col0\" class=\"data row10 col0\" >24</td>\n",
       "                        <td id=\"T_88d0b02c_7742_11ea_ba56_10f00569e262row10_col1\" class=\"data row10 col1\" >0</td>\n",
       "                        <td id=\"T_88d0b02c_7742_11ea_ba56_10f00569e262row10_col2\" class=\"data row10 col2\" >49</td>\n",
       "            </tr>\n",
       "            <tr>\n",
       "                                <th id=\"T_88d0b02c_7742_11ea_ba56_10f00569e262level1_row11\" class=\"row_heading level1 row11\" >Himachal Pradesh</th>\n",
       "                        <td id=\"T_88d0b02c_7742_11ea_ba56_10f00569e262row11_col0\" class=\"data row11 col0\" >1</td>\n",
       "                        <td id=\"T_88d0b02c_7742_11ea_ba56_10f00569e262row11_col1\" class=\"data row11 col1\" >1</td>\n",
       "                        <td id=\"T_88d0b02c_7742_11ea_ba56_10f00569e262row11_col2\" class=\"data row11 col2\" >6</td>\n",
       "            </tr>\n",
       "            <tr>\n",
       "                                <th id=\"T_88d0b02c_7742_11ea_ba56_10f00569e262level1_row12\" class=\"row_heading level1 row12\" >Jammu and Kashmir</th>\n",
       "                        <td id=\"T_88d0b02c_7742_11ea_ba56_10f00569e262row12_col0\" class=\"data row12 col0\" >3</td>\n",
       "                        <td id=\"T_88d0b02c_7742_11ea_ba56_10f00569e262row12_col1\" class=\"data row12 col1\" >2</td>\n",
       "                        <td id=\"T_88d0b02c_7742_11ea_ba56_10f00569e262row12_col2\" class=\"data row12 col2\" >75</td>\n",
       "            </tr>\n",
       "            <tr>\n",
       "                                <th id=\"T_88d0b02c_7742_11ea_ba56_10f00569e262level1_row13\" class=\"row_heading level1 row13\" >Jharkhand</th>\n",
       "                        <td id=\"T_88d0b02c_7742_11ea_ba56_10f00569e262row13_col0\" class=\"data row13 col0\" >0</td>\n",
       "                        <td id=\"T_88d0b02c_7742_11ea_ba56_10f00569e262row13_col1\" class=\"data row13 col1\" >0</td>\n",
       "                        <td id=\"T_88d0b02c_7742_11ea_ba56_10f00569e262row13_col2\" class=\"data row13 col2\" >2</td>\n",
       "            </tr>\n",
       "            <tr>\n",
       "                                <th id=\"T_88d0b02c_7742_11ea_ba56_10f00569e262level1_row14\" class=\"row_heading level1 row14\" >Karnataka</th>\n",
       "                        <td id=\"T_88d0b02c_7742_11ea_ba56_10f00569e262row14_col0\" class=\"data row14 col0\" >12</td>\n",
       "                        <td id=\"T_88d0b02c_7742_11ea_ba56_10f00569e262row14_col1\" class=\"data row14 col1\" >3</td>\n",
       "                        <td id=\"T_88d0b02c_7742_11ea_ba56_10f00569e262row14_col2\" class=\"data row14 col2\" >128</td>\n",
       "            </tr>\n",
       "            <tr>\n",
       "                                <th id=\"T_88d0b02c_7742_11ea_ba56_10f00569e262level1_row15\" class=\"row_heading level1 row15\" >Kerala</th>\n",
       "                        <td id=\"T_88d0b02c_7742_11ea_ba56_10f00569e262row15_col0\" class=\"data row15 col0\" >41</td>\n",
       "                        <td id=\"T_88d0b02c_7742_11ea_ba56_10f00569e262row15_col1\" class=\"data row15 col1\" >2</td>\n",
       "                        <td id=\"T_88d0b02c_7742_11ea_ba56_10f00569e262row15_col2\" class=\"data row15 col2\" >295</td>\n",
       "            </tr>\n",
       "            <tr>\n",
       "                                <th id=\"T_88d0b02c_7742_11ea_ba56_10f00569e262level1_row16\" class=\"row_heading level1 row16\" >Ladakh</th>\n",
       "                        <td id=\"T_88d0b02c_7742_11ea_ba56_10f00569e262row16_col0\" class=\"data row16 col0\" >3</td>\n",
       "                        <td id=\"T_88d0b02c_7742_11ea_ba56_10f00569e262row16_col1\" class=\"data row16 col1\" >0</td>\n",
       "                        <td id=\"T_88d0b02c_7742_11ea_ba56_10f00569e262row16_col2\" class=\"data row16 col2\" >14</td>\n",
       "            </tr>\n",
       "            <tr>\n",
       "                                <th id=\"T_88d0b02c_7742_11ea_ba56_10f00569e262level1_row17\" class=\"row_heading level1 row17\" >Madhya Pradesh</th>\n",
       "                        <td id=\"T_88d0b02c_7742_11ea_ba56_10f00569e262row17_col0\" class=\"data row17 col0\" >0</td>\n",
       "                        <td id=\"T_88d0b02c_7742_11ea_ba56_10f00569e262row17_col1\" class=\"data row17 col1\" >6</td>\n",
       "                        <td id=\"T_88d0b02c_7742_11ea_ba56_10f00569e262row17_col2\" class=\"data row17 col2\" >104</td>\n",
       "            </tr>\n",
       "            <tr>\n",
       "                                <th id=\"T_88d0b02c_7742_11ea_ba56_10f00569e262level1_row18\" class=\"row_heading level1 row18\" >Maharashtra</th>\n",
       "                        <td id=\"T_88d0b02c_7742_11ea_ba56_10f00569e262row18_col0\" class=\"data row18 col0\" >42</td>\n",
       "                        <td id=\"T_88d0b02c_7742_11ea_ba56_10f00569e262row18_col1\" class=\"data row18 col1\" >24</td>\n",
       "                        <td id=\"T_88d0b02c_7742_11ea_ba56_10f00569e262row18_col2\" class=\"data row18 col2\" >490</td>\n",
       "            </tr>\n",
       "            <tr>\n",
       "                                <th id=\"T_88d0b02c_7742_11ea_ba56_10f00569e262level1_row19\" class=\"row_heading level1 row19\" >Manipur</th>\n",
       "                        <td id=\"T_88d0b02c_7742_11ea_ba56_10f00569e262row19_col0\" class=\"data row19 col0\" >0</td>\n",
       "                        <td id=\"T_88d0b02c_7742_11ea_ba56_10f00569e262row19_col1\" class=\"data row19 col1\" >0</td>\n",
       "                        <td id=\"T_88d0b02c_7742_11ea_ba56_10f00569e262row19_col2\" class=\"data row19 col2\" >2</td>\n",
       "            </tr>\n",
       "            <tr>\n",
       "                                <th id=\"T_88d0b02c_7742_11ea_ba56_10f00569e262level1_row20\" class=\"row_heading level1 row20\" >Mizoram</th>\n",
       "                        <td id=\"T_88d0b02c_7742_11ea_ba56_10f00569e262row20_col0\" class=\"data row20 col0\" >0</td>\n",
       "                        <td id=\"T_88d0b02c_7742_11ea_ba56_10f00569e262row20_col1\" class=\"data row20 col1\" >0</td>\n",
       "                        <td id=\"T_88d0b02c_7742_11ea_ba56_10f00569e262row20_col2\" class=\"data row20 col2\" >1</td>\n",
       "            </tr>\n",
       "            <tr>\n",
       "                                <th id=\"T_88d0b02c_7742_11ea_ba56_10f00569e262level1_row21\" class=\"row_heading level1 row21\" >Odisha</th>\n",
       "                        <td id=\"T_88d0b02c_7742_11ea_ba56_10f00569e262row21_col0\" class=\"data row21 col0\" >0</td>\n",
       "                        <td id=\"T_88d0b02c_7742_11ea_ba56_10f00569e262row21_col1\" class=\"data row21 col1\" >0</td>\n",
       "                        <td id=\"T_88d0b02c_7742_11ea_ba56_10f00569e262row21_col2\" class=\"data row21 col2\" >5</td>\n",
       "            </tr>\n",
       "            <tr>\n",
       "                                <th id=\"T_88d0b02c_7742_11ea_ba56_10f00569e262level1_row22\" class=\"row_heading level1 row22\" >Puducherry</th>\n",
       "                        <td id=\"T_88d0b02c_7742_11ea_ba56_10f00569e262row22_col0\" class=\"data row22 col0\" >1</td>\n",
       "                        <td id=\"T_88d0b02c_7742_11ea_ba56_10f00569e262row22_col1\" class=\"data row22 col1\" >0</td>\n",
       "                        <td id=\"T_88d0b02c_7742_11ea_ba56_10f00569e262row22_col2\" class=\"data row22 col2\" >5</td>\n",
       "            </tr>\n",
       "            <tr>\n",
       "                                <th id=\"T_88d0b02c_7742_11ea_ba56_10f00569e262level1_row23\" class=\"row_heading level1 row23\" >Punjab</th>\n",
       "                        <td id=\"T_88d0b02c_7742_11ea_ba56_10f00569e262row23_col0\" class=\"data row23 col0\" >1</td>\n",
       "                        <td id=\"T_88d0b02c_7742_11ea_ba56_10f00569e262row23_col1\" class=\"data row23 col1\" >5</td>\n",
       "                        <td id=\"T_88d0b02c_7742_11ea_ba56_10f00569e262row23_col2\" class=\"data row23 col2\" >57</td>\n",
       "            </tr>\n",
       "            <tr>\n",
       "                                <th id=\"T_88d0b02c_7742_11ea_ba56_10f00569e262level1_row24\" class=\"row_heading level1 row24\" >Rajasthan</th>\n",
       "                        <td id=\"T_88d0b02c_7742_11ea_ba56_10f00569e262row24_col0\" class=\"data row24 col0\" >21</td>\n",
       "                        <td id=\"T_88d0b02c_7742_11ea_ba56_10f00569e262row24_col1\" class=\"data row24 col1\" >0</td>\n",
       "                        <td id=\"T_88d0b02c_7742_11ea_ba56_10f00569e262row24_col2\" class=\"data row24 col2\" >200</td>\n",
       "            </tr>\n",
       "            <tr>\n",
       "                                <th id=\"T_88d0b02c_7742_11ea_ba56_10f00569e262level1_row25\" class=\"row_heading level1 row25\" >Tamil Nadu</th>\n",
       "                        <td id=\"T_88d0b02c_7742_11ea_ba56_10f00569e262row25_col0\" class=\"data row25 col0\" >6</td>\n",
       "                        <td id=\"T_88d0b02c_7742_11ea_ba56_10f00569e262row25_col1\" class=\"data row25 col1\" >2</td>\n",
       "                        <td id=\"T_88d0b02c_7742_11ea_ba56_10f00569e262row25_col2\" class=\"data row25 col2\" >411</td>\n",
       "            </tr>\n",
       "            <tr>\n",
       "                                <th id=\"T_88d0b02c_7742_11ea_ba56_10f00569e262level1_row26\" class=\"row_heading level1 row26\" >Telengana</th>\n",
       "                        <td id=\"T_88d0b02c_7742_11ea_ba56_10f00569e262row26_col0\" class=\"data row26 col0\" >1</td>\n",
       "                        <td id=\"T_88d0b02c_7742_11ea_ba56_10f00569e262row26_col1\" class=\"data row26 col1\" >7</td>\n",
       "                        <td id=\"T_88d0b02c_7742_11ea_ba56_10f00569e262row26_col2\" class=\"data row26 col2\" >159</td>\n",
       "            </tr>\n",
       "            <tr>\n",
       "                                <th id=\"T_88d0b02c_7742_11ea_ba56_10f00569e262level1_row27\" class=\"row_heading level1 row27\" >Uttar Pradesh</th>\n",
       "                        <td id=\"T_88d0b02c_7742_11ea_ba56_10f00569e262row27_col0\" class=\"data row27 col0\" >19</td>\n",
       "                        <td id=\"T_88d0b02c_7742_11ea_ba56_10f00569e262row27_col1\" class=\"data row27 col1\" >2</td>\n",
       "                        <td id=\"T_88d0b02c_7742_11ea_ba56_10f00569e262row27_col2\" class=\"data row27 col2\" >174</td>\n",
       "            </tr>\n",
       "            <tr>\n",
       "                                <th id=\"T_88d0b02c_7742_11ea_ba56_10f00569e262level1_row28\" class=\"row_heading level1 row28\" >Uttarakhand</th>\n",
       "                        <td id=\"T_88d0b02c_7742_11ea_ba56_10f00569e262row28_col0\" class=\"data row28 col0\" >2</td>\n",
       "                        <td id=\"T_88d0b02c_7742_11ea_ba56_10f00569e262row28_col1\" class=\"data row28 col1\" >0</td>\n",
       "                        <td id=\"T_88d0b02c_7742_11ea_ba56_10f00569e262row28_col2\" class=\"data row28 col2\" >16</td>\n",
       "            </tr>\n",
       "            <tr>\n",
       "                                <th id=\"T_88d0b02c_7742_11ea_ba56_10f00569e262level1_row29\" class=\"row_heading level1 row29\" >West Bengal</th>\n",
       "                        <td id=\"T_88d0b02c_7742_11ea_ba56_10f00569e262row29_col0\" class=\"data row29 col0\" >3</td>\n",
       "                        <td id=\"T_88d0b02c_7742_11ea_ba56_10f00569e262row29_col1\" class=\"data row29 col1\" >3</td>\n",
       "                        <td id=\"T_88d0b02c_7742_11ea_ba56_10f00569e262row29_col2\" class=\"data row29 col2\" >69</td>\n",
       "            </tr>\n",
       "            <tr>\n",
       "                        <th id=\"T_88d0b02c_7742_11ea_ba56_10f00569e262level0_row30\" class=\"row_heading level0 row30\" rowspan=30>2020-04-05 00:00:00</th>\n",
       "                        <th id=\"T_88d0b02c_7742_11ea_ba56_10f00569e262level1_row30\" class=\"row_heading level1 row30\" >Andaman and Nicobar Islands</th>\n",
       "                        <td id=\"T_88d0b02c_7742_11ea_ba56_10f00569e262row30_col0\" class=\"data row30 col0\" >0</td>\n",
       "                        <td id=\"T_88d0b02c_7742_11ea_ba56_10f00569e262row30_col1\" class=\"data row30 col1\" >0</td>\n",
       "                        <td id=\"T_88d0b02c_7742_11ea_ba56_10f00569e262row30_col2\" class=\"data row30 col2\" >10</td>\n",
       "            </tr>\n",
       "            <tr>\n",
       "                                <th id=\"T_88d0b02c_7742_11ea_ba56_10f00569e262level1_row31\" class=\"row_heading level1 row31\" >Andhra Pradesh</th>\n",
       "                        <td id=\"T_88d0b02c_7742_11ea_ba56_10f00569e262row31_col0\" class=\"data row31 col0\" >1</td>\n",
       "                        <td id=\"T_88d0b02c_7742_11ea_ba56_10f00569e262row31_col1\" class=\"data row31 col1\" >1</td>\n",
       "                        <td id=\"T_88d0b02c_7742_11ea_ba56_10f00569e262row31_col2\" class=\"data row31 col2\" >161</td>\n",
       "            </tr>\n",
       "            <tr>\n",
       "                                <th id=\"T_88d0b02c_7742_11ea_ba56_10f00569e262level1_row32\" class=\"row_heading level1 row32\" >Arunachal Pradesh</th>\n",
       "                        <td id=\"T_88d0b02c_7742_11ea_ba56_10f00569e262row32_col0\" class=\"data row32 col0\" >0</td>\n",
       "                        <td id=\"T_88d0b02c_7742_11ea_ba56_10f00569e262row32_col1\" class=\"data row32 col1\" >0</td>\n",
       "                        <td id=\"T_88d0b02c_7742_11ea_ba56_10f00569e262row32_col2\" class=\"data row32 col2\" >1</td>\n",
       "            </tr>\n",
       "            <tr>\n",
       "                                <th id=\"T_88d0b02c_7742_11ea_ba56_10f00569e262level1_row33\" class=\"row_heading level1 row33\" >Assam</th>\n",
       "                        <td id=\"T_88d0b02c_7742_11ea_ba56_10f00569e262row33_col0\" class=\"data row33 col0\" >0</td>\n",
       "                        <td id=\"T_88d0b02c_7742_11ea_ba56_10f00569e262row33_col1\" class=\"data row33 col1\" >0</td>\n",
       "                        <td id=\"T_88d0b02c_7742_11ea_ba56_10f00569e262row33_col2\" class=\"data row33 col2\" >24</td>\n",
       "            </tr>\n",
       "            <tr>\n",
       "                                <th id=\"T_88d0b02c_7742_11ea_ba56_10f00569e262level1_row34\" class=\"row_heading level1 row34\" >Bihar</th>\n",
       "                        <td id=\"T_88d0b02c_7742_11ea_ba56_10f00569e262row34_col0\" class=\"data row34 col0\" >0</td>\n",
       "                        <td id=\"T_88d0b02c_7742_11ea_ba56_10f00569e262row34_col1\" class=\"data row34 col1\" >1</td>\n",
       "                        <td id=\"T_88d0b02c_7742_11ea_ba56_10f00569e262row34_col2\" class=\"data row34 col2\" >30</td>\n",
       "            </tr>\n",
       "            <tr>\n",
       "                                <th id=\"T_88d0b02c_7742_11ea_ba56_10f00569e262level1_row35\" class=\"row_heading level1 row35\" >Chandigarh</th>\n",
       "                        <td id=\"T_88d0b02c_7742_11ea_ba56_10f00569e262row35_col0\" class=\"data row35 col0\" >0</td>\n",
       "                        <td id=\"T_88d0b02c_7742_11ea_ba56_10f00569e262row35_col1\" class=\"data row35 col1\" >0</td>\n",
       "                        <td id=\"T_88d0b02c_7742_11ea_ba56_10f00569e262row35_col2\" class=\"data row35 col2\" >18</td>\n",
       "            </tr>\n",
       "            <tr>\n",
       "                                <th id=\"T_88d0b02c_7742_11ea_ba56_10f00569e262level1_row36\" class=\"row_heading level1 row36\" >Chhattisgarh</th>\n",
       "                        <td id=\"T_88d0b02c_7742_11ea_ba56_10f00569e262row36_col0\" class=\"data row36 col0\" >3</td>\n",
       "                        <td id=\"T_88d0b02c_7742_11ea_ba56_10f00569e262row36_col1\" class=\"data row36 col1\" >0</td>\n",
       "                        <td id=\"T_88d0b02c_7742_11ea_ba56_10f00569e262row36_col2\" class=\"data row36 col2\" >9</td>\n",
       "            </tr>\n",
       "            <tr>\n",
       "                                <th id=\"T_88d0b02c_7742_11ea_ba56_10f00569e262level1_row37\" class=\"row_heading level1 row37\" >Delhi</th>\n",
       "                        <td id=\"T_88d0b02c_7742_11ea_ba56_10f00569e262row37_col0\" class=\"data row37 col0\" >15</td>\n",
       "                        <td id=\"T_88d0b02c_7742_11ea_ba56_10f00569e262row37_col1\" class=\"data row37 col1\" >6</td>\n",
       "                        <td id=\"T_88d0b02c_7742_11ea_ba56_10f00569e262row37_col2\" class=\"data row37 col2\" >445</td>\n",
       "            </tr>\n",
       "            <tr>\n",
       "                                <th id=\"T_88d0b02c_7742_11ea_ba56_10f00569e262level1_row38\" class=\"row_heading level1 row38\" >Goa</th>\n",
       "                        <td id=\"T_88d0b02c_7742_11ea_ba56_10f00569e262row38_col0\" class=\"data row38 col0\" >0</td>\n",
       "                        <td id=\"T_88d0b02c_7742_11ea_ba56_10f00569e262row38_col1\" class=\"data row38 col1\" >0</td>\n",
       "                        <td id=\"T_88d0b02c_7742_11ea_ba56_10f00569e262row38_col2\" class=\"data row38 col2\" >7</td>\n",
       "            </tr>\n",
       "            <tr>\n",
       "                                <th id=\"T_88d0b02c_7742_11ea_ba56_10f00569e262level1_row39\" class=\"row_heading level1 row39\" >Gujarat</th>\n",
       "                        <td id=\"T_88d0b02c_7742_11ea_ba56_10f00569e262row39_col0\" class=\"data row39 col0\" >14</td>\n",
       "                        <td id=\"T_88d0b02c_7742_11ea_ba56_10f00569e262row39_col1\" class=\"data row39 col1\" >10</td>\n",
       "                        <td id=\"T_88d0b02c_7742_11ea_ba56_10f00569e262row39_col2\" class=\"data row39 col2\" >105</td>\n",
       "            </tr>\n",
       "            <tr>\n",
       "                                <th id=\"T_88d0b02c_7742_11ea_ba56_10f00569e262level1_row40\" class=\"row_heading level1 row40\" >Haryana</th>\n",
       "                        <td id=\"T_88d0b02c_7742_11ea_ba56_10f00569e262row40_col0\" class=\"data row40 col0\" >24</td>\n",
       "                        <td id=\"T_88d0b02c_7742_11ea_ba56_10f00569e262row40_col1\" class=\"data row40 col1\" >0</td>\n",
       "                        <td id=\"T_88d0b02c_7742_11ea_ba56_10f00569e262row40_col2\" class=\"data row40 col2\" >49</td>\n",
       "            </tr>\n",
       "            <tr>\n",
       "                                <th id=\"T_88d0b02c_7742_11ea_ba56_10f00569e262level1_row41\" class=\"row_heading level1 row41\" >Himachal Pradesh</th>\n",
       "                        <td id=\"T_88d0b02c_7742_11ea_ba56_10f00569e262row41_col0\" class=\"data row41 col0\" >1</td>\n",
       "                        <td id=\"T_88d0b02c_7742_11ea_ba56_10f00569e262row41_col1\" class=\"data row41 col1\" >1</td>\n",
       "                        <td id=\"T_88d0b02c_7742_11ea_ba56_10f00569e262row41_col2\" class=\"data row41 col2\" >6</td>\n",
       "            </tr>\n",
       "            <tr>\n",
       "                                <th id=\"T_88d0b02c_7742_11ea_ba56_10f00569e262level1_row42\" class=\"row_heading level1 row42\" >Jammu and Kashmir</th>\n",
       "                        <td id=\"T_88d0b02c_7742_11ea_ba56_10f00569e262row42_col0\" class=\"data row42 col0\" >4</td>\n",
       "                        <td id=\"T_88d0b02c_7742_11ea_ba56_10f00569e262row42_col1\" class=\"data row42 col1\" >2</td>\n",
       "                        <td id=\"T_88d0b02c_7742_11ea_ba56_10f00569e262row42_col2\" class=\"data row42 col2\" >92</td>\n",
       "            </tr>\n",
       "            <tr>\n",
       "                                <th id=\"T_88d0b02c_7742_11ea_ba56_10f00569e262level1_row43\" class=\"row_heading level1 row43\" >Jharkhand</th>\n",
       "                        <td id=\"T_88d0b02c_7742_11ea_ba56_10f00569e262row43_col0\" class=\"data row43 col0\" >0</td>\n",
       "                        <td id=\"T_88d0b02c_7742_11ea_ba56_10f00569e262row43_col1\" class=\"data row43 col1\" >0</td>\n",
       "                        <td id=\"T_88d0b02c_7742_11ea_ba56_10f00569e262row43_col2\" class=\"data row43 col2\" >2</td>\n",
       "            </tr>\n",
       "            <tr>\n",
       "                                <th id=\"T_88d0b02c_7742_11ea_ba56_10f00569e262level1_row44\" class=\"row_heading level1 row44\" >Karnataka</th>\n",
       "                        <td id=\"T_88d0b02c_7742_11ea_ba56_10f00569e262row44_col0\" class=\"data row44 col0\" >12</td>\n",
       "                        <td id=\"T_88d0b02c_7742_11ea_ba56_10f00569e262row44_col1\" class=\"data row44 col1\" >4</td>\n",
       "                        <td id=\"T_88d0b02c_7742_11ea_ba56_10f00569e262row44_col2\" class=\"data row44 col2\" >144</td>\n",
       "            </tr>\n",
       "            <tr>\n",
       "                                <th id=\"T_88d0b02c_7742_11ea_ba56_10f00569e262level1_row45\" class=\"row_heading level1 row45\" >Kerala</th>\n",
       "                        <td id=\"T_88d0b02c_7742_11ea_ba56_10f00569e262row45_col0\" class=\"data row45 col0\" >49</td>\n",
       "                        <td id=\"T_88d0b02c_7742_11ea_ba56_10f00569e262row45_col1\" class=\"data row45 col1\" >2</td>\n",
       "                        <td id=\"T_88d0b02c_7742_11ea_ba56_10f00569e262row45_col2\" class=\"data row45 col2\" >306</td>\n",
       "            </tr>\n",
       "            <tr>\n",
       "                                <th id=\"T_88d0b02c_7742_11ea_ba56_10f00569e262level1_row46\" class=\"row_heading level1 row46\" >Ladakh</th>\n",
       "                        <td id=\"T_88d0b02c_7742_11ea_ba56_10f00569e262row46_col0\" class=\"data row46 col0\" >10</td>\n",
       "                        <td id=\"T_88d0b02c_7742_11ea_ba56_10f00569e262row46_col1\" class=\"data row46 col1\" >0</td>\n",
       "                        <td id=\"T_88d0b02c_7742_11ea_ba56_10f00569e262row46_col2\" class=\"data row46 col2\" >14</td>\n",
       "            </tr>\n",
       "            <tr>\n",
       "                                <th id=\"T_88d0b02c_7742_11ea_ba56_10f00569e262level1_row47\" class=\"row_heading level1 row47\" >Madhya Pradesh</th>\n",
       "                        <td id=\"T_88d0b02c_7742_11ea_ba56_10f00569e262row47_col0\" class=\"data row47 col0\" >0</td>\n",
       "                        <td id=\"T_88d0b02c_7742_11ea_ba56_10f00569e262row47_col1\" class=\"data row47 col1\" >6</td>\n",
       "                        <td id=\"T_88d0b02c_7742_11ea_ba56_10f00569e262row47_col2\" class=\"data row47 col2\" >104</td>\n",
       "            </tr>\n",
       "            <tr>\n",
       "                                <th id=\"T_88d0b02c_7742_11ea_ba56_10f00569e262level1_row48\" class=\"row_heading level1 row48\" >Maharashtra</th>\n",
       "                        <td id=\"T_88d0b02c_7742_11ea_ba56_10f00569e262row48_col0\" class=\"data row48 col0\" >42</td>\n",
       "                        <td id=\"T_88d0b02c_7742_11ea_ba56_10f00569e262row48_col1\" class=\"data row48 col1\" >24</td>\n",
       "                        <td id=\"T_88d0b02c_7742_11ea_ba56_10f00569e262row48_col2\" class=\"data row48 col2\" >490</td>\n",
       "            </tr>\n",
       "            <tr>\n",
       "                                <th id=\"T_88d0b02c_7742_11ea_ba56_10f00569e262level1_row49\" class=\"row_heading level1 row49\" >Manipur</th>\n",
       "                        <td id=\"T_88d0b02c_7742_11ea_ba56_10f00569e262row49_col0\" class=\"data row49 col0\" >0</td>\n",
       "                        <td id=\"T_88d0b02c_7742_11ea_ba56_10f00569e262row49_col1\" class=\"data row49 col1\" >0</td>\n",
       "                        <td id=\"T_88d0b02c_7742_11ea_ba56_10f00569e262row49_col2\" class=\"data row49 col2\" >2</td>\n",
       "            </tr>\n",
       "            <tr>\n",
       "                                <th id=\"T_88d0b02c_7742_11ea_ba56_10f00569e262level1_row50\" class=\"row_heading level1 row50\" >Mizoram</th>\n",
       "                        <td id=\"T_88d0b02c_7742_11ea_ba56_10f00569e262row50_col0\" class=\"data row50 col0\" >0</td>\n",
       "                        <td id=\"T_88d0b02c_7742_11ea_ba56_10f00569e262row50_col1\" class=\"data row50 col1\" >0</td>\n",
       "                        <td id=\"T_88d0b02c_7742_11ea_ba56_10f00569e262row50_col2\" class=\"data row50 col2\" >1</td>\n",
       "            </tr>\n",
       "            <tr>\n",
       "                                <th id=\"T_88d0b02c_7742_11ea_ba56_10f00569e262level1_row51\" class=\"row_heading level1 row51\" >Odisha</th>\n",
       "                        <td id=\"T_88d0b02c_7742_11ea_ba56_10f00569e262row51_col0\" class=\"data row51 col0\" >0</td>\n",
       "                        <td id=\"T_88d0b02c_7742_11ea_ba56_10f00569e262row51_col1\" class=\"data row51 col1\" >0</td>\n",
       "                        <td id=\"T_88d0b02c_7742_11ea_ba56_10f00569e262row51_col2\" class=\"data row51 col2\" >20</td>\n",
       "            </tr>\n",
       "            <tr>\n",
       "                                <th id=\"T_88d0b02c_7742_11ea_ba56_10f00569e262level1_row52\" class=\"row_heading level1 row52\" >Puducherry</th>\n",
       "                        <td id=\"T_88d0b02c_7742_11ea_ba56_10f00569e262row52_col0\" class=\"data row52 col0\" >1</td>\n",
       "                        <td id=\"T_88d0b02c_7742_11ea_ba56_10f00569e262row52_col1\" class=\"data row52 col1\" >0</td>\n",
       "                        <td id=\"T_88d0b02c_7742_11ea_ba56_10f00569e262row52_col2\" class=\"data row52 col2\" >5</td>\n",
       "            </tr>\n",
       "            <tr>\n",
       "                                <th id=\"T_88d0b02c_7742_11ea_ba56_10f00569e262level1_row53\" class=\"row_heading level1 row53\" >Punjab</th>\n",
       "                        <td id=\"T_88d0b02c_7742_11ea_ba56_10f00569e262row53_col0\" class=\"data row53 col0\" >1</td>\n",
       "                        <td id=\"T_88d0b02c_7742_11ea_ba56_10f00569e262row53_col1\" class=\"data row53 col1\" >5</td>\n",
       "                        <td id=\"T_88d0b02c_7742_11ea_ba56_10f00569e262row53_col2\" class=\"data row53 col2\" >57</td>\n",
       "            </tr>\n",
       "            <tr>\n",
       "                                <th id=\"T_88d0b02c_7742_11ea_ba56_10f00569e262level1_row54\" class=\"row_heading level1 row54\" >Rajasthan</th>\n",
       "                        <td id=\"T_88d0b02c_7742_11ea_ba56_10f00569e262row54_col0\" class=\"data row54 col0\" >21</td>\n",
       "                        <td id=\"T_88d0b02c_7742_11ea_ba56_10f00569e262row54_col1\" class=\"data row54 col1\" >0</td>\n",
       "                        <td id=\"T_88d0b02c_7742_11ea_ba56_10f00569e262row54_col2\" class=\"data row54 col2\" >200</td>\n",
       "            </tr>\n",
       "            <tr>\n",
       "                                <th id=\"T_88d0b02c_7742_11ea_ba56_10f00569e262level1_row55\" class=\"row_heading level1 row55\" >Tamil Nadu</th>\n",
       "                        <td id=\"T_88d0b02c_7742_11ea_ba56_10f00569e262row55_col0\" class=\"data row55 col0\" >6</td>\n",
       "                        <td id=\"T_88d0b02c_7742_11ea_ba56_10f00569e262row55_col1\" class=\"data row55 col1\" >3</td>\n",
       "                        <td id=\"T_88d0b02c_7742_11ea_ba56_10f00569e262row55_col2\" class=\"data row55 col2\" >485</td>\n",
       "            </tr>\n",
       "            <tr>\n",
       "                                <th id=\"T_88d0b02c_7742_11ea_ba56_10f00569e262level1_row56\" class=\"row_heading level1 row56\" >Telengana</th>\n",
       "                        <td id=\"T_88d0b02c_7742_11ea_ba56_10f00569e262row56_col0\" class=\"data row56 col0\" >32</td>\n",
       "                        <td id=\"T_88d0b02c_7742_11ea_ba56_10f00569e262row56_col1\" class=\"data row56 col1\" >7</td>\n",
       "                        <td id=\"T_88d0b02c_7742_11ea_ba56_10f00569e262row56_col2\" class=\"data row56 col2\" >269</td>\n",
       "            </tr>\n",
       "            <tr>\n",
       "                                <th id=\"T_88d0b02c_7742_11ea_ba56_10f00569e262level1_row57\" class=\"row_heading level1 row57\" >Uttar Pradesh</th>\n",
       "                        <td id=\"T_88d0b02c_7742_11ea_ba56_10f00569e262row57_col0\" class=\"data row57 col0\" >19</td>\n",
       "                        <td id=\"T_88d0b02c_7742_11ea_ba56_10f00569e262row57_col1\" class=\"data row57 col1\" >2</td>\n",
       "                        <td id=\"T_88d0b02c_7742_11ea_ba56_10f00569e262row57_col2\" class=\"data row57 col2\" >227</td>\n",
       "            </tr>\n",
       "            <tr>\n",
       "                                <th id=\"T_88d0b02c_7742_11ea_ba56_10f00569e262level1_row58\" class=\"row_heading level1 row58\" >Uttarakhand</th>\n",
       "                        <td id=\"T_88d0b02c_7742_11ea_ba56_10f00569e262row58_col0\" class=\"data row58 col0\" >2</td>\n",
       "                        <td id=\"T_88d0b02c_7742_11ea_ba56_10f00569e262row58_col1\" class=\"data row58 col1\" >0</td>\n",
       "                        <td id=\"T_88d0b02c_7742_11ea_ba56_10f00569e262row58_col2\" class=\"data row58 col2\" >22</td>\n",
       "            </tr>\n",
       "            <tr>\n",
       "                                <th id=\"T_88d0b02c_7742_11ea_ba56_10f00569e262level1_row59\" class=\"row_heading level1 row59\" >West Bengal</th>\n",
       "                        <td id=\"T_88d0b02c_7742_11ea_ba56_10f00569e262row59_col0\" class=\"data row59 col0\" >10</td>\n",
       "                        <td id=\"T_88d0b02c_7742_11ea_ba56_10f00569e262row59_col1\" class=\"data row59 col1\" >3</td>\n",
       "                        <td id=\"T_88d0b02c_7742_11ea_ba56_10f00569e262row59_col2\" class=\"data row59 col2\" >69</td>\n",
       "            </tr>\n",
       "    </tbody></table>"
      ],
      "text/plain": [
       "<pandas.io.formats.style.Styler at 0x205a0ee8438>"
      ]
     },
     "execution_count": 2,
     "metadata": {},
     "output_type": "execute_result"
    }
   ],
   "source": [
    "cm = sns.light_palette(\"red\", as_cmap=True)\n",
    "covid_19_india_df.groupby(['Date', 'State/UnionTerritory']).sum().iloc[-60:, :].style.background_gradient(cmap=cm, axis=0)\n"
   ]
  },
  {
   "cell_type": "code",
   "execution_count": null,
   "metadata": {
    "ExecuteTime": {
     "end_time": "2020-04-05T13:26:38.975855Z",
     "start_time": "2020-04-05T13:26:38.968856Z"
    },
    "jupyter": {
     "outputs_hidden": true,
     "source_hidden": true
    }
   },
   "outputs": [],
   "source": []
  },
  {
   "cell_type": "markdown",
   "metadata": {},
   "source": [
    "## Confirmed cases"
   ]
  },
  {
   "cell_type": "code",
   "execution_count": 3,
   "metadata": {
    "ExecuteTime": {
     "end_time": "2020-04-05T13:37:04.679181Z",
     "start_time": "2020-04-05T13:37:03.531629Z"
    },
    "hide_input": true,
    "jupyter": {
     "source_hidden": true
    }
   },
   "outputs": [
    {
     "data": {
      "application/vnd.plotly.v1+json": {
       "config": {
        "plotlyServerURL": "https://plot.ly"
       },
       "data": [
        {
         "alignmentgroup": "True",
         "hovertemplate": "Date=%{x}<br>Confirmed=%{marker.color}<extra></extra>",
         "legendgroup": "",
         "marker": {
          "color": [
           1,
           1,
           2,
           3,
           3,
           3,
           3,
           3,
           3,
           3,
           3,
           3,
           3,
           3,
           3,
           3,
           3,
           3,
           3,
           3,
           3,
           3,
           3,
           3,
           3,
           3,
           3,
           3,
           3,
           3,
           3,
           3,
           5,
           6,
           28,
           30,
           31,
           34,
           39,
           46,
           58,
           60,
           74,
           81,
           84,
           110,
           114,
           137,
           151,
           173,
           223,
           283,
           360,
           433,
           519,
           606,
           694,
           724,
           909,
           1024,
           1251,
           1397,
           1834,
           2069,
           2547,
           3072,
           3374
          ],
          "coloraxis": "coloraxis"
         },
         "name": "",
         "offsetgroup": "",
         "orientation": "v",
         "showlegend": false,
         "textposition": "auto",
         "type": "bar",
         "x": [
          "2020-01-30T00:00:00",
          "2020-01-31T00:00:00",
          "2020-02-01T00:00:00",
          "2020-02-02T00:00:00",
          "2020-02-03T00:00:00",
          "2020-02-04T00:00:00",
          "2020-02-05T00:00:00",
          "2020-02-06T00:00:00",
          "2020-02-07T00:00:00",
          "2020-02-08T00:00:00",
          "2020-02-09T00:00:00",
          "2020-02-10T00:00:00",
          "2020-02-11T00:00:00",
          "2020-02-12T00:00:00",
          "2020-02-13T00:00:00",
          "2020-02-14T00:00:00",
          "2020-02-15T00:00:00",
          "2020-02-16T00:00:00",
          "2020-02-17T00:00:00",
          "2020-02-18T00:00:00",
          "2020-02-19T00:00:00",
          "2020-02-20T00:00:00",
          "2020-02-21T00:00:00",
          "2020-02-22T00:00:00",
          "2020-02-23T00:00:00",
          "2020-02-24T00:00:00",
          "2020-02-25T00:00:00",
          "2020-02-26T00:00:00",
          "2020-02-27T00:00:00",
          "2020-02-28T00:00:00",
          "2020-02-29T00:00:00",
          "2020-03-01T00:00:00",
          "2020-03-02T00:00:00",
          "2020-03-03T00:00:00",
          "2020-03-04T00:00:00",
          "2020-03-05T00:00:00",
          "2020-03-06T00:00:00",
          "2020-03-07T00:00:00",
          "2020-03-08T00:00:00",
          "2020-03-09T00:00:00",
          "2020-03-10T00:00:00",
          "2020-03-11T00:00:00",
          "2020-03-12T00:00:00",
          "2020-03-13T00:00:00",
          "2020-03-14T00:00:00",
          "2020-03-15T00:00:00",
          "2020-03-16T00:00:00",
          "2020-03-17T00:00:00",
          "2020-03-18T00:00:00",
          "2020-03-19T00:00:00",
          "2020-03-20T00:00:00",
          "2020-03-21T00:00:00",
          "2020-03-22T00:00:00",
          "2020-03-23T00:00:00",
          "2020-03-24T00:00:00",
          "2020-03-25T00:00:00",
          "2020-03-26T00:00:00",
          "2020-03-27T00:00:00",
          "2020-03-28T00:00:00",
          "2020-03-29T00:00:00",
          "2020-03-30T00:00:00",
          "2020-03-31T00:00:00",
          "2020-04-01T00:00:00",
          "2020-04-02T00:00:00",
          "2020-04-03T00:00:00",
          "2020-04-04T00:00:00",
          "2020-04-05T00:00:00"
         ],
         "xaxis": "x",
         "y": [
          1,
          1,
          2,
          3,
          3,
          3,
          3,
          3,
          3,
          3,
          3,
          3,
          3,
          3,
          3,
          3,
          3,
          3,
          3,
          3,
          3,
          3,
          3,
          3,
          3,
          3,
          3,
          3,
          3,
          3,
          3,
          3,
          5,
          6,
          28,
          30,
          31,
          34,
          39,
          46,
          58,
          60,
          74,
          81,
          84,
          110,
          114,
          137,
          151,
          173,
          223,
          283,
          360,
          433,
          519,
          606,
          694,
          724,
          909,
          1024,
          1251,
          1397,
          1834,
          2069,
          2547,
          3072,
          3374
         ],
         "yaxis": "y"
        }
       ],
       "layout": {
        "barmode": "relative",
        "coloraxis": {
         "colorbar": {
          "title": {
           "text": "Confirmed"
          }
         },
         "colorscale": [
          [
           0,
           "#0d0887"
          ],
          [
           0.1111111111111111,
           "#46039f"
          ],
          [
           0.2222222222222222,
           "#7201a8"
          ],
          [
           0.3333333333333333,
           "#9c179e"
          ],
          [
           0.4444444444444444,
           "#bd3786"
          ],
          [
           0.5555555555555556,
           "#d8576b"
          ],
          [
           0.6666666666666666,
           "#ed7953"
          ],
          [
           0.7777777777777778,
           "#fb9f3a"
          ],
          [
           0.8888888888888888,
           "#fdca26"
          ],
          [
           1,
           "#f0f921"
          ]
         ]
        },
        "font": {
         "color": "black",
         "family": "Courier New, monospace",
         "size": 18
        },
        "legend": {
         "tracegroupgap": 0
        },
        "margin": {
         "t": 60
        },
        "template": {
         "data": {
          "bar": [
           {
            "error_x": {
             "color": "#2a3f5f"
            },
            "error_y": {
             "color": "#2a3f5f"
            },
            "marker": {
             "line": {
              "color": "#E5ECF6",
              "width": 0.5
             }
            },
            "type": "bar"
           }
          ],
          "barpolar": [
           {
            "marker": {
             "line": {
              "color": "#E5ECF6",
              "width": 0.5
             }
            },
            "type": "barpolar"
           }
          ],
          "carpet": [
           {
            "aaxis": {
             "endlinecolor": "#2a3f5f",
             "gridcolor": "white",
             "linecolor": "white",
             "minorgridcolor": "white",
             "startlinecolor": "#2a3f5f"
            },
            "baxis": {
             "endlinecolor": "#2a3f5f",
             "gridcolor": "white",
             "linecolor": "white",
             "minorgridcolor": "white",
             "startlinecolor": "#2a3f5f"
            },
            "type": "carpet"
           }
          ],
          "choropleth": [
           {
            "colorbar": {
             "outlinewidth": 0,
             "ticks": ""
            },
            "type": "choropleth"
           }
          ],
          "contour": [
           {
            "colorbar": {
             "outlinewidth": 0,
             "ticks": ""
            },
            "colorscale": [
             [
              0,
              "#0d0887"
             ],
             [
              0.1111111111111111,
              "#46039f"
             ],
             [
              0.2222222222222222,
              "#7201a8"
             ],
             [
              0.3333333333333333,
              "#9c179e"
             ],
             [
              0.4444444444444444,
              "#bd3786"
             ],
             [
              0.5555555555555556,
              "#d8576b"
             ],
             [
              0.6666666666666666,
              "#ed7953"
             ],
             [
              0.7777777777777778,
              "#fb9f3a"
             ],
             [
              0.8888888888888888,
              "#fdca26"
             ],
             [
              1,
              "#f0f921"
             ]
            ],
            "type": "contour"
           }
          ],
          "contourcarpet": [
           {
            "colorbar": {
             "outlinewidth": 0,
             "ticks": ""
            },
            "type": "contourcarpet"
           }
          ],
          "heatmap": [
           {
            "colorbar": {
             "outlinewidth": 0,
             "ticks": ""
            },
            "colorscale": [
             [
              0,
              "#0d0887"
             ],
             [
              0.1111111111111111,
              "#46039f"
             ],
             [
              0.2222222222222222,
              "#7201a8"
             ],
             [
              0.3333333333333333,
              "#9c179e"
             ],
             [
              0.4444444444444444,
              "#bd3786"
             ],
             [
              0.5555555555555556,
              "#d8576b"
             ],
             [
              0.6666666666666666,
              "#ed7953"
             ],
             [
              0.7777777777777778,
              "#fb9f3a"
             ],
             [
              0.8888888888888888,
              "#fdca26"
             ],
             [
              1,
              "#f0f921"
             ]
            ],
            "type": "heatmap"
           }
          ],
          "heatmapgl": [
           {
            "colorbar": {
             "outlinewidth": 0,
             "ticks": ""
            },
            "colorscale": [
             [
              0,
              "#0d0887"
             ],
             [
              0.1111111111111111,
              "#46039f"
             ],
             [
              0.2222222222222222,
              "#7201a8"
             ],
             [
              0.3333333333333333,
              "#9c179e"
             ],
             [
              0.4444444444444444,
              "#bd3786"
             ],
             [
              0.5555555555555556,
              "#d8576b"
             ],
             [
              0.6666666666666666,
              "#ed7953"
             ],
             [
              0.7777777777777778,
              "#fb9f3a"
             ],
             [
              0.8888888888888888,
              "#fdca26"
             ],
             [
              1,
              "#f0f921"
             ]
            ],
            "type": "heatmapgl"
           }
          ],
          "histogram": [
           {
            "marker": {
             "colorbar": {
              "outlinewidth": 0,
              "ticks": ""
             }
            },
            "type": "histogram"
           }
          ],
          "histogram2d": [
           {
            "colorbar": {
             "outlinewidth": 0,
             "ticks": ""
            },
            "colorscale": [
             [
              0,
              "#0d0887"
             ],
             [
              0.1111111111111111,
              "#46039f"
             ],
             [
              0.2222222222222222,
              "#7201a8"
             ],
             [
              0.3333333333333333,
              "#9c179e"
             ],
             [
              0.4444444444444444,
              "#bd3786"
             ],
             [
              0.5555555555555556,
              "#d8576b"
             ],
             [
              0.6666666666666666,
              "#ed7953"
             ],
             [
              0.7777777777777778,
              "#fb9f3a"
             ],
             [
              0.8888888888888888,
              "#fdca26"
             ],
             [
              1,
              "#f0f921"
             ]
            ],
            "type": "histogram2d"
           }
          ],
          "histogram2dcontour": [
           {
            "colorbar": {
             "outlinewidth": 0,
             "ticks": ""
            },
            "colorscale": [
             [
              0,
              "#0d0887"
             ],
             [
              0.1111111111111111,
              "#46039f"
             ],
             [
              0.2222222222222222,
              "#7201a8"
             ],
             [
              0.3333333333333333,
              "#9c179e"
             ],
             [
              0.4444444444444444,
              "#bd3786"
             ],
             [
              0.5555555555555556,
              "#d8576b"
             ],
             [
              0.6666666666666666,
              "#ed7953"
             ],
             [
              0.7777777777777778,
              "#fb9f3a"
             ],
             [
              0.8888888888888888,
              "#fdca26"
             ],
             [
              1,
              "#f0f921"
             ]
            ],
            "type": "histogram2dcontour"
           }
          ],
          "mesh3d": [
           {
            "colorbar": {
             "outlinewidth": 0,
             "ticks": ""
            },
            "type": "mesh3d"
           }
          ],
          "parcoords": [
           {
            "line": {
             "colorbar": {
              "outlinewidth": 0,
              "ticks": ""
             }
            },
            "type": "parcoords"
           }
          ],
          "pie": [
           {
            "automargin": true,
            "type": "pie"
           }
          ],
          "scatter": [
           {
            "marker": {
             "colorbar": {
              "outlinewidth": 0,
              "ticks": ""
             }
            },
            "type": "scatter"
           }
          ],
          "scatter3d": [
           {
            "line": {
             "colorbar": {
              "outlinewidth": 0,
              "ticks": ""
             }
            },
            "marker": {
             "colorbar": {
              "outlinewidth": 0,
              "ticks": ""
             }
            },
            "type": "scatter3d"
           }
          ],
          "scattercarpet": [
           {
            "marker": {
             "colorbar": {
              "outlinewidth": 0,
              "ticks": ""
             }
            },
            "type": "scattercarpet"
           }
          ],
          "scattergeo": [
           {
            "marker": {
             "colorbar": {
              "outlinewidth": 0,
              "ticks": ""
             }
            },
            "type": "scattergeo"
           }
          ],
          "scattergl": [
           {
            "marker": {
             "colorbar": {
              "outlinewidth": 0,
              "ticks": ""
             }
            },
            "type": "scattergl"
           }
          ],
          "scattermapbox": [
           {
            "marker": {
             "colorbar": {
              "outlinewidth": 0,
              "ticks": ""
             }
            },
            "type": "scattermapbox"
           }
          ],
          "scatterpolar": [
           {
            "marker": {
             "colorbar": {
              "outlinewidth": 0,
              "ticks": ""
             }
            },
            "type": "scatterpolar"
           }
          ],
          "scatterpolargl": [
           {
            "marker": {
             "colorbar": {
              "outlinewidth": 0,
              "ticks": ""
             }
            },
            "type": "scatterpolargl"
           }
          ],
          "scatterternary": [
           {
            "marker": {
             "colorbar": {
              "outlinewidth": 0,
              "ticks": ""
             }
            },
            "type": "scatterternary"
           }
          ],
          "surface": [
           {
            "colorbar": {
             "outlinewidth": 0,
             "ticks": ""
            },
            "colorscale": [
             [
              0,
              "#0d0887"
             ],
             [
              0.1111111111111111,
              "#46039f"
             ],
             [
              0.2222222222222222,
              "#7201a8"
             ],
             [
              0.3333333333333333,
              "#9c179e"
             ],
             [
              0.4444444444444444,
              "#bd3786"
             ],
             [
              0.5555555555555556,
              "#d8576b"
             ],
             [
              0.6666666666666666,
              "#ed7953"
             ],
             [
              0.7777777777777778,
              "#fb9f3a"
             ],
             [
              0.8888888888888888,
              "#fdca26"
             ],
             [
              1,
              "#f0f921"
             ]
            ],
            "type": "surface"
           }
          ],
          "table": [
           {
            "cells": {
             "fill": {
              "color": "#EBF0F8"
             },
             "line": {
              "color": "white"
             }
            },
            "header": {
             "fill": {
              "color": "#C8D4E3"
             },
             "line": {
              "color": "white"
             }
            },
            "type": "table"
           }
          ]
         },
         "layout": {
          "annotationdefaults": {
           "arrowcolor": "#2a3f5f",
           "arrowhead": 0,
           "arrowwidth": 1
          },
          "coloraxis": {
           "colorbar": {
            "outlinewidth": 0,
            "ticks": ""
           }
          },
          "colorscale": {
           "diverging": [
            [
             0,
             "#8e0152"
            ],
            [
             0.1,
             "#c51b7d"
            ],
            [
             0.2,
             "#de77ae"
            ],
            [
             0.3,
             "#f1b6da"
            ],
            [
             0.4,
             "#fde0ef"
            ],
            [
             0.5,
             "#f7f7f7"
            ],
            [
             0.6,
             "#e6f5d0"
            ],
            [
             0.7,
             "#b8e186"
            ],
            [
             0.8,
             "#7fbc41"
            ],
            [
             0.9,
             "#4d9221"
            ],
            [
             1,
             "#276419"
            ]
           ],
           "sequential": [
            [
             0,
             "#0d0887"
            ],
            [
             0.1111111111111111,
             "#46039f"
            ],
            [
             0.2222222222222222,
             "#7201a8"
            ],
            [
             0.3333333333333333,
             "#9c179e"
            ],
            [
             0.4444444444444444,
             "#bd3786"
            ],
            [
             0.5555555555555556,
             "#d8576b"
            ],
            [
             0.6666666666666666,
             "#ed7953"
            ],
            [
             0.7777777777777778,
             "#fb9f3a"
            ],
            [
             0.8888888888888888,
             "#fdca26"
            ],
            [
             1,
             "#f0f921"
            ]
           ],
           "sequentialminus": [
            [
             0,
             "#0d0887"
            ],
            [
             0.1111111111111111,
             "#46039f"
            ],
            [
             0.2222222222222222,
             "#7201a8"
            ],
            [
             0.3333333333333333,
             "#9c179e"
            ],
            [
             0.4444444444444444,
             "#bd3786"
            ],
            [
             0.5555555555555556,
             "#d8576b"
            ],
            [
             0.6666666666666666,
             "#ed7953"
            ],
            [
             0.7777777777777778,
             "#fb9f3a"
            ],
            [
             0.8888888888888888,
             "#fdca26"
            ],
            [
             1,
             "#f0f921"
            ]
           ]
          },
          "colorway": [
           "#636efa",
           "#EF553B",
           "#00cc96",
           "#ab63fa",
           "#FFA15A",
           "#19d3f3",
           "#FF6692",
           "#B6E880",
           "#FF97FF",
           "#FECB52"
          ],
          "font": {
           "color": "#2a3f5f"
          },
          "geo": {
           "bgcolor": "white",
           "lakecolor": "white",
           "landcolor": "#E5ECF6",
           "showlakes": true,
           "showland": true,
           "subunitcolor": "white"
          },
          "hoverlabel": {
           "align": "left"
          },
          "hovermode": "closest",
          "mapbox": {
           "style": "light"
          },
          "paper_bgcolor": "white",
          "plot_bgcolor": "#E5ECF6",
          "polar": {
           "angularaxis": {
            "gridcolor": "white",
            "linecolor": "white",
            "ticks": ""
           },
           "bgcolor": "#E5ECF6",
           "radialaxis": {
            "gridcolor": "white",
            "linecolor": "white",
            "ticks": ""
           }
          },
          "scene": {
           "xaxis": {
            "backgroundcolor": "#E5ECF6",
            "gridcolor": "white",
            "gridwidth": 2,
            "linecolor": "white",
            "showbackground": true,
            "ticks": "",
            "zerolinecolor": "white"
           },
           "yaxis": {
            "backgroundcolor": "#E5ECF6",
            "gridcolor": "white",
            "gridwidth": 2,
            "linecolor": "white",
            "showbackground": true,
            "ticks": "",
            "zerolinecolor": "white"
           },
           "zaxis": {
            "backgroundcolor": "#E5ECF6",
            "gridcolor": "white",
            "gridwidth": 2,
            "linecolor": "white",
            "showbackground": true,
            "ticks": "",
            "zerolinecolor": "white"
           }
          },
          "shapedefaults": {
           "line": {
            "color": "#2a3f5f"
           }
          },
          "ternary": {
           "aaxis": {
            "gridcolor": "white",
            "linecolor": "white",
            "ticks": ""
           },
           "baxis": {
            "gridcolor": "white",
            "linecolor": "white",
            "ticks": ""
           },
           "bgcolor": "#E5ECF6",
           "caxis": {
            "gridcolor": "white",
            "linecolor": "white",
            "ticks": ""
           }
          },
          "title": {
           "x": 0.05
          },
          "xaxis": {
           "automargin": true,
           "gridcolor": "white",
           "linecolor": "white",
           "ticks": "",
           "title": {
            "standoff": 15
           },
           "zerolinecolor": "white",
           "zerolinewidth": 2
          },
          "yaxis": {
           "automargin": true,
           "gridcolor": "white",
           "linecolor": "white",
           "ticks": "",
           "title": {
            "standoff": 15
           },
           "zerolinecolor": "white",
           "zerolinewidth": 2
          }
         }
        },
        "title": {
         "text": "Confirmed cases"
        },
        "xaxis": {
         "anchor": "y",
         "domain": [
          0,
          1
         ],
         "title": {
          "text": "Date"
         }
        },
        "yaxis": {
         "anchor": "x",
         "domain": [
          0,
          1
         ],
         "title": {
          "text": "Confirmed"
         }
        }
       }
      },
      "text/html": [
       "<div>\n",
       "        \n",
       "        \n",
       "            <div id=\"9e12e7ed-8a79-487c-9fd4-478fca80045d\" class=\"plotly-graph-div\" style=\"height:525px; width:100%;\"></div>\n",
       "            <script type=\"text/javascript\">\n",
       "                require([\"plotly\"], function(Plotly) {\n",
       "                    window.PLOTLYENV=window.PLOTLYENV || {};\n",
       "                    \n",
       "                if (document.getElementById(\"9e12e7ed-8a79-487c-9fd4-478fca80045d\")) {\n",
       "                    Plotly.newPlot(\n",
       "                        '9e12e7ed-8a79-487c-9fd4-478fca80045d',\n",
       "                        [{\"alignmentgroup\": \"True\", \"hovertemplate\": \"Date=%{x}<br>Confirmed=%{marker.color}<extra></extra>\", \"legendgroup\": \"\", \"marker\": {\"color\": [1, 1, 2, 3, 3, 3, 3, 3, 3, 3, 3, 3, 3, 3, 3, 3, 3, 3, 3, 3, 3, 3, 3, 3, 3, 3, 3, 3, 3, 3, 3, 3, 5, 6, 28, 30, 31, 34, 39, 46, 58, 60, 74, 81, 84, 110, 114, 137, 151, 173, 223, 283, 360, 433, 519, 606, 694, 724, 909, 1024, 1251, 1397, 1834, 2069, 2547, 3072, 3374], \"coloraxis\": \"coloraxis\"}, \"name\": \"\", \"offsetgroup\": \"\", \"orientation\": \"v\", \"showlegend\": false, \"textposition\": \"auto\", \"type\": \"bar\", \"x\": [\"2020-01-30T00:00:00\", \"2020-01-31T00:00:00\", \"2020-02-01T00:00:00\", \"2020-02-02T00:00:00\", \"2020-02-03T00:00:00\", \"2020-02-04T00:00:00\", \"2020-02-05T00:00:00\", \"2020-02-06T00:00:00\", \"2020-02-07T00:00:00\", \"2020-02-08T00:00:00\", \"2020-02-09T00:00:00\", \"2020-02-10T00:00:00\", \"2020-02-11T00:00:00\", \"2020-02-12T00:00:00\", \"2020-02-13T00:00:00\", \"2020-02-14T00:00:00\", \"2020-02-15T00:00:00\", \"2020-02-16T00:00:00\", \"2020-02-17T00:00:00\", \"2020-02-18T00:00:00\", \"2020-02-19T00:00:00\", \"2020-02-20T00:00:00\", \"2020-02-21T00:00:00\", \"2020-02-22T00:00:00\", \"2020-02-23T00:00:00\", \"2020-02-24T00:00:00\", \"2020-02-25T00:00:00\", \"2020-02-26T00:00:00\", \"2020-02-27T00:00:00\", \"2020-02-28T00:00:00\", \"2020-02-29T00:00:00\", \"2020-03-01T00:00:00\", \"2020-03-02T00:00:00\", \"2020-03-03T00:00:00\", \"2020-03-04T00:00:00\", \"2020-03-05T00:00:00\", \"2020-03-06T00:00:00\", \"2020-03-07T00:00:00\", \"2020-03-08T00:00:00\", \"2020-03-09T00:00:00\", \"2020-03-10T00:00:00\", \"2020-03-11T00:00:00\", \"2020-03-12T00:00:00\", \"2020-03-13T00:00:00\", \"2020-03-14T00:00:00\", \"2020-03-15T00:00:00\", \"2020-03-16T00:00:00\", \"2020-03-17T00:00:00\", \"2020-03-18T00:00:00\", \"2020-03-19T00:00:00\", \"2020-03-20T00:00:00\", \"2020-03-21T00:00:00\", \"2020-03-22T00:00:00\", \"2020-03-23T00:00:00\", \"2020-03-24T00:00:00\", \"2020-03-25T00:00:00\", \"2020-03-26T00:00:00\", \"2020-03-27T00:00:00\", \"2020-03-28T00:00:00\", \"2020-03-29T00:00:00\", \"2020-03-30T00:00:00\", \"2020-03-31T00:00:00\", \"2020-04-01T00:00:00\", \"2020-04-02T00:00:00\", \"2020-04-03T00:00:00\", \"2020-04-04T00:00:00\", \"2020-04-05T00:00:00\"], \"xaxis\": \"x\", \"y\": [1, 1, 2, 3, 3, 3, 3, 3, 3, 3, 3, 3, 3, 3, 3, 3, 3, 3, 3, 3, 3, 3, 3, 3, 3, 3, 3, 3, 3, 3, 3, 3, 5, 6, 28, 30, 31, 34, 39, 46, 58, 60, 74, 81, 84, 110, 114, 137, 151, 173, 223, 283, 360, 433, 519, 606, 694, 724, 909, 1024, 1251, 1397, 1834, 2069, 2547, 3072, 3374], \"yaxis\": \"y\"}],\n",
       "                        {\"barmode\": \"relative\", \"coloraxis\": {\"colorbar\": {\"title\": {\"text\": \"Confirmed\"}}, \"colorscale\": [[0.0, \"#0d0887\"], [0.1111111111111111, \"#46039f\"], [0.2222222222222222, \"#7201a8\"], [0.3333333333333333, \"#9c179e\"], [0.4444444444444444, \"#bd3786\"], [0.5555555555555556, \"#d8576b\"], [0.6666666666666666, \"#ed7953\"], [0.7777777777777778, \"#fb9f3a\"], [0.8888888888888888, \"#fdca26\"], [1.0, \"#f0f921\"]]}, \"font\": {\"color\": \"black\", \"family\": \"Courier New, monospace\", \"size\": 18}, \"legend\": {\"tracegroupgap\": 0}, \"margin\": {\"t\": 60}, \"template\": {\"data\": {\"bar\": [{\"error_x\": {\"color\": \"#2a3f5f\"}, \"error_y\": {\"color\": \"#2a3f5f\"}, \"marker\": {\"line\": {\"color\": \"#E5ECF6\", \"width\": 0.5}}, \"type\": \"bar\"}], \"barpolar\": [{\"marker\": {\"line\": {\"color\": \"#E5ECF6\", \"width\": 0.5}}, \"type\": \"barpolar\"}], \"carpet\": [{\"aaxis\": {\"endlinecolor\": \"#2a3f5f\", \"gridcolor\": \"white\", \"linecolor\": \"white\", \"minorgridcolor\": \"white\", \"startlinecolor\": \"#2a3f5f\"}, \"baxis\": {\"endlinecolor\": \"#2a3f5f\", \"gridcolor\": \"white\", \"linecolor\": \"white\", \"minorgridcolor\": \"white\", \"startlinecolor\": \"#2a3f5f\"}, \"type\": \"carpet\"}], \"choropleth\": [{\"colorbar\": {\"outlinewidth\": 0, \"ticks\": \"\"}, \"type\": \"choropleth\"}], \"contour\": [{\"colorbar\": {\"outlinewidth\": 0, \"ticks\": \"\"}, \"colorscale\": [[0.0, \"#0d0887\"], [0.1111111111111111, \"#46039f\"], [0.2222222222222222, \"#7201a8\"], [0.3333333333333333, \"#9c179e\"], [0.4444444444444444, \"#bd3786\"], [0.5555555555555556, \"#d8576b\"], [0.6666666666666666, \"#ed7953\"], [0.7777777777777778, \"#fb9f3a\"], [0.8888888888888888, \"#fdca26\"], [1.0, \"#f0f921\"]], \"type\": \"contour\"}], \"contourcarpet\": [{\"colorbar\": {\"outlinewidth\": 0, \"ticks\": \"\"}, \"type\": \"contourcarpet\"}], \"heatmap\": [{\"colorbar\": {\"outlinewidth\": 0, \"ticks\": \"\"}, \"colorscale\": [[0.0, \"#0d0887\"], [0.1111111111111111, \"#46039f\"], [0.2222222222222222, \"#7201a8\"], [0.3333333333333333, \"#9c179e\"], [0.4444444444444444, \"#bd3786\"], [0.5555555555555556, \"#d8576b\"], [0.6666666666666666, \"#ed7953\"], [0.7777777777777778, \"#fb9f3a\"], [0.8888888888888888, \"#fdca26\"], [1.0, \"#f0f921\"]], \"type\": \"heatmap\"}], \"heatmapgl\": [{\"colorbar\": {\"outlinewidth\": 0, \"ticks\": \"\"}, \"colorscale\": [[0.0, \"#0d0887\"], [0.1111111111111111, \"#46039f\"], [0.2222222222222222, \"#7201a8\"], [0.3333333333333333, \"#9c179e\"], [0.4444444444444444, \"#bd3786\"], [0.5555555555555556, \"#d8576b\"], [0.6666666666666666, \"#ed7953\"], [0.7777777777777778, \"#fb9f3a\"], [0.8888888888888888, \"#fdca26\"], [1.0, \"#f0f921\"]], \"type\": \"heatmapgl\"}], \"histogram\": [{\"marker\": {\"colorbar\": {\"outlinewidth\": 0, \"ticks\": \"\"}}, \"type\": \"histogram\"}], \"histogram2d\": [{\"colorbar\": {\"outlinewidth\": 0, \"ticks\": \"\"}, \"colorscale\": [[0.0, \"#0d0887\"], [0.1111111111111111, \"#46039f\"], [0.2222222222222222, \"#7201a8\"], [0.3333333333333333, \"#9c179e\"], [0.4444444444444444, \"#bd3786\"], [0.5555555555555556, \"#d8576b\"], [0.6666666666666666, \"#ed7953\"], [0.7777777777777778, \"#fb9f3a\"], [0.8888888888888888, \"#fdca26\"], [1.0, \"#f0f921\"]], \"type\": \"histogram2d\"}], \"histogram2dcontour\": [{\"colorbar\": {\"outlinewidth\": 0, \"ticks\": \"\"}, \"colorscale\": [[0.0, \"#0d0887\"], [0.1111111111111111, \"#46039f\"], [0.2222222222222222, \"#7201a8\"], [0.3333333333333333, \"#9c179e\"], [0.4444444444444444, \"#bd3786\"], [0.5555555555555556, \"#d8576b\"], [0.6666666666666666, \"#ed7953\"], [0.7777777777777778, \"#fb9f3a\"], [0.8888888888888888, \"#fdca26\"], [1.0, \"#f0f921\"]], \"type\": \"histogram2dcontour\"}], \"mesh3d\": [{\"colorbar\": {\"outlinewidth\": 0, \"ticks\": \"\"}, \"type\": \"mesh3d\"}], \"parcoords\": [{\"line\": {\"colorbar\": {\"outlinewidth\": 0, \"ticks\": \"\"}}, \"type\": \"parcoords\"}], \"pie\": [{\"automargin\": true, \"type\": \"pie\"}], \"scatter\": [{\"marker\": {\"colorbar\": {\"outlinewidth\": 0, \"ticks\": \"\"}}, \"type\": \"scatter\"}], \"scatter3d\": [{\"line\": {\"colorbar\": {\"outlinewidth\": 0, \"ticks\": \"\"}}, \"marker\": {\"colorbar\": {\"outlinewidth\": 0, \"ticks\": \"\"}}, \"type\": \"scatter3d\"}], \"scattercarpet\": [{\"marker\": {\"colorbar\": {\"outlinewidth\": 0, \"ticks\": \"\"}}, \"type\": \"scattercarpet\"}], \"scattergeo\": [{\"marker\": {\"colorbar\": {\"outlinewidth\": 0, \"ticks\": \"\"}}, \"type\": \"scattergeo\"}], \"scattergl\": [{\"marker\": {\"colorbar\": {\"outlinewidth\": 0, \"ticks\": \"\"}}, \"type\": \"scattergl\"}], \"scattermapbox\": [{\"marker\": {\"colorbar\": {\"outlinewidth\": 0, \"ticks\": \"\"}}, \"type\": \"scattermapbox\"}], \"scatterpolar\": [{\"marker\": {\"colorbar\": {\"outlinewidth\": 0, \"ticks\": \"\"}}, \"type\": \"scatterpolar\"}], \"scatterpolargl\": [{\"marker\": {\"colorbar\": {\"outlinewidth\": 0, \"ticks\": \"\"}}, \"type\": \"scatterpolargl\"}], \"scatterternary\": [{\"marker\": {\"colorbar\": {\"outlinewidth\": 0, \"ticks\": \"\"}}, \"type\": \"scatterternary\"}], \"surface\": [{\"colorbar\": {\"outlinewidth\": 0, \"ticks\": \"\"}, \"colorscale\": [[0.0, \"#0d0887\"], [0.1111111111111111, \"#46039f\"], [0.2222222222222222, \"#7201a8\"], [0.3333333333333333, \"#9c179e\"], [0.4444444444444444, \"#bd3786\"], [0.5555555555555556, \"#d8576b\"], [0.6666666666666666, \"#ed7953\"], [0.7777777777777778, \"#fb9f3a\"], [0.8888888888888888, \"#fdca26\"], [1.0, \"#f0f921\"]], \"type\": \"surface\"}], \"table\": [{\"cells\": {\"fill\": {\"color\": \"#EBF0F8\"}, \"line\": {\"color\": \"white\"}}, \"header\": {\"fill\": {\"color\": \"#C8D4E3\"}, \"line\": {\"color\": \"white\"}}, \"type\": \"table\"}]}, \"layout\": {\"annotationdefaults\": {\"arrowcolor\": \"#2a3f5f\", \"arrowhead\": 0, \"arrowwidth\": 1}, \"coloraxis\": {\"colorbar\": {\"outlinewidth\": 0, \"ticks\": \"\"}}, \"colorscale\": {\"diverging\": [[0, \"#8e0152\"], [0.1, \"#c51b7d\"], [0.2, \"#de77ae\"], [0.3, \"#f1b6da\"], [0.4, \"#fde0ef\"], [0.5, \"#f7f7f7\"], [0.6, \"#e6f5d0\"], [0.7, \"#b8e186\"], [0.8, \"#7fbc41\"], [0.9, \"#4d9221\"], [1, \"#276419\"]], \"sequential\": [[0.0, \"#0d0887\"], [0.1111111111111111, \"#46039f\"], [0.2222222222222222, \"#7201a8\"], [0.3333333333333333, \"#9c179e\"], [0.4444444444444444, \"#bd3786\"], [0.5555555555555556, \"#d8576b\"], [0.6666666666666666, \"#ed7953\"], [0.7777777777777778, \"#fb9f3a\"], [0.8888888888888888, \"#fdca26\"], [1.0, \"#f0f921\"]], \"sequentialminus\": [[0.0, \"#0d0887\"], [0.1111111111111111, \"#46039f\"], [0.2222222222222222, \"#7201a8\"], [0.3333333333333333, \"#9c179e\"], [0.4444444444444444, \"#bd3786\"], [0.5555555555555556, \"#d8576b\"], [0.6666666666666666, \"#ed7953\"], [0.7777777777777778, \"#fb9f3a\"], [0.8888888888888888, \"#fdca26\"], [1.0, \"#f0f921\"]]}, \"colorway\": [\"#636efa\", \"#EF553B\", \"#00cc96\", \"#ab63fa\", \"#FFA15A\", \"#19d3f3\", \"#FF6692\", \"#B6E880\", \"#FF97FF\", \"#FECB52\"], \"font\": {\"color\": \"#2a3f5f\"}, \"geo\": {\"bgcolor\": \"white\", \"lakecolor\": \"white\", \"landcolor\": \"#E5ECF6\", \"showlakes\": true, \"showland\": true, \"subunitcolor\": \"white\"}, \"hoverlabel\": {\"align\": \"left\"}, \"hovermode\": \"closest\", \"mapbox\": {\"style\": \"light\"}, \"paper_bgcolor\": \"white\", \"plot_bgcolor\": \"#E5ECF6\", \"polar\": {\"angularaxis\": {\"gridcolor\": \"white\", \"linecolor\": \"white\", \"ticks\": \"\"}, \"bgcolor\": \"#E5ECF6\", \"radialaxis\": {\"gridcolor\": \"white\", \"linecolor\": \"white\", \"ticks\": \"\"}}, \"scene\": {\"xaxis\": {\"backgroundcolor\": \"#E5ECF6\", \"gridcolor\": \"white\", \"gridwidth\": 2, \"linecolor\": \"white\", \"showbackground\": true, \"ticks\": \"\", \"zerolinecolor\": \"white\"}, \"yaxis\": {\"backgroundcolor\": \"#E5ECF6\", \"gridcolor\": \"white\", \"gridwidth\": 2, \"linecolor\": \"white\", \"showbackground\": true, \"ticks\": \"\", \"zerolinecolor\": \"white\"}, \"zaxis\": {\"backgroundcolor\": \"#E5ECF6\", \"gridcolor\": \"white\", \"gridwidth\": 2, \"linecolor\": \"white\", \"showbackground\": true, \"ticks\": \"\", \"zerolinecolor\": \"white\"}}, \"shapedefaults\": {\"line\": {\"color\": \"#2a3f5f\"}}, \"ternary\": {\"aaxis\": {\"gridcolor\": \"white\", \"linecolor\": \"white\", \"ticks\": \"\"}, \"baxis\": {\"gridcolor\": \"white\", \"linecolor\": \"white\", \"ticks\": \"\"}, \"bgcolor\": \"#E5ECF6\", \"caxis\": {\"gridcolor\": \"white\", \"linecolor\": \"white\", \"ticks\": \"\"}}, \"title\": {\"x\": 0.05}, \"xaxis\": {\"automargin\": true, \"gridcolor\": \"white\", \"linecolor\": \"white\", \"ticks\": \"\", \"title\": {\"standoff\": 15}, \"zerolinecolor\": \"white\", \"zerolinewidth\": 2}, \"yaxis\": {\"automargin\": true, \"gridcolor\": \"white\", \"linecolor\": \"white\", \"ticks\": \"\", \"title\": {\"standoff\": 15}, \"zerolinecolor\": \"white\", \"zerolinewidth\": 2}}}, \"title\": {\"text\": \"Confirmed cases\"}, \"xaxis\": {\"anchor\": \"y\", \"domain\": [0.0, 1.0], \"title\": {\"text\": \"Date\"}}, \"yaxis\": {\"anchor\": \"x\", \"domain\": [0.0, 1.0], \"title\": {\"text\": \"Confirmed\"}}},\n",
       "                        {\"responsive\": true}\n",
       "                    ).then(function(){\n",
       "                            \n",
       "var gd = document.getElementById('9e12e7ed-8a79-487c-9fd4-478fca80045d');\n",
       "var x = new MutationObserver(function (mutations, observer) {{\n",
       "        var display = window.getComputedStyle(gd).display;\n",
       "        if (!display || display === 'none') {{\n",
       "            console.log([gd, 'removed!']);\n",
       "            Plotly.purge(gd);\n",
       "            observer.disconnect();\n",
       "        }}\n",
       "}});\n",
       "\n",
       "// Listen for the removal of the full notebook cells\n",
       "var notebookContainer = gd.closest('#notebook-container');\n",
       "if (notebookContainer) {{\n",
       "    x.observe(notebookContainer, {childList: true});\n",
       "}}\n",
       "\n",
       "// Listen for the clearing of the current output cell\n",
       "var outputEl = gd.closest('.output');\n",
       "if (outputEl) {{\n",
       "    x.observe(outputEl, {childList: true});\n",
       "}}\n",
       "\n",
       "                        })\n",
       "                };\n",
       "                });\n",
       "            </script>\n",
       "        </div>"
      ]
     },
     "metadata": {},
     "output_type": "display_data"
    }
   ],
   "source": [
    "date_group = covid_19_india_df.groupby(['Date']).sum()\n",
    "date_group.reset_index(inplace=True)\n",
    "\n",
    "date_group.sort_values('Date',inplace=True)\n",
    "\n",
    "import plotly.express as px\n",
    "fig = px.bar(date_group, x='Date', y='Confirmed', color='Confirmed')\n",
    "\n",
    "fig.update_layout(\n",
    "    title=\"Confirmed cases\",    \n",
    "    font=dict(\n",
    "        family=\"Courier New, monospace\",\n",
    "        size=18,\n",
    "        color=\"black\"\n",
    "    )\n",
    ")\n",
    "\n",
    "fig.show()"
   ]
  },
  {
   "cell_type": "markdown",
   "metadata": {},
   "source": [
    "## Deaths"
   ]
  },
  {
   "cell_type": "code",
   "execution_count": 4,
   "metadata": {
    "ExecuteTime": {
     "end_time": "2020-04-05T13:37:05.022757Z",
     "start_time": "2020-04-05T13:37:04.681170Z"
    },
    "hide_input": true,
    "jupyter": {
     "source_hidden": true
    }
   },
   "outputs": [
    {
     "data": {
      "application/vnd.plotly.v1+json": {
       "config": {
        "plotlyServerURL": "https://plot.ly"
       },
       "data": [
        {
         "alignmentgroup": "True",
         "hovertemplate": "Date=%{x}<br>Deaths=%{marker.color}<extra></extra>",
         "legendgroup": "",
         "marker": {
          "color": [
           0,
           0,
           0,
           0,
           0,
           0,
           0,
           0,
           0,
           0,
           0,
           0,
           0,
           0,
           0,
           0,
           0,
           0,
           0,
           0,
           0,
           0,
           0,
           0,
           0,
           0,
           0,
           0,
           0,
           0,
           0,
           0,
           0,
           0,
           0,
           0,
           0,
           0,
           0,
           0,
           0,
           0,
           0,
           1,
           2,
           2,
           2,
           3,
           3,
           4,
           4,
           4,
           7,
           7,
           9,
           10,
           15,
           17,
           19,
           27,
           31,
           35,
           41,
           53,
           62,
           75,
           77
          ],
          "coloraxis": "coloraxis"
         },
         "name": "",
         "offsetgroup": "",
         "orientation": "v",
         "showlegend": false,
         "textposition": "auto",
         "type": "bar",
         "x": [
          "2020-01-30T00:00:00",
          "2020-01-31T00:00:00",
          "2020-02-01T00:00:00",
          "2020-02-02T00:00:00",
          "2020-02-03T00:00:00",
          "2020-02-04T00:00:00",
          "2020-02-05T00:00:00",
          "2020-02-06T00:00:00",
          "2020-02-07T00:00:00",
          "2020-02-08T00:00:00",
          "2020-02-09T00:00:00",
          "2020-02-10T00:00:00",
          "2020-02-11T00:00:00",
          "2020-02-12T00:00:00",
          "2020-02-13T00:00:00",
          "2020-02-14T00:00:00",
          "2020-02-15T00:00:00",
          "2020-02-16T00:00:00",
          "2020-02-17T00:00:00",
          "2020-02-18T00:00:00",
          "2020-02-19T00:00:00",
          "2020-02-20T00:00:00",
          "2020-02-21T00:00:00",
          "2020-02-22T00:00:00",
          "2020-02-23T00:00:00",
          "2020-02-24T00:00:00",
          "2020-02-25T00:00:00",
          "2020-02-26T00:00:00",
          "2020-02-27T00:00:00",
          "2020-02-28T00:00:00",
          "2020-02-29T00:00:00",
          "2020-03-01T00:00:00",
          "2020-03-02T00:00:00",
          "2020-03-03T00:00:00",
          "2020-03-04T00:00:00",
          "2020-03-05T00:00:00",
          "2020-03-06T00:00:00",
          "2020-03-07T00:00:00",
          "2020-03-08T00:00:00",
          "2020-03-09T00:00:00",
          "2020-03-10T00:00:00",
          "2020-03-11T00:00:00",
          "2020-03-12T00:00:00",
          "2020-03-13T00:00:00",
          "2020-03-14T00:00:00",
          "2020-03-15T00:00:00",
          "2020-03-16T00:00:00",
          "2020-03-17T00:00:00",
          "2020-03-18T00:00:00",
          "2020-03-19T00:00:00",
          "2020-03-20T00:00:00",
          "2020-03-21T00:00:00",
          "2020-03-22T00:00:00",
          "2020-03-23T00:00:00",
          "2020-03-24T00:00:00",
          "2020-03-25T00:00:00",
          "2020-03-26T00:00:00",
          "2020-03-27T00:00:00",
          "2020-03-28T00:00:00",
          "2020-03-29T00:00:00",
          "2020-03-30T00:00:00",
          "2020-03-31T00:00:00",
          "2020-04-01T00:00:00",
          "2020-04-02T00:00:00",
          "2020-04-03T00:00:00",
          "2020-04-04T00:00:00",
          "2020-04-05T00:00:00"
         ],
         "xaxis": "x",
         "y": [
          0,
          0,
          0,
          0,
          0,
          0,
          0,
          0,
          0,
          0,
          0,
          0,
          0,
          0,
          0,
          0,
          0,
          0,
          0,
          0,
          0,
          0,
          0,
          0,
          0,
          0,
          0,
          0,
          0,
          0,
          0,
          0,
          0,
          0,
          0,
          0,
          0,
          0,
          0,
          0,
          0,
          0,
          0,
          1,
          2,
          2,
          2,
          3,
          3,
          4,
          4,
          4,
          7,
          7,
          9,
          10,
          15,
          17,
          19,
          27,
          31,
          35,
          41,
          53,
          62,
          75,
          77
         ],
         "yaxis": "y"
        }
       ],
       "layout": {
        "barmode": "relative",
        "coloraxis": {
         "colorbar": {
          "title": {
           "text": "Deaths"
          }
         },
         "colorscale": [
          [
           0,
           "#0d0887"
          ],
          [
           0.1111111111111111,
           "#46039f"
          ],
          [
           0.2222222222222222,
           "#7201a8"
          ],
          [
           0.3333333333333333,
           "#9c179e"
          ],
          [
           0.4444444444444444,
           "#bd3786"
          ],
          [
           0.5555555555555556,
           "#d8576b"
          ],
          [
           0.6666666666666666,
           "#ed7953"
          ],
          [
           0.7777777777777778,
           "#fb9f3a"
          ],
          [
           0.8888888888888888,
           "#fdca26"
          ],
          [
           1,
           "#f0f921"
          ]
         ]
        },
        "font": {
         "color": "black",
         "family": "Courier New, monospace",
         "size": 18
        },
        "legend": {
         "tracegroupgap": 0
        },
        "margin": {
         "t": 60
        },
        "template": {
         "data": {
          "bar": [
           {
            "error_x": {
             "color": "#2a3f5f"
            },
            "error_y": {
             "color": "#2a3f5f"
            },
            "marker": {
             "line": {
              "color": "#E5ECF6",
              "width": 0.5
             }
            },
            "type": "bar"
           }
          ],
          "barpolar": [
           {
            "marker": {
             "line": {
              "color": "#E5ECF6",
              "width": 0.5
             }
            },
            "type": "barpolar"
           }
          ],
          "carpet": [
           {
            "aaxis": {
             "endlinecolor": "#2a3f5f",
             "gridcolor": "white",
             "linecolor": "white",
             "minorgridcolor": "white",
             "startlinecolor": "#2a3f5f"
            },
            "baxis": {
             "endlinecolor": "#2a3f5f",
             "gridcolor": "white",
             "linecolor": "white",
             "minorgridcolor": "white",
             "startlinecolor": "#2a3f5f"
            },
            "type": "carpet"
           }
          ],
          "choropleth": [
           {
            "colorbar": {
             "outlinewidth": 0,
             "ticks": ""
            },
            "type": "choropleth"
           }
          ],
          "contour": [
           {
            "colorbar": {
             "outlinewidth": 0,
             "ticks": ""
            },
            "colorscale": [
             [
              0,
              "#0d0887"
             ],
             [
              0.1111111111111111,
              "#46039f"
             ],
             [
              0.2222222222222222,
              "#7201a8"
             ],
             [
              0.3333333333333333,
              "#9c179e"
             ],
             [
              0.4444444444444444,
              "#bd3786"
             ],
             [
              0.5555555555555556,
              "#d8576b"
             ],
             [
              0.6666666666666666,
              "#ed7953"
             ],
             [
              0.7777777777777778,
              "#fb9f3a"
             ],
             [
              0.8888888888888888,
              "#fdca26"
             ],
             [
              1,
              "#f0f921"
             ]
            ],
            "type": "contour"
           }
          ],
          "contourcarpet": [
           {
            "colorbar": {
             "outlinewidth": 0,
             "ticks": ""
            },
            "type": "contourcarpet"
           }
          ],
          "heatmap": [
           {
            "colorbar": {
             "outlinewidth": 0,
             "ticks": ""
            },
            "colorscale": [
             [
              0,
              "#0d0887"
             ],
             [
              0.1111111111111111,
              "#46039f"
             ],
             [
              0.2222222222222222,
              "#7201a8"
             ],
             [
              0.3333333333333333,
              "#9c179e"
             ],
             [
              0.4444444444444444,
              "#bd3786"
             ],
             [
              0.5555555555555556,
              "#d8576b"
             ],
             [
              0.6666666666666666,
              "#ed7953"
             ],
             [
              0.7777777777777778,
              "#fb9f3a"
             ],
             [
              0.8888888888888888,
              "#fdca26"
             ],
             [
              1,
              "#f0f921"
             ]
            ],
            "type": "heatmap"
           }
          ],
          "heatmapgl": [
           {
            "colorbar": {
             "outlinewidth": 0,
             "ticks": ""
            },
            "colorscale": [
             [
              0,
              "#0d0887"
             ],
             [
              0.1111111111111111,
              "#46039f"
             ],
             [
              0.2222222222222222,
              "#7201a8"
             ],
             [
              0.3333333333333333,
              "#9c179e"
             ],
             [
              0.4444444444444444,
              "#bd3786"
             ],
             [
              0.5555555555555556,
              "#d8576b"
             ],
             [
              0.6666666666666666,
              "#ed7953"
             ],
             [
              0.7777777777777778,
              "#fb9f3a"
             ],
             [
              0.8888888888888888,
              "#fdca26"
             ],
             [
              1,
              "#f0f921"
             ]
            ],
            "type": "heatmapgl"
           }
          ],
          "histogram": [
           {
            "marker": {
             "colorbar": {
              "outlinewidth": 0,
              "ticks": ""
             }
            },
            "type": "histogram"
           }
          ],
          "histogram2d": [
           {
            "colorbar": {
             "outlinewidth": 0,
             "ticks": ""
            },
            "colorscale": [
             [
              0,
              "#0d0887"
             ],
             [
              0.1111111111111111,
              "#46039f"
             ],
             [
              0.2222222222222222,
              "#7201a8"
             ],
             [
              0.3333333333333333,
              "#9c179e"
             ],
             [
              0.4444444444444444,
              "#bd3786"
             ],
             [
              0.5555555555555556,
              "#d8576b"
             ],
             [
              0.6666666666666666,
              "#ed7953"
             ],
             [
              0.7777777777777778,
              "#fb9f3a"
             ],
             [
              0.8888888888888888,
              "#fdca26"
             ],
             [
              1,
              "#f0f921"
             ]
            ],
            "type": "histogram2d"
           }
          ],
          "histogram2dcontour": [
           {
            "colorbar": {
             "outlinewidth": 0,
             "ticks": ""
            },
            "colorscale": [
             [
              0,
              "#0d0887"
             ],
             [
              0.1111111111111111,
              "#46039f"
             ],
             [
              0.2222222222222222,
              "#7201a8"
             ],
             [
              0.3333333333333333,
              "#9c179e"
             ],
             [
              0.4444444444444444,
              "#bd3786"
             ],
             [
              0.5555555555555556,
              "#d8576b"
             ],
             [
              0.6666666666666666,
              "#ed7953"
             ],
             [
              0.7777777777777778,
              "#fb9f3a"
             ],
             [
              0.8888888888888888,
              "#fdca26"
             ],
             [
              1,
              "#f0f921"
             ]
            ],
            "type": "histogram2dcontour"
           }
          ],
          "mesh3d": [
           {
            "colorbar": {
             "outlinewidth": 0,
             "ticks": ""
            },
            "type": "mesh3d"
           }
          ],
          "parcoords": [
           {
            "line": {
             "colorbar": {
              "outlinewidth": 0,
              "ticks": ""
             }
            },
            "type": "parcoords"
           }
          ],
          "pie": [
           {
            "automargin": true,
            "type": "pie"
           }
          ],
          "scatter": [
           {
            "marker": {
             "colorbar": {
              "outlinewidth": 0,
              "ticks": ""
             }
            },
            "type": "scatter"
           }
          ],
          "scatter3d": [
           {
            "line": {
             "colorbar": {
              "outlinewidth": 0,
              "ticks": ""
             }
            },
            "marker": {
             "colorbar": {
              "outlinewidth": 0,
              "ticks": ""
             }
            },
            "type": "scatter3d"
           }
          ],
          "scattercarpet": [
           {
            "marker": {
             "colorbar": {
              "outlinewidth": 0,
              "ticks": ""
             }
            },
            "type": "scattercarpet"
           }
          ],
          "scattergeo": [
           {
            "marker": {
             "colorbar": {
              "outlinewidth": 0,
              "ticks": ""
             }
            },
            "type": "scattergeo"
           }
          ],
          "scattergl": [
           {
            "marker": {
             "colorbar": {
              "outlinewidth": 0,
              "ticks": ""
             }
            },
            "type": "scattergl"
           }
          ],
          "scattermapbox": [
           {
            "marker": {
             "colorbar": {
              "outlinewidth": 0,
              "ticks": ""
             }
            },
            "type": "scattermapbox"
           }
          ],
          "scatterpolar": [
           {
            "marker": {
             "colorbar": {
              "outlinewidth": 0,
              "ticks": ""
             }
            },
            "type": "scatterpolar"
           }
          ],
          "scatterpolargl": [
           {
            "marker": {
             "colorbar": {
              "outlinewidth": 0,
              "ticks": ""
             }
            },
            "type": "scatterpolargl"
           }
          ],
          "scatterternary": [
           {
            "marker": {
             "colorbar": {
              "outlinewidth": 0,
              "ticks": ""
             }
            },
            "type": "scatterternary"
           }
          ],
          "surface": [
           {
            "colorbar": {
             "outlinewidth": 0,
             "ticks": ""
            },
            "colorscale": [
             [
              0,
              "#0d0887"
             ],
             [
              0.1111111111111111,
              "#46039f"
             ],
             [
              0.2222222222222222,
              "#7201a8"
             ],
             [
              0.3333333333333333,
              "#9c179e"
             ],
             [
              0.4444444444444444,
              "#bd3786"
             ],
             [
              0.5555555555555556,
              "#d8576b"
             ],
             [
              0.6666666666666666,
              "#ed7953"
             ],
             [
              0.7777777777777778,
              "#fb9f3a"
             ],
             [
              0.8888888888888888,
              "#fdca26"
             ],
             [
              1,
              "#f0f921"
             ]
            ],
            "type": "surface"
           }
          ],
          "table": [
           {
            "cells": {
             "fill": {
              "color": "#EBF0F8"
             },
             "line": {
              "color": "white"
             }
            },
            "header": {
             "fill": {
              "color": "#C8D4E3"
             },
             "line": {
              "color": "white"
             }
            },
            "type": "table"
           }
          ]
         },
         "layout": {
          "annotationdefaults": {
           "arrowcolor": "#2a3f5f",
           "arrowhead": 0,
           "arrowwidth": 1
          },
          "coloraxis": {
           "colorbar": {
            "outlinewidth": 0,
            "ticks": ""
           }
          },
          "colorscale": {
           "diverging": [
            [
             0,
             "#8e0152"
            ],
            [
             0.1,
             "#c51b7d"
            ],
            [
             0.2,
             "#de77ae"
            ],
            [
             0.3,
             "#f1b6da"
            ],
            [
             0.4,
             "#fde0ef"
            ],
            [
             0.5,
             "#f7f7f7"
            ],
            [
             0.6,
             "#e6f5d0"
            ],
            [
             0.7,
             "#b8e186"
            ],
            [
             0.8,
             "#7fbc41"
            ],
            [
             0.9,
             "#4d9221"
            ],
            [
             1,
             "#276419"
            ]
           ],
           "sequential": [
            [
             0,
             "#0d0887"
            ],
            [
             0.1111111111111111,
             "#46039f"
            ],
            [
             0.2222222222222222,
             "#7201a8"
            ],
            [
             0.3333333333333333,
             "#9c179e"
            ],
            [
             0.4444444444444444,
             "#bd3786"
            ],
            [
             0.5555555555555556,
             "#d8576b"
            ],
            [
             0.6666666666666666,
             "#ed7953"
            ],
            [
             0.7777777777777778,
             "#fb9f3a"
            ],
            [
             0.8888888888888888,
             "#fdca26"
            ],
            [
             1,
             "#f0f921"
            ]
           ],
           "sequentialminus": [
            [
             0,
             "#0d0887"
            ],
            [
             0.1111111111111111,
             "#46039f"
            ],
            [
             0.2222222222222222,
             "#7201a8"
            ],
            [
             0.3333333333333333,
             "#9c179e"
            ],
            [
             0.4444444444444444,
             "#bd3786"
            ],
            [
             0.5555555555555556,
             "#d8576b"
            ],
            [
             0.6666666666666666,
             "#ed7953"
            ],
            [
             0.7777777777777778,
             "#fb9f3a"
            ],
            [
             0.8888888888888888,
             "#fdca26"
            ],
            [
             1,
             "#f0f921"
            ]
           ]
          },
          "colorway": [
           "#636efa",
           "#EF553B",
           "#00cc96",
           "#ab63fa",
           "#FFA15A",
           "#19d3f3",
           "#FF6692",
           "#B6E880",
           "#FF97FF",
           "#FECB52"
          ],
          "font": {
           "color": "#2a3f5f"
          },
          "geo": {
           "bgcolor": "white",
           "lakecolor": "white",
           "landcolor": "#E5ECF6",
           "showlakes": true,
           "showland": true,
           "subunitcolor": "white"
          },
          "hoverlabel": {
           "align": "left"
          },
          "hovermode": "closest",
          "mapbox": {
           "style": "light"
          },
          "paper_bgcolor": "white",
          "plot_bgcolor": "#E5ECF6",
          "polar": {
           "angularaxis": {
            "gridcolor": "white",
            "linecolor": "white",
            "ticks": ""
           },
           "bgcolor": "#E5ECF6",
           "radialaxis": {
            "gridcolor": "white",
            "linecolor": "white",
            "ticks": ""
           }
          },
          "scene": {
           "xaxis": {
            "backgroundcolor": "#E5ECF6",
            "gridcolor": "white",
            "gridwidth": 2,
            "linecolor": "white",
            "showbackground": true,
            "ticks": "",
            "zerolinecolor": "white"
           },
           "yaxis": {
            "backgroundcolor": "#E5ECF6",
            "gridcolor": "white",
            "gridwidth": 2,
            "linecolor": "white",
            "showbackground": true,
            "ticks": "",
            "zerolinecolor": "white"
           },
           "zaxis": {
            "backgroundcolor": "#E5ECF6",
            "gridcolor": "white",
            "gridwidth": 2,
            "linecolor": "white",
            "showbackground": true,
            "ticks": "",
            "zerolinecolor": "white"
           }
          },
          "shapedefaults": {
           "line": {
            "color": "#2a3f5f"
           }
          },
          "ternary": {
           "aaxis": {
            "gridcolor": "white",
            "linecolor": "white",
            "ticks": ""
           },
           "baxis": {
            "gridcolor": "white",
            "linecolor": "white",
            "ticks": ""
           },
           "bgcolor": "#E5ECF6",
           "caxis": {
            "gridcolor": "white",
            "linecolor": "white",
            "ticks": ""
           }
          },
          "title": {
           "x": 0.05
          },
          "xaxis": {
           "automargin": true,
           "gridcolor": "white",
           "linecolor": "white",
           "ticks": "",
           "title": {
            "standoff": 15
           },
           "zerolinecolor": "white",
           "zerolinewidth": 2
          },
          "yaxis": {
           "automargin": true,
           "gridcolor": "white",
           "linecolor": "white",
           "ticks": "",
           "title": {
            "standoff": 15
           },
           "zerolinecolor": "white",
           "zerolinewidth": 2
          }
         }
        },
        "title": {
         "text": "Deaths"
        },
        "xaxis": {
         "anchor": "y",
         "domain": [
          0,
          1
         ],
         "title": {
          "text": "Date"
         }
        },
        "yaxis": {
         "anchor": "x",
         "domain": [
          0,
          1
         ],
         "title": {
          "text": "Deaths"
         }
        }
       }
      },
      "text/html": [
       "<div>\n",
       "        \n",
       "        \n",
       "            <div id=\"e0fdafe0-14aa-4950-8843-e2da9caf7afa\" class=\"plotly-graph-div\" style=\"height:525px; width:100%;\"></div>\n",
       "            <script type=\"text/javascript\">\n",
       "                require([\"plotly\"], function(Plotly) {\n",
       "                    window.PLOTLYENV=window.PLOTLYENV || {};\n",
       "                    \n",
       "                if (document.getElementById(\"e0fdafe0-14aa-4950-8843-e2da9caf7afa\")) {\n",
       "                    Plotly.newPlot(\n",
       "                        'e0fdafe0-14aa-4950-8843-e2da9caf7afa',\n",
       "                        [{\"alignmentgroup\": \"True\", \"hovertemplate\": \"Date=%{x}<br>Deaths=%{marker.color}<extra></extra>\", \"legendgroup\": \"\", \"marker\": {\"color\": [0, 0, 0, 0, 0, 0, 0, 0, 0, 0, 0, 0, 0, 0, 0, 0, 0, 0, 0, 0, 0, 0, 0, 0, 0, 0, 0, 0, 0, 0, 0, 0, 0, 0, 0, 0, 0, 0, 0, 0, 0, 0, 0, 1, 2, 2, 2, 3, 3, 4, 4, 4, 7, 7, 9, 10, 15, 17, 19, 27, 31, 35, 41, 53, 62, 75, 77], \"coloraxis\": \"coloraxis\"}, \"name\": \"\", \"offsetgroup\": \"\", \"orientation\": \"v\", \"showlegend\": false, \"textposition\": \"auto\", \"type\": \"bar\", \"x\": [\"2020-01-30T00:00:00\", \"2020-01-31T00:00:00\", \"2020-02-01T00:00:00\", \"2020-02-02T00:00:00\", \"2020-02-03T00:00:00\", \"2020-02-04T00:00:00\", \"2020-02-05T00:00:00\", \"2020-02-06T00:00:00\", \"2020-02-07T00:00:00\", \"2020-02-08T00:00:00\", \"2020-02-09T00:00:00\", \"2020-02-10T00:00:00\", \"2020-02-11T00:00:00\", \"2020-02-12T00:00:00\", \"2020-02-13T00:00:00\", \"2020-02-14T00:00:00\", \"2020-02-15T00:00:00\", \"2020-02-16T00:00:00\", \"2020-02-17T00:00:00\", \"2020-02-18T00:00:00\", \"2020-02-19T00:00:00\", \"2020-02-20T00:00:00\", \"2020-02-21T00:00:00\", \"2020-02-22T00:00:00\", \"2020-02-23T00:00:00\", \"2020-02-24T00:00:00\", \"2020-02-25T00:00:00\", \"2020-02-26T00:00:00\", \"2020-02-27T00:00:00\", \"2020-02-28T00:00:00\", \"2020-02-29T00:00:00\", \"2020-03-01T00:00:00\", \"2020-03-02T00:00:00\", \"2020-03-03T00:00:00\", \"2020-03-04T00:00:00\", \"2020-03-05T00:00:00\", \"2020-03-06T00:00:00\", \"2020-03-07T00:00:00\", \"2020-03-08T00:00:00\", \"2020-03-09T00:00:00\", \"2020-03-10T00:00:00\", \"2020-03-11T00:00:00\", \"2020-03-12T00:00:00\", \"2020-03-13T00:00:00\", \"2020-03-14T00:00:00\", \"2020-03-15T00:00:00\", \"2020-03-16T00:00:00\", \"2020-03-17T00:00:00\", \"2020-03-18T00:00:00\", \"2020-03-19T00:00:00\", \"2020-03-20T00:00:00\", \"2020-03-21T00:00:00\", \"2020-03-22T00:00:00\", \"2020-03-23T00:00:00\", \"2020-03-24T00:00:00\", \"2020-03-25T00:00:00\", \"2020-03-26T00:00:00\", \"2020-03-27T00:00:00\", \"2020-03-28T00:00:00\", \"2020-03-29T00:00:00\", \"2020-03-30T00:00:00\", \"2020-03-31T00:00:00\", \"2020-04-01T00:00:00\", \"2020-04-02T00:00:00\", \"2020-04-03T00:00:00\", \"2020-04-04T00:00:00\", \"2020-04-05T00:00:00\"], \"xaxis\": \"x\", \"y\": [0, 0, 0, 0, 0, 0, 0, 0, 0, 0, 0, 0, 0, 0, 0, 0, 0, 0, 0, 0, 0, 0, 0, 0, 0, 0, 0, 0, 0, 0, 0, 0, 0, 0, 0, 0, 0, 0, 0, 0, 0, 0, 0, 1, 2, 2, 2, 3, 3, 4, 4, 4, 7, 7, 9, 10, 15, 17, 19, 27, 31, 35, 41, 53, 62, 75, 77], \"yaxis\": \"y\"}],\n",
       "                        {\"barmode\": \"relative\", \"coloraxis\": {\"colorbar\": {\"title\": {\"text\": \"Deaths\"}}, \"colorscale\": [[0.0, \"#0d0887\"], [0.1111111111111111, \"#46039f\"], [0.2222222222222222, \"#7201a8\"], [0.3333333333333333, \"#9c179e\"], [0.4444444444444444, \"#bd3786\"], [0.5555555555555556, \"#d8576b\"], [0.6666666666666666, \"#ed7953\"], [0.7777777777777778, \"#fb9f3a\"], [0.8888888888888888, \"#fdca26\"], [1.0, \"#f0f921\"]]}, \"font\": {\"color\": \"black\", \"family\": \"Courier New, monospace\", \"size\": 18}, \"legend\": {\"tracegroupgap\": 0}, \"margin\": {\"t\": 60}, \"template\": {\"data\": {\"bar\": [{\"error_x\": {\"color\": \"#2a3f5f\"}, \"error_y\": {\"color\": \"#2a3f5f\"}, \"marker\": {\"line\": {\"color\": \"#E5ECF6\", \"width\": 0.5}}, \"type\": \"bar\"}], \"barpolar\": [{\"marker\": {\"line\": {\"color\": \"#E5ECF6\", \"width\": 0.5}}, \"type\": \"barpolar\"}], \"carpet\": [{\"aaxis\": {\"endlinecolor\": \"#2a3f5f\", \"gridcolor\": \"white\", \"linecolor\": \"white\", \"minorgridcolor\": \"white\", \"startlinecolor\": \"#2a3f5f\"}, \"baxis\": {\"endlinecolor\": \"#2a3f5f\", \"gridcolor\": \"white\", \"linecolor\": \"white\", \"minorgridcolor\": \"white\", \"startlinecolor\": \"#2a3f5f\"}, \"type\": \"carpet\"}], \"choropleth\": [{\"colorbar\": {\"outlinewidth\": 0, \"ticks\": \"\"}, \"type\": \"choropleth\"}], \"contour\": [{\"colorbar\": {\"outlinewidth\": 0, \"ticks\": \"\"}, \"colorscale\": [[0.0, \"#0d0887\"], [0.1111111111111111, \"#46039f\"], [0.2222222222222222, \"#7201a8\"], [0.3333333333333333, \"#9c179e\"], [0.4444444444444444, \"#bd3786\"], [0.5555555555555556, \"#d8576b\"], [0.6666666666666666, \"#ed7953\"], [0.7777777777777778, \"#fb9f3a\"], [0.8888888888888888, \"#fdca26\"], [1.0, \"#f0f921\"]], \"type\": \"contour\"}], \"contourcarpet\": [{\"colorbar\": {\"outlinewidth\": 0, \"ticks\": \"\"}, \"type\": \"contourcarpet\"}], \"heatmap\": [{\"colorbar\": {\"outlinewidth\": 0, \"ticks\": \"\"}, \"colorscale\": [[0.0, \"#0d0887\"], [0.1111111111111111, \"#46039f\"], [0.2222222222222222, \"#7201a8\"], [0.3333333333333333, \"#9c179e\"], [0.4444444444444444, \"#bd3786\"], [0.5555555555555556, \"#d8576b\"], [0.6666666666666666, \"#ed7953\"], [0.7777777777777778, \"#fb9f3a\"], [0.8888888888888888, \"#fdca26\"], [1.0, \"#f0f921\"]], \"type\": \"heatmap\"}], \"heatmapgl\": [{\"colorbar\": {\"outlinewidth\": 0, \"ticks\": \"\"}, \"colorscale\": [[0.0, \"#0d0887\"], [0.1111111111111111, \"#46039f\"], [0.2222222222222222, \"#7201a8\"], [0.3333333333333333, \"#9c179e\"], [0.4444444444444444, \"#bd3786\"], [0.5555555555555556, \"#d8576b\"], [0.6666666666666666, \"#ed7953\"], [0.7777777777777778, \"#fb9f3a\"], [0.8888888888888888, \"#fdca26\"], [1.0, \"#f0f921\"]], \"type\": \"heatmapgl\"}], \"histogram\": [{\"marker\": {\"colorbar\": {\"outlinewidth\": 0, \"ticks\": \"\"}}, \"type\": \"histogram\"}], \"histogram2d\": [{\"colorbar\": {\"outlinewidth\": 0, \"ticks\": \"\"}, \"colorscale\": [[0.0, \"#0d0887\"], [0.1111111111111111, \"#46039f\"], [0.2222222222222222, \"#7201a8\"], [0.3333333333333333, \"#9c179e\"], [0.4444444444444444, \"#bd3786\"], [0.5555555555555556, \"#d8576b\"], [0.6666666666666666, \"#ed7953\"], [0.7777777777777778, \"#fb9f3a\"], [0.8888888888888888, \"#fdca26\"], [1.0, \"#f0f921\"]], \"type\": \"histogram2d\"}], \"histogram2dcontour\": [{\"colorbar\": {\"outlinewidth\": 0, \"ticks\": \"\"}, \"colorscale\": [[0.0, \"#0d0887\"], [0.1111111111111111, \"#46039f\"], [0.2222222222222222, \"#7201a8\"], [0.3333333333333333, \"#9c179e\"], [0.4444444444444444, \"#bd3786\"], [0.5555555555555556, \"#d8576b\"], [0.6666666666666666, \"#ed7953\"], [0.7777777777777778, \"#fb9f3a\"], [0.8888888888888888, \"#fdca26\"], [1.0, \"#f0f921\"]], \"type\": \"histogram2dcontour\"}], \"mesh3d\": [{\"colorbar\": {\"outlinewidth\": 0, \"ticks\": \"\"}, \"type\": \"mesh3d\"}], \"parcoords\": [{\"line\": {\"colorbar\": {\"outlinewidth\": 0, \"ticks\": \"\"}}, \"type\": \"parcoords\"}], \"pie\": [{\"automargin\": true, \"type\": \"pie\"}], \"scatter\": [{\"marker\": {\"colorbar\": {\"outlinewidth\": 0, \"ticks\": \"\"}}, \"type\": \"scatter\"}], \"scatter3d\": [{\"line\": {\"colorbar\": {\"outlinewidth\": 0, \"ticks\": \"\"}}, \"marker\": {\"colorbar\": {\"outlinewidth\": 0, \"ticks\": \"\"}}, \"type\": \"scatter3d\"}], \"scattercarpet\": [{\"marker\": {\"colorbar\": {\"outlinewidth\": 0, \"ticks\": \"\"}}, \"type\": \"scattercarpet\"}], \"scattergeo\": [{\"marker\": {\"colorbar\": {\"outlinewidth\": 0, \"ticks\": \"\"}}, \"type\": \"scattergeo\"}], \"scattergl\": [{\"marker\": {\"colorbar\": {\"outlinewidth\": 0, \"ticks\": \"\"}}, \"type\": \"scattergl\"}], \"scattermapbox\": [{\"marker\": {\"colorbar\": {\"outlinewidth\": 0, \"ticks\": \"\"}}, \"type\": \"scattermapbox\"}], \"scatterpolar\": [{\"marker\": {\"colorbar\": {\"outlinewidth\": 0, \"ticks\": \"\"}}, \"type\": \"scatterpolar\"}], \"scatterpolargl\": [{\"marker\": {\"colorbar\": {\"outlinewidth\": 0, \"ticks\": \"\"}}, \"type\": \"scatterpolargl\"}], \"scatterternary\": [{\"marker\": {\"colorbar\": {\"outlinewidth\": 0, \"ticks\": \"\"}}, \"type\": \"scatterternary\"}], \"surface\": [{\"colorbar\": {\"outlinewidth\": 0, \"ticks\": \"\"}, \"colorscale\": [[0.0, \"#0d0887\"], [0.1111111111111111, \"#46039f\"], [0.2222222222222222, \"#7201a8\"], [0.3333333333333333, \"#9c179e\"], [0.4444444444444444, \"#bd3786\"], [0.5555555555555556, \"#d8576b\"], [0.6666666666666666, \"#ed7953\"], [0.7777777777777778, \"#fb9f3a\"], [0.8888888888888888, \"#fdca26\"], [1.0, \"#f0f921\"]], \"type\": \"surface\"}], \"table\": [{\"cells\": {\"fill\": {\"color\": \"#EBF0F8\"}, \"line\": {\"color\": \"white\"}}, \"header\": {\"fill\": {\"color\": \"#C8D4E3\"}, \"line\": {\"color\": \"white\"}}, \"type\": \"table\"}]}, \"layout\": {\"annotationdefaults\": {\"arrowcolor\": \"#2a3f5f\", \"arrowhead\": 0, \"arrowwidth\": 1}, \"coloraxis\": {\"colorbar\": {\"outlinewidth\": 0, \"ticks\": \"\"}}, \"colorscale\": {\"diverging\": [[0, \"#8e0152\"], [0.1, \"#c51b7d\"], [0.2, \"#de77ae\"], [0.3, \"#f1b6da\"], [0.4, \"#fde0ef\"], [0.5, \"#f7f7f7\"], [0.6, \"#e6f5d0\"], [0.7, \"#b8e186\"], [0.8, \"#7fbc41\"], [0.9, \"#4d9221\"], [1, \"#276419\"]], \"sequential\": [[0.0, \"#0d0887\"], [0.1111111111111111, \"#46039f\"], [0.2222222222222222, \"#7201a8\"], [0.3333333333333333, \"#9c179e\"], [0.4444444444444444, \"#bd3786\"], [0.5555555555555556, \"#d8576b\"], [0.6666666666666666, \"#ed7953\"], [0.7777777777777778, \"#fb9f3a\"], [0.8888888888888888, \"#fdca26\"], [1.0, \"#f0f921\"]], \"sequentialminus\": [[0.0, \"#0d0887\"], [0.1111111111111111, \"#46039f\"], [0.2222222222222222, \"#7201a8\"], [0.3333333333333333, \"#9c179e\"], [0.4444444444444444, \"#bd3786\"], [0.5555555555555556, \"#d8576b\"], [0.6666666666666666, \"#ed7953\"], [0.7777777777777778, \"#fb9f3a\"], [0.8888888888888888, \"#fdca26\"], [1.0, \"#f0f921\"]]}, \"colorway\": [\"#636efa\", \"#EF553B\", \"#00cc96\", \"#ab63fa\", \"#FFA15A\", \"#19d3f3\", \"#FF6692\", \"#B6E880\", \"#FF97FF\", \"#FECB52\"], \"font\": {\"color\": \"#2a3f5f\"}, \"geo\": {\"bgcolor\": \"white\", \"lakecolor\": \"white\", \"landcolor\": \"#E5ECF6\", \"showlakes\": true, \"showland\": true, \"subunitcolor\": \"white\"}, \"hoverlabel\": {\"align\": \"left\"}, \"hovermode\": \"closest\", \"mapbox\": {\"style\": \"light\"}, \"paper_bgcolor\": \"white\", \"plot_bgcolor\": \"#E5ECF6\", \"polar\": {\"angularaxis\": {\"gridcolor\": \"white\", \"linecolor\": \"white\", \"ticks\": \"\"}, \"bgcolor\": \"#E5ECF6\", \"radialaxis\": {\"gridcolor\": \"white\", \"linecolor\": \"white\", \"ticks\": \"\"}}, \"scene\": {\"xaxis\": {\"backgroundcolor\": \"#E5ECF6\", \"gridcolor\": \"white\", \"gridwidth\": 2, \"linecolor\": \"white\", \"showbackground\": true, \"ticks\": \"\", \"zerolinecolor\": \"white\"}, \"yaxis\": {\"backgroundcolor\": \"#E5ECF6\", \"gridcolor\": \"white\", \"gridwidth\": 2, \"linecolor\": \"white\", \"showbackground\": true, \"ticks\": \"\", \"zerolinecolor\": \"white\"}, \"zaxis\": {\"backgroundcolor\": \"#E5ECF6\", \"gridcolor\": \"white\", \"gridwidth\": 2, \"linecolor\": \"white\", \"showbackground\": true, \"ticks\": \"\", \"zerolinecolor\": \"white\"}}, \"shapedefaults\": {\"line\": {\"color\": \"#2a3f5f\"}}, \"ternary\": {\"aaxis\": {\"gridcolor\": \"white\", \"linecolor\": \"white\", \"ticks\": \"\"}, \"baxis\": {\"gridcolor\": \"white\", \"linecolor\": \"white\", \"ticks\": \"\"}, \"bgcolor\": \"#E5ECF6\", \"caxis\": {\"gridcolor\": \"white\", \"linecolor\": \"white\", \"ticks\": \"\"}}, \"title\": {\"x\": 0.05}, \"xaxis\": {\"automargin\": true, \"gridcolor\": \"white\", \"linecolor\": \"white\", \"ticks\": \"\", \"title\": {\"standoff\": 15}, \"zerolinecolor\": \"white\", \"zerolinewidth\": 2}, \"yaxis\": {\"automargin\": true, \"gridcolor\": \"white\", \"linecolor\": \"white\", \"ticks\": \"\", \"title\": {\"standoff\": 15}, \"zerolinecolor\": \"white\", \"zerolinewidth\": 2}}}, \"title\": {\"text\": \"Deaths\"}, \"xaxis\": {\"anchor\": \"y\", \"domain\": [0.0, 1.0], \"title\": {\"text\": \"Date\"}}, \"yaxis\": {\"anchor\": \"x\", \"domain\": [0.0, 1.0], \"title\": {\"text\": \"Deaths\"}}},\n",
       "                        {\"responsive\": true}\n",
       "                    ).then(function(){\n",
       "                            \n",
       "var gd = document.getElementById('e0fdafe0-14aa-4950-8843-e2da9caf7afa');\n",
       "var x = new MutationObserver(function (mutations, observer) {{\n",
       "        var display = window.getComputedStyle(gd).display;\n",
       "        if (!display || display === 'none') {{\n",
       "            console.log([gd, 'removed!']);\n",
       "            Plotly.purge(gd);\n",
       "            observer.disconnect();\n",
       "        }}\n",
       "}});\n",
       "\n",
       "// Listen for the removal of the full notebook cells\n",
       "var notebookContainer = gd.closest('#notebook-container');\n",
       "if (notebookContainer) {{\n",
       "    x.observe(notebookContainer, {childList: true});\n",
       "}}\n",
       "\n",
       "// Listen for the clearing of the current output cell\n",
       "var outputEl = gd.closest('.output');\n",
       "if (outputEl) {{\n",
       "    x.observe(outputEl, {childList: true});\n",
       "}}\n",
       "\n",
       "                        })\n",
       "                };\n",
       "                });\n",
       "            </script>\n",
       "        </div>"
      ]
     },
     "metadata": {},
     "output_type": "display_data"
    }
   ],
   "source": [
    "fig = px.bar(date_group, x='Date', y='Deaths', color='Deaths')\n",
    "\n",
    "fig.update_layout(\n",
    "    title=\"Deaths\",    \n",
    "    font=dict(\n",
    "        family=\"Courier New, monospace\",\n",
    "        size=18,\n",
    "        color=\"black\"\n",
    "    )\n",
    ")\n",
    "\n",
    "fig.show()"
   ]
  },
  {
   "cell_type": "markdown",
   "metadata": {},
   "source": [
    "## Cured"
   ]
  },
  {
   "cell_type": "code",
   "execution_count": 5,
   "metadata": {
    "ExecuteTime": {
     "end_time": "2020-04-05T13:37:05.280755Z",
     "start_time": "2020-04-05T13:37:05.024756Z"
    },
    "hide_input": true,
    "jupyter": {
     "source_hidden": true
    }
   },
   "outputs": [
    {
     "data": {
      "application/vnd.plotly.v1+json": {
       "config": {
        "plotlyServerURL": "https://plot.ly"
       },
       "data": [
        {
         "alignmentgroup": "True",
         "hovertemplate": "Date=%{x}<br>Cured=%{marker.color}<extra></extra>",
         "legendgroup": "",
         "marker": {
          "color": [
           0,
           0,
           0,
           0,
           0,
           0,
           0,
           0,
           0,
           0,
           0,
           0,
           0,
           0,
           0,
           0,
           0,
           0,
           0,
           0,
           0,
           0,
           0,
           0,
           0,
           0,
           0,
           0,
           0,
           0,
           0,
           0,
           0,
           3,
           3,
           3,
           3,
           3,
           3,
           3,
           3,
           3,
           3,
           3,
           10,
           13,
           13,
           14,
           14,
           20,
           23,
           23,
           24,
           24,
           40,
           43,
           45,
           67,
           80,
           96,
           102,
           124,
           144,
           156,
           163,
           213,
           267
          ],
          "coloraxis": "coloraxis"
         },
         "name": "",
         "offsetgroup": "",
         "orientation": "v",
         "showlegend": false,
         "textposition": "auto",
         "type": "bar",
         "x": [
          "2020-01-30T00:00:00",
          "2020-01-31T00:00:00",
          "2020-02-01T00:00:00",
          "2020-02-02T00:00:00",
          "2020-02-03T00:00:00",
          "2020-02-04T00:00:00",
          "2020-02-05T00:00:00",
          "2020-02-06T00:00:00",
          "2020-02-07T00:00:00",
          "2020-02-08T00:00:00",
          "2020-02-09T00:00:00",
          "2020-02-10T00:00:00",
          "2020-02-11T00:00:00",
          "2020-02-12T00:00:00",
          "2020-02-13T00:00:00",
          "2020-02-14T00:00:00",
          "2020-02-15T00:00:00",
          "2020-02-16T00:00:00",
          "2020-02-17T00:00:00",
          "2020-02-18T00:00:00",
          "2020-02-19T00:00:00",
          "2020-02-20T00:00:00",
          "2020-02-21T00:00:00",
          "2020-02-22T00:00:00",
          "2020-02-23T00:00:00",
          "2020-02-24T00:00:00",
          "2020-02-25T00:00:00",
          "2020-02-26T00:00:00",
          "2020-02-27T00:00:00",
          "2020-02-28T00:00:00",
          "2020-02-29T00:00:00",
          "2020-03-01T00:00:00",
          "2020-03-02T00:00:00",
          "2020-03-03T00:00:00",
          "2020-03-04T00:00:00",
          "2020-03-05T00:00:00",
          "2020-03-06T00:00:00",
          "2020-03-07T00:00:00",
          "2020-03-08T00:00:00",
          "2020-03-09T00:00:00",
          "2020-03-10T00:00:00",
          "2020-03-11T00:00:00",
          "2020-03-12T00:00:00",
          "2020-03-13T00:00:00",
          "2020-03-14T00:00:00",
          "2020-03-15T00:00:00",
          "2020-03-16T00:00:00",
          "2020-03-17T00:00:00",
          "2020-03-18T00:00:00",
          "2020-03-19T00:00:00",
          "2020-03-20T00:00:00",
          "2020-03-21T00:00:00",
          "2020-03-22T00:00:00",
          "2020-03-23T00:00:00",
          "2020-03-24T00:00:00",
          "2020-03-25T00:00:00",
          "2020-03-26T00:00:00",
          "2020-03-27T00:00:00",
          "2020-03-28T00:00:00",
          "2020-03-29T00:00:00",
          "2020-03-30T00:00:00",
          "2020-03-31T00:00:00",
          "2020-04-01T00:00:00",
          "2020-04-02T00:00:00",
          "2020-04-03T00:00:00",
          "2020-04-04T00:00:00",
          "2020-04-05T00:00:00"
         ],
         "xaxis": "x",
         "y": [
          0,
          0,
          0,
          0,
          0,
          0,
          0,
          0,
          0,
          0,
          0,
          0,
          0,
          0,
          0,
          0,
          0,
          0,
          0,
          0,
          0,
          0,
          0,
          0,
          0,
          0,
          0,
          0,
          0,
          0,
          0,
          0,
          0,
          3,
          3,
          3,
          3,
          3,
          3,
          3,
          3,
          3,
          3,
          3,
          10,
          13,
          13,
          14,
          14,
          20,
          23,
          23,
          24,
          24,
          40,
          43,
          45,
          67,
          80,
          96,
          102,
          124,
          144,
          156,
          163,
          213,
          267
         ],
         "yaxis": "y"
        }
       ],
       "layout": {
        "barmode": "relative",
        "coloraxis": {
         "colorbar": {
          "title": {
           "text": "Cured"
          }
         },
         "colorscale": [
          [
           0,
           "#0d0887"
          ],
          [
           0.1111111111111111,
           "#46039f"
          ],
          [
           0.2222222222222222,
           "#7201a8"
          ],
          [
           0.3333333333333333,
           "#9c179e"
          ],
          [
           0.4444444444444444,
           "#bd3786"
          ],
          [
           0.5555555555555556,
           "#d8576b"
          ],
          [
           0.6666666666666666,
           "#ed7953"
          ],
          [
           0.7777777777777778,
           "#fb9f3a"
          ],
          [
           0.8888888888888888,
           "#fdca26"
          ],
          [
           1,
           "#f0f921"
          ]
         ]
        },
        "font": {
         "color": "black",
         "family": "Courier New, monospace",
         "size": 18
        },
        "legend": {
         "tracegroupgap": 0
        },
        "margin": {
         "t": 60
        },
        "template": {
         "data": {
          "bar": [
           {
            "error_x": {
             "color": "#2a3f5f"
            },
            "error_y": {
             "color": "#2a3f5f"
            },
            "marker": {
             "line": {
              "color": "#E5ECF6",
              "width": 0.5
             }
            },
            "type": "bar"
           }
          ],
          "barpolar": [
           {
            "marker": {
             "line": {
              "color": "#E5ECF6",
              "width": 0.5
             }
            },
            "type": "barpolar"
           }
          ],
          "carpet": [
           {
            "aaxis": {
             "endlinecolor": "#2a3f5f",
             "gridcolor": "white",
             "linecolor": "white",
             "minorgridcolor": "white",
             "startlinecolor": "#2a3f5f"
            },
            "baxis": {
             "endlinecolor": "#2a3f5f",
             "gridcolor": "white",
             "linecolor": "white",
             "minorgridcolor": "white",
             "startlinecolor": "#2a3f5f"
            },
            "type": "carpet"
           }
          ],
          "choropleth": [
           {
            "colorbar": {
             "outlinewidth": 0,
             "ticks": ""
            },
            "type": "choropleth"
           }
          ],
          "contour": [
           {
            "colorbar": {
             "outlinewidth": 0,
             "ticks": ""
            },
            "colorscale": [
             [
              0,
              "#0d0887"
             ],
             [
              0.1111111111111111,
              "#46039f"
             ],
             [
              0.2222222222222222,
              "#7201a8"
             ],
             [
              0.3333333333333333,
              "#9c179e"
             ],
             [
              0.4444444444444444,
              "#bd3786"
             ],
             [
              0.5555555555555556,
              "#d8576b"
             ],
             [
              0.6666666666666666,
              "#ed7953"
             ],
             [
              0.7777777777777778,
              "#fb9f3a"
             ],
             [
              0.8888888888888888,
              "#fdca26"
             ],
             [
              1,
              "#f0f921"
             ]
            ],
            "type": "contour"
           }
          ],
          "contourcarpet": [
           {
            "colorbar": {
             "outlinewidth": 0,
             "ticks": ""
            },
            "type": "contourcarpet"
           }
          ],
          "heatmap": [
           {
            "colorbar": {
             "outlinewidth": 0,
             "ticks": ""
            },
            "colorscale": [
             [
              0,
              "#0d0887"
             ],
             [
              0.1111111111111111,
              "#46039f"
             ],
             [
              0.2222222222222222,
              "#7201a8"
             ],
             [
              0.3333333333333333,
              "#9c179e"
             ],
             [
              0.4444444444444444,
              "#bd3786"
             ],
             [
              0.5555555555555556,
              "#d8576b"
             ],
             [
              0.6666666666666666,
              "#ed7953"
             ],
             [
              0.7777777777777778,
              "#fb9f3a"
             ],
             [
              0.8888888888888888,
              "#fdca26"
             ],
             [
              1,
              "#f0f921"
             ]
            ],
            "type": "heatmap"
           }
          ],
          "heatmapgl": [
           {
            "colorbar": {
             "outlinewidth": 0,
             "ticks": ""
            },
            "colorscale": [
             [
              0,
              "#0d0887"
             ],
             [
              0.1111111111111111,
              "#46039f"
             ],
             [
              0.2222222222222222,
              "#7201a8"
             ],
             [
              0.3333333333333333,
              "#9c179e"
             ],
             [
              0.4444444444444444,
              "#bd3786"
             ],
             [
              0.5555555555555556,
              "#d8576b"
             ],
             [
              0.6666666666666666,
              "#ed7953"
             ],
             [
              0.7777777777777778,
              "#fb9f3a"
             ],
             [
              0.8888888888888888,
              "#fdca26"
             ],
             [
              1,
              "#f0f921"
             ]
            ],
            "type": "heatmapgl"
           }
          ],
          "histogram": [
           {
            "marker": {
             "colorbar": {
              "outlinewidth": 0,
              "ticks": ""
             }
            },
            "type": "histogram"
           }
          ],
          "histogram2d": [
           {
            "colorbar": {
             "outlinewidth": 0,
             "ticks": ""
            },
            "colorscale": [
             [
              0,
              "#0d0887"
             ],
             [
              0.1111111111111111,
              "#46039f"
             ],
             [
              0.2222222222222222,
              "#7201a8"
             ],
             [
              0.3333333333333333,
              "#9c179e"
             ],
             [
              0.4444444444444444,
              "#bd3786"
             ],
             [
              0.5555555555555556,
              "#d8576b"
             ],
             [
              0.6666666666666666,
              "#ed7953"
             ],
             [
              0.7777777777777778,
              "#fb9f3a"
             ],
             [
              0.8888888888888888,
              "#fdca26"
             ],
             [
              1,
              "#f0f921"
             ]
            ],
            "type": "histogram2d"
           }
          ],
          "histogram2dcontour": [
           {
            "colorbar": {
             "outlinewidth": 0,
             "ticks": ""
            },
            "colorscale": [
             [
              0,
              "#0d0887"
             ],
             [
              0.1111111111111111,
              "#46039f"
             ],
             [
              0.2222222222222222,
              "#7201a8"
             ],
             [
              0.3333333333333333,
              "#9c179e"
             ],
             [
              0.4444444444444444,
              "#bd3786"
             ],
             [
              0.5555555555555556,
              "#d8576b"
             ],
             [
              0.6666666666666666,
              "#ed7953"
             ],
             [
              0.7777777777777778,
              "#fb9f3a"
             ],
             [
              0.8888888888888888,
              "#fdca26"
             ],
             [
              1,
              "#f0f921"
             ]
            ],
            "type": "histogram2dcontour"
           }
          ],
          "mesh3d": [
           {
            "colorbar": {
             "outlinewidth": 0,
             "ticks": ""
            },
            "type": "mesh3d"
           }
          ],
          "parcoords": [
           {
            "line": {
             "colorbar": {
              "outlinewidth": 0,
              "ticks": ""
             }
            },
            "type": "parcoords"
           }
          ],
          "pie": [
           {
            "automargin": true,
            "type": "pie"
           }
          ],
          "scatter": [
           {
            "marker": {
             "colorbar": {
              "outlinewidth": 0,
              "ticks": ""
             }
            },
            "type": "scatter"
           }
          ],
          "scatter3d": [
           {
            "line": {
             "colorbar": {
              "outlinewidth": 0,
              "ticks": ""
             }
            },
            "marker": {
             "colorbar": {
              "outlinewidth": 0,
              "ticks": ""
             }
            },
            "type": "scatter3d"
           }
          ],
          "scattercarpet": [
           {
            "marker": {
             "colorbar": {
              "outlinewidth": 0,
              "ticks": ""
             }
            },
            "type": "scattercarpet"
           }
          ],
          "scattergeo": [
           {
            "marker": {
             "colorbar": {
              "outlinewidth": 0,
              "ticks": ""
             }
            },
            "type": "scattergeo"
           }
          ],
          "scattergl": [
           {
            "marker": {
             "colorbar": {
              "outlinewidth": 0,
              "ticks": ""
             }
            },
            "type": "scattergl"
           }
          ],
          "scattermapbox": [
           {
            "marker": {
             "colorbar": {
              "outlinewidth": 0,
              "ticks": ""
             }
            },
            "type": "scattermapbox"
           }
          ],
          "scatterpolar": [
           {
            "marker": {
             "colorbar": {
              "outlinewidth": 0,
              "ticks": ""
             }
            },
            "type": "scatterpolar"
           }
          ],
          "scatterpolargl": [
           {
            "marker": {
             "colorbar": {
              "outlinewidth": 0,
              "ticks": ""
             }
            },
            "type": "scatterpolargl"
           }
          ],
          "scatterternary": [
           {
            "marker": {
             "colorbar": {
              "outlinewidth": 0,
              "ticks": ""
             }
            },
            "type": "scatterternary"
           }
          ],
          "surface": [
           {
            "colorbar": {
             "outlinewidth": 0,
             "ticks": ""
            },
            "colorscale": [
             [
              0,
              "#0d0887"
             ],
             [
              0.1111111111111111,
              "#46039f"
             ],
             [
              0.2222222222222222,
              "#7201a8"
             ],
             [
              0.3333333333333333,
              "#9c179e"
             ],
             [
              0.4444444444444444,
              "#bd3786"
             ],
             [
              0.5555555555555556,
              "#d8576b"
             ],
             [
              0.6666666666666666,
              "#ed7953"
             ],
             [
              0.7777777777777778,
              "#fb9f3a"
             ],
             [
              0.8888888888888888,
              "#fdca26"
             ],
             [
              1,
              "#f0f921"
             ]
            ],
            "type": "surface"
           }
          ],
          "table": [
           {
            "cells": {
             "fill": {
              "color": "#EBF0F8"
             },
             "line": {
              "color": "white"
             }
            },
            "header": {
             "fill": {
              "color": "#C8D4E3"
             },
             "line": {
              "color": "white"
             }
            },
            "type": "table"
           }
          ]
         },
         "layout": {
          "annotationdefaults": {
           "arrowcolor": "#2a3f5f",
           "arrowhead": 0,
           "arrowwidth": 1
          },
          "coloraxis": {
           "colorbar": {
            "outlinewidth": 0,
            "ticks": ""
           }
          },
          "colorscale": {
           "diverging": [
            [
             0,
             "#8e0152"
            ],
            [
             0.1,
             "#c51b7d"
            ],
            [
             0.2,
             "#de77ae"
            ],
            [
             0.3,
             "#f1b6da"
            ],
            [
             0.4,
             "#fde0ef"
            ],
            [
             0.5,
             "#f7f7f7"
            ],
            [
             0.6,
             "#e6f5d0"
            ],
            [
             0.7,
             "#b8e186"
            ],
            [
             0.8,
             "#7fbc41"
            ],
            [
             0.9,
             "#4d9221"
            ],
            [
             1,
             "#276419"
            ]
           ],
           "sequential": [
            [
             0,
             "#0d0887"
            ],
            [
             0.1111111111111111,
             "#46039f"
            ],
            [
             0.2222222222222222,
             "#7201a8"
            ],
            [
             0.3333333333333333,
             "#9c179e"
            ],
            [
             0.4444444444444444,
             "#bd3786"
            ],
            [
             0.5555555555555556,
             "#d8576b"
            ],
            [
             0.6666666666666666,
             "#ed7953"
            ],
            [
             0.7777777777777778,
             "#fb9f3a"
            ],
            [
             0.8888888888888888,
             "#fdca26"
            ],
            [
             1,
             "#f0f921"
            ]
           ],
           "sequentialminus": [
            [
             0,
             "#0d0887"
            ],
            [
             0.1111111111111111,
             "#46039f"
            ],
            [
             0.2222222222222222,
             "#7201a8"
            ],
            [
             0.3333333333333333,
             "#9c179e"
            ],
            [
             0.4444444444444444,
             "#bd3786"
            ],
            [
             0.5555555555555556,
             "#d8576b"
            ],
            [
             0.6666666666666666,
             "#ed7953"
            ],
            [
             0.7777777777777778,
             "#fb9f3a"
            ],
            [
             0.8888888888888888,
             "#fdca26"
            ],
            [
             1,
             "#f0f921"
            ]
           ]
          },
          "colorway": [
           "#636efa",
           "#EF553B",
           "#00cc96",
           "#ab63fa",
           "#FFA15A",
           "#19d3f3",
           "#FF6692",
           "#B6E880",
           "#FF97FF",
           "#FECB52"
          ],
          "font": {
           "color": "#2a3f5f"
          },
          "geo": {
           "bgcolor": "white",
           "lakecolor": "white",
           "landcolor": "#E5ECF6",
           "showlakes": true,
           "showland": true,
           "subunitcolor": "white"
          },
          "hoverlabel": {
           "align": "left"
          },
          "hovermode": "closest",
          "mapbox": {
           "style": "light"
          },
          "paper_bgcolor": "white",
          "plot_bgcolor": "#E5ECF6",
          "polar": {
           "angularaxis": {
            "gridcolor": "white",
            "linecolor": "white",
            "ticks": ""
           },
           "bgcolor": "#E5ECF6",
           "radialaxis": {
            "gridcolor": "white",
            "linecolor": "white",
            "ticks": ""
           }
          },
          "scene": {
           "xaxis": {
            "backgroundcolor": "#E5ECF6",
            "gridcolor": "white",
            "gridwidth": 2,
            "linecolor": "white",
            "showbackground": true,
            "ticks": "",
            "zerolinecolor": "white"
           },
           "yaxis": {
            "backgroundcolor": "#E5ECF6",
            "gridcolor": "white",
            "gridwidth": 2,
            "linecolor": "white",
            "showbackground": true,
            "ticks": "",
            "zerolinecolor": "white"
           },
           "zaxis": {
            "backgroundcolor": "#E5ECF6",
            "gridcolor": "white",
            "gridwidth": 2,
            "linecolor": "white",
            "showbackground": true,
            "ticks": "",
            "zerolinecolor": "white"
           }
          },
          "shapedefaults": {
           "line": {
            "color": "#2a3f5f"
           }
          },
          "ternary": {
           "aaxis": {
            "gridcolor": "white",
            "linecolor": "white",
            "ticks": ""
           },
           "baxis": {
            "gridcolor": "white",
            "linecolor": "white",
            "ticks": ""
           },
           "bgcolor": "#E5ECF6",
           "caxis": {
            "gridcolor": "white",
            "linecolor": "white",
            "ticks": ""
           }
          },
          "title": {
           "x": 0.05
          },
          "xaxis": {
           "automargin": true,
           "gridcolor": "white",
           "linecolor": "white",
           "ticks": "",
           "title": {
            "standoff": 15
           },
           "zerolinecolor": "white",
           "zerolinewidth": 2
          },
          "yaxis": {
           "automargin": true,
           "gridcolor": "white",
           "linecolor": "white",
           "ticks": "",
           "title": {
            "standoff": 15
           },
           "zerolinecolor": "white",
           "zerolinewidth": 2
          }
         }
        },
        "title": {
         "text": "Cured trend"
        },
        "xaxis": {
         "anchor": "y",
         "domain": [
          0,
          1
         ],
         "title": {
          "text": "Date"
         }
        },
        "yaxis": {
         "anchor": "x",
         "domain": [
          0,
          1
         ],
         "title": {
          "text": "Cured"
         }
        }
       }
      },
      "text/html": [
       "<div>\n",
       "        \n",
       "        \n",
       "            <div id=\"b8bb9a95-0cd3-4182-bf58-cad28ac17885\" class=\"plotly-graph-div\" style=\"height:525px; width:100%;\"></div>\n",
       "            <script type=\"text/javascript\">\n",
       "                require([\"plotly\"], function(Plotly) {\n",
       "                    window.PLOTLYENV=window.PLOTLYENV || {};\n",
       "                    \n",
       "                if (document.getElementById(\"b8bb9a95-0cd3-4182-bf58-cad28ac17885\")) {\n",
       "                    Plotly.newPlot(\n",
       "                        'b8bb9a95-0cd3-4182-bf58-cad28ac17885',\n",
       "                        [{\"alignmentgroup\": \"True\", \"hovertemplate\": \"Date=%{x}<br>Cured=%{marker.color}<extra></extra>\", \"legendgroup\": \"\", \"marker\": {\"color\": [0, 0, 0, 0, 0, 0, 0, 0, 0, 0, 0, 0, 0, 0, 0, 0, 0, 0, 0, 0, 0, 0, 0, 0, 0, 0, 0, 0, 0, 0, 0, 0, 0, 3, 3, 3, 3, 3, 3, 3, 3, 3, 3, 3, 10, 13, 13, 14, 14, 20, 23, 23, 24, 24, 40, 43, 45, 67, 80, 96, 102, 124, 144, 156, 163, 213, 267], \"coloraxis\": \"coloraxis\"}, \"name\": \"\", \"offsetgroup\": \"\", \"orientation\": \"v\", \"showlegend\": false, \"textposition\": \"auto\", \"type\": \"bar\", \"x\": [\"2020-01-30T00:00:00\", \"2020-01-31T00:00:00\", \"2020-02-01T00:00:00\", \"2020-02-02T00:00:00\", \"2020-02-03T00:00:00\", \"2020-02-04T00:00:00\", \"2020-02-05T00:00:00\", \"2020-02-06T00:00:00\", \"2020-02-07T00:00:00\", \"2020-02-08T00:00:00\", \"2020-02-09T00:00:00\", \"2020-02-10T00:00:00\", \"2020-02-11T00:00:00\", \"2020-02-12T00:00:00\", \"2020-02-13T00:00:00\", \"2020-02-14T00:00:00\", \"2020-02-15T00:00:00\", \"2020-02-16T00:00:00\", \"2020-02-17T00:00:00\", \"2020-02-18T00:00:00\", \"2020-02-19T00:00:00\", \"2020-02-20T00:00:00\", \"2020-02-21T00:00:00\", \"2020-02-22T00:00:00\", \"2020-02-23T00:00:00\", \"2020-02-24T00:00:00\", \"2020-02-25T00:00:00\", \"2020-02-26T00:00:00\", \"2020-02-27T00:00:00\", \"2020-02-28T00:00:00\", \"2020-02-29T00:00:00\", \"2020-03-01T00:00:00\", \"2020-03-02T00:00:00\", \"2020-03-03T00:00:00\", \"2020-03-04T00:00:00\", \"2020-03-05T00:00:00\", \"2020-03-06T00:00:00\", \"2020-03-07T00:00:00\", \"2020-03-08T00:00:00\", \"2020-03-09T00:00:00\", \"2020-03-10T00:00:00\", \"2020-03-11T00:00:00\", \"2020-03-12T00:00:00\", \"2020-03-13T00:00:00\", \"2020-03-14T00:00:00\", \"2020-03-15T00:00:00\", \"2020-03-16T00:00:00\", \"2020-03-17T00:00:00\", \"2020-03-18T00:00:00\", \"2020-03-19T00:00:00\", \"2020-03-20T00:00:00\", \"2020-03-21T00:00:00\", \"2020-03-22T00:00:00\", \"2020-03-23T00:00:00\", \"2020-03-24T00:00:00\", \"2020-03-25T00:00:00\", \"2020-03-26T00:00:00\", \"2020-03-27T00:00:00\", \"2020-03-28T00:00:00\", \"2020-03-29T00:00:00\", \"2020-03-30T00:00:00\", \"2020-03-31T00:00:00\", \"2020-04-01T00:00:00\", \"2020-04-02T00:00:00\", \"2020-04-03T00:00:00\", \"2020-04-04T00:00:00\", \"2020-04-05T00:00:00\"], \"xaxis\": \"x\", \"y\": [0, 0, 0, 0, 0, 0, 0, 0, 0, 0, 0, 0, 0, 0, 0, 0, 0, 0, 0, 0, 0, 0, 0, 0, 0, 0, 0, 0, 0, 0, 0, 0, 0, 3, 3, 3, 3, 3, 3, 3, 3, 3, 3, 3, 10, 13, 13, 14, 14, 20, 23, 23, 24, 24, 40, 43, 45, 67, 80, 96, 102, 124, 144, 156, 163, 213, 267], \"yaxis\": \"y\"}],\n",
       "                        {\"barmode\": \"relative\", \"coloraxis\": {\"colorbar\": {\"title\": {\"text\": \"Cured\"}}, \"colorscale\": [[0.0, \"#0d0887\"], [0.1111111111111111, \"#46039f\"], [0.2222222222222222, \"#7201a8\"], [0.3333333333333333, \"#9c179e\"], [0.4444444444444444, \"#bd3786\"], [0.5555555555555556, \"#d8576b\"], [0.6666666666666666, \"#ed7953\"], [0.7777777777777778, \"#fb9f3a\"], [0.8888888888888888, \"#fdca26\"], [1.0, \"#f0f921\"]]}, \"font\": {\"color\": \"black\", \"family\": \"Courier New, monospace\", \"size\": 18}, \"legend\": {\"tracegroupgap\": 0}, \"margin\": {\"t\": 60}, \"template\": {\"data\": {\"bar\": [{\"error_x\": {\"color\": \"#2a3f5f\"}, \"error_y\": {\"color\": \"#2a3f5f\"}, \"marker\": {\"line\": {\"color\": \"#E5ECF6\", \"width\": 0.5}}, \"type\": \"bar\"}], \"barpolar\": [{\"marker\": {\"line\": {\"color\": \"#E5ECF6\", \"width\": 0.5}}, \"type\": \"barpolar\"}], \"carpet\": [{\"aaxis\": {\"endlinecolor\": \"#2a3f5f\", \"gridcolor\": \"white\", \"linecolor\": \"white\", \"minorgridcolor\": \"white\", \"startlinecolor\": \"#2a3f5f\"}, \"baxis\": {\"endlinecolor\": \"#2a3f5f\", \"gridcolor\": \"white\", \"linecolor\": \"white\", \"minorgridcolor\": \"white\", \"startlinecolor\": \"#2a3f5f\"}, \"type\": \"carpet\"}], \"choropleth\": [{\"colorbar\": {\"outlinewidth\": 0, \"ticks\": \"\"}, \"type\": \"choropleth\"}], \"contour\": [{\"colorbar\": {\"outlinewidth\": 0, \"ticks\": \"\"}, \"colorscale\": [[0.0, \"#0d0887\"], [0.1111111111111111, \"#46039f\"], [0.2222222222222222, \"#7201a8\"], [0.3333333333333333, \"#9c179e\"], [0.4444444444444444, \"#bd3786\"], [0.5555555555555556, \"#d8576b\"], [0.6666666666666666, \"#ed7953\"], [0.7777777777777778, \"#fb9f3a\"], [0.8888888888888888, \"#fdca26\"], [1.0, \"#f0f921\"]], \"type\": \"contour\"}], \"contourcarpet\": [{\"colorbar\": {\"outlinewidth\": 0, \"ticks\": \"\"}, \"type\": \"contourcarpet\"}], \"heatmap\": [{\"colorbar\": {\"outlinewidth\": 0, \"ticks\": \"\"}, \"colorscale\": [[0.0, \"#0d0887\"], [0.1111111111111111, \"#46039f\"], [0.2222222222222222, \"#7201a8\"], [0.3333333333333333, \"#9c179e\"], [0.4444444444444444, \"#bd3786\"], [0.5555555555555556, \"#d8576b\"], [0.6666666666666666, \"#ed7953\"], [0.7777777777777778, \"#fb9f3a\"], [0.8888888888888888, \"#fdca26\"], [1.0, \"#f0f921\"]], \"type\": \"heatmap\"}], \"heatmapgl\": [{\"colorbar\": {\"outlinewidth\": 0, \"ticks\": \"\"}, \"colorscale\": [[0.0, \"#0d0887\"], [0.1111111111111111, \"#46039f\"], [0.2222222222222222, \"#7201a8\"], [0.3333333333333333, \"#9c179e\"], [0.4444444444444444, \"#bd3786\"], [0.5555555555555556, \"#d8576b\"], [0.6666666666666666, \"#ed7953\"], [0.7777777777777778, \"#fb9f3a\"], [0.8888888888888888, \"#fdca26\"], [1.0, \"#f0f921\"]], \"type\": \"heatmapgl\"}], \"histogram\": [{\"marker\": {\"colorbar\": {\"outlinewidth\": 0, \"ticks\": \"\"}}, \"type\": \"histogram\"}], \"histogram2d\": [{\"colorbar\": {\"outlinewidth\": 0, \"ticks\": \"\"}, \"colorscale\": [[0.0, \"#0d0887\"], [0.1111111111111111, \"#46039f\"], [0.2222222222222222, \"#7201a8\"], [0.3333333333333333, \"#9c179e\"], [0.4444444444444444, \"#bd3786\"], [0.5555555555555556, \"#d8576b\"], [0.6666666666666666, \"#ed7953\"], [0.7777777777777778, \"#fb9f3a\"], [0.8888888888888888, \"#fdca26\"], [1.0, \"#f0f921\"]], \"type\": \"histogram2d\"}], \"histogram2dcontour\": [{\"colorbar\": {\"outlinewidth\": 0, \"ticks\": \"\"}, \"colorscale\": [[0.0, \"#0d0887\"], [0.1111111111111111, \"#46039f\"], [0.2222222222222222, \"#7201a8\"], [0.3333333333333333, \"#9c179e\"], [0.4444444444444444, \"#bd3786\"], [0.5555555555555556, \"#d8576b\"], [0.6666666666666666, \"#ed7953\"], [0.7777777777777778, \"#fb9f3a\"], [0.8888888888888888, \"#fdca26\"], [1.0, \"#f0f921\"]], \"type\": \"histogram2dcontour\"}], \"mesh3d\": [{\"colorbar\": {\"outlinewidth\": 0, \"ticks\": \"\"}, \"type\": \"mesh3d\"}], \"parcoords\": [{\"line\": {\"colorbar\": {\"outlinewidth\": 0, \"ticks\": \"\"}}, \"type\": \"parcoords\"}], \"pie\": [{\"automargin\": true, \"type\": \"pie\"}], \"scatter\": [{\"marker\": {\"colorbar\": {\"outlinewidth\": 0, \"ticks\": \"\"}}, \"type\": \"scatter\"}], \"scatter3d\": [{\"line\": {\"colorbar\": {\"outlinewidth\": 0, \"ticks\": \"\"}}, \"marker\": {\"colorbar\": {\"outlinewidth\": 0, \"ticks\": \"\"}}, \"type\": \"scatter3d\"}], \"scattercarpet\": [{\"marker\": {\"colorbar\": {\"outlinewidth\": 0, \"ticks\": \"\"}}, \"type\": \"scattercarpet\"}], \"scattergeo\": [{\"marker\": {\"colorbar\": {\"outlinewidth\": 0, \"ticks\": \"\"}}, \"type\": \"scattergeo\"}], \"scattergl\": [{\"marker\": {\"colorbar\": {\"outlinewidth\": 0, \"ticks\": \"\"}}, \"type\": \"scattergl\"}], \"scattermapbox\": [{\"marker\": {\"colorbar\": {\"outlinewidth\": 0, \"ticks\": \"\"}}, \"type\": \"scattermapbox\"}], \"scatterpolar\": [{\"marker\": {\"colorbar\": {\"outlinewidth\": 0, \"ticks\": \"\"}}, \"type\": \"scatterpolar\"}], \"scatterpolargl\": [{\"marker\": {\"colorbar\": {\"outlinewidth\": 0, \"ticks\": \"\"}}, \"type\": \"scatterpolargl\"}], \"scatterternary\": [{\"marker\": {\"colorbar\": {\"outlinewidth\": 0, \"ticks\": \"\"}}, \"type\": \"scatterternary\"}], \"surface\": [{\"colorbar\": {\"outlinewidth\": 0, \"ticks\": \"\"}, \"colorscale\": [[0.0, \"#0d0887\"], [0.1111111111111111, \"#46039f\"], [0.2222222222222222, \"#7201a8\"], [0.3333333333333333, \"#9c179e\"], [0.4444444444444444, \"#bd3786\"], [0.5555555555555556, \"#d8576b\"], [0.6666666666666666, \"#ed7953\"], [0.7777777777777778, \"#fb9f3a\"], [0.8888888888888888, \"#fdca26\"], [1.0, \"#f0f921\"]], \"type\": \"surface\"}], \"table\": [{\"cells\": {\"fill\": {\"color\": \"#EBF0F8\"}, \"line\": {\"color\": \"white\"}}, \"header\": {\"fill\": {\"color\": \"#C8D4E3\"}, \"line\": {\"color\": \"white\"}}, \"type\": \"table\"}]}, \"layout\": {\"annotationdefaults\": {\"arrowcolor\": \"#2a3f5f\", \"arrowhead\": 0, \"arrowwidth\": 1}, \"coloraxis\": {\"colorbar\": {\"outlinewidth\": 0, \"ticks\": \"\"}}, \"colorscale\": {\"diverging\": [[0, \"#8e0152\"], [0.1, \"#c51b7d\"], [0.2, \"#de77ae\"], [0.3, \"#f1b6da\"], [0.4, \"#fde0ef\"], [0.5, \"#f7f7f7\"], [0.6, \"#e6f5d0\"], [0.7, \"#b8e186\"], [0.8, \"#7fbc41\"], [0.9, \"#4d9221\"], [1, \"#276419\"]], \"sequential\": [[0.0, \"#0d0887\"], [0.1111111111111111, \"#46039f\"], [0.2222222222222222, \"#7201a8\"], [0.3333333333333333, \"#9c179e\"], [0.4444444444444444, \"#bd3786\"], [0.5555555555555556, \"#d8576b\"], [0.6666666666666666, \"#ed7953\"], [0.7777777777777778, \"#fb9f3a\"], [0.8888888888888888, \"#fdca26\"], [1.0, \"#f0f921\"]], \"sequentialminus\": [[0.0, \"#0d0887\"], [0.1111111111111111, \"#46039f\"], [0.2222222222222222, \"#7201a8\"], [0.3333333333333333, \"#9c179e\"], [0.4444444444444444, \"#bd3786\"], [0.5555555555555556, \"#d8576b\"], [0.6666666666666666, \"#ed7953\"], [0.7777777777777778, \"#fb9f3a\"], [0.8888888888888888, \"#fdca26\"], [1.0, \"#f0f921\"]]}, \"colorway\": [\"#636efa\", \"#EF553B\", \"#00cc96\", \"#ab63fa\", \"#FFA15A\", \"#19d3f3\", \"#FF6692\", \"#B6E880\", \"#FF97FF\", \"#FECB52\"], \"font\": {\"color\": \"#2a3f5f\"}, \"geo\": {\"bgcolor\": \"white\", \"lakecolor\": \"white\", \"landcolor\": \"#E5ECF6\", \"showlakes\": true, \"showland\": true, \"subunitcolor\": \"white\"}, \"hoverlabel\": {\"align\": \"left\"}, \"hovermode\": \"closest\", \"mapbox\": {\"style\": \"light\"}, \"paper_bgcolor\": \"white\", \"plot_bgcolor\": \"#E5ECF6\", \"polar\": {\"angularaxis\": {\"gridcolor\": \"white\", \"linecolor\": \"white\", \"ticks\": \"\"}, \"bgcolor\": \"#E5ECF6\", \"radialaxis\": {\"gridcolor\": \"white\", \"linecolor\": \"white\", \"ticks\": \"\"}}, \"scene\": {\"xaxis\": {\"backgroundcolor\": \"#E5ECF6\", \"gridcolor\": \"white\", \"gridwidth\": 2, \"linecolor\": \"white\", \"showbackground\": true, \"ticks\": \"\", \"zerolinecolor\": \"white\"}, \"yaxis\": {\"backgroundcolor\": \"#E5ECF6\", \"gridcolor\": \"white\", \"gridwidth\": 2, \"linecolor\": \"white\", \"showbackground\": true, \"ticks\": \"\", \"zerolinecolor\": \"white\"}, \"zaxis\": {\"backgroundcolor\": \"#E5ECF6\", \"gridcolor\": \"white\", \"gridwidth\": 2, \"linecolor\": \"white\", \"showbackground\": true, \"ticks\": \"\", \"zerolinecolor\": \"white\"}}, \"shapedefaults\": {\"line\": {\"color\": \"#2a3f5f\"}}, \"ternary\": {\"aaxis\": {\"gridcolor\": \"white\", \"linecolor\": \"white\", \"ticks\": \"\"}, \"baxis\": {\"gridcolor\": \"white\", \"linecolor\": \"white\", \"ticks\": \"\"}, \"bgcolor\": \"#E5ECF6\", \"caxis\": {\"gridcolor\": \"white\", \"linecolor\": \"white\", \"ticks\": \"\"}}, \"title\": {\"x\": 0.05}, \"xaxis\": {\"automargin\": true, \"gridcolor\": \"white\", \"linecolor\": \"white\", \"ticks\": \"\", \"title\": {\"standoff\": 15}, \"zerolinecolor\": \"white\", \"zerolinewidth\": 2}, \"yaxis\": {\"automargin\": true, \"gridcolor\": \"white\", \"linecolor\": \"white\", \"ticks\": \"\", \"title\": {\"standoff\": 15}, \"zerolinecolor\": \"white\", \"zerolinewidth\": 2}}}, \"title\": {\"text\": \"Cured trend\"}, \"xaxis\": {\"anchor\": \"y\", \"domain\": [0.0, 1.0], \"title\": {\"text\": \"Date\"}}, \"yaxis\": {\"anchor\": \"x\", \"domain\": [0.0, 1.0], \"title\": {\"text\": \"Cured\"}}},\n",
       "                        {\"responsive\": true}\n",
       "                    ).then(function(){\n",
       "                            \n",
       "var gd = document.getElementById('b8bb9a95-0cd3-4182-bf58-cad28ac17885');\n",
       "var x = new MutationObserver(function (mutations, observer) {{\n",
       "        var display = window.getComputedStyle(gd).display;\n",
       "        if (!display || display === 'none') {{\n",
       "            console.log([gd, 'removed!']);\n",
       "            Plotly.purge(gd);\n",
       "            observer.disconnect();\n",
       "        }}\n",
       "}});\n",
       "\n",
       "// Listen for the removal of the full notebook cells\n",
       "var notebookContainer = gd.closest('#notebook-container');\n",
       "if (notebookContainer) {{\n",
       "    x.observe(notebookContainer, {childList: true});\n",
       "}}\n",
       "\n",
       "// Listen for the clearing of the current output cell\n",
       "var outputEl = gd.closest('.output');\n",
       "if (outputEl) {{\n",
       "    x.observe(outputEl, {childList: true});\n",
       "}}\n",
       "\n",
       "                        })\n",
       "                };\n",
       "                });\n",
       "            </script>\n",
       "        </div>"
      ]
     },
     "metadata": {},
     "output_type": "display_data"
    }
   ],
   "source": [
    "fig = px.bar(date_group, x='Date', y='Cured', color='Cured')\n",
    "\n",
    "fig.update_layout(\n",
    "    title=\"Cured trend\",    \n",
    "    font=dict(\n",
    "        family=\"Courier New, monospace\",\n",
    "        size=18,\n",
    "        color=\"black\"\n",
    "    )\n",
    ")\n",
    "\n",
    "fig.show()"
   ]
  },
  {
   "cell_type": "markdown",
   "metadata": {},
   "source": [
    "## All cases"
   ]
  },
  {
   "cell_type": "code",
   "execution_count": 6,
   "metadata": {
    "ExecuteTime": {
     "end_time": "2020-04-05T13:37:05.296766Z",
     "start_time": "2020-04-05T13:37:05.283757Z"
    },
    "hide_input": true,
    "jupyter": {
     "outputs_hidden": true,
     "source_hidden": true
    }
   },
   "outputs": [],
   "source": [
    "date_table = covid_19_india_df.groupby(['Date', 'State/UnionTerritory']).sum().reset_index().set_index('Date')\n",
    "total = date_table.loc[date_table.last_valid_index()].sum()\n",
    "confirmed_count = total.Confirmed\n",
    "death_count = total.Deaths\n",
    "cured_count = total.Cured"
   ]
  },
  {
   "cell_type": "code",
   "execution_count": 7,
   "metadata": {
    "ExecuteTime": {
     "end_time": "2020-04-05T13:37:05.486754Z",
     "start_time": "2020-04-05T13:37:05.297766Z"
    },
    "hide_input": true,
    "jupyter": {
     "source_hidden": true
    }
   },
   "outputs": [
    {
     "data": {
      "application/vnd.plotly.v1+json": {
       "config": {
        "plotlyServerURL": "https://plot.ly"
       },
       "data": [
        {
         "line": {
          "color": "firebrick",
          "width": 1
         },
         "mode": "lines+markers",
         "name": "Deaths",
         "type": "scatter",
         "x": [
          "2020-01-30T00:00:00",
          "2020-01-31T00:00:00",
          "2020-02-01T00:00:00",
          "2020-02-02T00:00:00",
          "2020-02-03T00:00:00",
          "2020-02-04T00:00:00",
          "2020-02-05T00:00:00",
          "2020-02-06T00:00:00",
          "2020-02-07T00:00:00",
          "2020-02-08T00:00:00",
          "2020-02-09T00:00:00",
          "2020-02-10T00:00:00",
          "2020-02-11T00:00:00",
          "2020-02-12T00:00:00",
          "2020-02-13T00:00:00",
          "2020-02-14T00:00:00",
          "2020-02-15T00:00:00",
          "2020-02-16T00:00:00",
          "2020-02-17T00:00:00",
          "2020-02-18T00:00:00",
          "2020-02-19T00:00:00",
          "2020-02-20T00:00:00",
          "2020-02-21T00:00:00",
          "2020-02-22T00:00:00",
          "2020-02-23T00:00:00",
          "2020-02-24T00:00:00",
          "2020-02-25T00:00:00",
          "2020-02-26T00:00:00",
          "2020-02-27T00:00:00",
          "2020-02-28T00:00:00",
          "2020-02-29T00:00:00",
          "2020-03-01T00:00:00",
          "2020-03-02T00:00:00",
          "2020-03-03T00:00:00",
          "2020-03-04T00:00:00",
          "2020-03-05T00:00:00",
          "2020-03-06T00:00:00",
          "2020-03-07T00:00:00",
          "2020-03-08T00:00:00",
          "2020-03-09T00:00:00",
          "2020-03-10T00:00:00",
          "2020-03-11T00:00:00",
          "2020-03-12T00:00:00",
          "2020-03-13T00:00:00",
          "2020-03-14T00:00:00",
          "2020-03-15T00:00:00",
          "2020-03-16T00:00:00",
          "2020-03-17T00:00:00",
          "2020-03-18T00:00:00",
          "2020-03-19T00:00:00",
          "2020-03-20T00:00:00",
          "2020-03-21T00:00:00",
          "2020-03-22T00:00:00",
          "2020-03-23T00:00:00",
          "2020-03-24T00:00:00",
          "2020-03-25T00:00:00",
          "2020-03-26T00:00:00",
          "2020-03-27T00:00:00",
          "2020-03-28T00:00:00",
          "2020-03-29T00:00:00",
          "2020-03-30T00:00:00",
          "2020-03-31T00:00:00",
          "2020-04-01T00:00:00",
          "2020-04-02T00:00:00",
          "2020-04-03T00:00:00",
          "2020-04-04T00:00:00",
          "2020-04-05T00:00:00"
         ],
         "xaxis": "x",
         "y": [
          0,
          0,
          0,
          0,
          0,
          0,
          0,
          0,
          0,
          0,
          0,
          0,
          0,
          0,
          0,
          0,
          0,
          0,
          0,
          0,
          0,
          0,
          0,
          0,
          0,
          0,
          0,
          0,
          0,
          0,
          0,
          0,
          0,
          0,
          0,
          0,
          0,
          0,
          0,
          0,
          0,
          0,
          0,
          1,
          2,
          2,
          2,
          3,
          3,
          4,
          4,
          4,
          7,
          7,
          9,
          10,
          15,
          17,
          19,
          27,
          31,
          35,
          41,
          53,
          62,
          75,
          77
         ],
         "yaxis": "y"
        },
        {
         "line": {
          "color": "royalblue",
          "width": 1
         },
         "mode": "lines+markers",
         "name": "Confirmed",
         "type": "scatter",
         "x": [
          "2020-01-30T00:00:00",
          "2020-01-31T00:00:00",
          "2020-02-01T00:00:00",
          "2020-02-02T00:00:00",
          "2020-02-03T00:00:00",
          "2020-02-04T00:00:00",
          "2020-02-05T00:00:00",
          "2020-02-06T00:00:00",
          "2020-02-07T00:00:00",
          "2020-02-08T00:00:00",
          "2020-02-09T00:00:00",
          "2020-02-10T00:00:00",
          "2020-02-11T00:00:00",
          "2020-02-12T00:00:00",
          "2020-02-13T00:00:00",
          "2020-02-14T00:00:00",
          "2020-02-15T00:00:00",
          "2020-02-16T00:00:00",
          "2020-02-17T00:00:00",
          "2020-02-18T00:00:00",
          "2020-02-19T00:00:00",
          "2020-02-20T00:00:00",
          "2020-02-21T00:00:00",
          "2020-02-22T00:00:00",
          "2020-02-23T00:00:00",
          "2020-02-24T00:00:00",
          "2020-02-25T00:00:00",
          "2020-02-26T00:00:00",
          "2020-02-27T00:00:00",
          "2020-02-28T00:00:00",
          "2020-02-29T00:00:00",
          "2020-03-01T00:00:00",
          "2020-03-02T00:00:00",
          "2020-03-03T00:00:00",
          "2020-03-04T00:00:00",
          "2020-03-05T00:00:00",
          "2020-03-06T00:00:00",
          "2020-03-07T00:00:00",
          "2020-03-08T00:00:00",
          "2020-03-09T00:00:00",
          "2020-03-10T00:00:00",
          "2020-03-11T00:00:00",
          "2020-03-12T00:00:00",
          "2020-03-13T00:00:00",
          "2020-03-14T00:00:00",
          "2020-03-15T00:00:00",
          "2020-03-16T00:00:00",
          "2020-03-17T00:00:00",
          "2020-03-18T00:00:00",
          "2020-03-19T00:00:00",
          "2020-03-20T00:00:00",
          "2020-03-21T00:00:00",
          "2020-03-22T00:00:00",
          "2020-03-23T00:00:00",
          "2020-03-24T00:00:00",
          "2020-03-25T00:00:00",
          "2020-03-26T00:00:00",
          "2020-03-27T00:00:00",
          "2020-03-28T00:00:00",
          "2020-03-29T00:00:00",
          "2020-03-30T00:00:00",
          "2020-03-31T00:00:00",
          "2020-04-01T00:00:00",
          "2020-04-02T00:00:00",
          "2020-04-03T00:00:00",
          "2020-04-04T00:00:00",
          "2020-04-05T00:00:00"
         ],
         "xaxis": "x2",
         "y": [
          1,
          1,
          2,
          3,
          3,
          3,
          3,
          3,
          3,
          3,
          3,
          3,
          3,
          3,
          3,
          3,
          3,
          3,
          3,
          3,
          3,
          3,
          3,
          3,
          3,
          3,
          3,
          3,
          3,
          3,
          3,
          3,
          5,
          6,
          28,
          30,
          31,
          34,
          39,
          46,
          58,
          60,
          74,
          81,
          84,
          110,
          114,
          137,
          151,
          173,
          223,
          283,
          360,
          433,
          519,
          606,
          694,
          724,
          909,
          1024,
          1251,
          1397,
          1834,
          2069,
          2547,
          3072,
          3374
         ],
         "yaxis": "y2"
        },
        {
         "line": {
          "color": "green",
          "width": 1
         },
         "mode": "lines+markers",
         "name": "Cured",
         "type": "scatter",
         "x": [
          "2020-01-30T00:00:00",
          "2020-01-31T00:00:00",
          "2020-02-01T00:00:00",
          "2020-02-02T00:00:00",
          "2020-02-03T00:00:00",
          "2020-02-04T00:00:00",
          "2020-02-05T00:00:00",
          "2020-02-06T00:00:00",
          "2020-02-07T00:00:00",
          "2020-02-08T00:00:00",
          "2020-02-09T00:00:00",
          "2020-02-10T00:00:00",
          "2020-02-11T00:00:00",
          "2020-02-12T00:00:00",
          "2020-02-13T00:00:00",
          "2020-02-14T00:00:00",
          "2020-02-15T00:00:00",
          "2020-02-16T00:00:00",
          "2020-02-17T00:00:00",
          "2020-02-18T00:00:00",
          "2020-02-19T00:00:00",
          "2020-02-20T00:00:00",
          "2020-02-21T00:00:00",
          "2020-02-22T00:00:00",
          "2020-02-23T00:00:00",
          "2020-02-24T00:00:00",
          "2020-02-25T00:00:00",
          "2020-02-26T00:00:00",
          "2020-02-27T00:00:00",
          "2020-02-28T00:00:00",
          "2020-02-29T00:00:00",
          "2020-03-01T00:00:00",
          "2020-03-02T00:00:00",
          "2020-03-03T00:00:00",
          "2020-03-04T00:00:00",
          "2020-03-05T00:00:00",
          "2020-03-06T00:00:00",
          "2020-03-07T00:00:00",
          "2020-03-08T00:00:00",
          "2020-03-09T00:00:00",
          "2020-03-10T00:00:00",
          "2020-03-11T00:00:00",
          "2020-03-12T00:00:00",
          "2020-03-13T00:00:00",
          "2020-03-14T00:00:00",
          "2020-03-15T00:00:00",
          "2020-03-16T00:00:00",
          "2020-03-17T00:00:00",
          "2020-03-18T00:00:00",
          "2020-03-19T00:00:00",
          "2020-03-20T00:00:00",
          "2020-03-21T00:00:00",
          "2020-03-22T00:00:00",
          "2020-03-23T00:00:00",
          "2020-03-24T00:00:00",
          "2020-03-25T00:00:00",
          "2020-03-26T00:00:00",
          "2020-03-27T00:00:00",
          "2020-03-28T00:00:00",
          "2020-03-29T00:00:00",
          "2020-03-30T00:00:00",
          "2020-03-31T00:00:00",
          "2020-04-01T00:00:00",
          "2020-04-02T00:00:00",
          "2020-04-03T00:00:00",
          "2020-04-04T00:00:00",
          "2020-04-05T00:00:00"
         ],
         "xaxis": "x3",
         "y": [
          0,
          0,
          0,
          0,
          0,
          0,
          0,
          0,
          0,
          0,
          0,
          0,
          0,
          0,
          0,
          0,
          0,
          0,
          0,
          0,
          0,
          0,
          0,
          0,
          0,
          0,
          0,
          0,
          0,
          0,
          0,
          0,
          0,
          3,
          3,
          3,
          3,
          3,
          3,
          3,
          3,
          3,
          3,
          3,
          10,
          13,
          13,
          14,
          14,
          20,
          23,
          23,
          24,
          24,
          40,
          43,
          45,
          67,
          80,
          96,
          102,
          124,
          144,
          156,
          163,
          213,
          267
         ],
         "yaxis": "y3"
        }
       ],
       "layout": {
        "annotations": [
         {
          "font": {
           "size": 16
          },
          "showarrow": false,
          "text": "Total deaths - 77",
          "x": 0.14444444444444446,
          "xanchor": "center",
          "xref": "paper",
          "y": 1,
          "yanchor": "bottom",
          "yref": "paper"
         },
         {
          "font": {
           "size": 16
          },
          "showarrow": false,
          "text": "Total confirmed - 3374",
          "x": 0.5,
          "xanchor": "center",
          "xref": "paper",
          "y": 1,
          "yanchor": "bottom",
          "yref": "paper"
         },
         {
          "font": {
           "size": 16
          },
          "showarrow": false,
          "text": "Total cured - 267",
          "x": 0.8555555555555556,
          "xanchor": "center",
          "xref": "paper",
          "y": 1,
          "yanchor": "bottom",
          "yref": "paper"
         }
        ],
        "font": {
         "color": "black",
         "family": "Courier New, monospace",
         "size": 18
        },
        "template": {
         "data": {
          "bar": [
           {
            "error_x": {
             "color": "#2a3f5f"
            },
            "error_y": {
             "color": "#2a3f5f"
            },
            "marker": {
             "line": {
              "color": "#E5ECF6",
              "width": 0.5
             }
            },
            "type": "bar"
           }
          ],
          "barpolar": [
           {
            "marker": {
             "line": {
              "color": "#E5ECF6",
              "width": 0.5
             }
            },
            "type": "barpolar"
           }
          ],
          "carpet": [
           {
            "aaxis": {
             "endlinecolor": "#2a3f5f",
             "gridcolor": "white",
             "linecolor": "white",
             "minorgridcolor": "white",
             "startlinecolor": "#2a3f5f"
            },
            "baxis": {
             "endlinecolor": "#2a3f5f",
             "gridcolor": "white",
             "linecolor": "white",
             "minorgridcolor": "white",
             "startlinecolor": "#2a3f5f"
            },
            "type": "carpet"
           }
          ],
          "choropleth": [
           {
            "colorbar": {
             "outlinewidth": 0,
             "ticks": ""
            },
            "type": "choropleth"
           }
          ],
          "contour": [
           {
            "colorbar": {
             "outlinewidth": 0,
             "ticks": ""
            },
            "colorscale": [
             [
              0,
              "#0d0887"
             ],
             [
              0.1111111111111111,
              "#46039f"
             ],
             [
              0.2222222222222222,
              "#7201a8"
             ],
             [
              0.3333333333333333,
              "#9c179e"
             ],
             [
              0.4444444444444444,
              "#bd3786"
             ],
             [
              0.5555555555555556,
              "#d8576b"
             ],
             [
              0.6666666666666666,
              "#ed7953"
             ],
             [
              0.7777777777777778,
              "#fb9f3a"
             ],
             [
              0.8888888888888888,
              "#fdca26"
             ],
             [
              1,
              "#f0f921"
             ]
            ],
            "type": "contour"
           }
          ],
          "contourcarpet": [
           {
            "colorbar": {
             "outlinewidth": 0,
             "ticks": ""
            },
            "type": "contourcarpet"
           }
          ],
          "heatmap": [
           {
            "colorbar": {
             "outlinewidth": 0,
             "ticks": ""
            },
            "colorscale": [
             [
              0,
              "#0d0887"
             ],
             [
              0.1111111111111111,
              "#46039f"
             ],
             [
              0.2222222222222222,
              "#7201a8"
             ],
             [
              0.3333333333333333,
              "#9c179e"
             ],
             [
              0.4444444444444444,
              "#bd3786"
             ],
             [
              0.5555555555555556,
              "#d8576b"
             ],
             [
              0.6666666666666666,
              "#ed7953"
             ],
             [
              0.7777777777777778,
              "#fb9f3a"
             ],
             [
              0.8888888888888888,
              "#fdca26"
             ],
             [
              1,
              "#f0f921"
             ]
            ],
            "type": "heatmap"
           }
          ],
          "heatmapgl": [
           {
            "colorbar": {
             "outlinewidth": 0,
             "ticks": ""
            },
            "colorscale": [
             [
              0,
              "#0d0887"
             ],
             [
              0.1111111111111111,
              "#46039f"
             ],
             [
              0.2222222222222222,
              "#7201a8"
             ],
             [
              0.3333333333333333,
              "#9c179e"
             ],
             [
              0.4444444444444444,
              "#bd3786"
             ],
             [
              0.5555555555555556,
              "#d8576b"
             ],
             [
              0.6666666666666666,
              "#ed7953"
             ],
             [
              0.7777777777777778,
              "#fb9f3a"
             ],
             [
              0.8888888888888888,
              "#fdca26"
             ],
             [
              1,
              "#f0f921"
             ]
            ],
            "type": "heatmapgl"
           }
          ],
          "histogram": [
           {
            "marker": {
             "colorbar": {
              "outlinewidth": 0,
              "ticks": ""
             }
            },
            "type": "histogram"
           }
          ],
          "histogram2d": [
           {
            "colorbar": {
             "outlinewidth": 0,
             "ticks": ""
            },
            "colorscale": [
             [
              0,
              "#0d0887"
             ],
             [
              0.1111111111111111,
              "#46039f"
             ],
             [
              0.2222222222222222,
              "#7201a8"
             ],
             [
              0.3333333333333333,
              "#9c179e"
             ],
             [
              0.4444444444444444,
              "#bd3786"
             ],
             [
              0.5555555555555556,
              "#d8576b"
             ],
             [
              0.6666666666666666,
              "#ed7953"
             ],
             [
              0.7777777777777778,
              "#fb9f3a"
             ],
             [
              0.8888888888888888,
              "#fdca26"
             ],
             [
              1,
              "#f0f921"
             ]
            ],
            "type": "histogram2d"
           }
          ],
          "histogram2dcontour": [
           {
            "colorbar": {
             "outlinewidth": 0,
             "ticks": ""
            },
            "colorscale": [
             [
              0,
              "#0d0887"
             ],
             [
              0.1111111111111111,
              "#46039f"
             ],
             [
              0.2222222222222222,
              "#7201a8"
             ],
             [
              0.3333333333333333,
              "#9c179e"
             ],
             [
              0.4444444444444444,
              "#bd3786"
             ],
             [
              0.5555555555555556,
              "#d8576b"
             ],
             [
              0.6666666666666666,
              "#ed7953"
             ],
             [
              0.7777777777777778,
              "#fb9f3a"
             ],
             [
              0.8888888888888888,
              "#fdca26"
             ],
             [
              1,
              "#f0f921"
             ]
            ],
            "type": "histogram2dcontour"
           }
          ],
          "mesh3d": [
           {
            "colorbar": {
             "outlinewidth": 0,
             "ticks": ""
            },
            "type": "mesh3d"
           }
          ],
          "parcoords": [
           {
            "line": {
             "colorbar": {
              "outlinewidth": 0,
              "ticks": ""
             }
            },
            "type": "parcoords"
           }
          ],
          "pie": [
           {
            "automargin": true,
            "type": "pie"
           }
          ],
          "scatter": [
           {
            "marker": {
             "colorbar": {
              "outlinewidth": 0,
              "ticks": ""
             }
            },
            "type": "scatter"
           }
          ],
          "scatter3d": [
           {
            "line": {
             "colorbar": {
              "outlinewidth": 0,
              "ticks": ""
             }
            },
            "marker": {
             "colorbar": {
              "outlinewidth": 0,
              "ticks": ""
             }
            },
            "type": "scatter3d"
           }
          ],
          "scattercarpet": [
           {
            "marker": {
             "colorbar": {
              "outlinewidth": 0,
              "ticks": ""
             }
            },
            "type": "scattercarpet"
           }
          ],
          "scattergeo": [
           {
            "marker": {
             "colorbar": {
              "outlinewidth": 0,
              "ticks": ""
             }
            },
            "type": "scattergeo"
           }
          ],
          "scattergl": [
           {
            "marker": {
             "colorbar": {
              "outlinewidth": 0,
              "ticks": ""
             }
            },
            "type": "scattergl"
           }
          ],
          "scattermapbox": [
           {
            "marker": {
             "colorbar": {
              "outlinewidth": 0,
              "ticks": ""
             }
            },
            "type": "scattermapbox"
           }
          ],
          "scatterpolar": [
           {
            "marker": {
             "colorbar": {
              "outlinewidth": 0,
              "ticks": ""
             }
            },
            "type": "scatterpolar"
           }
          ],
          "scatterpolargl": [
           {
            "marker": {
             "colorbar": {
              "outlinewidth": 0,
              "ticks": ""
             }
            },
            "type": "scatterpolargl"
           }
          ],
          "scatterternary": [
           {
            "marker": {
             "colorbar": {
              "outlinewidth": 0,
              "ticks": ""
             }
            },
            "type": "scatterternary"
           }
          ],
          "surface": [
           {
            "colorbar": {
             "outlinewidth": 0,
             "ticks": ""
            },
            "colorscale": [
             [
              0,
              "#0d0887"
             ],
             [
              0.1111111111111111,
              "#46039f"
             ],
             [
              0.2222222222222222,
              "#7201a8"
             ],
             [
              0.3333333333333333,
              "#9c179e"
             ],
             [
              0.4444444444444444,
              "#bd3786"
             ],
             [
              0.5555555555555556,
              "#d8576b"
             ],
             [
              0.6666666666666666,
              "#ed7953"
             ],
             [
              0.7777777777777778,
              "#fb9f3a"
             ],
             [
              0.8888888888888888,
              "#fdca26"
             ],
             [
              1,
              "#f0f921"
             ]
            ],
            "type": "surface"
           }
          ],
          "table": [
           {
            "cells": {
             "fill": {
              "color": "#EBF0F8"
             },
             "line": {
              "color": "white"
             }
            },
            "header": {
             "fill": {
              "color": "#C8D4E3"
             },
             "line": {
              "color": "white"
             }
            },
            "type": "table"
           }
          ]
         },
         "layout": {
          "annotationdefaults": {
           "arrowcolor": "#2a3f5f",
           "arrowhead": 0,
           "arrowwidth": 1
          },
          "coloraxis": {
           "colorbar": {
            "outlinewidth": 0,
            "ticks": ""
           }
          },
          "colorscale": {
           "diverging": [
            [
             0,
             "#8e0152"
            ],
            [
             0.1,
             "#c51b7d"
            ],
            [
             0.2,
             "#de77ae"
            ],
            [
             0.3,
             "#f1b6da"
            ],
            [
             0.4,
             "#fde0ef"
            ],
            [
             0.5,
             "#f7f7f7"
            ],
            [
             0.6,
             "#e6f5d0"
            ],
            [
             0.7,
             "#b8e186"
            ],
            [
             0.8,
             "#7fbc41"
            ],
            [
             0.9,
             "#4d9221"
            ],
            [
             1,
             "#276419"
            ]
           ],
           "sequential": [
            [
             0,
             "#0d0887"
            ],
            [
             0.1111111111111111,
             "#46039f"
            ],
            [
             0.2222222222222222,
             "#7201a8"
            ],
            [
             0.3333333333333333,
             "#9c179e"
            ],
            [
             0.4444444444444444,
             "#bd3786"
            ],
            [
             0.5555555555555556,
             "#d8576b"
            ],
            [
             0.6666666666666666,
             "#ed7953"
            ],
            [
             0.7777777777777778,
             "#fb9f3a"
            ],
            [
             0.8888888888888888,
             "#fdca26"
            ],
            [
             1,
             "#f0f921"
            ]
           ],
           "sequentialminus": [
            [
             0,
             "#0d0887"
            ],
            [
             0.1111111111111111,
             "#46039f"
            ],
            [
             0.2222222222222222,
             "#7201a8"
            ],
            [
             0.3333333333333333,
             "#9c179e"
            ],
            [
             0.4444444444444444,
             "#bd3786"
            ],
            [
             0.5555555555555556,
             "#d8576b"
            ],
            [
             0.6666666666666666,
             "#ed7953"
            ],
            [
             0.7777777777777778,
             "#fb9f3a"
            ],
            [
             0.8888888888888888,
             "#fdca26"
            ],
            [
             1,
             "#f0f921"
            ]
           ]
          },
          "colorway": [
           "#636efa",
           "#EF553B",
           "#00cc96",
           "#ab63fa",
           "#FFA15A",
           "#19d3f3",
           "#FF6692",
           "#B6E880",
           "#FF97FF",
           "#FECB52"
          ],
          "font": {
           "color": "#2a3f5f"
          },
          "geo": {
           "bgcolor": "white",
           "lakecolor": "white",
           "landcolor": "#E5ECF6",
           "showlakes": true,
           "showland": true,
           "subunitcolor": "white"
          },
          "hoverlabel": {
           "align": "left"
          },
          "hovermode": "closest",
          "mapbox": {
           "style": "light"
          },
          "paper_bgcolor": "white",
          "plot_bgcolor": "#E5ECF6",
          "polar": {
           "angularaxis": {
            "gridcolor": "white",
            "linecolor": "white",
            "ticks": ""
           },
           "bgcolor": "#E5ECF6",
           "radialaxis": {
            "gridcolor": "white",
            "linecolor": "white",
            "ticks": ""
           }
          },
          "scene": {
           "xaxis": {
            "backgroundcolor": "#E5ECF6",
            "gridcolor": "white",
            "gridwidth": 2,
            "linecolor": "white",
            "showbackground": true,
            "ticks": "",
            "zerolinecolor": "white"
           },
           "yaxis": {
            "backgroundcolor": "#E5ECF6",
            "gridcolor": "white",
            "gridwidth": 2,
            "linecolor": "white",
            "showbackground": true,
            "ticks": "",
            "zerolinecolor": "white"
           },
           "zaxis": {
            "backgroundcolor": "#E5ECF6",
            "gridcolor": "white",
            "gridwidth": 2,
            "linecolor": "white",
            "showbackground": true,
            "ticks": "",
            "zerolinecolor": "white"
           }
          },
          "shapedefaults": {
           "line": {
            "color": "#2a3f5f"
           }
          },
          "ternary": {
           "aaxis": {
            "gridcolor": "white",
            "linecolor": "white",
            "ticks": ""
           },
           "baxis": {
            "gridcolor": "white",
            "linecolor": "white",
            "ticks": ""
           },
           "bgcolor": "#E5ECF6",
           "caxis": {
            "gridcolor": "white",
            "linecolor": "white",
            "ticks": ""
           }
          },
          "title": {
           "x": 0.05
          },
          "xaxis": {
           "automargin": true,
           "gridcolor": "white",
           "linecolor": "white",
           "ticks": "",
           "title": {
            "standoff": 15
           },
           "zerolinecolor": "white",
           "zerolinewidth": 2
          },
          "yaxis": {
           "automargin": true,
           "gridcolor": "white",
           "linecolor": "white",
           "ticks": "",
           "title": {
            "standoff": 15
           },
           "zerolinecolor": "white",
           "zerolinewidth": 2
          }
         }
        },
        "title": {
         "text": "All Cases"
        },
        "xaxis": {
         "anchor": "y",
         "domain": [
          0,
          0.2888888888888889
         ],
         "ticks": "inside",
         "title": {
          "text": "Date"
         }
        },
        "xaxis2": {
         "anchor": "y2",
         "domain": [
          0.35555555555555557,
          0.6444444444444445
         ],
         "ticks": "inside"
        },
        "xaxis3": {
         "anchor": "y3",
         "domain": [
          0.7111111111111111,
          1
         ],
         "ticks": "inside"
        },
        "yaxis": {
         "anchor": "x",
         "domain": [
          0,
          1
         ],
         "ticks": "inside",
         "title": {
          "text": "Count"
         }
        },
        "yaxis2": {
         "anchor": "x2",
         "domain": [
          0,
          1
         ],
         "matches": "y",
         "showticklabels": false
        },
        "yaxis3": {
         "anchor": "x3",
         "domain": [
          0,
          1
         ],
         "matches": "y",
         "showticklabels": false
        }
       }
      },
      "text/html": [
       "<div>\n",
       "        \n",
       "        \n",
       "            <div id=\"cb181114-2960-4dad-98a3-b51b2d691b64\" class=\"plotly-graph-div\" style=\"height:525px; width:100%;\"></div>\n",
       "            <script type=\"text/javascript\">\n",
       "                require([\"plotly\"], function(Plotly) {\n",
       "                    window.PLOTLYENV=window.PLOTLYENV || {};\n",
       "                    \n",
       "                if (document.getElementById(\"cb181114-2960-4dad-98a3-b51b2d691b64\")) {\n",
       "                    Plotly.newPlot(\n",
       "                        'cb181114-2960-4dad-98a3-b51b2d691b64',\n",
       "                        [{\"line\": {\"color\": \"firebrick\", \"width\": 1}, \"mode\": \"lines+markers\", \"name\": \"Deaths\", \"type\": \"scatter\", \"x\": [\"2020-01-30T00:00:00\", \"2020-01-31T00:00:00\", \"2020-02-01T00:00:00\", \"2020-02-02T00:00:00\", \"2020-02-03T00:00:00\", \"2020-02-04T00:00:00\", \"2020-02-05T00:00:00\", \"2020-02-06T00:00:00\", \"2020-02-07T00:00:00\", \"2020-02-08T00:00:00\", \"2020-02-09T00:00:00\", \"2020-02-10T00:00:00\", \"2020-02-11T00:00:00\", \"2020-02-12T00:00:00\", \"2020-02-13T00:00:00\", \"2020-02-14T00:00:00\", \"2020-02-15T00:00:00\", \"2020-02-16T00:00:00\", \"2020-02-17T00:00:00\", \"2020-02-18T00:00:00\", \"2020-02-19T00:00:00\", \"2020-02-20T00:00:00\", \"2020-02-21T00:00:00\", \"2020-02-22T00:00:00\", \"2020-02-23T00:00:00\", \"2020-02-24T00:00:00\", \"2020-02-25T00:00:00\", \"2020-02-26T00:00:00\", \"2020-02-27T00:00:00\", \"2020-02-28T00:00:00\", \"2020-02-29T00:00:00\", \"2020-03-01T00:00:00\", \"2020-03-02T00:00:00\", \"2020-03-03T00:00:00\", \"2020-03-04T00:00:00\", \"2020-03-05T00:00:00\", \"2020-03-06T00:00:00\", \"2020-03-07T00:00:00\", \"2020-03-08T00:00:00\", \"2020-03-09T00:00:00\", \"2020-03-10T00:00:00\", \"2020-03-11T00:00:00\", \"2020-03-12T00:00:00\", \"2020-03-13T00:00:00\", \"2020-03-14T00:00:00\", \"2020-03-15T00:00:00\", \"2020-03-16T00:00:00\", \"2020-03-17T00:00:00\", \"2020-03-18T00:00:00\", \"2020-03-19T00:00:00\", \"2020-03-20T00:00:00\", \"2020-03-21T00:00:00\", \"2020-03-22T00:00:00\", \"2020-03-23T00:00:00\", \"2020-03-24T00:00:00\", \"2020-03-25T00:00:00\", \"2020-03-26T00:00:00\", \"2020-03-27T00:00:00\", \"2020-03-28T00:00:00\", \"2020-03-29T00:00:00\", \"2020-03-30T00:00:00\", \"2020-03-31T00:00:00\", \"2020-04-01T00:00:00\", \"2020-04-02T00:00:00\", \"2020-04-03T00:00:00\", \"2020-04-04T00:00:00\", \"2020-04-05T00:00:00\"], \"xaxis\": \"x\", \"y\": [0, 0, 0, 0, 0, 0, 0, 0, 0, 0, 0, 0, 0, 0, 0, 0, 0, 0, 0, 0, 0, 0, 0, 0, 0, 0, 0, 0, 0, 0, 0, 0, 0, 0, 0, 0, 0, 0, 0, 0, 0, 0, 0, 1, 2, 2, 2, 3, 3, 4, 4, 4, 7, 7, 9, 10, 15, 17, 19, 27, 31, 35, 41, 53, 62, 75, 77], \"yaxis\": \"y\"}, {\"line\": {\"color\": \"royalblue\", \"width\": 1}, \"mode\": \"lines+markers\", \"name\": \"Confirmed\", \"type\": \"scatter\", \"x\": [\"2020-01-30T00:00:00\", \"2020-01-31T00:00:00\", \"2020-02-01T00:00:00\", \"2020-02-02T00:00:00\", \"2020-02-03T00:00:00\", \"2020-02-04T00:00:00\", \"2020-02-05T00:00:00\", \"2020-02-06T00:00:00\", \"2020-02-07T00:00:00\", \"2020-02-08T00:00:00\", \"2020-02-09T00:00:00\", \"2020-02-10T00:00:00\", \"2020-02-11T00:00:00\", \"2020-02-12T00:00:00\", \"2020-02-13T00:00:00\", \"2020-02-14T00:00:00\", \"2020-02-15T00:00:00\", \"2020-02-16T00:00:00\", \"2020-02-17T00:00:00\", \"2020-02-18T00:00:00\", \"2020-02-19T00:00:00\", \"2020-02-20T00:00:00\", \"2020-02-21T00:00:00\", \"2020-02-22T00:00:00\", \"2020-02-23T00:00:00\", \"2020-02-24T00:00:00\", \"2020-02-25T00:00:00\", \"2020-02-26T00:00:00\", \"2020-02-27T00:00:00\", \"2020-02-28T00:00:00\", \"2020-02-29T00:00:00\", \"2020-03-01T00:00:00\", \"2020-03-02T00:00:00\", \"2020-03-03T00:00:00\", \"2020-03-04T00:00:00\", \"2020-03-05T00:00:00\", \"2020-03-06T00:00:00\", \"2020-03-07T00:00:00\", \"2020-03-08T00:00:00\", \"2020-03-09T00:00:00\", \"2020-03-10T00:00:00\", \"2020-03-11T00:00:00\", \"2020-03-12T00:00:00\", \"2020-03-13T00:00:00\", \"2020-03-14T00:00:00\", \"2020-03-15T00:00:00\", \"2020-03-16T00:00:00\", \"2020-03-17T00:00:00\", \"2020-03-18T00:00:00\", \"2020-03-19T00:00:00\", \"2020-03-20T00:00:00\", \"2020-03-21T00:00:00\", \"2020-03-22T00:00:00\", \"2020-03-23T00:00:00\", \"2020-03-24T00:00:00\", \"2020-03-25T00:00:00\", \"2020-03-26T00:00:00\", \"2020-03-27T00:00:00\", \"2020-03-28T00:00:00\", \"2020-03-29T00:00:00\", \"2020-03-30T00:00:00\", \"2020-03-31T00:00:00\", \"2020-04-01T00:00:00\", \"2020-04-02T00:00:00\", \"2020-04-03T00:00:00\", \"2020-04-04T00:00:00\", \"2020-04-05T00:00:00\"], \"xaxis\": \"x2\", \"y\": [1, 1, 2, 3, 3, 3, 3, 3, 3, 3, 3, 3, 3, 3, 3, 3, 3, 3, 3, 3, 3, 3, 3, 3, 3, 3, 3, 3, 3, 3, 3, 3, 5, 6, 28, 30, 31, 34, 39, 46, 58, 60, 74, 81, 84, 110, 114, 137, 151, 173, 223, 283, 360, 433, 519, 606, 694, 724, 909, 1024, 1251, 1397, 1834, 2069, 2547, 3072, 3374], \"yaxis\": \"y2\"}, {\"line\": {\"color\": \"green\", \"width\": 1}, \"mode\": \"lines+markers\", \"name\": \"Cured\", \"type\": \"scatter\", \"x\": [\"2020-01-30T00:00:00\", \"2020-01-31T00:00:00\", \"2020-02-01T00:00:00\", \"2020-02-02T00:00:00\", \"2020-02-03T00:00:00\", \"2020-02-04T00:00:00\", \"2020-02-05T00:00:00\", \"2020-02-06T00:00:00\", \"2020-02-07T00:00:00\", \"2020-02-08T00:00:00\", \"2020-02-09T00:00:00\", \"2020-02-10T00:00:00\", \"2020-02-11T00:00:00\", \"2020-02-12T00:00:00\", \"2020-02-13T00:00:00\", \"2020-02-14T00:00:00\", \"2020-02-15T00:00:00\", \"2020-02-16T00:00:00\", \"2020-02-17T00:00:00\", \"2020-02-18T00:00:00\", \"2020-02-19T00:00:00\", \"2020-02-20T00:00:00\", \"2020-02-21T00:00:00\", \"2020-02-22T00:00:00\", \"2020-02-23T00:00:00\", \"2020-02-24T00:00:00\", \"2020-02-25T00:00:00\", \"2020-02-26T00:00:00\", \"2020-02-27T00:00:00\", \"2020-02-28T00:00:00\", \"2020-02-29T00:00:00\", \"2020-03-01T00:00:00\", \"2020-03-02T00:00:00\", \"2020-03-03T00:00:00\", \"2020-03-04T00:00:00\", \"2020-03-05T00:00:00\", \"2020-03-06T00:00:00\", \"2020-03-07T00:00:00\", \"2020-03-08T00:00:00\", \"2020-03-09T00:00:00\", \"2020-03-10T00:00:00\", \"2020-03-11T00:00:00\", \"2020-03-12T00:00:00\", \"2020-03-13T00:00:00\", \"2020-03-14T00:00:00\", \"2020-03-15T00:00:00\", \"2020-03-16T00:00:00\", \"2020-03-17T00:00:00\", \"2020-03-18T00:00:00\", \"2020-03-19T00:00:00\", \"2020-03-20T00:00:00\", \"2020-03-21T00:00:00\", \"2020-03-22T00:00:00\", \"2020-03-23T00:00:00\", \"2020-03-24T00:00:00\", \"2020-03-25T00:00:00\", \"2020-03-26T00:00:00\", \"2020-03-27T00:00:00\", \"2020-03-28T00:00:00\", \"2020-03-29T00:00:00\", \"2020-03-30T00:00:00\", \"2020-03-31T00:00:00\", \"2020-04-01T00:00:00\", \"2020-04-02T00:00:00\", \"2020-04-03T00:00:00\", \"2020-04-04T00:00:00\", \"2020-04-05T00:00:00\"], \"xaxis\": \"x3\", \"y\": [0, 0, 0, 0, 0, 0, 0, 0, 0, 0, 0, 0, 0, 0, 0, 0, 0, 0, 0, 0, 0, 0, 0, 0, 0, 0, 0, 0, 0, 0, 0, 0, 0, 3, 3, 3, 3, 3, 3, 3, 3, 3, 3, 3, 10, 13, 13, 14, 14, 20, 23, 23, 24, 24, 40, 43, 45, 67, 80, 96, 102, 124, 144, 156, 163, 213, 267], \"yaxis\": \"y3\"}],\n",
       "                        {\"annotations\": [{\"font\": {\"size\": 16}, \"showarrow\": false, \"text\": \"Total deaths - 77\", \"x\": 0.14444444444444446, \"xanchor\": \"center\", \"xref\": \"paper\", \"y\": 1.0, \"yanchor\": \"bottom\", \"yref\": \"paper\"}, {\"font\": {\"size\": 16}, \"showarrow\": false, \"text\": \"Total confirmed - 3374\", \"x\": 0.5, \"xanchor\": \"center\", \"xref\": \"paper\", \"y\": 1.0, \"yanchor\": \"bottom\", \"yref\": \"paper\"}, {\"font\": {\"size\": 16}, \"showarrow\": false, \"text\": \"Total cured - 267\", \"x\": 0.8555555555555556, \"xanchor\": \"center\", \"xref\": \"paper\", \"y\": 1.0, \"yanchor\": \"bottom\", \"yref\": \"paper\"}], \"font\": {\"color\": \"black\", \"family\": \"Courier New, monospace\", \"size\": 18}, \"template\": {\"data\": {\"bar\": [{\"error_x\": {\"color\": \"#2a3f5f\"}, \"error_y\": {\"color\": \"#2a3f5f\"}, \"marker\": {\"line\": {\"color\": \"#E5ECF6\", \"width\": 0.5}}, \"type\": \"bar\"}], \"barpolar\": [{\"marker\": {\"line\": {\"color\": \"#E5ECF6\", \"width\": 0.5}}, \"type\": \"barpolar\"}], \"carpet\": [{\"aaxis\": {\"endlinecolor\": \"#2a3f5f\", \"gridcolor\": \"white\", \"linecolor\": \"white\", \"minorgridcolor\": \"white\", \"startlinecolor\": \"#2a3f5f\"}, \"baxis\": {\"endlinecolor\": \"#2a3f5f\", \"gridcolor\": \"white\", \"linecolor\": \"white\", \"minorgridcolor\": \"white\", \"startlinecolor\": \"#2a3f5f\"}, \"type\": \"carpet\"}], \"choropleth\": [{\"colorbar\": {\"outlinewidth\": 0, \"ticks\": \"\"}, \"type\": \"choropleth\"}], \"contour\": [{\"colorbar\": {\"outlinewidth\": 0, \"ticks\": \"\"}, \"colorscale\": [[0.0, \"#0d0887\"], [0.1111111111111111, \"#46039f\"], [0.2222222222222222, \"#7201a8\"], [0.3333333333333333, \"#9c179e\"], [0.4444444444444444, \"#bd3786\"], [0.5555555555555556, \"#d8576b\"], [0.6666666666666666, \"#ed7953\"], [0.7777777777777778, \"#fb9f3a\"], [0.8888888888888888, \"#fdca26\"], [1.0, \"#f0f921\"]], \"type\": \"contour\"}], \"contourcarpet\": [{\"colorbar\": {\"outlinewidth\": 0, \"ticks\": \"\"}, \"type\": \"contourcarpet\"}], \"heatmap\": [{\"colorbar\": {\"outlinewidth\": 0, \"ticks\": \"\"}, \"colorscale\": [[0.0, \"#0d0887\"], [0.1111111111111111, \"#46039f\"], [0.2222222222222222, \"#7201a8\"], [0.3333333333333333, \"#9c179e\"], [0.4444444444444444, \"#bd3786\"], [0.5555555555555556, \"#d8576b\"], [0.6666666666666666, \"#ed7953\"], [0.7777777777777778, \"#fb9f3a\"], [0.8888888888888888, \"#fdca26\"], [1.0, \"#f0f921\"]], \"type\": \"heatmap\"}], \"heatmapgl\": [{\"colorbar\": {\"outlinewidth\": 0, \"ticks\": \"\"}, \"colorscale\": [[0.0, \"#0d0887\"], [0.1111111111111111, \"#46039f\"], [0.2222222222222222, \"#7201a8\"], [0.3333333333333333, \"#9c179e\"], [0.4444444444444444, \"#bd3786\"], [0.5555555555555556, \"#d8576b\"], [0.6666666666666666, \"#ed7953\"], [0.7777777777777778, \"#fb9f3a\"], [0.8888888888888888, \"#fdca26\"], [1.0, \"#f0f921\"]], \"type\": \"heatmapgl\"}], \"histogram\": [{\"marker\": {\"colorbar\": {\"outlinewidth\": 0, \"ticks\": \"\"}}, \"type\": \"histogram\"}], \"histogram2d\": [{\"colorbar\": {\"outlinewidth\": 0, \"ticks\": \"\"}, \"colorscale\": [[0.0, \"#0d0887\"], [0.1111111111111111, \"#46039f\"], [0.2222222222222222, \"#7201a8\"], [0.3333333333333333, \"#9c179e\"], [0.4444444444444444, \"#bd3786\"], [0.5555555555555556, \"#d8576b\"], [0.6666666666666666, \"#ed7953\"], [0.7777777777777778, \"#fb9f3a\"], [0.8888888888888888, \"#fdca26\"], [1.0, \"#f0f921\"]], \"type\": \"histogram2d\"}], \"histogram2dcontour\": [{\"colorbar\": {\"outlinewidth\": 0, \"ticks\": \"\"}, \"colorscale\": [[0.0, \"#0d0887\"], [0.1111111111111111, \"#46039f\"], [0.2222222222222222, \"#7201a8\"], [0.3333333333333333, \"#9c179e\"], [0.4444444444444444, \"#bd3786\"], [0.5555555555555556, \"#d8576b\"], [0.6666666666666666, \"#ed7953\"], [0.7777777777777778, \"#fb9f3a\"], [0.8888888888888888, \"#fdca26\"], [1.0, \"#f0f921\"]], \"type\": \"histogram2dcontour\"}], \"mesh3d\": [{\"colorbar\": {\"outlinewidth\": 0, \"ticks\": \"\"}, \"type\": \"mesh3d\"}], \"parcoords\": [{\"line\": {\"colorbar\": {\"outlinewidth\": 0, \"ticks\": \"\"}}, \"type\": \"parcoords\"}], \"pie\": [{\"automargin\": true, \"type\": \"pie\"}], \"scatter\": [{\"marker\": {\"colorbar\": {\"outlinewidth\": 0, \"ticks\": \"\"}}, \"type\": \"scatter\"}], \"scatter3d\": [{\"line\": {\"colorbar\": {\"outlinewidth\": 0, \"ticks\": \"\"}}, \"marker\": {\"colorbar\": {\"outlinewidth\": 0, \"ticks\": \"\"}}, \"type\": \"scatter3d\"}], \"scattercarpet\": [{\"marker\": {\"colorbar\": {\"outlinewidth\": 0, \"ticks\": \"\"}}, \"type\": \"scattercarpet\"}], \"scattergeo\": [{\"marker\": {\"colorbar\": {\"outlinewidth\": 0, \"ticks\": \"\"}}, \"type\": \"scattergeo\"}], \"scattergl\": [{\"marker\": {\"colorbar\": {\"outlinewidth\": 0, \"ticks\": \"\"}}, \"type\": \"scattergl\"}], \"scattermapbox\": [{\"marker\": {\"colorbar\": {\"outlinewidth\": 0, \"ticks\": \"\"}}, \"type\": \"scattermapbox\"}], \"scatterpolar\": [{\"marker\": {\"colorbar\": {\"outlinewidth\": 0, \"ticks\": \"\"}}, \"type\": \"scatterpolar\"}], \"scatterpolargl\": [{\"marker\": {\"colorbar\": {\"outlinewidth\": 0, \"ticks\": \"\"}}, \"type\": \"scatterpolargl\"}], \"scatterternary\": [{\"marker\": {\"colorbar\": {\"outlinewidth\": 0, \"ticks\": \"\"}}, \"type\": \"scatterternary\"}], \"surface\": [{\"colorbar\": {\"outlinewidth\": 0, \"ticks\": \"\"}, \"colorscale\": [[0.0, \"#0d0887\"], [0.1111111111111111, \"#46039f\"], [0.2222222222222222, \"#7201a8\"], [0.3333333333333333, \"#9c179e\"], [0.4444444444444444, \"#bd3786\"], [0.5555555555555556, \"#d8576b\"], [0.6666666666666666, \"#ed7953\"], [0.7777777777777778, \"#fb9f3a\"], [0.8888888888888888, \"#fdca26\"], [1.0, \"#f0f921\"]], \"type\": \"surface\"}], \"table\": [{\"cells\": {\"fill\": {\"color\": \"#EBF0F8\"}, \"line\": {\"color\": \"white\"}}, \"header\": {\"fill\": {\"color\": \"#C8D4E3\"}, \"line\": {\"color\": \"white\"}}, \"type\": \"table\"}]}, \"layout\": {\"annotationdefaults\": {\"arrowcolor\": \"#2a3f5f\", \"arrowhead\": 0, \"arrowwidth\": 1}, \"coloraxis\": {\"colorbar\": {\"outlinewidth\": 0, \"ticks\": \"\"}}, \"colorscale\": {\"diverging\": [[0, \"#8e0152\"], [0.1, \"#c51b7d\"], [0.2, \"#de77ae\"], [0.3, \"#f1b6da\"], [0.4, \"#fde0ef\"], [0.5, \"#f7f7f7\"], [0.6, \"#e6f5d0\"], [0.7, \"#b8e186\"], [0.8, \"#7fbc41\"], [0.9, \"#4d9221\"], [1, \"#276419\"]], \"sequential\": [[0.0, \"#0d0887\"], [0.1111111111111111, \"#46039f\"], [0.2222222222222222, \"#7201a8\"], [0.3333333333333333, \"#9c179e\"], [0.4444444444444444, \"#bd3786\"], [0.5555555555555556, \"#d8576b\"], [0.6666666666666666, \"#ed7953\"], [0.7777777777777778, \"#fb9f3a\"], [0.8888888888888888, \"#fdca26\"], [1.0, \"#f0f921\"]], \"sequentialminus\": [[0.0, \"#0d0887\"], [0.1111111111111111, \"#46039f\"], [0.2222222222222222, \"#7201a8\"], [0.3333333333333333, \"#9c179e\"], [0.4444444444444444, \"#bd3786\"], [0.5555555555555556, \"#d8576b\"], [0.6666666666666666, \"#ed7953\"], [0.7777777777777778, \"#fb9f3a\"], [0.8888888888888888, \"#fdca26\"], [1.0, \"#f0f921\"]]}, \"colorway\": [\"#636efa\", \"#EF553B\", \"#00cc96\", \"#ab63fa\", \"#FFA15A\", \"#19d3f3\", \"#FF6692\", \"#B6E880\", \"#FF97FF\", \"#FECB52\"], \"font\": {\"color\": \"#2a3f5f\"}, \"geo\": {\"bgcolor\": \"white\", \"lakecolor\": \"white\", \"landcolor\": \"#E5ECF6\", \"showlakes\": true, \"showland\": true, \"subunitcolor\": \"white\"}, \"hoverlabel\": {\"align\": \"left\"}, \"hovermode\": \"closest\", \"mapbox\": {\"style\": \"light\"}, \"paper_bgcolor\": \"white\", \"plot_bgcolor\": \"#E5ECF6\", \"polar\": {\"angularaxis\": {\"gridcolor\": \"white\", \"linecolor\": \"white\", \"ticks\": \"\"}, \"bgcolor\": \"#E5ECF6\", \"radialaxis\": {\"gridcolor\": \"white\", \"linecolor\": \"white\", \"ticks\": \"\"}}, \"scene\": {\"xaxis\": {\"backgroundcolor\": \"#E5ECF6\", \"gridcolor\": \"white\", \"gridwidth\": 2, \"linecolor\": \"white\", \"showbackground\": true, \"ticks\": \"\", \"zerolinecolor\": \"white\"}, \"yaxis\": {\"backgroundcolor\": \"#E5ECF6\", \"gridcolor\": \"white\", \"gridwidth\": 2, \"linecolor\": \"white\", \"showbackground\": true, \"ticks\": \"\", \"zerolinecolor\": \"white\"}, \"zaxis\": {\"backgroundcolor\": \"#E5ECF6\", \"gridcolor\": \"white\", \"gridwidth\": 2, \"linecolor\": \"white\", \"showbackground\": true, \"ticks\": \"\", \"zerolinecolor\": \"white\"}}, \"shapedefaults\": {\"line\": {\"color\": \"#2a3f5f\"}}, \"ternary\": {\"aaxis\": {\"gridcolor\": \"white\", \"linecolor\": \"white\", \"ticks\": \"\"}, \"baxis\": {\"gridcolor\": \"white\", \"linecolor\": \"white\", \"ticks\": \"\"}, \"bgcolor\": \"#E5ECF6\", \"caxis\": {\"gridcolor\": \"white\", \"linecolor\": \"white\", \"ticks\": \"\"}}, \"title\": {\"x\": 0.05}, \"xaxis\": {\"automargin\": true, \"gridcolor\": \"white\", \"linecolor\": \"white\", \"ticks\": \"\", \"title\": {\"standoff\": 15}, \"zerolinecolor\": \"white\", \"zerolinewidth\": 2}, \"yaxis\": {\"automargin\": true, \"gridcolor\": \"white\", \"linecolor\": \"white\", \"ticks\": \"\", \"title\": {\"standoff\": 15}, \"zerolinecolor\": \"white\", \"zerolinewidth\": 2}}}, \"title\": {\"text\": \"All Cases\"}, \"xaxis\": {\"anchor\": \"y\", \"domain\": [0.0, 0.2888888888888889], \"ticks\": \"inside\", \"title\": {\"text\": \"Date\"}}, \"xaxis2\": {\"anchor\": \"y2\", \"domain\": [0.35555555555555557, 0.6444444444444445], \"ticks\": \"inside\"}, \"xaxis3\": {\"anchor\": \"y3\", \"domain\": [0.7111111111111111, 1.0], \"ticks\": \"inside\"}, \"yaxis\": {\"anchor\": \"x\", \"domain\": [0.0, 1.0], \"ticks\": \"inside\", \"title\": {\"text\": \"Count\"}}, \"yaxis2\": {\"anchor\": \"x2\", \"domain\": [0.0, 1.0], \"matches\": \"y\", \"showticklabels\": false}, \"yaxis3\": {\"anchor\": \"x3\", \"domain\": [0.0, 1.0], \"matches\": \"y\", \"showticklabels\": false}},\n",
       "                        {\"responsive\": true}\n",
       "                    ).then(function(){\n",
       "                            \n",
       "var gd = document.getElementById('cb181114-2960-4dad-98a3-b51b2d691b64');\n",
       "var x = new MutationObserver(function (mutations, observer) {{\n",
       "        var display = window.getComputedStyle(gd).display;\n",
       "        if (!display || display === 'none') {{\n",
       "            console.log([gd, 'removed!']);\n",
       "            Plotly.purge(gd);\n",
       "            observer.disconnect();\n",
       "        }}\n",
       "}});\n",
       "\n",
       "// Listen for the removal of the full notebook cells\n",
       "var notebookContainer = gd.closest('#notebook-container');\n",
       "if (notebookContainer) {{\n",
       "    x.observe(notebookContainer, {childList: true});\n",
       "}}\n",
       "\n",
       "// Listen for the clearing of the current output cell\n",
       "var outputEl = gd.closest('.output');\n",
       "if (outputEl) {{\n",
       "    x.observe(outputEl, {childList: true});\n",
       "}}\n",
       "\n",
       "                        })\n",
       "                };\n",
       "                });\n",
       "            </script>\n",
       "        </div>"
      ]
     },
     "metadata": {},
     "output_type": "display_data"
    }
   ],
   "source": [
    "\n",
    "from plotly.subplots import make_subplots\n",
    "fig = make_subplots(rows=1, cols=3, shared_yaxes=True,\n",
    "                    subplot_titles=(\"Total deaths - \" + str(death_count),\"Total confirmed - \" + str(confirmed_count),\n",
    "                                    \"Total cured - \" + str(cured_count)))\n",
    "\n",
    "# Create and style traces\n",
    "fig.add_trace(go.Scatter(x=date_group.Date, y=date_group.Deaths, name='Deaths',\n",
    "                         line=dict(color='firebrick', width=1), mode='lines+markers'), row=1, col=1)\n",
    "fig.add_trace(go.Scatter(x=date_group.Date, y=date_group.Confirmed, name = 'Confirmed',\n",
    "                         line=dict(color='royalblue', width=1), mode='lines+markers',), row=1, col=2)\n",
    "fig.add_trace(go.Scatter(x=date_group.Date, y=date_group.Cured, name='Cured',\n",
    "                         line=dict(color='green', width=1), mode='lines+markers',), row=1, col=3)\n",
    "\n",
    "fig.update_layout(\n",
    "    title=\"All Cases\",\n",
    "    xaxis_title=\"Date\",\n",
    "    yaxis_title=\"Count\",\n",
    "    font=dict(\n",
    "        family=\"Courier New, monospace\",\n",
    "        size=18,\n",
    "        color=\"black\"\n",
    "    )\n",
    ")\n",
    "\n",
    "fig.update_xaxes(ticks=\"inside\")\n",
    "fig.update_yaxes(ticks=\"inside\", col=1)\n",
    "\n",
    "fig.show()\n",
    "\n"
   ]
  },
  {
   "cell_type": "code",
   "execution_count": 8,
   "metadata": {
    "ExecuteTime": {
     "end_time": "2020-04-05T13:37:05.741767Z",
     "start_time": "2020-04-05T13:37:05.487755Z"
    },
    "hide_input": true,
    "jupyter": {
     "source_hidden": true
    }
   },
   "outputs": [
    {
     "data": {
      "application/vnd.plotly.v1+json": {
       "config": {
        "plotlyServerURL": "https://plot.ly"
       },
       "data": [
        {
         "name": "Confirmed",
         "type": "bar",
         "x": [
          "2020-01-30T00:00:00",
          "2020-01-31T00:00:00",
          "2020-02-01T00:00:00",
          "2020-02-02T00:00:00",
          "2020-02-03T00:00:00",
          "2020-02-04T00:00:00",
          "2020-02-05T00:00:00",
          "2020-02-06T00:00:00",
          "2020-02-07T00:00:00",
          "2020-02-08T00:00:00",
          "2020-02-09T00:00:00",
          "2020-02-10T00:00:00",
          "2020-02-11T00:00:00",
          "2020-02-12T00:00:00",
          "2020-02-13T00:00:00",
          "2020-02-14T00:00:00",
          "2020-02-15T00:00:00",
          "2020-02-16T00:00:00",
          "2020-02-17T00:00:00",
          "2020-02-18T00:00:00",
          "2020-02-19T00:00:00",
          "2020-02-20T00:00:00",
          "2020-02-21T00:00:00",
          "2020-02-22T00:00:00",
          "2020-02-23T00:00:00",
          "2020-02-24T00:00:00",
          "2020-02-25T00:00:00",
          "2020-02-26T00:00:00",
          "2020-02-27T00:00:00",
          "2020-02-28T00:00:00",
          "2020-02-29T00:00:00",
          "2020-03-01T00:00:00",
          "2020-03-02T00:00:00",
          "2020-03-03T00:00:00",
          "2020-03-04T00:00:00",
          "2020-03-05T00:00:00",
          "2020-03-06T00:00:00",
          "2020-03-07T00:00:00",
          "2020-03-08T00:00:00",
          "2020-03-09T00:00:00",
          "2020-03-10T00:00:00",
          "2020-03-11T00:00:00",
          "2020-03-12T00:00:00",
          "2020-03-13T00:00:00",
          "2020-03-14T00:00:00",
          "2020-03-15T00:00:00",
          "2020-03-16T00:00:00",
          "2020-03-17T00:00:00",
          "2020-03-18T00:00:00",
          "2020-03-19T00:00:00",
          "2020-03-20T00:00:00",
          "2020-03-21T00:00:00",
          "2020-03-22T00:00:00",
          "2020-03-23T00:00:00",
          "2020-03-24T00:00:00",
          "2020-03-25T00:00:00",
          "2020-03-26T00:00:00",
          "2020-03-27T00:00:00",
          "2020-03-28T00:00:00",
          "2020-03-29T00:00:00",
          "2020-03-30T00:00:00",
          "2020-03-31T00:00:00",
          "2020-04-01T00:00:00",
          "2020-04-02T00:00:00",
          "2020-04-03T00:00:00",
          "2020-04-04T00:00:00",
          "2020-04-05T00:00:00"
         ],
         "y": [
          1,
          1,
          2,
          3,
          3,
          3,
          3,
          3,
          3,
          3,
          3,
          3,
          3,
          3,
          3,
          3,
          3,
          3,
          3,
          3,
          3,
          3,
          3,
          3,
          3,
          3,
          3,
          3,
          3,
          3,
          3,
          3,
          5,
          6,
          28,
          30,
          31,
          34,
          39,
          46,
          58,
          60,
          74,
          81,
          84,
          110,
          114,
          137,
          151,
          173,
          223,
          283,
          360,
          433,
          519,
          606,
          694,
          724,
          909,
          1024,
          1251,
          1397,
          1834,
          2069,
          2547,
          3072,
          3374
         ]
        },
        {
         "name": "Deaths",
         "type": "bar",
         "x": [
          "2020-01-30T00:00:00",
          "2020-01-31T00:00:00",
          "2020-02-01T00:00:00",
          "2020-02-02T00:00:00",
          "2020-02-03T00:00:00",
          "2020-02-04T00:00:00",
          "2020-02-05T00:00:00",
          "2020-02-06T00:00:00",
          "2020-02-07T00:00:00",
          "2020-02-08T00:00:00",
          "2020-02-09T00:00:00",
          "2020-02-10T00:00:00",
          "2020-02-11T00:00:00",
          "2020-02-12T00:00:00",
          "2020-02-13T00:00:00",
          "2020-02-14T00:00:00",
          "2020-02-15T00:00:00",
          "2020-02-16T00:00:00",
          "2020-02-17T00:00:00",
          "2020-02-18T00:00:00",
          "2020-02-19T00:00:00",
          "2020-02-20T00:00:00",
          "2020-02-21T00:00:00",
          "2020-02-22T00:00:00",
          "2020-02-23T00:00:00",
          "2020-02-24T00:00:00",
          "2020-02-25T00:00:00",
          "2020-02-26T00:00:00",
          "2020-02-27T00:00:00",
          "2020-02-28T00:00:00",
          "2020-02-29T00:00:00",
          "2020-03-01T00:00:00",
          "2020-03-02T00:00:00",
          "2020-03-03T00:00:00",
          "2020-03-04T00:00:00",
          "2020-03-05T00:00:00",
          "2020-03-06T00:00:00",
          "2020-03-07T00:00:00",
          "2020-03-08T00:00:00",
          "2020-03-09T00:00:00",
          "2020-03-10T00:00:00",
          "2020-03-11T00:00:00",
          "2020-03-12T00:00:00",
          "2020-03-13T00:00:00",
          "2020-03-14T00:00:00",
          "2020-03-15T00:00:00",
          "2020-03-16T00:00:00",
          "2020-03-17T00:00:00",
          "2020-03-18T00:00:00",
          "2020-03-19T00:00:00",
          "2020-03-20T00:00:00",
          "2020-03-21T00:00:00",
          "2020-03-22T00:00:00",
          "2020-03-23T00:00:00",
          "2020-03-24T00:00:00",
          "2020-03-25T00:00:00",
          "2020-03-26T00:00:00",
          "2020-03-27T00:00:00",
          "2020-03-28T00:00:00",
          "2020-03-29T00:00:00",
          "2020-03-30T00:00:00",
          "2020-03-31T00:00:00",
          "2020-04-01T00:00:00",
          "2020-04-02T00:00:00",
          "2020-04-03T00:00:00",
          "2020-04-04T00:00:00",
          "2020-04-05T00:00:00"
         ],
         "y": [
          0,
          0,
          0,
          0,
          0,
          0,
          0,
          0,
          0,
          0,
          0,
          0,
          0,
          0,
          0,
          0,
          0,
          0,
          0,
          0,
          0,
          0,
          0,
          0,
          0,
          0,
          0,
          0,
          0,
          0,
          0,
          0,
          0,
          0,
          0,
          0,
          0,
          0,
          0,
          0,
          0,
          0,
          0,
          1,
          2,
          2,
          2,
          3,
          3,
          4,
          4,
          4,
          7,
          7,
          9,
          10,
          15,
          17,
          19,
          27,
          31,
          35,
          41,
          53,
          62,
          75,
          77
         ]
        },
        {
         "name": "Cured",
         "type": "bar",
         "x": [
          "2020-01-30T00:00:00",
          "2020-01-31T00:00:00",
          "2020-02-01T00:00:00",
          "2020-02-02T00:00:00",
          "2020-02-03T00:00:00",
          "2020-02-04T00:00:00",
          "2020-02-05T00:00:00",
          "2020-02-06T00:00:00",
          "2020-02-07T00:00:00",
          "2020-02-08T00:00:00",
          "2020-02-09T00:00:00",
          "2020-02-10T00:00:00",
          "2020-02-11T00:00:00",
          "2020-02-12T00:00:00",
          "2020-02-13T00:00:00",
          "2020-02-14T00:00:00",
          "2020-02-15T00:00:00",
          "2020-02-16T00:00:00",
          "2020-02-17T00:00:00",
          "2020-02-18T00:00:00",
          "2020-02-19T00:00:00",
          "2020-02-20T00:00:00",
          "2020-02-21T00:00:00",
          "2020-02-22T00:00:00",
          "2020-02-23T00:00:00",
          "2020-02-24T00:00:00",
          "2020-02-25T00:00:00",
          "2020-02-26T00:00:00",
          "2020-02-27T00:00:00",
          "2020-02-28T00:00:00",
          "2020-02-29T00:00:00",
          "2020-03-01T00:00:00",
          "2020-03-02T00:00:00",
          "2020-03-03T00:00:00",
          "2020-03-04T00:00:00",
          "2020-03-05T00:00:00",
          "2020-03-06T00:00:00",
          "2020-03-07T00:00:00",
          "2020-03-08T00:00:00",
          "2020-03-09T00:00:00",
          "2020-03-10T00:00:00",
          "2020-03-11T00:00:00",
          "2020-03-12T00:00:00",
          "2020-03-13T00:00:00",
          "2020-03-14T00:00:00",
          "2020-03-15T00:00:00",
          "2020-03-16T00:00:00",
          "2020-03-17T00:00:00",
          "2020-03-18T00:00:00",
          "2020-03-19T00:00:00",
          "2020-03-20T00:00:00",
          "2020-03-21T00:00:00",
          "2020-03-22T00:00:00",
          "2020-03-23T00:00:00",
          "2020-03-24T00:00:00",
          "2020-03-25T00:00:00",
          "2020-03-26T00:00:00",
          "2020-03-27T00:00:00",
          "2020-03-28T00:00:00",
          "2020-03-29T00:00:00",
          "2020-03-30T00:00:00",
          "2020-03-31T00:00:00",
          "2020-04-01T00:00:00",
          "2020-04-02T00:00:00",
          "2020-04-03T00:00:00",
          "2020-04-04T00:00:00",
          "2020-04-05T00:00:00"
         ],
         "y": [
          0,
          0,
          0,
          0,
          0,
          0,
          0,
          0,
          0,
          0,
          0,
          0,
          0,
          0,
          0,
          0,
          0,
          0,
          0,
          0,
          0,
          0,
          0,
          0,
          0,
          0,
          0,
          0,
          0,
          0,
          0,
          0,
          0,
          3,
          3,
          3,
          3,
          3,
          3,
          3,
          3,
          3,
          3,
          3,
          10,
          13,
          13,
          14,
          14,
          20,
          23,
          23,
          24,
          24,
          40,
          43,
          45,
          67,
          80,
          96,
          102,
          124,
          144,
          156,
          163,
          213,
          267
         ]
        }
       ],
       "layout": {
        "autosize": false,
        "barmode": "relative",
        "height": 750,
        "template": {
         "data": {
          "bar": [
           {
            "error_x": {
             "color": "#2a3f5f"
            },
            "error_y": {
             "color": "#2a3f5f"
            },
            "marker": {
             "line": {
              "color": "#E5ECF6",
              "width": 0.5
             }
            },
            "type": "bar"
           }
          ],
          "barpolar": [
           {
            "marker": {
             "line": {
              "color": "#E5ECF6",
              "width": 0.5
             }
            },
            "type": "barpolar"
           }
          ],
          "carpet": [
           {
            "aaxis": {
             "endlinecolor": "#2a3f5f",
             "gridcolor": "white",
             "linecolor": "white",
             "minorgridcolor": "white",
             "startlinecolor": "#2a3f5f"
            },
            "baxis": {
             "endlinecolor": "#2a3f5f",
             "gridcolor": "white",
             "linecolor": "white",
             "minorgridcolor": "white",
             "startlinecolor": "#2a3f5f"
            },
            "type": "carpet"
           }
          ],
          "choropleth": [
           {
            "colorbar": {
             "outlinewidth": 0,
             "ticks": ""
            },
            "type": "choropleth"
           }
          ],
          "contour": [
           {
            "colorbar": {
             "outlinewidth": 0,
             "ticks": ""
            },
            "colorscale": [
             [
              0,
              "#0d0887"
             ],
             [
              0.1111111111111111,
              "#46039f"
             ],
             [
              0.2222222222222222,
              "#7201a8"
             ],
             [
              0.3333333333333333,
              "#9c179e"
             ],
             [
              0.4444444444444444,
              "#bd3786"
             ],
             [
              0.5555555555555556,
              "#d8576b"
             ],
             [
              0.6666666666666666,
              "#ed7953"
             ],
             [
              0.7777777777777778,
              "#fb9f3a"
             ],
             [
              0.8888888888888888,
              "#fdca26"
             ],
             [
              1,
              "#f0f921"
             ]
            ],
            "type": "contour"
           }
          ],
          "contourcarpet": [
           {
            "colorbar": {
             "outlinewidth": 0,
             "ticks": ""
            },
            "type": "contourcarpet"
           }
          ],
          "heatmap": [
           {
            "colorbar": {
             "outlinewidth": 0,
             "ticks": ""
            },
            "colorscale": [
             [
              0,
              "#0d0887"
             ],
             [
              0.1111111111111111,
              "#46039f"
             ],
             [
              0.2222222222222222,
              "#7201a8"
             ],
             [
              0.3333333333333333,
              "#9c179e"
             ],
             [
              0.4444444444444444,
              "#bd3786"
             ],
             [
              0.5555555555555556,
              "#d8576b"
             ],
             [
              0.6666666666666666,
              "#ed7953"
             ],
             [
              0.7777777777777778,
              "#fb9f3a"
             ],
             [
              0.8888888888888888,
              "#fdca26"
             ],
             [
              1,
              "#f0f921"
             ]
            ],
            "type": "heatmap"
           }
          ],
          "heatmapgl": [
           {
            "colorbar": {
             "outlinewidth": 0,
             "ticks": ""
            },
            "colorscale": [
             [
              0,
              "#0d0887"
             ],
             [
              0.1111111111111111,
              "#46039f"
             ],
             [
              0.2222222222222222,
              "#7201a8"
             ],
             [
              0.3333333333333333,
              "#9c179e"
             ],
             [
              0.4444444444444444,
              "#bd3786"
             ],
             [
              0.5555555555555556,
              "#d8576b"
             ],
             [
              0.6666666666666666,
              "#ed7953"
             ],
             [
              0.7777777777777778,
              "#fb9f3a"
             ],
             [
              0.8888888888888888,
              "#fdca26"
             ],
             [
              1,
              "#f0f921"
             ]
            ],
            "type": "heatmapgl"
           }
          ],
          "histogram": [
           {
            "marker": {
             "colorbar": {
              "outlinewidth": 0,
              "ticks": ""
             }
            },
            "type": "histogram"
           }
          ],
          "histogram2d": [
           {
            "colorbar": {
             "outlinewidth": 0,
             "ticks": ""
            },
            "colorscale": [
             [
              0,
              "#0d0887"
             ],
             [
              0.1111111111111111,
              "#46039f"
             ],
             [
              0.2222222222222222,
              "#7201a8"
             ],
             [
              0.3333333333333333,
              "#9c179e"
             ],
             [
              0.4444444444444444,
              "#bd3786"
             ],
             [
              0.5555555555555556,
              "#d8576b"
             ],
             [
              0.6666666666666666,
              "#ed7953"
             ],
             [
              0.7777777777777778,
              "#fb9f3a"
             ],
             [
              0.8888888888888888,
              "#fdca26"
             ],
             [
              1,
              "#f0f921"
             ]
            ],
            "type": "histogram2d"
           }
          ],
          "histogram2dcontour": [
           {
            "colorbar": {
             "outlinewidth": 0,
             "ticks": ""
            },
            "colorscale": [
             [
              0,
              "#0d0887"
             ],
             [
              0.1111111111111111,
              "#46039f"
             ],
             [
              0.2222222222222222,
              "#7201a8"
             ],
             [
              0.3333333333333333,
              "#9c179e"
             ],
             [
              0.4444444444444444,
              "#bd3786"
             ],
             [
              0.5555555555555556,
              "#d8576b"
             ],
             [
              0.6666666666666666,
              "#ed7953"
             ],
             [
              0.7777777777777778,
              "#fb9f3a"
             ],
             [
              0.8888888888888888,
              "#fdca26"
             ],
             [
              1,
              "#f0f921"
             ]
            ],
            "type": "histogram2dcontour"
           }
          ],
          "mesh3d": [
           {
            "colorbar": {
             "outlinewidth": 0,
             "ticks": ""
            },
            "type": "mesh3d"
           }
          ],
          "parcoords": [
           {
            "line": {
             "colorbar": {
              "outlinewidth": 0,
              "ticks": ""
             }
            },
            "type": "parcoords"
           }
          ],
          "pie": [
           {
            "automargin": true,
            "type": "pie"
           }
          ],
          "scatter": [
           {
            "marker": {
             "colorbar": {
              "outlinewidth": 0,
              "ticks": ""
             }
            },
            "type": "scatter"
           }
          ],
          "scatter3d": [
           {
            "line": {
             "colorbar": {
              "outlinewidth": 0,
              "ticks": ""
             }
            },
            "marker": {
             "colorbar": {
              "outlinewidth": 0,
              "ticks": ""
             }
            },
            "type": "scatter3d"
           }
          ],
          "scattercarpet": [
           {
            "marker": {
             "colorbar": {
              "outlinewidth": 0,
              "ticks": ""
             }
            },
            "type": "scattercarpet"
           }
          ],
          "scattergeo": [
           {
            "marker": {
             "colorbar": {
              "outlinewidth": 0,
              "ticks": ""
             }
            },
            "type": "scattergeo"
           }
          ],
          "scattergl": [
           {
            "marker": {
             "colorbar": {
              "outlinewidth": 0,
              "ticks": ""
             }
            },
            "type": "scattergl"
           }
          ],
          "scattermapbox": [
           {
            "marker": {
             "colorbar": {
              "outlinewidth": 0,
              "ticks": ""
             }
            },
            "type": "scattermapbox"
           }
          ],
          "scatterpolar": [
           {
            "marker": {
             "colorbar": {
              "outlinewidth": 0,
              "ticks": ""
             }
            },
            "type": "scatterpolar"
           }
          ],
          "scatterpolargl": [
           {
            "marker": {
             "colorbar": {
              "outlinewidth": 0,
              "ticks": ""
             }
            },
            "type": "scatterpolargl"
           }
          ],
          "scatterternary": [
           {
            "marker": {
             "colorbar": {
              "outlinewidth": 0,
              "ticks": ""
             }
            },
            "type": "scatterternary"
           }
          ],
          "surface": [
           {
            "colorbar": {
             "outlinewidth": 0,
             "ticks": ""
            },
            "colorscale": [
             [
              0,
              "#0d0887"
             ],
             [
              0.1111111111111111,
              "#46039f"
             ],
             [
              0.2222222222222222,
              "#7201a8"
             ],
             [
              0.3333333333333333,
              "#9c179e"
             ],
             [
              0.4444444444444444,
              "#bd3786"
             ],
             [
              0.5555555555555556,
              "#d8576b"
             ],
             [
              0.6666666666666666,
              "#ed7953"
             ],
             [
              0.7777777777777778,
              "#fb9f3a"
             ],
             [
              0.8888888888888888,
              "#fdca26"
             ],
             [
              1,
              "#f0f921"
             ]
            ],
            "type": "surface"
           }
          ],
          "table": [
           {
            "cells": {
             "fill": {
              "color": "#EBF0F8"
             },
             "line": {
              "color": "white"
             }
            },
            "header": {
             "fill": {
              "color": "#C8D4E3"
             },
             "line": {
              "color": "white"
             }
            },
            "type": "table"
           }
          ]
         },
         "layout": {
          "annotationdefaults": {
           "arrowcolor": "#2a3f5f",
           "arrowhead": 0,
           "arrowwidth": 1
          },
          "coloraxis": {
           "colorbar": {
            "outlinewidth": 0,
            "ticks": ""
           }
          },
          "colorscale": {
           "diverging": [
            [
             0,
             "#8e0152"
            ],
            [
             0.1,
             "#c51b7d"
            ],
            [
             0.2,
             "#de77ae"
            ],
            [
             0.3,
             "#f1b6da"
            ],
            [
             0.4,
             "#fde0ef"
            ],
            [
             0.5,
             "#f7f7f7"
            ],
            [
             0.6,
             "#e6f5d0"
            ],
            [
             0.7,
             "#b8e186"
            ],
            [
             0.8,
             "#7fbc41"
            ],
            [
             0.9,
             "#4d9221"
            ],
            [
             1,
             "#276419"
            ]
           ],
           "sequential": [
            [
             0,
             "#0d0887"
            ],
            [
             0.1111111111111111,
             "#46039f"
            ],
            [
             0.2222222222222222,
             "#7201a8"
            ],
            [
             0.3333333333333333,
             "#9c179e"
            ],
            [
             0.4444444444444444,
             "#bd3786"
            ],
            [
             0.5555555555555556,
             "#d8576b"
            ],
            [
             0.6666666666666666,
             "#ed7953"
            ],
            [
             0.7777777777777778,
             "#fb9f3a"
            ],
            [
             0.8888888888888888,
             "#fdca26"
            ],
            [
             1,
             "#f0f921"
            ]
           ],
           "sequentialminus": [
            [
             0,
             "#0d0887"
            ],
            [
             0.1111111111111111,
             "#46039f"
            ],
            [
             0.2222222222222222,
             "#7201a8"
            ],
            [
             0.3333333333333333,
             "#9c179e"
            ],
            [
             0.4444444444444444,
             "#bd3786"
            ],
            [
             0.5555555555555556,
             "#d8576b"
            ],
            [
             0.6666666666666666,
             "#ed7953"
            ],
            [
             0.7777777777777778,
             "#fb9f3a"
            ],
            [
             0.8888888888888888,
             "#fdca26"
            ],
            [
             1,
             "#f0f921"
            ]
           ]
          },
          "colorway": [
           "#636efa",
           "#EF553B",
           "#00cc96",
           "#ab63fa",
           "#FFA15A",
           "#19d3f3",
           "#FF6692",
           "#B6E880",
           "#FF97FF",
           "#FECB52"
          ],
          "font": {
           "color": "#2a3f5f"
          },
          "geo": {
           "bgcolor": "white",
           "lakecolor": "white",
           "landcolor": "#E5ECF6",
           "showlakes": true,
           "showland": true,
           "subunitcolor": "white"
          },
          "hoverlabel": {
           "align": "left"
          },
          "hovermode": "closest",
          "mapbox": {
           "style": "light"
          },
          "paper_bgcolor": "white",
          "plot_bgcolor": "#E5ECF6",
          "polar": {
           "angularaxis": {
            "gridcolor": "white",
            "linecolor": "white",
            "ticks": ""
           },
           "bgcolor": "#E5ECF6",
           "radialaxis": {
            "gridcolor": "white",
            "linecolor": "white",
            "ticks": ""
           }
          },
          "scene": {
           "xaxis": {
            "backgroundcolor": "#E5ECF6",
            "gridcolor": "white",
            "gridwidth": 2,
            "linecolor": "white",
            "showbackground": true,
            "ticks": "",
            "zerolinecolor": "white"
           },
           "yaxis": {
            "backgroundcolor": "#E5ECF6",
            "gridcolor": "white",
            "gridwidth": 2,
            "linecolor": "white",
            "showbackground": true,
            "ticks": "",
            "zerolinecolor": "white"
           },
           "zaxis": {
            "backgroundcolor": "#E5ECF6",
            "gridcolor": "white",
            "gridwidth": 2,
            "linecolor": "white",
            "showbackground": true,
            "ticks": "",
            "zerolinecolor": "white"
           }
          },
          "shapedefaults": {
           "line": {
            "color": "#2a3f5f"
           }
          },
          "ternary": {
           "aaxis": {
            "gridcolor": "white",
            "linecolor": "white",
            "ticks": ""
           },
           "baxis": {
            "gridcolor": "white",
            "linecolor": "white",
            "ticks": ""
           },
           "bgcolor": "#E5ECF6",
           "caxis": {
            "gridcolor": "white",
            "linecolor": "white",
            "ticks": ""
           }
          },
          "title": {
           "x": 0.05
          },
          "xaxis": {
           "automargin": true,
           "gridcolor": "white",
           "linecolor": "white",
           "ticks": "",
           "title": {
            "standoff": 15
           },
           "zerolinecolor": "white",
           "zerolinewidth": 2
          },
          "yaxis": {
           "automargin": true,
           "gridcolor": "white",
           "linecolor": "white",
           "ticks": "",
           "title": {
            "standoff": 15
           },
           "zerolinecolor": "white",
           "zerolinewidth": 2
          }
         }
        },
        "title": {
         "text": "All Cases"
        },
        "width": 1000,
        "xaxis": {
         "title": {
          "text": "Date"
         }
        },
        "yaxis": {
         "title": {
          "text": "Count"
         }
        }
       }
      },
      "text/html": [
       "<div>\n",
       "        \n",
       "        \n",
       "            <div id=\"c8b4d488-6131-4eaf-8dc2-793d44fb86d8\" class=\"plotly-graph-div\" style=\"height:750px; width:1000px;\"></div>\n",
       "            <script type=\"text/javascript\">\n",
       "                require([\"plotly\"], function(Plotly) {\n",
       "                    window.PLOTLYENV=window.PLOTLYENV || {};\n",
       "                    \n",
       "                if (document.getElementById(\"c8b4d488-6131-4eaf-8dc2-793d44fb86d8\")) {\n",
       "                    Plotly.newPlot(\n",
       "                        'c8b4d488-6131-4eaf-8dc2-793d44fb86d8',\n",
       "                        [{\"name\": \"Confirmed\", \"type\": \"bar\", \"x\": [\"2020-01-30T00:00:00\", \"2020-01-31T00:00:00\", \"2020-02-01T00:00:00\", \"2020-02-02T00:00:00\", \"2020-02-03T00:00:00\", \"2020-02-04T00:00:00\", \"2020-02-05T00:00:00\", \"2020-02-06T00:00:00\", \"2020-02-07T00:00:00\", \"2020-02-08T00:00:00\", \"2020-02-09T00:00:00\", \"2020-02-10T00:00:00\", \"2020-02-11T00:00:00\", \"2020-02-12T00:00:00\", \"2020-02-13T00:00:00\", \"2020-02-14T00:00:00\", \"2020-02-15T00:00:00\", \"2020-02-16T00:00:00\", \"2020-02-17T00:00:00\", \"2020-02-18T00:00:00\", \"2020-02-19T00:00:00\", \"2020-02-20T00:00:00\", \"2020-02-21T00:00:00\", \"2020-02-22T00:00:00\", \"2020-02-23T00:00:00\", \"2020-02-24T00:00:00\", \"2020-02-25T00:00:00\", \"2020-02-26T00:00:00\", \"2020-02-27T00:00:00\", \"2020-02-28T00:00:00\", \"2020-02-29T00:00:00\", \"2020-03-01T00:00:00\", \"2020-03-02T00:00:00\", \"2020-03-03T00:00:00\", \"2020-03-04T00:00:00\", \"2020-03-05T00:00:00\", \"2020-03-06T00:00:00\", \"2020-03-07T00:00:00\", \"2020-03-08T00:00:00\", \"2020-03-09T00:00:00\", \"2020-03-10T00:00:00\", \"2020-03-11T00:00:00\", \"2020-03-12T00:00:00\", \"2020-03-13T00:00:00\", \"2020-03-14T00:00:00\", \"2020-03-15T00:00:00\", \"2020-03-16T00:00:00\", \"2020-03-17T00:00:00\", \"2020-03-18T00:00:00\", \"2020-03-19T00:00:00\", \"2020-03-20T00:00:00\", \"2020-03-21T00:00:00\", \"2020-03-22T00:00:00\", \"2020-03-23T00:00:00\", \"2020-03-24T00:00:00\", \"2020-03-25T00:00:00\", \"2020-03-26T00:00:00\", \"2020-03-27T00:00:00\", \"2020-03-28T00:00:00\", \"2020-03-29T00:00:00\", \"2020-03-30T00:00:00\", \"2020-03-31T00:00:00\", \"2020-04-01T00:00:00\", \"2020-04-02T00:00:00\", \"2020-04-03T00:00:00\", \"2020-04-04T00:00:00\", \"2020-04-05T00:00:00\"], \"y\": [1, 1, 2, 3, 3, 3, 3, 3, 3, 3, 3, 3, 3, 3, 3, 3, 3, 3, 3, 3, 3, 3, 3, 3, 3, 3, 3, 3, 3, 3, 3, 3, 5, 6, 28, 30, 31, 34, 39, 46, 58, 60, 74, 81, 84, 110, 114, 137, 151, 173, 223, 283, 360, 433, 519, 606, 694, 724, 909, 1024, 1251, 1397, 1834, 2069, 2547, 3072, 3374]}, {\"name\": \"Deaths\", \"type\": \"bar\", \"x\": [\"2020-01-30T00:00:00\", \"2020-01-31T00:00:00\", \"2020-02-01T00:00:00\", \"2020-02-02T00:00:00\", \"2020-02-03T00:00:00\", \"2020-02-04T00:00:00\", \"2020-02-05T00:00:00\", \"2020-02-06T00:00:00\", \"2020-02-07T00:00:00\", \"2020-02-08T00:00:00\", \"2020-02-09T00:00:00\", \"2020-02-10T00:00:00\", \"2020-02-11T00:00:00\", \"2020-02-12T00:00:00\", \"2020-02-13T00:00:00\", \"2020-02-14T00:00:00\", \"2020-02-15T00:00:00\", \"2020-02-16T00:00:00\", \"2020-02-17T00:00:00\", \"2020-02-18T00:00:00\", \"2020-02-19T00:00:00\", \"2020-02-20T00:00:00\", \"2020-02-21T00:00:00\", \"2020-02-22T00:00:00\", \"2020-02-23T00:00:00\", \"2020-02-24T00:00:00\", \"2020-02-25T00:00:00\", \"2020-02-26T00:00:00\", \"2020-02-27T00:00:00\", \"2020-02-28T00:00:00\", \"2020-02-29T00:00:00\", \"2020-03-01T00:00:00\", \"2020-03-02T00:00:00\", \"2020-03-03T00:00:00\", \"2020-03-04T00:00:00\", \"2020-03-05T00:00:00\", \"2020-03-06T00:00:00\", \"2020-03-07T00:00:00\", \"2020-03-08T00:00:00\", \"2020-03-09T00:00:00\", \"2020-03-10T00:00:00\", \"2020-03-11T00:00:00\", \"2020-03-12T00:00:00\", \"2020-03-13T00:00:00\", \"2020-03-14T00:00:00\", \"2020-03-15T00:00:00\", \"2020-03-16T00:00:00\", \"2020-03-17T00:00:00\", \"2020-03-18T00:00:00\", \"2020-03-19T00:00:00\", \"2020-03-20T00:00:00\", \"2020-03-21T00:00:00\", \"2020-03-22T00:00:00\", \"2020-03-23T00:00:00\", \"2020-03-24T00:00:00\", \"2020-03-25T00:00:00\", \"2020-03-26T00:00:00\", \"2020-03-27T00:00:00\", \"2020-03-28T00:00:00\", \"2020-03-29T00:00:00\", \"2020-03-30T00:00:00\", \"2020-03-31T00:00:00\", \"2020-04-01T00:00:00\", \"2020-04-02T00:00:00\", \"2020-04-03T00:00:00\", \"2020-04-04T00:00:00\", \"2020-04-05T00:00:00\"], \"y\": [0, 0, 0, 0, 0, 0, 0, 0, 0, 0, 0, 0, 0, 0, 0, 0, 0, 0, 0, 0, 0, 0, 0, 0, 0, 0, 0, 0, 0, 0, 0, 0, 0, 0, 0, 0, 0, 0, 0, 0, 0, 0, 0, 1, 2, 2, 2, 3, 3, 4, 4, 4, 7, 7, 9, 10, 15, 17, 19, 27, 31, 35, 41, 53, 62, 75, 77]}, {\"name\": \"Cured\", \"type\": \"bar\", \"x\": [\"2020-01-30T00:00:00\", \"2020-01-31T00:00:00\", \"2020-02-01T00:00:00\", \"2020-02-02T00:00:00\", \"2020-02-03T00:00:00\", \"2020-02-04T00:00:00\", \"2020-02-05T00:00:00\", \"2020-02-06T00:00:00\", \"2020-02-07T00:00:00\", \"2020-02-08T00:00:00\", \"2020-02-09T00:00:00\", \"2020-02-10T00:00:00\", \"2020-02-11T00:00:00\", \"2020-02-12T00:00:00\", \"2020-02-13T00:00:00\", \"2020-02-14T00:00:00\", \"2020-02-15T00:00:00\", \"2020-02-16T00:00:00\", \"2020-02-17T00:00:00\", \"2020-02-18T00:00:00\", \"2020-02-19T00:00:00\", \"2020-02-20T00:00:00\", \"2020-02-21T00:00:00\", \"2020-02-22T00:00:00\", \"2020-02-23T00:00:00\", \"2020-02-24T00:00:00\", \"2020-02-25T00:00:00\", \"2020-02-26T00:00:00\", \"2020-02-27T00:00:00\", \"2020-02-28T00:00:00\", \"2020-02-29T00:00:00\", \"2020-03-01T00:00:00\", \"2020-03-02T00:00:00\", \"2020-03-03T00:00:00\", \"2020-03-04T00:00:00\", \"2020-03-05T00:00:00\", \"2020-03-06T00:00:00\", \"2020-03-07T00:00:00\", \"2020-03-08T00:00:00\", \"2020-03-09T00:00:00\", \"2020-03-10T00:00:00\", \"2020-03-11T00:00:00\", \"2020-03-12T00:00:00\", \"2020-03-13T00:00:00\", \"2020-03-14T00:00:00\", \"2020-03-15T00:00:00\", \"2020-03-16T00:00:00\", \"2020-03-17T00:00:00\", \"2020-03-18T00:00:00\", \"2020-03-19T00:00:00\", \"2020-03-20T00:00:00\", \"2020-03-21T00:00:00\", \"2020-03-22T00:00:00\", \"2020-03-23T00:00:00\", \"2020-03-24T00:00:00\", \"2020-03-25T00:00:00\", \"2020-03-26T00:00:00\", \"2020-03-27T00:00:00\", \"2020-03-28T00:00:00\", \"2020-03-29T00:00:00\", \"2020-03-30T00:00:00\", \"2020-03-31T00:00:00\", \"2020-04-01T00:00:00\", \"2020-04-02T00:00:00\", \"2020-04-03T00:00:00\", \"2020-04-04T00:00:00\", \"2020-04-05T00:00:00\"], \"y\": [0, 0, 0, 0, 0, 0, 0, 0, 0, 0, 0, 0, 0, 0, 0, 0, 0, 0, 0, 0, 0, 0, 0, 0, 0, 0, 0, 0, 0, 0, 0, 0, 0, 3, 3, 3, 3, 3, 3, 3, 3, 3, 3, 3, 10, 13, 13, 14, 14, 20, 23, 23, 24, 24, 40, 43, 45, 67, 80, 96, 102, 124, 144, 156, 163, 213, 267]}],\n",
       "                        {\"autosize\": false, \"barmode\": \"relative\", \"height\": 750, \"template\": {\"data\": {\"bar\": [{\"error_x\": {\"color\": \"#2a3f5f\"}, \"error_y\": {\"color\": \"#2a3f5f\"}, \"marker\": {\"line\": {\"color\": \"#E5ECF6\", \"width\": 0.5}}, \"type\": \"bar\"}], \"barpolar\": [{\"marker\": {\"line\": {\"color\": \"#E5ECF6\", \"width\": 0.5}}, \"type\": \"barpolar\"}], \"carpet\": [{\"aaxis\": {\"endlinecolor\": \"#2a3f5f\", \"gridcolor\": \"white\", \"linecolor\": \"white\", \"minorgridcolor\": \"white\", \"startlinecolor\": \"#2a3f5f\"}, \"baxis\": {\"endlinecolor\": \"#2a3f5f\", \"gridcolor\": \"white\", \"linecolor\": \"white\", \"minorgridcolor\": \"white\", \"startlinecolor\": \"#2a3f5f\"}, \"type\": \"carpet\"}], \"choropleth\": [{\"colorbar\": {\"outlinewidth\": 0, \"ticks\": \"\"}, \"type\": \"choropleth\"}], \"contour\": [{\"colorbar\": {\"outlinewidth\": 0, \"ticks\": \"\"}, \"colorscale\": [[0.0, \"#0d0887\"], [0.1111111111111111, \"#46039f\"], [0.2222222222222222, \"#7201a8\"], [0.3333333333333333, \"#9c179e\"], [0.4444444444444444, \"#bd3786\"], [0.5555555555555556, \"#d8576b\"], [0.6666666666666666, \"#ed7953\"], [0.7777777777777778, \"#fb9f3a\"], [0.8888888888888888, \"#fdca26\"], [1.0, \"#f0f921\"]], \"type\": \"contour\"}], \"contourcarpet\": [{\"colorbar\": {\"outlinewidth\": 0, \"ticks\": \"\"}, \"type\": \"contourcarpet\"}], \"heatmap\": [{\"colorbar\": {\"outlinewidth\": 0, \"ticks\": \"\"}, \"colorscale\": [[0.0, \"#0d0887\"], [0.1111111111111111, \"#46039f\"], [0.2222222222222222, \"#7201a8\"], [0.3333333333333333, \"#9c179e\"], [0.4444444444444444, \"#bd3786\"], [0.5555555555555556, \"#d8576b\"], [0.6666666666666666, \"#ed7953\"], [0.7777777777777778, \"#fb9f3a\"], [0.8888888888888888, \"#fdca26\"], [1.0, \"#f0f921\"]], \"type\": \"heatmap\"}], \"heatmapgl\": [{\"colorbar\": {\"outlinewidth\": 0, \"ticks\": \"\"}, \"colorscale\": [[0.0, \"#0d0887\"], [0.1111111111111111, \"#46039f\"], [0.2222222222222222, \"#7201a8\"], [0.3333333333333333, \"#9c179e\"], [0.4444444444444444, \"#bd3786\"], [0.5555555555555556, \"#d8576b\"], [0.6666666666666666, \"#ed7953\"], [0.7777777777777778, \"#fb9f3a\"], [0.8888888888888888, \"#fdca26\"], [1.0, \"#f0f921\"]], \"type\": \"heatmapgl\"}], \"histogram\": [{\"marker\": {\"colorbar\": {\"outlinewidth\": 0, \"ticks\": \"\"}}, \"type\": \"histogram\"}], \"histogram2d\": [{\"colorbar\": {\"outlinewidth\": 0, \"ticks\": \"\"}, \"colorscale\": [[0.0, \"#0d0887\"], [0.1111111111111111, \"#46039f\"], [0.2222222222222222, \"#7201a8\"], [0.3333333333333333, \"#9c179e\"], [0.4444444444444444, \"#bd3786\"], [0.5555555555555556, \"#d8576b\"], [0.6666666666666666, \"#ed7953\"], [0.7777777777777778, \"#fb9f3a\"], [0.8888888888888888, \"#fdca26\"], [1.0, \"#f0f921\"]], \"type\": \"histogram2d\"}], \"histogram2dcontour\": [{\"colorbar\": {\"outlinewidth\": 0, \"ticks\": \"\"}, \"colorscale\": [[0.0, \"#0d0887\"], [0.1111111111111111, \"#46039f\"], [0.2222222222222222, \"#7201a8\"], [0.3333333333333333, \"#9c179e\"], [0.4444444444444444, \"#bd3786\"], [0.5555555555555556, \"#d8576b\"], [0.6666666666666666, \"#ed7953\"], [0.7777777777777778, \"#fb9f3a\"], [0.8888888888888888, \"#fdca26\"], [1.0, \"#f0f921\"]], \"type\": \"histogram2dcontour\"}], \"mesh3d\": [{\"colorbar\": {\"outlinewidth\": 0, \"ticks\": \"\"}, \"type\": \"mesh3d\"}], \"parcoords\": [{\"line\": {\"colorbar\": {\"outlinewidth\": 0, \"ticks\": \"\"}}, \"type\": \"parcoords\"}], \"pie\": [{\"automargin\": true, \"type\": \"pie\"}], \"scatter\": [{\"marker\": {\"colorbar\": {\"outlinewidth\": 0, \"ticks\": \"\"}}, \"type\": \"scatter\"}], \"scatter3d\": [{\"line\": {\"colorbar\": {\"outlinewidth\": 0, \"ticks\": \"\"}}, \"marker\": {\"colorbar\": {\"outlinewidth\": 0, \"ticks\": \"\"}}, \"type\": \"scatter3d\"}], \"scattercarpet\": [{\"marker\": {\"colorbar\": {\"outlinewidth\": 0, \"ticks\": \"\"}}, \"type\": \"scattercarpet\"}], \"scattergeo\": [{\"marker\": {\"colorbar\": {\"outlinewidth\": 0, \"ticks\": \"\"}}, \"type\": \"scattergeo\"}], \"scattergl\": [{\"marker\": {\"colorbar\": {\"outlinewidth\": 0, \"ticks\": \"\"}}, \"type\": \"scattergl\"}], \"scattermapbox\": [{\"marker\": {\"colorbar\": {\"outlinewidth\": 0, \"ticks\": \"\"}}, \"type\": \"scattermapbox\"}], \"scatterpolar\": [{\"marker\": {\"colorbar\": {\"outlinewidth\": 0, \"ticks\": \"\"}}, \"type\": \"scatterpolar\"}], \"scatterpolargl\": [{\"marker\": {\"colorbar\": {\"outlinewidth\": 0, \"ticks\": \"\"}}, \"type\": \"scatterpolargl\"}], \"scatterternary\": [{\"marker\": {\"colorbar\": {\"outlinewidth\": 0, \"ticks\": \"\"}}, \"type\": \"scatterternary\"}], \"surface\": [{\"colorbar\": {\"outlinewidth\": 0, \"ticks\": \"\"}, \"colorscale\": [[0.0, \"#0d0887\"], [0.1111111111111111, \"#46039f\"], [0.2222222222222222, \"#7201a8\"], [0.3333333333333333, \"#9c179e\"], [0.4444444444444444, \"#bd3786\"], [0.5555555555555556, \"#d8576b\"], [0.6666666666666666, \"#ed7953\"], [0.7777777777777778, \"#fb9f3a\"], [0.8888888888888888, \"#fdca26\"], [1.0, \"#f0f921\"]], \"type\": \"surface\"}], \"table\": [{\"cells\": {\"fill\": {\"color\": \"#EBF0F8\"}, \"line\": {\"color\": \"white\"}}, \"header\": {\"fill\": {\"color\": \"#C8D4E3\"}, \"line\": {\"color\": \"white\"}}, \"type\": \"table\"}]}, \"layout\": {\"annotationdefaults\": {\"arrowcolor\": \"#2a3f5f\", \"arrowhead\": 0, \"arrowwidth\": 1}, \"coloraxis\": {\"colorbar\": {\"outlinewidth\": 0, \"ticks\": \"\"}}, \"colorscale\": {\"diverging\": [[0, \"#8e0152\"], [0.1, \"#c51b7d\"], [0.2, \"#de77ae\"], [0.3, \"#f1b6da\"], [0.4, \"#fde0ef\"], [0.5, \"#f7f7f7\"], [0.6, \"#e6f5d0\"], [0.7, \"#b8e186\"], [0.8, \"#7fbc41\"], [0.9, \"#4d9221\"], [1, \"#276419\"]], \"sequential\": [[0.0, \"#0d0887\"], [0.1111111111111111, \"#46039f\"], [0.2222222222222222, \"#7201a8\"], [0.3333333333333333, \"#9c179e\"], [0.4444444444444444, \"#bd3786\"], [0.5555555555555556, \"#d8576b\"], [0.6666666666666666, \"#ed7953\"], [0.7777777777777778, \"#fb9f3a\"], [0.8888888888888888, \"#fdca26\"], [1.0, \"#f0f921\"]], \"sequentialminus\": [[0.0, \"#0d0887\"], [0.1111111111111111, \"#46039f\"], [0.2222222222222222, \"#7201a8\"], [0.3333333333333333, \"#9c179e\"], [0.4444444444444444, \"#bd3786\"], [0.5555555555555556, \"#d8576b\"], [0.6666666666666666, \"#ed7953\"], [0.7777777777777778, \"#fb9f3a\"], [0.8888888888888888, \"#fdca26\"], [1.0, \"#f0f921\"]]}, \"colorway\": [\"#636efa\", \"#EF553B\", \"#00cc96\", \"#ab63fa\", \"#FFA15A\", \"#19d3f3\", \"#FF6692\", \"#B6E880\", \"#FF97FF\", \"#FECB52\"], \"font\": {\"color\": \"#2a3f5f\"}, \"geo\": {\"bgcolor\": \"white\", \"lakecolor\": \"white\", \"landcolor\": \"#E5ECF6\", \"showlakes\": true, \"showland\": true, \"subunitcolor\": \"white\"}, \"hoverlabel\": {\"align\": \"left\"}, \"hovermode\": \"closest\", \"mapbox\": {\"style\": \"light\"}, \"paper_bgcolor\": \"white\", \"plot_bgcolor\": \"#E5ECF6\", \"polar\": {\"angularaxis\": {\"gridcolor\": \"white\", \"linecolor\": \"white\", \"ticks\": \"\"}, \"bgcolor\": \"#E5ECF6\", \"radialaxis\": {\"gridcolor\": \"white\", \"linecolor\": \"white\", \"ticks\": \"\"}}, \"scene\": {\"xaxis\": {\"backgroundcolor\": \"#E5ECF6\", \"gridcolor\": \"white\", \"gridwidth\": 2, \"linecolor\": \"white\", \"showbackground\": true, \"ticks\": \"\", \"zerolinecolor\": \"white\"}, \"yaxis\": {\"backgroundcolor\": \"#E5ECF6\", \"gridcolor\": \"white\", \"gridwidth\": 2, \"linecolor\": \"white\", \"showbackground\": true, \"ticks\": \"\", \"zerolinecolor\": \"white\"}, \"zaxis\": {\"backgroundcolor\": \"#E5ECF6\", \"gridcolor\": \"white\", \"gridwidth\": 2, \"linecolor\": \"white\", \"showbackground\": true, \"ticks\": \"\", \"zerolinecolor\": \"white\"}}, \"shapedefaults\": {\"line\": {\"color\": \"#2a3f5f\"}}, \"ternary\": {\"aaxis\": {\"gridcolor\": \"white\", \"linecolor\": \"white\", \"ticks\": \"\"}, \"baxis\": {\"gridcolor\": \"white\", \"linecolor\": \"white\", \"ticks\": \"\"}, \"bgcolor\": \"#E5ECF6\", \"caxis\": {\"gridcolor\": \"white\", \"linecolor\": \"white\", \"ticks\": \"\"}}, \"title\": {\"x\": 0.05}, \"xaxis\": {\"automargin\": true, \"gridcolor\": \"white\", \"linecolor\": \"white\", \"ticks\": \"\", \"title\": {\"standoff\": 15}, \"zerolinecolor\": \"white\", \"zerolinewidth\": 2}, \"yaxis\": {\"automargin\": true, \"gridcolor\": \"white\", \"linecolor\": \"white\", \"ticks\": \"\", \"title\": {\"standoff\": 15}, \"zerolinecolor\": \"white\", \"zerolinewidth\": 2}}}, \"title\": {\"text\": \"All Cases\"}, \"width\": 1000, \"xaxis\": {\"title\": {\"text\": \"Date\"}}, \"yaxis\": {\"title\": {\"text\": \"Count\"}}},\n",
       "                        {\"responsive\": true}\n",
       "                    ).then(function(){\n",
       "                            \n",
       "var gd = document.getElementById('c8b4d488-6131-4eaf-8dc2-793d44fb86d8');\n",
       "var x = new MutationObserver(function (mutations, observer) {{\n",
       "        var display = window.getComputedStyle(gd).display;\n",
       "        if (!display || display === 'none') {{\n",
       "            console.log([gd, 'removed!']);\n",
       "            Plotly.purge(gd);\n",
       "            observer.disconnect();\n",
       "        }}\n",
       "}});\n",
       "\n",
       "// Listen for the removal of the full notebook cells\n",
       "var notebookContainer = gd.closest('#notebook-container');\n",
       "if (notebookContainer) {{\n",
       "    x.observe(notebookContainer, {childList: true});\n",
       "}}\n",
       "\n",
       "// Listen for the clearing of the current output cell\n",
       "var outputEl = gd.closest('.output');\n",
       "if (outputEl) {{\n",
       "    x.observe(outputEl, {childList: true});\n",
       "}}\n",
       "\n",
       "                        })\n",
       "                };\n",
       "                });\n",
       "            </script>\n",
       "        </div>"
      ]
     },
     "metadata": {},
     "output_type": "display_data"
    }
   ],
   "source": [
    "fig = go.Figure(data=[\n",
    "    go.Bar(name='Confirmed', x=date_group.Date, y=date_group.Confirmed),\n",
    "    go.Bar(name='Deaths', x=date_group.Date, y=date_group.Deaths),\n",
    "    go.Bar(name='Cured', x=date_group.Date, y=date_group.Cured)\n",
    "])\n",
    "# Change the bar mode\n",
    "fig.update_layout(autosize=False,\n",
    "    width=1000,\n",
    "    height=750,\n",
    "    title=\"All Cases\",\n",
    "    xaxis_title=\"Date\",\n",
    "    yaxis_title=\"Count\",\n",
    "    barmode='relative')\n",
    "fig.show()"
   ]
  },
  {
   "cell_type": "markdown",
   "metadata": {},
   "source": [
    "## State wise trend"
   ]
  },
  {
   "cell_type": "code",
   "execution_count": 9,
   "metadata": {
    "ExecuteTime": {
     "end_time": "2020-04-05T13:37:05.879755Z",
     "start_time": "2020-04-05T13:37:05.743760Z"
    },
    "hide_input": true,
    "jupyter": {
     "source_hidden": true
    }
   },
   "outputs": [
    {
     "data": {
      "application/vnd.plotly.v1+json": {
       "config": {
        "plotlyServerURL": "https://plot.ly"
       },
       "data": [
        {
         "name": "Confirmed",
         "type": "bar",
         "x": [
          "Andaman and Nicobar Islands",
          "Andhra Pradesh",
          "Arunachal Pradesh",
          "Assam",
          "Bihar",
          "Chandigarh",
          "Chhattisgarh",
          "Delhi",
          "Goa",
          "Gujarat",
          "Haryana",
          "Himachal Pradesh",
          "Jammu and Kashmir",
          "Jharkhand",
          "Karnataka",
          "Kerala",
          "Ladakh",
          "Madhya Pradesh",
          "Maharashtra",
          "Manipur",
          "Mizoram",
          "Odisha",
          "Puducherry",
          "Punjab",
          "Rajasthan",
          "Tamil Nadu",
          "Telengana",
          "Uttar Pradesh",
          "Uttarakhand",
          "West Bengal"
         ],
         "y": [
          10,
          161,
          1,
          24,
          30,
          18,
          9,
          445,
          7,
          105,
          49,
          6,
          92,
          2,
          144,
          306,
          14,
          104,
          490,
          2,
          1,
          20,
          5,
          57,
          200,
          485,
          269,
          227,
          22,
          69
         ]
        },
        {
         "name": "Deaths",
         "type": "bar",
         "x": [
          "Andaman and Nicobar Islands",
          "Andhra Pradesh",
          "Arunachal Pradesh",
          "Assam",
          "Bihar",
          "Chandigarh",
          "Chhattisgarh",
          "Delhi",
          "Goa",
          "Gujarat",
          "Haryana",
          "Himachal Pradesh",
          "Jammu and Kashmir",
          "Jharkhand",
          "Karnataka",
          "Kerala",
          "Ladakh",
          "Madhya Pradesh",
          "Maharashtra",
          "Manipur",
          "Mizoram",
          "Odisha",
          "Puducherry",
          "Punjab",
          "Rajasthan",
          "Tamil Nadu",
          "Telengana",
          "Uttar Pradesh",
          "Uttarakhand",
          "West Bengal"
         ],
         "y": [
          0,
          1,
          0,
          0,
          1,
          0,
          0,
          6,
          0,
          10,
          0,
          1,
          2,
          0,
          4,
          2,
          0,
          6,
          24,
          0,
          0,
          0,
          0,
          5,
          0,
          3,
          7,
          2,
          0,
          3
         ]
        },
        {
         "name": "Cured",
         "type": "bar",
         "x": [
          "Andaman and Nicobar Islands",
          "Andhra Pradesh",
          "Arunachal Pradesh",
          "Assam",
          "Bihar",
          "Chandigarh",
          "Chhattisgarh",
          "Delhi",
          "Goa",
          "Gujarat",
          "Haryana",
          "Himachal Pradesh",
          "Jammu and Kashmir",
          "Jharkhand",
          "Karnataka",
          "Kerala",
          "Ladakh",
          "Madhya Pradesh",
          "Maharashtra",
          "Manipur",
          "Mizoram",
          "Odisha",
          "Puducherry",
          "Punjab",
          "Rajasthan",
          "Tamil Nadu",
          "Telengana",
          "Uttar Pradesh",
          "Uttarakhand",
          "West Bengal"
         ],
         "y": [
          0,
          1,
          0,
          0,
          0,
          0,
          3,
          15,
          0,
          14,
          24,
          1,
          4,
          0,
          12,
          49,
          10,
          0,
          42,
          0,
          0,
          0,
          1,
          1,
          21,
          6,
          32,
          19,
          2,
          10
         ]
        }
       ],
       "layout": {
        "autosize": false,
        "barmode": "stack",
        "height": 750,
        "template": {
         "data": {
          "bar": [
           {
            "error_x": {
             "color": "#2a3f5f"
            },
            "error_y": {
             "color": "#2a3f5f"
            },
            "marker": {
             "line": {
              "color": "#E5ECF6",
              "width": 0.5
             }
            },
            "type": "bar"
           }
          ],
          "barpolar": [
           {
            "marker": {
             "line": {
              "color": "#E5ECF6",
              "width": 0.5
             }
            },
            "type": "barpolar"
           }
          ],
          "carpet": [
           {
            "aaxis": {
             "endlinecolor": "#2a3f5f",
             "gridcolor": "white",
             "linecolor": "white",
             "minorgridcolor": "white",
             "startlinecolor": "#2a3f5f"
            },
            "baxis": {
             "endlinecolor": "#2a3f5f",
             "gridcolor": "white",
             "linecolor": "white",
             "minorgridcolor": "white",
             "startlinecolor": "#2a3f5f"
            },
            "type": "carpet"
           }
          ],
          "choropleth": [
           {
            "colorbar": {
             "outlinewidth": 0,
             "ticks": ""
            },
            "type": "choropleth"
           }
          ],
          "contour": [
           {
            "colorbar": {
             "outlinewidth": 0,
             "ticks": ""
            },
            "colorscale": [
             [
              0,
              "#0d0887"
             ],
             [
              0.1111111111111111,
              "#46039f"
             ],
             [
              0.2222222222222222,
              "#7201a8"
             ],
             [
              0.3333333333333333,
              "#9c179e"
             ],
             [
              0.4444444444444444,
              "#bd3786"
             ],
             [
              0.5555555555555556,
              "#d8576b"
             ],
             [
              0.6666666666666666,
              "#ed7953"
             ],
             [
              0.7777777777777778,
              "#fb9f3a"
             ],
             [
              0.8888888888888888,
              "#fdca26"
             ],
             [
              1,
              "#f0f921"
             ]
            ],
            "type": "contour"
           }
          ],
          "contourcarpet": [
           {
            "colorbar": {
             "outlinewidth": 0,
             "ticks": ""
            },
            "type": "contourcarpet"
           }
          ],
          "heatmap": [
           {
            "colorbar": {
             "outlinewidth": 0,
             "ticks": ""
            },
            "colorscale": [
             [
              0,
              "#0d0887"
             ],
             [
              0.1111111111111111,
              "#46039f"
             ],
             [
              0.2222222222222222,
              "#7201a8"
             ],
             [
              0.3333333333333333,
              "#9c179e"
             ],
             [
              0.4444444444444444,
              "#bd3786"
             ],
             [
              0.5555555555555556,
              "#d8576b"
             ],
             [
              0.6666666666666666,
              "#ed7953"
             ],
             [
              0.7777777777777778,
              "#fb9f3a"
             ],
             [
              0.8888888888888888,
              "#fdca26"
             ],
             [
              1,
              "#f0f921"
             ]
            ],
            "type": "heatmap"
           }
          ],
          "heatmapgl": [
           {
            "colorbar": {
             "outlinewidth": 0,
             "ticks": ""
            },
            "colorscale": [
             [
              0,
              "#0d0887"
             ],
             [
              0.1111111111111111,
              "#46039f"
             ],
             [
              0.2222222222222222,
              "#7201a8"
             ],
             [
              0.3333333333333333,
              "#9c179e"
             ],
             [
              0.4444444444444444,
              "#bd3786"
             ],
             [
              0.5555555555555556,
              "#d8576b"
             ],
             [
              0.6666666666666666,
              "#ed7953"
             ],
             [
              0.7777777777777778,
              "#fb9f3a"
             ],
             [
              0.8888888888888888,
              "#fdca26"
             ],
             [
              1,
              "#f0f921"
             ]
            ],
            "type": "heatmapgl"
           }
          ],
          "histogram": [
           {
            "marker": {
             "colorbar": {
              "outlinewidth": 0,
              "ticks": ""
             }
            },
            "type": "histogram"
           }
          ],
          "histogram2d": [
           {
            "colorbar": {
             "outlinewidth": 0,
             "ticks": ""
            },
            "colorscale": [
             [
              0,
              "#0d0887"
             ],
             [
              0.1111111111111111,
              "#46039f"
             ],
             [
              0.2222222222222222,
              "#7201a8"
             ],
             [
              0.3333333333333333,
              "#9c179e"
             ],
             [
              0.4444444444444444,
              "#bd3786"
             ],
             [
              0.5555555555555556,
              "#d8576b"
             ],
             [
              0.6666666666666666,
              "#ed7953"
             ],
             [
              0.7777777777777778,
              "#fb9f3a"
             ],
             [
              0.8888888888888888,
              "#fdca26"
             ],
             [
              1,
              "#f0f921"
             ]
            ],
            "type": "histogram2d"
           }
          ],
          "histogram2dcontour": [
           {
            "colorbar": {
             "outlinewidth": 0,
             "ticks": ""
            },
            "colorscale": [
             [
              0,
              "#0d0887"
             ],
             [
              0.1111111111111111,
              "#46039f"
             ],
             [
              0.2222222222222222,
              "#7201a8"
             ],
             [
              0.3333333333333333,
              "#9c179e"
             ],
             [
              0.4444444444444444,
              "#bd3786"
             ],
             [
              0.5555555555555556,
              "#d8576b"
             ],
             [
              0.6666666666666666,
              "#ed7953"
             ],
             [
              0.7777777777777778,
              "#fb9f3a"
             ],
             [
              0.8888888888888888,
              "#fdca26"
             ],
             [
              1,
              "#f0f921"
             ]
            ],
            "type": "histogram2dcontour"
           }
          ],
          "mesh3d": [
           {
            "colorbar": {
             "outlinewidth": 0,
             "ticks": ""
            },
            "type": "mesh3d"
           }
          ],
          "parcoords": [
           {
            "line": {
             "colorbar": {
              "outlinewidth": 0,
              "ticks": ""
             }
            },
            "type": "parcoords"
           }
          ],
          "pie": [
           {
            "automargin": true,
            "type": "pie"
           }
          ],
          "scatter": [
           {
            "marker": {
             "colorbar": {
              "outlinewidth": 0,
              "ticks": ""
             }
            },
            "type": "scatter"
           }
          ],
          "scatter3d": [
           {
            "line": {
             "colorbar": {
              "outlinewidth": 0,
              "ticks": ""
             }
            },
            "marker": {
             "colorbar": {
              "outlinewidth": 0,
              "ticks": ""
             }
            },
            "type": "scatter3d"
           }
          ],
          "scattercarpet": [
           {
            "marker": {
             "colorbar": {
              "outlinewidth": 0,
              "ticks": ""
             }
            },
            "type": "scattercarpet"
           }
          ],
          "scattergeo": [
           {
            "marker": {
             "colorbar": {
              "outlinewidth": 0,
              "ticks": ""
             }
            },
            "type": "scattergeo"
           }
          ],
          "scattergl": [
           {
            "marker": {
             "colorbar": {
              "outlinewidth": 0,
              "ticks": ""
             }
            },
            "type": "scattergl"
           }
          ],
          "scattermapbox": [
           {
            "marker": {
             "colorbar": {
              "outlinewidth": 0,
              "ticks": ""
             }
            },
            "type": "scattermapbox"
           }
          ],
          "scatterpolar": [
           {
            "marker": {
             "colorbar": {
              "outlinewidth": 0,
              "ticks": ""
             }
            },
            "type": "scatterpolar"
           }
          ],
          "scatterpolargl": [
           {
            "marker": {
             "colorbar": {
              "outlinewidth": 0,
              "ticks": ""
             }
            },
            "type": "scatterpolargl"
           }
          ],
          "scatterternary": [
           {
            "marker": {
             "colorbar": {
              "outlinewidth": 0,
              "ticks": ""
             }
            },
            "type": "scatterternary"
           }
          ],
          "surface": [
           {
            "colorbar": {
             "outlinewidth": 0,
             "ticks": ""
            },
            "colorscale": [
             [
              0,
              "#0d0887"
             ],
             [
              0.1111111111111111,
              "#46039f"
             ],
             [
              0.2222222222222222,
              "#7201a8"
             ],
             [
              0.3333333333333333,
              "#9c179e"
             ],
             [
              0.4444444444444444,
              "#bd3786"
             ],
             [
              0.5555555555555556,
              "#d8576b"
             ],
             [
              0.6666666666666666,
              "#ed7953"
             ],
             [
              0.7777777777777778,
              "#fb9f3a"
             ],
             [
              0.8888888888888888,
              "#fdca26"
             ],
             [
              1,
              "#f0f921"
             ]
            ],
            "type": "surface"
           }
          ],
          "table": [
           {
            "cells": {
             "fill": {
              "color": "#EBF0F8"
             },
             "line": {
              "color": "white"
             }
            },
            "header": {
             "fill": {
              "color": "#C8D4E3"
             },
             "line": {
              "color": "white"
             }
            },
            "type": "table"
           }
          ]
         },
         "layout": {
          "annotationdefaults": {
           "arrowcolor": "#2a3f5f",
           "arrowhead": 0,
           "arrowwidth": 1
          },
          "coloraxis": {
           "colorbar": {
            "outlinewidth": 0,
            "ticks": ""
           }
          },
          "colorscale": {
           "diverging": [
            [
             0,
             "#8e0152"
            ],
            [
             0.1,
             "#c51b7d"
            ],
            [
             0.2,
             "#de77ae"
            ],
            [
             0.3,
             "#f1b6da"
            ],
            [
             0.4,
             "#fde0ef"
            ],
            [
             0.5,
             "#f7f7f7"
            ],
            [
             0.6,
             "#e6f5d0"
            ],
            [
             0.7,
             "#b8e186"
            ],
            [
             0.8,
             "#7fbc41"
            ],
            [
             0.9,
             "#4d9221"
            ],
            [
             1,
             "#276419"
            ]
           ],
           "sequential": [
            [
             0,
             "#0d0887"
            ],
            [
             0.1111111111111111,
             "#46039f"
            ],
            [
             0.2222222222222222,
             "#7201a8"
            ],
            [
             0.3333333333333333,
             "#9c179e"
            ],
            [
             0.4444444444444444,
             "#bd3786"
            ],
            [
             0.5555555555555556,
             "#d8576b"
            ],
            [
             0.6666666666666666,
             "#ed7953"
            ],
            [
             0.7777777777777778,
             "#fb9f3a"
            ],
            [
             0.8888888888888888,
             "#fdca26"
            ],
            [
             1,
             "#f0f921"
            ]
           ],
           "sequentialminus": [
            [
             0,
             "#0d0887"
            ],
            [
             0.1111111111111111,
             "#46039f"
            ],
            [
             0.2222222222222222,
             "#7201a8"
            ],
            [
             0.3333333333333333,
             "#9c179e"
            ],
            [
             0.4444444444444444,
             "#bd3786"
            ],
            [
             0.5555555555555556,
             "#d8576b"
            ],
            [
             0.6666666666666666,
             "#ed7953"
            ],
            [
             0.7777777777777778,
             "#fb9f3a"
            ],
            [
             0.8888888888888888,
             "#fdca26"
            ],
            [
             1,
             "#f0f921"
            ]
           ]
          },
          "colorway": [
           "#636efa",
           "#EF553B",
           "#00cc96",
           "#ab63fa",
           "#FFA15A",
           "#19d3f3",
           "#FF6692",
           "#B6E880",
           "#FF97FF",
           "#FECB52"
          ],
          "font": {
           "color": "#2a3f5f"
          },
          "geo": {
           "bgcolor": "white",
           "lakecolor": "white",
           "landcolor": "#E5ECF6",
           "showlakes": true,
           "showland": true,
           "subunitcolor": "white"
          },
          "hoverlabel": {
           "align": "left"
          },
          "hovermode": "closest",
          "mapbox": {
           "style": "light"
          },
          "paper_bgcolor": "white",
          "plot_bgcolor": "#E5ECF6",
          "polar": {
           "angularaxis": {
            "gridcolor": "white",
            "linecolor": "white",
            "ticks": ""
           },
           "bgcolor": "#E5ECF6",
           "radialaxis": {
            "gridcolor": "white",
            "linecolor": "white",
            "ticks": ""
           }
          },
          "scene": {
           "xaxis": {
            "backgroundcolor": "#E5ECF6",
            "gridcolor": "white",
            "gridwidth": 2,
            "linecolor": "white",
            "showbackground": true,
            "ticks": "",
            "zerolinecolor": "white"
           },
           "yaxis": {
            "backgroundcolor": "#E5ECF6",
            "gridcolor": "white",
            "gridwidth": 2,
            "linecolor": "white",
            "showbackground": true,
            "ticks": "",
            "zerolinecolor": "white"
           },
           "zaxis": {
            "backgroundcolor": "#E5ECF6",
            "gridcolor": "white",
            "gridwidth": 2,
            "linecolor": "white",
            "showbackground": true,
            "ticks": "",
            "zerolinecolor": "white"
           }
          },
          "shapedefaults": {
           "line": {
            "color": "#2a3f5f"
           }
          },
          "ternary": {
           "aaxis": {
            "gridcolor": "white",
            "linecolor": "white",
            "ticks": ""
           },
           "baxis": {
            "gridcolor": "white",
            "linecolor": "white",
            "ticks": ""
           },
           "bgcolor": "#E5ECF6",
           "caxis": {
            "gridcolor": "white",
            "linecolor": "white",
            "ticks": ""
           }
          },
          "title": {
           "x": 0.05
          },
          "xaxis": {
           "automargin": true,
           "gridcolor": "white",
           "linecolor": "white",
           "ticks": "",
           "title": {
            "standoff": 15
           },
           "zerolinecolor": "white",
           "zerolinewidth": 2
          },
          "yaxis": {
           "automargin": true,
           "gridcolor": "white",
           "linecolor": "white",
           "ticks": "",
           "title": {
            "standoff": 15
           },
           "zerolinecolor": "white",
           "zerolinewidth": 2
          }
         }
        },
        "title": {
         "text": "State wise cases"
        },
        "width": 1000,
        "xaxis": {
         "title": {
          "text": "State"
         }
        },
        "yaxis": {
         "title": {
          "text": "Count"
         }
        }
       }
      },
      "text/html": [
       "<div>\n",
       "        \n",
       "        \n",
       "            <div id=\"84035e63-dea6-428d-995c-1a8d9d4c108b\" class=\"plotly-graph-div\" style=\"height:750px; width:1000px;\"></div>\n",
       "            <script type=\"text/javascript\">\n",
       "                require([\"plotly\"], function(Plotly) {\n",
       "                    window.PLOTLYENV=window.PLOTLYENV || {};\n",
       "                    \n",
       "                if (document.getElementById(\"84035e63-dea6-428d-995c-1a8d9d4c108b\")) {\n",
       "                    Plotly.newPlot(\n",
       "                        '84035e63-dea6-428d-995c-1a8d9d4c108b',\n",
       "                        [{\"name\": \"Confirmed\", \"type\": \"bar\", \"x\": [\"Andaman and Nicobar Islands\", \"Andhra Pradesh\", \"Arunachal Pradesh\", \"Assam\", \"Bihar\", \"Chandigarh\", \"Chhattisgarh\", \"Delhi\", \"Goa\", \"Gujarat\", \"Haryana\", \"Himachal Pradesh\", \"Jammu and Kashmir\", \"Jharkhand\", \"Karnataka\", \"Kerala\", \"Ladakh\", \"Madhya Pradesh\", \"Maharashtra\", \"Manipur\", \"Mizoram\", \"Odisha\", \"Puducherry\", \"Punjab\", \"Rajasthan\", \"Tamil Nadu\", \"Telengana\", \"Uttar Pradesh\", \"Uttarakhand\", \"West Bengal\"], \"y\": [10, 161, 1, 24, 30, 18, 9, 445, 7, 105, 49, 6, 92, 2, 144, 306, 14, 104, 490, 2, 1, 20, 5, 57, 200, 485, 269, 227, 22, 69]}, {\"name\": \"Deaths\", \"type\": \"bar\", \"x\": [\"Andaman and Nicobar Islands\", \"Andhra Pradesh\", \"Arunachal Pradesh\", \"Assam\", \"Bihar\", \"Chandigarh\", \"Chhattisgarh\", \"Delhi\", \"Goa\", \"Gujarat\", \"Haryana\", \"Himachal Pradesh\", \"Jammu and Kashmir\", \"Jharkhand\", \"Karnataka\", \"Kerala\", \"Ladakh\", \"Madhya Pradesh\", \"Maharashtra\", \"Manipur\", \"Mizoram\", \"Odisha\", \"Puducherry\", \"Punjab\", \"Rajasthan\", \"Tamil Nadu\", \"Telengana\", \"Uttar Pradesh\", \"Uttarakhand\", \"West Bengal\"], \"y\": [0, 1, 0, 0, 1, 0, 0, 6, 0, 10, 0, 1, 2, 0, 4, 2, 0, 6, 24, 0, 0, 0, 0, 5, 0, 3, 7, 2, 0, 3]}, {\"name\": \"Cured\", \"type\": \"bar\", \"x\": [\"Andaman and Nicobar Islands\", \"Andhra Pradesh\", \"Arunachal Pradesh\", \"Assam\", \"Bihar\", \"Chandigarh\", \"Chhattisgarh\", \"Delhi\", \"Goa\", \"Gujarat\", \"Haryana\", \"Himachal Pradesh\", \"Jammu and Kashmir\", \"Jharkhand\", \"Karnataka\", \"Kerala\", \"Ladakh\", \"Madhya Pradesh\", \"Maharashtra\", \"Manipur\", \"Mizoram\", \"Odisha\", \"Puducherry\", \"Punjab\", \"Rajasthan\", \"Tamil Nadu\", \"Telengana\", \"Uttar Pradesh\", \"Uttarakhand\", \"West Bengal\"], \"y\": [0, 1, 0, 0, 0, 0, 3, 15, 0, 14, 24, 1, 4, 0, 12, 49, 10, 0, 42, 0, 0, 0, 1, 1, 21, 6, 32, 19, 2, 10]}],\n",
       "                        {\"autosize\": false, \"barmode\": \"stack\", \"height\": 750, \"template\": {\"data\": {\"bar\": [{\"error_x\": {\"color\": \"#2a3f5f\"}, \"error_y\": {\"color\": \"#2a3f5f\"}, \"marker\": {\"line\": {\"color\": \"#E5ECF6\", \"width\": 0.5}}, \"type\": \"bar\"}], \"barpolar\": [{\"marker\": {\"line\": {\"color\": \"#E5ECF6\", \"width\": 0.5}}, \"type\": \"barpolar\"}], \"carpet\": [{\"aaxis\": {\"endlinecolor\": \"#2a3f5f\", \"gridcolor\": \"white\", \"linecolor\": \"white\", \"minorgridcolor\": \"white\", \"startlinecolor\": \"#2a3f5f\"}, \"baxis\": {\"endlinecolor\": \"#2a3f5f\", \"gridcolor\": \"white\", \"linecolor\": \"white\", \"minorgridcolor\": \"white\", \"startlinecolor\": \"#2a3f5f\"}, \"type\": \"carpet\"}], \"choropleth\": [{\"colorbar\": {\"outlinewidth\": 0, \"ticks\": \"\"}, \"type\": \"choropleth\"}], \"contour\": [{\"colorbar\": {\"outlinewidth\": 0, \"ticks\": \"\"}, \"colorscale\": [[0.0, \"#0d0887\"], [0.1111111111111111, \"#46039f\"], [0.2222222222222222, \"#7201a8\"], [0.3333333333333333, \"#9c179e\"], [0.4444444444444444, \"#bd3786\"], [0.5555555555555556, \"#d8576b\"], [0.6666666666666666, \"#ed7953\"], [0.7777777777777778, \"#fb9f3a\"], [0.8888888888888888, \"#fdca26\"], [1.0, \"#f0f921\"]], \"type\": \"contour\"}], \"contourcarpet\": [{\"colorbar\": {\"outlinewidth\": 0, \"ticks\": \"\"}, \"type\": \"contourcarpet\"}], \"heatmap\": [{\"colorbar\": {\"outlinewidth\": 0, \"ticks\": \"\"}, \"colorscale\": [[0.0, \"#0d0887\"], [0.1111111111111111, \"#46039f\"], [0.2222222222222222, \"#7201a8\"], [0.3333333333333333, \"#9c179e\"], [0.4444444444444444, \"#bd3786\"], [0.5555555555555556, \"#d8576b\"], [0.6666666666666666, \"#ed7953\"], [0.7777777777777778, \"#fb9f3a\"], [0.8888888888888888, \"#fdca26\"], [1.0, \"#f0f921\"]], \"type\": \"heatmap\"}], \"heatmapgl\": [{\"colorbar\": {\"outlinewidth\": 0, \"ticks\": \"\"}, \"colorscale\": [[0.0, \"#0d0887\"], [0.1111111111111111, \"#46039f\"], [0.2222222222222222, \"#7201a8\"], [0.3333333333333333, \"#9c179e\"], [0.4444444444444444, \"#bd3786\"], [0.5555555555555556, \"#d8576b\"], [0.6666666666666666, \"#ed7953\"], [0.7777777777777778, \"#fb9f3a\"], [0.8888888888888888, \"#fdca26\"], [1.0, \"#f0f921\"]], \"type\": \"heatmapgl\"}], \"histogram\": [{\"marker\": {\"colorbar\": {\"outlinewidth\": 0, \"ticks\": \"\"}}, \"type\": \"histogram\"}], \"histogram2d\": [{\"colorbar\": {\"outlinewidth\": 0, \"ticks\": \"\"}, \"colorscale\": [[0.0, \"#0d0887\"], [0.1111111111111111, \"#46039f\"], [0.2222222222222222, \"#7201a8\"], [0.3333333333333333, \"#9c179e\"], [0.4444444444444444, \"#bd3786\"], [0.5555555555555556, \"#d8576b\"], [0.6666666666666666, \"#ed7953\"], [0.7777777777777778, \"#fb9f3a\"], [0.8888888888888888, \"#fdca26\"], [1.0, \"#f0f921\"]], \"type\": \"histogram2d\"}], \"histogram2dcontour\": [{\"colorbar\": {\"outlinewidth\": 0, \"ticks\": \"\"}, \"colorscale\": [[0.0, \"#0d0887\"], [0.1111111111111111, \"#46039f\"], [0.2222222222222222, \"#7201a8\"], [0.3333333333333333, \"#9c179e\"], [0.4444444444444444, \"#bd3786\"], [0.5555555555555556, \"#d8576b\"], [0.6666666666666666, \"#ed7953\"], [0.7777777777777778, \"#fb9f3a\"], [0.8888888888888888, \"#fdca26\"], [1.0, \"#f0f921\"]], \"type\": \"histogram2dcontour\"}], \"mesh3d\": [{\"colorbar\": {\"outlinewidth\": 0, \"ticks\": \"\"}, \"type\": \"mesh3d\"}], \"parcoords\": [{\"line\": {\"colorbar\": {\"outlinewidth\": 0, \"ticks\": \"\"}}, \"type\": \"parcoords\"}], \"pie\": [{\"automargin\": true, \"type\": \"pie\"}], \"scatter\": [{\"marker\": {\"colorbar\": {\"outlinewidth\": 0, \"ticks\": \"\"}}, \"type\": \"scatter\"}], \"scatter3d\": [{\"line\": {\"colorbar\": {\"outlinewidth\": 0, \"ticks\": \"\"}}, \"marker\": {\"colorbar\": {\"outlinewidth\": 0, \"ticks\": \"\"}}, \"type\": \"scatter3d\"}], \"scattercarpet\": [{\"marker\": {\"colorbar\": {\"outlinewidth\": 0, \"ticks\": \"\"}}, \"type\": \"scattercarpet\"}], \"scattergeo\": [{\"marker\": {\"colorbar\": {\"outlinewidth\": 0, \"ticks\": \"\"}}, \"type\": \"scattergeo\"}], \"scattergl\": [{\"marker\": {\"colorbar\": {\"outlinewidth\": 0, \"ticks\": \"\"}}, \"type\": \"scattergl\"}], \"scattermapbox\": [{\"marker\": {\"colorbar\": {\"outlinewidth\": 0, \"ticks\": \"\"}}, \"type\": \"scattermapbox\"}], \"scatterpolar\": [{\"marker\": {\"colorbar\": {\"outlinewidth\": 0, \"ticks\": \"\"}}, \"type\": \"scatterpolar\"}], \"scatterpolargl\": [{\"marker\": {\"colorbar\": {\"outlinewidth\": 0, \"ticks\": \"\"}}, \"type\": \"scatterpolargl\"}], \"scatterternary\": [{\"marker\": {\"colorbar\": {\"outlinewidth\": 0, \"ticks\": \"\"}}, \"type\": \"scatterternary\"}], \"surface\": [{\"colorbar\": {\"outlinewidth\": 0, \"ticks\": \"\"}, \"colorscale\": [[0.0, \"#0d0887\"], [0.1111111111111111, \"#46039f\"], [0.2222222222222222, \"#7201a8\"], [0.3333333333333333, \"#9c179e\"], [0.4444444444444444, \"#bd3786\"], [0.5555555555555556, \"#d8576b\"], [0.6666666666666666, \"#ed7953\"], [0.7777777777777778, \"#fb9f3a\"], [0.8888888888888888, \"#fdca26\"], [1.0, \"#f0f921\"]], \"type\": \"surface\"}], \"table\": [{\"cells\": {\"fill\": {\"color\": \"#EBF0F8\"}, \"line\": {\"color\": \"white\"}}, \"header\": {\"fill\": {\"color\": \"#C8D4E3\"}, \"line\": {\"color\": \"white\"}}, \"type\": \"table\"}]}, \"layout\": {\"annotationdefaults\": {\"arrowcolor\": \"#2a3f5f\", \"arrowhead\": 0, \"arrowwidth\": 1}, \"coloraxis\": {\"colorbar\": {\"outlinewidth\": 0, \"ticks\": \"\"}}, \"colorscale\": {\"diverging\": [[0, \"#8e0152\"], [0.1, \"#c51b7d\"], [0.2, \"#de77ae\"], [0.3, \"#f1b6da\"], [0.4, \"#fde0ef\"], [0.5, \"#f7f7f7\"], [0.6, \"#e6f5d0\"], [0.7, \"#b8e186\"], [0.8, \"#7fbc41\"], [0.9, \"#4d9221\"], [1, \"#276419\"]], \"sequential\": [[0.0, \"#0d0887\"], [0.1111111111111111, \"#46039f\"], [0.2222222222222222, \"#7201a8\"], [0.3333333333333333, \"#9c179e\"], [0.4444444444444444, \"#bd3786\"], [0.5555555555555556, \"#d8576b\"], [0.6666666666666666, \"#ed7953\"], [0.7777777777777778, \"#fb9f3a\"], [0.8888888888888888, \"#fdca26\"], [1.0, \"#f0f921\"]], \"sequentialminus\": [[0.0, \"#0d0887\"], [0.1111111111111111, \"#46039f\"], [0.2222222222222222, \"#7201a8\"], [0.3333333333333333, \"#9c179e\"], [0.4444444444444444, \"#bd3786\"], [0.5555555555555556, \"#d8576b\"], [0.6666666666666666, \"#ed7953\"], [0.7777777777777778, \"#fb9f3a\"], [0.8888888888888888, \"#fdca26\"], [1.0, \"#f0f921\"]]}, \"colorway\": [\"#636efa\", \"#EF553B\", \"#00cc96\", \"#ab63fa\", \"#FFA15A\", \"#19d3f3\", \"#FF6692\", \"#B6E880\", \"#FF97FF\", \"#FECB52\"], \"font\": {\"color\": \"#2a3f5f\"}, \"geo\": {\"bgcolor\": \"white\", \"lakecolor\": \"white\", \"landcolor\": \"#E5ECF6\", \"showlakes\": true, \"showland\": true, \"subunitcolor\": \"white\"}, \"hoverlabel\": {\"align\": \"left\"}, \"hovermode\": \"closest\", \"mapbox\": {\"style\": \"light\"}, \"paper_bgcolor\": \"white\", \"plot_bgcolor\": \"#E5ECF6\", \"polar\": {\"angularaxis\": {\"gridcolor\": \"white\", \"linecolor\": \"white\", \"ticks\": \"\"}, \"bgcolor\": \"#E5ECF6\", \"radialaxis\": {\"gridcolor\": \"white\", \"linecolor\": \"white\", \"ticks\": \"\"}}, \"scene\": {\"xaxis\": {\"backgroundcolor\": \"#E5ECF6\", \"gridcolor\": \"white\", \"gridwidth\": 2, \"linecolor\": \"white\", \"showbackground\": true, \"ticks\": \"\", \"zerolinecolor\": \"white\"}, \"yaxis\": {\"backgroundcolor\": \"#E5ECF6\", \"gridcolor\": \"white\", \"gridwidth\": 2, \"linecolor\": \"white\", \"showbackground\": true, \"ticks\": \"\", \"zerolinecolor\": \"white\"}, \"zaxis\": {\"backgroundcolor\": \"#E5ECF6\", \"gridcolor\": \"white\", \"gridwidth\": 2, \"linecolor\": \"white\", \"showbackground\": true, \"ticks\": \"\", \"zerolinecolor\": \"white\"}}, \"shapedefaults\": {\"line\": {\"color\": \"#2a3f5f\"}}, \"ternary\": {\"aaxis\": {\"gridcolor\": \"white\", \"linecolor\": \"white\", \"ticks\": \"\"}, \"baxis\": {\"gridcolor\": \"white\", \"linecolor\": \"white\", \"ticks\": \"\"}, \"bgcolor\": \"#E5ECF6\", \"caxis\": {\"gridcolor\": \"white\", \"linecolor\": \"white\", \"ticks\": \"\"}}, \"title\": {\"x\": 0.05}, \"xaxis\": {\"automargin\": true, \"gridcolor\": \"white\", \"linecolor\": \"white\", \"ticks\": \"\", \"title\": {\"standoff\": 15}, \"zerolinecolor\": \"white\", \"zerolinewidth\": 2}, \"yaxis\": {\"automargin\": true, \"gridcolor\": \"white\", \"linecolor\": \"white\", \"ticks\": \"\", \"title\": {\"standoff\": 15}, \"zerolinecolor\": \"white\", \"zerolinewidth\": 2}}}, \"title\": {\"text\": \"State wise cases\"}, \"width\": 1000, \"xaxis\": {\"title\": {\"text\": \"State\"}}, \"yaxis\": {\"title\": {\"text\": \"Count\"}}},\n",
       "                        {\"responsive\": true}\n",
       "                    ).then(function(){\n",
       "                            \n",
       "var gd = document.getElementById('84035e63-dea6-428d-995c-1a8d9d4c108b');\n",
       "var x = new MutationObserver(function (mutations, observer) {{\n",
       "        var display = window.getComputedStyle(gd).display;\n",
       "        if (!display || display === 'none') {{\n",
       "            console.log([gd, 'removed!']);\n",
       "            Plotly.purge(gd);\n",
       "            observer.disconnect();\n",
       "        }}\n",
       "}});\n",
       "\n",
       "// Listen for the removal of the full notebook cells\n",
       "var notebookContainer = gd.closest('#notebook-container');\n",
       "if (notebookContainer) {{\n",
       "    x.observe(notebookContainer, {childList: true});\n",
       "}}\n",
       "\n",
       "// Listen for the clearing of the current output cell\n",
       "var outputEl = gd.closest('.output');\n",
       "if (outputEl) {{\n",
       "    x.observe(outputEl, {childList: true});\n",
       "}}\n",
       "\n",
       "                        })\n",
       "                };\n",
       "                });\n",
       "            </script>\n",
       "        </div>"
      ]
     },
     "metadata": {},
     "output_type": "display_data"
    }
   ],
   "source": [
    "fig = go.Figure(data=[\n",
    "    go.Bar(name='Confirmed', x=date_table.loc[date_table.last_valid_index()]['State/UnionTerritory'], y=date_table.loc[date_table.last_valid_index()].Confirmed),\n",
    "    go.Bar(name='Deaths', x=date_table.loc[date_table.last_valid_index()]['State/UnionTerritory'], y=date_table.loc[date_table.last_valid_index()].Deaths),\n",
    "    go.Bar(name='Cured', x=date_table.loc[date_table.last_valid_index()]['State/UnionTerritory'], y=date_table.loc[date_table.last_valid_index()].Cured)\n",
    "])\n",
    "# Change the bar mode\n",
    "fig.update_layout(\n",
    "    autosize=False,\n",
    "    width=1000,\n",
    "    height=750,\n",
    "    title=\"State wise cases\",\n",
    "    xaxis_title=\"State\",\n",
    "    yaxis_title=\"Count\",\n",
    "    barmode='stack')\n",
    "fig.show()"
   ]
  },
  {
   "cell_type": "markdown",
   "metadata": {},
   "source": [
    "### Confirmed cases pie chart"
   ]
  },
  {
   "cell_type": "code",
   "execution_count": 10,
   "metadata": {
    "ExecuteTime": {
     "end_time": "2020-04-05T13:37:06.108827Z",
     "start_time": "2020-04-05T13:37:05.880766Z"
    },
    "hide_input": true,
    "jupyter": {
     "source_hidden": true
    }
   },
   "outputs": [
    {
     "data": {
      "application/vnd.plotly.v1+json": {
       "config": {
        "plotlyServerURL": "https://plot.ly"
       },
       "data": [
        {
         "domain": {
          "x": [
           0,
           1
          ],
          "y": [
           0,
           1
          ]
         },
         "hovertemplate": "State/UnionTerritory=%{label}<br>Confirmed=%{value}<extra></extra>",
         "labels": [
          "Andaman and Nicobar Islands",
          "Andhra Pradesh",
          "Arunachal Pradesh",
          "Assam",
          "Bihar",
          "Chandigarh",
          "Chhattisgarh",
          "Delhi",
          "Goa",
          "Gujarat",
          "Haryana",
          "Himachal Pradesh",
          "Jammu and Kashmir",
          "Jharkhand",
          "Karnataka",
          "Kerala",
          "Ladakh",
          "Madhya Pradesh",
          "Maharashtra",
          "Manipur",
          "Mizoram",
          "Odisha",
          "Puducherry",
          "Punjab",
          "Rajasthan",
          "Tamil Nadu",
          "Telengana",
          "Uttar Pradesh",
          "Uttarakhand",
          "West Bengal"
         ],
         "legendgroup": "",
         "name": "",
         "showlegend": true,
         "textinfo": "percent+label",
         "textposition": "inside",
         "type": "pie",
         "values": [
          10,
          161,
          1,
          24,
          30,
          18,
          9,
          445,
          7,
          105,
          49,
          6,
          92,
          2,
          144,
          306,
          14,
          104,
          490,
          2,
          1,
          20,
          5,
          57,
          200,
          485,
          269,
          227,
          22,
          69
         ]
        }
       ],
       "layout": {
        "autosize": false,
        "height": 650,
        "legend": {
         "tracegroupgap": 0
        },
        "template": {
         "data": {
          "bar": [
           {
            "error_x": {
             "color": "#2a3f5f"
            },
            "error_y": {
             "color": "#2a3f5f"
            },
            "marker": {
             "line": {
              "color": "#E5ECF6",
              "width": 0.5
             }
            },
            "type": "bar"
           }
          ],
          "barpolar": [
           {
            "marker": {
             "line": {
              "color": "#E5ECF6",
              "width": 0.5
             }
            },
            "type": "barpolar"
           }
          ],
          "carpet": [
           {
            "aaxis": {
             "endlinecolor": "#2a3f5f",
             "gridcolor": "white",
             "linecolor": "white",
             "minorgridcolor": "white",
             "startlinecolor": "#2a3f5f"
            },
            "baxis": {
             "endlinecolor": "#2a3f5f",
             "gridcolor": "white",
             "linecolor": "white",
             "minorgridcolor": "white",
             "startlinecolor": "#2a3f5f"
            },
            "type": "carpet"
           }
          ],
          "choropleth": [
           {
            "colorbar": {
             "outlinewidth": 0,
             "ticks": ""
            },
            "type": "choropleth"
           }
          ],
          "contour": [
           {
            "colorbar": {
             "outlinewidth": 0,
             "ticks": ""
            },
            "colorscale": [
             [
              0,
              "#0d0887"
             ],
             [
              0.1111111111111111,
              "#46039f"
             ],
             [
              0.2222222222222222,
              "#7201a8"
             ],
             [
              0.3333333333333333,
              "#9c179e"
             ],
             [
              0.4444444444444444,
              "#bd3786"
             ],
             [
              0.5555555555555556,
              "#d8576b"
             ],
             [
              0.6666666666666666,
              "#ed7953"
             ],
             [
              0.7777777777777778,
              "#fb9f3a"
             ],
             [
              0.8888888888888888,
              "#fdca26"
             ],
             [
              1,
              "#f0f921"
             ]
            ],
            "type": "contour"
           }
          ],
          "contourcarpet": [
           {
            "colorbar": {
             "outlinewidth": 0,
             "ticks": ""
            },
            "type": "contourcarpet"
           }
          ],
          "heatmap": [
           {
            "colorbar": {
             "outlinewidth": 0,
             "ticks": ""
            },
            "colorscale": [
             [
              0,
              "#0d0887"
             ],
             [
              0.1111111111111111,
              "#46039f"
             ],
             [
              0.2222222222222222,
              "#7201a8"
             ],
             [
              0.3333333333333333,
              "#9c179e"
             ],
             [
              0.4444444444444444,
              "#bd3786"
             ],
             [
              0.5555555555555556,
              "#d8576b"
             ],
             [
              0.6666666666666666,
              "#ed7953"
             ],
             [
              0.7777777777777778,
              "#fb9f3a"
             ],
             [
              0.8888888888888888,
              "#fdca26"
             ],
             [
              1,
              "#f0f921"
             ]
            ],
            "type": "heatmap"
           }
          ],
          "heatmapgl": [
           {
            "colorbar": {
             "outlinewidth": 0,
             "ticks": ""
            },
            "colorscale": [
             [
              0,
              "#0d0887"
             ],
             [
              0.1111111111111111,
              "#46039f"
             ],
             [
              0.2222222222222222,
              "#7201a8"
             ],
             [
              0.3333333333333333,
              "#9c179e"
             ],
             [
              0.4444444444444444,
              "#bd3786"
             ],
             [
              0.5555555555555556,
              "#d8576b"
             ],
             [
              0.6666666666666666,
              "#ed7953"
             ],
             [
              0.7777777777777778,
              "#fb9f3a"
             ],
             [
              0.8888888888888888,
              "#fdca26"
             ],
             [
              1,
              "#f0f921"
             ]
            ],
            "type": "heatmapgl"
           }
          ],
          "histogram": [
           {
            "marker": {
             "colorbar": {
              "outlinewidth": 0,
              "ticks": ""
             }
            },
            "type": "histogram"
           }
          ],
          "histogram2d": [
           {
            "colorbar": {
             "outlinewidth": 0,
             "ticks": ""
            },
            "colorscale": [
             [
              0,
              "#0d0887"
             ],
             [
              0.1111111111111111,
              "#46039f"
             ],
             [
              0.2222222222222222,
              "#7201a8"
             ],
             [
              0.3333333333333333,
              "#9c179e"
             ],
             [
              0.4444444444444444,
              "#bd3786"
             ],
             [
              0.5555555555555556,
              "#d8576b"
             ],
             [
              0.6666666666666666,
              "#ed7953"
             ],
             [
              0.7777777777777778,
              "#fb9f3a"
             ],
             [
              0.8888888888888888,
              "#fdca26"
             ],
             [
              1,
              "#f0f921"
             ]
            ],
            "type": "histogram2d"
           }
          ],
          "histogram2dcontour": [
           {
            "colorbar": {
             "outlinewidth": 0,
             "ticks": ""
            },
            "colorscale": [
             [
              0,
              "#0d0887"
             ],
             [
              0.1111111111111111,
              "#46039f"
             ],
             [
              0.2222222222222222,
              "#7201a8"
             ],
             [
              0.3333333333333333,
              "#9c179e"
             ],
             [
              0.4444444444444444,
              "#bd3786"
             ],
             [
              0.5555555555555556,
              "#d8576b"
             ],
             [
              0.6666666666666666,
              "#ed7953"
             ],
             [
              0.7777777777777778,
              "#fb9f3a"
             ],
             [
              0.8888888888888888,
              "#fdca26"
             ],
             [
              1,
              "#f0f921"
             ]
            ],
            "type": "histogram2dcontour"
           }
          ],
          "mesh3d": [
           {
            "colorbar": {
             "outlinewidth": 0,
             "ticks": ""
            },
            "type": "mesh3d"
           }
          ],
          "parcoords": [
           {
            "line": {
             "colorbar": {
              "outlinewidth": 0,
              "ticks": ""
             }
            },
            "type": "parcoords"
           }
          ],
          "pie": [
           {
            "automargin": true,
            "type": "pie"
           }
          ],
          "scatter": [
           {
            "marker": {
             "colorbar": {
              "outlinewidth": 0,
              "ticks": ""
             }
            },
            "type": "scatter"
           }
          ],
          "scatter3d": [
           {
            "line": {
             "colorbar": {
              "outlinewidth": 0,
              "ticks": ""
             }
            },
            "marker": {
             "colorbar": {
              "outlinewidth": 0,
              "ticks": ""
             }
            },
            "type": "scatter3d"
           }
          ],
          "scattercarpet": [
           {
            "marker": {
             "colorbar": {
              "outlinewidth": 0,
              "ticks": ""
             }
            },
            "type": "scattercarpet"
           }
          ],
          "scattergeo": [
           {
            "marker": {
             "colorbar": {
              "outlinewidth": 0,
              "ticks": ""
             }
            },
            "type": "scattergeo"
           }
          ],
          "scattergl": [
           {
            "marker": {
             "colorbar": {
              "outlinewidth": 0,
              "ticks": ""
             }
            },
            "type": "scattergl"
           }
          ],
          "scattermapbox": [
           {
            "marker": {
             "colorbar": {
              "outlinewidth": 0,
              "ticks": ""
             }
            },
            "type": "scattermapbox"
           }
          ],
          "scatterpolar": [
           {
            "marker": {
             "colorbar": {
              "outlinewidth": 0,
              "ticks": ""
             }
            },
            "type": "scatterpolar"
           }
          ],
          "scatterpolargl": [
           {
            "marker": {
             "colorbar": {
              "outlinewidth": 0,
              "ticks": ""
             }
            },
            "type": "scatterpolargl"
           }
          ],
          "scatterternary": [
           {
            "marker": {
             "colorbar": {
              "outlinewidth": 0,
              "ticks": ""
             }
            },
            "type": "scatterternary"
           }
          ],
          "surface": [
           {
            "colorbar": {
             "outlinewidth": 0,
             "ticks": ""
            },
            "colorscale": [
             [
              0,
              "#0d0887"
             ],
             [
              0.1111111111111111,
              "#46039f"
             ],
             [
              0.2222222222222222,
              "#7201a8"
             ],
             [
              0.3333333333333333,
              "#9c179e"
             ],
             [
              0.4444444444444444,
              "#bd3786"
             ],
             [
              0.5555555555555556,
              "#d8576b"
             ],
             [
              0.6666666666666666,
              "#ed7953"
             ],
             [
              0.7777777777777778,
              "#fb9f3a"
             ],
             [
              0.8888888888888888,
              "#fdca26"
             ],
             [
              1,
              "#f0f921"
             ]
            ],
            "type": "surface"
           }
          ],
          "table": [
           {
            "cells": {
             "fill": {
              "color": "#EBF0F8"
             },
             "line": {
              "color": "white"
             }
            },
            "header": {
             "fill": {
              "color": "#C8D4E3"
             },
             "line": {
              "color": "white"
             }
            },
            "type": "table"
           }
          ]
         },
         "layout": {
          "annotationdefaults": {
           "arrowcolor": "#2a3f5f",
           "arrowhead": 0,
           "arrowwidth": 1
          },
          "coloraxis": {
           "colorbar": {
            "outlinewidth": 0,
            "ticks": ""
           }
          },
          "colorscale": {
           "diverging": [
            [
             0,
             "#8e0152"
            ],
            [
             0.1,
             "#c51b7d"
            ],
            [
             0.2,
             "#de77ae"
            ],
            [
             0.3,
             "#f1b6da"
            ],
            [
             0.4,
             "#fde0ef"
            ],
            [
             0.5,
             "#f7f7f7"
            ],
            [
             0.6,
             "#e6f5d0"
            ],
            [
             0.7,
             "#b8e186"
            ],
            [
             0.8,
             "#7fbc41"
            ],
            [
             0.9,
             "#4d9221"
            ],
            [
             1,
             "#276419"
            ]
           ],
           "sequential": [
            [
             0,
             "#0d0887"
            ],
            [
             0.1111111111111111,
             "#46039f"
            ],
            [
             0.2222222222222222,
             "#7201a8"
            ],
            [
             0.3333333333333333,
             "#9c179e"
            ],
            [
             0.4444444444444444,
             "#bd3786"
            ],
            [
             0.5555555555555556,
             "#d8576b"
            ],
            [
             0.6666666666666666,
             "#ed7953"
            ],
            [
             0.7777777777777778,
             "#fb9f3a"
            ],
            [
             0.8888888888888888,
             "#fdca26"
            ],
            [
             1,
             "#f0f921"
            ]
           ],
           "sequentialminus": [
            [
             0,
             "#0d0887"
            ],
            [
             0.1111111111111111,
             "#46039f"
            ],
            [
             0.2222222222222222,
             "#7201a8"
            ],
            [
             0.3333333333333333,
             "#9c179e"
            ],
            [
             0.4444444444444444,
             "#bd3786"
            ],
            [
             0.5555555555555556,
             "#d8576b"
            ],
            [
             0.6666666666666666,
             "#ed7953"
            ],
            [
             0.7777777777777778,
             "#fb9f3a"
            ],
            [
             0.8888888888888888,
             "#fdca26"
            ],
            [
             1,
             "#f0f921"
            ]
           ]
          },
          "colorway": [
           "#636efa",
           "#EF553B",
           "#00cc96",
           "#ab63fa",
           "#FFA15A",
           "#19d3f3",
           "#FF6692",
           "#B6E880",
           "#FF97FF",
           "#FECB52"
          ],
          "font": {
           "color": "#2a3f5f"
          },
          "geo": {
           "bgcolor": "white",
           "lakecolor": "white",
           "landcolor": "#E5ECF6",
           "showlakes": true,
           "showland": true,
           "subunitcolor": "white"
          },
          "hoverlabel": {
           "align": "left"
          },
          "hovermode": "closest",
          "mapbox": {
           "style": "light"
          },
          "paper_bgcolor": "white",
          "plot_bgcolor": "#E5ECF6",
          "polar": {
           "angularaxis": {
            "gridcolor": "white",
            "linecolor": "white",
            "ticks": ""
           },
           "bgcolor": "#E5ECF6",
           "radialaxis": {
            "gridcolor": "white",
            "linecolor": "white",
            "ticks": ""
           }
          },
          "scene": {
           "xaxis": {
            "backgroundcolor": "#E5ECF6",
            "gridcolor": "white",
            "gridwidth": 2,
            "linecolor": "white",
            "showbackground": true,
            "ticks": "",
            "zerolinecolor": "white"
           },
           "yaxis": {
            "backgroundcolor": "#E5ECF6",
            "gridcolor": "white",
            "gridwidth": 2,
            "linecolor": "white",
            "showbackground": true,
            "ticks": "",
            "zerolinecolor": "white"
           },
           "zaxis": {
            "backgroundcolor": "#E5ECF6",
            "gridcolor": "white",
            "gridwidth": 2,
            "linecolor": "white",
            "showbackground": true,
            "ticks": "",
            "zerolinecolor": "white"
           }
          },
          "shapedefaults": {
           "line": {
            "color": "#2a3f5f"
           }
          },
          "ternary": {
           "aaxis": {
            "gridcolor": "white",
            "linecolor": "white",
            "ticks": ""
           },
           "baxis": {
            "gridcolor": "white",
            "linecolor": "white",
            "ticks": ""
           },
           "bgcolor": "#E5ECF6",
           "caxis": {
            "gridcolor": "white",
            "linecolor": "white",
            "ticks": ""
           }
          },
          "title": {
           "x": 0.05
          },
          "xaxis": {
           "automargin": true,
           "gridcolor": "white",
           "linecolor": "white",
           "ticks": "",
           "title": {
            "standoff": 15
           },
           "zerolinecolor": "white",
           "zerolinewidth": 2
          },
          "yaxis": {
           "automargin": true,
           "gridcolor": "white",
           "linecolor": "white",
           "ticks": "",
           "title": {
            "standoff": 15
           },
           "zerolinecolor": "white",
           "zerolinewidth": 2
          }
         }
        },
        "title": {
         "text": "Confirmed cases"
        },
        "width": 900
       }
      },
      "text/html": [
       "<div>\n",
       "        \n",
       "        \n",
       "            <div id=\"085df935-1dd0-4c58-8b73-79955f8dc27f\" class=\"plotly-graph-div\" style=\"height:650px; width:900px;\"></div>\n",
       "            <script type=\"text/javascript\">\n",
       "                require([\"plotly\"], function(Plotly) {\n",
       "                    window.PLOTLYENV=window.PLOTLYENV || {};\n",
       "                    \n",
       "                if (document.getElementById(\"085df935-1dd0-4c58-8b73-79955f8dc27f\")) {\n",
       "                    Plotly.newPlot(\n",
       "                        '085df935-1dd0-4c58-8b73-79955f8dc27f',\n",
       "                        [{\"domain\": {\"x\": [0.0, 1.0], \"y\": [0.0, 1.0]}, \"hovertemplate\": \"State/UnionTerritory=%{label}<br>Confirmed=%{value}<extra></extra>\", \"labels\": [\"Andaman and Nicobar Islands\", \"Andhra Pradesh\", \"Arunachal Pradesh\", \"Assam\", \"Bihar\", \"Chandigarh\", \"Chhattisgarh\", \"Delhi\", \"Goa\", \"Gujarat\", \"Haryana\", \"Himachal Pradesh\", \"Jammu and Kashmir\", \"Jharkhand\", \"Karnataka\", \"Kerala\", \"Ladakh\", \"Madhya Pradesh\", \"Maharashtra\", \"Manipur\", \"Mizoram\", \"Odisha\", \"Puducherry\", \"Punjab\", \"Rajasthan\", \"Tamil Nadu\", \"Telengana\", \"Uttar Pradesh\", \"Uttarakhand\", \"West Bengal\"], \"legendgroup\": \"\", \"name\": \"\", \"showlegend\": true, \"textinfo\": \"percent+label\", \"textposition\": \"inside\", \"type\": \"pie\", \"values\": [10, 161, 1, 24, 30, 18, 9, 445, 7, 105, 49, 6, 92, 2, 144, 306, 14, 104, 490, 2, 1, 20, 5, 57, 200, 485, 269, 227, 22, 69]}],\n",
       "                        {\"autosize\": false, \"height\": 650, \"legend\": {\"tracegroupgap\": 0}, \"template\": {\"data\": {\"bar\": [{\"error_x\": {\"color\": \"#2a3f5f\"}, \"error_y\": {\"color\": \"#2a3f5f\"}, \"marker\": {\"line\": {\"color\": \"#E5ECF6\", \"width\": 0.5}}, \"type\": \"bar\"}], \"barpolar\": [{\"marker\": {\"line\": {\"color\": \"#E5ECF6\", \"width\": 0.5}}, \"type\": \"barpolar\"}], \"carpet\": [{\"aaxis\": {\"endlinecolor\": \"#2a3f5f\", \"gridcolor\": \"white\", \"linecolor\": \"white\", \"minorgridcolor\": \"white\", \"startlinecolor\": \"#2a3f5f\"}, \"baxis\": {\"endlinecolor\": \"#2a3f5f\", \"gridcolor\": \"white\", \"linecolor\": \"white\", \"minorgridcolor\": \"white\", \"startlinecolor\": \"#2a3f5f\"}, \"type\": \"carpet\"}], \"choropleth\": [{\"colorbar\": {\"outlinewidth\": 0, \"ticks\": \"\"}, \"type\": \"choropleth\"}], \"contour\": [{\"colorbar\": {\"outlinewidth\": 0, \"ticks\": \"\"}, \"colorscale\": [[0.0, \"#0d0887\"], [0.1111111111111111, \"#46039f\"], [0.2222222222222222, \"#7201a8\"], [0.3333333333333333, \"#9c179e\"], [0.4444444444444444, \"#bd3786\"], [0.5555555555555556, \"#d8576b\"], [0.6666666666666666, \"#ed7953\"], [0.7777777777777778, \"#fb9f3a\"], [0.8888888888888888, \"#fdca26\"], [1.0, \"#f0f921\"]], \"type\": \"contour\"}], \"contourcarpet\": [{\"colorbar\": {\"outlinewidth\": 0, \"ticks\": \"\"}, \"type\": \"contourcarpet\"}], \"heatmap\": [{\"colorbar\": {\"outlinewidth\": 0, \"ticks\": \"\"}, \"colorscale\": [[0.0, \"#0d0887\"], [0.1111111111111111, \"#46039f\"], [0.2222222222222222, \"#7201a8\"], [0.3333333333333333, \"#9c179e\"], [0.4444444444444444, \"#bd3786\"], [0.5555555555555556, \"#d8576b\"], [0.6666666666666666, \"#ed7953\"], [0.7777777777777778, \"#fb9f3a\"], [0.8888888888888888, \"#fdca26\"], [1.0, \"#f0f921\"]], \"type\": \"heatmap\"}], \"heatmapgl\": [{\"colorbar\": {\"outlinewidth\": 0, \"ticks\": \"\"}, \"colorscale\": [[0.0, \"#0d0887\"], [0.1111111111111111, \"#46039f\"], [0.2222222222222222, \"#7201a8\"], [0.3333333333333333, \"#9c179e\"], [0.4444444444444444, \"#bd3786\"], [0.5555555555555556, \"#d8576b\"], [0.6666666666666666, \"#ed7953\"], [0.7777777777777778, \"#fb9f3a\"], [0.8888888888888888, \"#fdca26\"], [1.0, \"#f0f921\"]], \"type\": \"heatmapgl\"}], \"histogram\": [{\"marker\": {\"colorbar\": {\"outlinewidth\": 0, \"ticks\": \"\"}}, \"type\": \"histogram\"}], \"histogram2d\": [{\"colorbar\": {\"outlinewidth\": 0, \"ticks\": \"\"}, \"colorscale\": [[0.0, \"#0d0887\"], [0.1111111111111111, \"#46039f\"], [0.2222222222222222, \"#7201a8\"], [0.3333333333333333, \"#9c179e\"], [0.4444444444444444, \"#bd3786\"], [0.5555555555555556, \"#d8576b\"], [0.6666666666666666, \"#ed7953\"], [0.7777777777777778, \"#fb9f3a\"], [0.8888888888888888, \"#fdca26\"], [1.0, \"#f0f921\"]], \"type\": \"histogram2d\"}], \"histogram2dcontour\": [{\"colorbar\": {\"outlinewidth\": 0, \"ticks\": \"\"}, \"colorscale\": [[0.0, \"#0d0887\"], [0.1111111111111111, \"#46039f\"], [0.2222222222222222, \"#7201a8\"], [0.3333333333333333, \"#9c179e\"], [0.4444444444444444, \"#bd3786\"], [0.5555555555555556, \"#d8576b\"], [0.6666666666666666, \"#ed7953\"], [0.7777777777777778, \"#fb9f3a\"], [0.8888888888888888, \"#fdca26\"], [1.0, \"#f0f921\"]], \"type\": \"histogram2dcontour\"}], \"mesh3d\": [{\"colorbar\": {\"outlinewidth\": 0, \"ticks\": \"\"}, \"type\": \"mesh3d\"}], \"parcoords\": [{\"line\": {\"colorbar\": {\"outlinewidth\": 0, \"ticks\": \"\"}}, \"type\": \"parcoords\"}], \"pie\": [{\"automargin\": true, \"type\": \"pie\"}], \"scatter\": [{\"marker\": {\"colorbar\": {\"outlinewidth\": 0, \"ticks\": \"\"}}, \"type\": \"scatter\"}], \"scatter3d\": [{\"line\": {\"colorbar\": {\"outlinewidth\": 0, \"ticks\": \"\"}}, \"marker\": {\"colorbar\": {\"outlinewidth\": 0, \"ticks\": \"\"}}, \"type\": \"scatter3d\"}], \"scattercarpet\": [{\"marker\": {\"colorbar\": {\"outlinewidth\": 0, \"ticks\": \"\"}}, \"type\": \"scattercarpet\"}], \"scattergeo\": [{\"marker\": {\"colorbar\": {\"outlinewidth\": 0, \"ticks\": \"\"}}, \"type\": \"scattergeo\"}], \"scattergl\": [{\"marker\": {\"colorbar\": {\"outlinewidth\": 0, \"ticks\": \"\"}}, \"type\": \"scattergl\"}], \"scattermapbox\": [{\"marker\": {\"colorbar\": {\"outlinewidth\": 0, \"ticks\": \"\"}}, \"type\": \"scattermapbox\"}], \"scatterpolar\": [{\"marker\": {\"colorbar\": {\"outlinewidth\": 0, \"ticks\": \"\"}}, \"type\": \"scatterpolar\"}], \"scatterpolargl\": [{\"marker\": {\"colorbar\": {\"outlinewidth\": 0, \"ticks\": \"\"}}, \"type\": \"scatterpolargl\"}], \"scatterternary\": [{\"marker\": {\"colorbar\": {\"outlinewidth\": 0, \"ticks\": \"\"}}, \"type\": \"scatterternary\"}], \"surface\": [{\"colorbar\": {\"outlinewidth\": 0, \"ticks\": \"\"}, \"colorscale\": [[0.0, \"#0d0887\"], [0.1111111111111111, \"#46039f\"], [0.2222222222222222, \"#7201a8\"], [0.3333333333333333, \"#9c179e\"], [0.4444444444444444, \"#bd3786\"], [0.5555555555555556, \"#d8576b\"], [0.6666666666666666, \"#ed7953\"], [0.7777777777777778, \"#fb9f3a\"], [0.8888888888888888, \"#fdca26\"], [1.0, \"#f0f921\"]], \"type\": \"surface\"}], \"table\": [{\"cells\": {\"fill\": {\"color\": \"#EBF0F8\"}, \"line\": {\"color\": \"white\"}}, \"header\": {\"fill\": {\"color\": \"#C8D4E3\"}, \"line\": {\"color\": \"white\"}}, \"type\": \"table\"}]}, \"layout\": {\"annotationdefaults\": {\"arrowcolor\": \"#2a3f5f\", \"arrowhead\": 0, \"arrowwidth\": 1}, \"coloraxis\": {\"colorbar\": {\"outlinewidth\": 0, \"ticks\": \"\"}}, \"colorscale\": {\"diverging\": [[0, \"#8e0152\"], [0.1, \"#c51b7d\"], [0.2, \"#de77ae\"], [0.3, \"#f1b6da\"], [0.4, \"#fde0ef\"], [0.5, \"#f7f7f7\"], [0.6, \"#e6f5d0\"], [0.7, \"#b8e186\"], [0.8, \"#7fbc41\"], [0.9, \"#4d9221\"], [1, \"#276419\"]], \"sequential\": [[0.0, \"#0d0887\"], [0.1111111111111111, \"#46039f\"], [0.2222222222222222, \"#7201a8\"], [0.3333333333333333, \"#9c179e\"], [0.4444444444444444, \"#bd3786\"], [0.5555555555555556, \"#d8576b\"], [0.6666666666666666, \"#ed7953\"], [0.7777777777777778, \"#fb9f3a\"], [0.8888888888888888, \"#fdca26\"], [1.0, \"#f0f921\"]], \"sequentialminus\": [[0.0, \"#0d0887\"], [0.1111111111111111, \"#46039f\"], [0.2222222222222222, \"#7201a8\"], [0.3333333333333333, \"#9c179e\"], [0.4444444444444444, \"#bd3786\"], [0.5555555555555556, \"#d8576b\"], [0.6666666666666666, \"#ed7953\"], [0.7777777777777778, \"#fb9f3a\"], [0.8888888888888888, \"#fdca26\"], [1.0, \"#f0f921\"]]}, \"colorway\": [\"#636efa\", \"#EF553B\", \"#00cc96\", \"#ab63fa\", \"#FFA15A\", \"#19d3f3\", \"#FF6692\", \"#B6E880\", \"#FF97FF\", \"#FECB52\"], \"font\": {\"color\": \"#2a3f5f\"}, \"geo\": {\"bgcolor\": \"white\", \"lakecolor\": \"white\", \"landcolor\": \"#E5ECF6\", \"showlakes\": true, \"showland\": true, \"subunitcolor\": \"white\"}, \"hoverlabel\": {\"align\": \"left\"}, \"hovermode\": \"closest\", \"mapbox\": {\"style\": \"light\"}, \"paper_bgcolor\": \"white\", \"plot_bgcolor\": \"#E5ECF6\", \"polar\": {\"angularaxis\": {\"gridcolor\": \"white\", \"linecolor\": \"white\", \"ticks\": \"\"}, \"bgcolor\": \"#E5ECF6\", \"radialaxis\": {\"gridcolor\": \"white\", \"linecolor\": \"white\", \"ticks\": \"\"}}, \"scene\": {\"xaxis\": {\"backgroundcolor\": \"#E5ECF6\", \"gridcolor\": \"white\", \"gridwidth\": 2, \"linecolor\": \"white\", \"showbackground\": true, \"ticks\": \"\", \"zerolinecolor\": \"white\"}, \"yaxis\": {\"backgroundcolor\": \"#E5ECF6\", \"gridcolor\": \"white\", \"gridwidth\": 2, \"linecolor\": \"white\", \"showbackground\": true, \"ticks\": \"\", \"zerolinecolor\": \"white\"}, \"zaxis\": {\"backgroundcolor\": \"#E5ECF6\", \"gridcolor\": \"white\", \"gridwidth\": 2, \"linecolor\": \"white\", \"showbackground\": true, \"ticks\": \"\", \"zerolinecolor\": \"white\"}}, \"shapedefaults\": {\"line\": {\"color\": \"#2a3f5f\"}}, \"ternary\": {\"aaxis\": {\"gridcolor\": \"white\", \"linecolor\": \"white\", \"ticks\": \"\"}, \"baxis\": {\"gridcolor\": \"white\", \"linecolor\": \"white\", \"ticks\": \"\"}, \"bgcolor\": \"#E5ECF6\", \"caxis\": {\"gridcolor\": \"white\", \"linecolor\": \"white\", \"ticks\": \"\"}}, \"title\": {\"x\": 0.05}, \"xaxis\": {\"automargin\": true, \"gridcolor\": \"white\", \"linecolor\": \"white\", \"ticks\": \"\", \"title\": {\"standoff\": 15}, \"zerolinecolor\": \"white\", \"zerolinewidth\": 2}, \"yaxis\": {\"automargin\": true, \"gridcolor\": \"white\", \"linecolor\": \"white\", \"ticks\": \"\", \"title\": {\"standoff\": 15}, \"zerolinecolor\": \"white\", \"zerolinewidth\": 2}}}, \"title\": {\"text\": \"Confirmed cases\"}, \"width\": 900},\n",
       "                        {\"responsive\": true}\n",
       "                    ).then(function(){\n",
       "                            \n",
       "var gd = document.getElementById('085df935-1dd0-4c58-8b73-79955f8dc27f');\n",
       "var x = new MutationObserver(function (mutations, observer) {{\n",
       "        var display = window.getComputedStyle(gd).display;\n",
       "        if (!display || display === 'none') {{\n",
       "            console.log([gd, 'removed!']);\n",
       "            Plotly.purge(gd);\n",
       "            observer.disconnect();\n",
       "        }}\n",
       "}});\n",
       "\n",
       "// Listen for the removal of the full notebook cells\n",
       "var notebookContainer = gd.closest('#notebook-container');\n",
       "if (notebookContainer) {{\n",
       "    x.observe(notebookContainer, {childList: true});\n",
       "}}\n",
       "\n",
       "// Listen for the clearing of the current output cell\n",
       "var outputEl = gd.closest('.output');\n",
       "if (outputEl) {{\n",
       "    x.observe(outputEl, {childList: true});\n",
       "}}\n",
       "\n",
       "                        })\n",
       "                };\n",
       "                });\n",
       "            </script>\n",
       "        </div>"
      ]
     },
     "metadata": {},
     "output_type": "display_data"
    }
   ],
   "source": [
    "fig = px.pie(date_table.loc[date_table.last_valid_index()], values='Confirmed', names='State/UnionTerritory', title='Confirmed cases')\n",
    "fig.update_layout(\n",
    "    autosize=False,\n",
    "    width=900,\n",
    "    height=650)\n",
    "fig.update_traces(textposition='inside', textinfo='percent+label')\n",
    "fig.show()"
   ]
  },
  {
   "cell_type": "markdown",
   "metadata": {},
   "source": [
    "### Deaths pie chart"
   ]
  },
  {
   "cell_type": "code",
   "execution_count": 11,
   "metadata": {
    "ExecuteTime": {
     "end_time": "2020-04-05T13:37:06.437766Z",
     "start_time": "2020-04-05T13:37:06.109757Z"
    },
    "hide_input": true,
    "jupyter": {
     "source_hidden": true
    }
   },
   "outputs": [
    {
     "data": {
      "application/vnd.plotly.v1+json": {
       "config": {
        "plotlyServerURL": "https://plot.ly"
       },
       "data": [
        {
         "domain": {
          "x": [
           0,
           1
          ],
          "y": [
           0,
           1
          ]
         },
         "hovertemplate": "State/UnionTerritory=%{label}<br>Deaths=%{value}<extra></extra>",
         "labels": [
          "Andaman and Nicobar Islands",
          "Andhra Pradesh",
          "Arunachal Pradesh",
          "Assam",
          "Bihar",
          "Chandigarh",
          "Chhattisgarh",
          "Delhi",
          "Goa",
          "Gujarat",
          "Haryana",
          "Himachal Pradesh",
          "Jammu and Kashmir",
          "Jharkhand",
          "Karnataka",
          "Kerala",
          "Ladakh",
          "Madhya Pradesh",
          "Maharashtra",
          "Manipur",
          "Mizoram",
          "Odisha",
          "Puducherry",
          "Punjab",
          "Rajasthan",
          "Tamil Nadu",
          "Telengana",
          "Uttar Pradesh",
          "Uttarakhand",
          "West Bengal"
         ],
         "legendgroup": "",
         "name": "",
         "showlegend": true,
         "textinfo": "percent+label",
         "textposition": "inside",
         "type": "pie",
         "values": [
          0,
          1,
          0,
          0,
          1,
          0,
          0,
          6,
          0,
          10,
          0,
          1,
          2,
          0,
          4,
          2,
          0,
          6,
          24,
          0,
          0,
          0,
          0,
          5,
          0,
          3,
          7,
          2,
          0,
          3
         ]
        }
       ],
       "layout": {
        "autosize": false,
        "height": 650,
        "legend": {
         "tracegroupgap": 0
        },
        "template": {
         "data": {
          "bar": [
           {
            "error_x": {
             "color": "#2a3f5f"
            },
            "error_y": {
             "color": "#2a3f5f"
            },
            "marker": {
             "line": {
              "color": "#E5ECF6",
              "width": 0.5
             }
            },
            "type": "bar"
           }
          ],
          "barpolar": [
           {
            "marker": {
             "line": {
              "color": "#E5ECF6",
              "width": 0.5
             }
            },
            "type": "barpolar"
           }
          ],
          "carpet": [
           {
            "aaxis": {
             "endlinecolor": "#2a3f5f",
             "gridcolor": "white",
             "linecolor": "white",
             "minorgridcolor": "white",
             "startlinecolor": "#2a3f5f"
            },
            "baxis": {
             "endlinecolor": "#2a3f5f",
             "gridcolor": "white",
             "linecolor": "white",
             "minorgridcolor": "white",
             "startlinecolor": "#2a3f5f"
            },
            "type": "carpet"
           }
          ],
          "choropleth": [
           {
            "colorbar": {
             "outlinewidth": 0,
             "ticks": ""
            },
            "type": "choropleth"
           }
          ],
          "contour": [
           {
            "colorbar": {
             "outlinewidth": 0,
             "ticks": ""
            },
            "colorscale": [
             [
              0,
              "#0d0887"
             ],
             [
              0.1111111111111111,
              "#46039f"
             ],
             [
              0.2222222222222222,
              "#7201a8"
             ],
             [
              0.3333333333333333,
              "#9c179e"
             ],
             [
              0.4444444444444444,
              "#bd3786"
             ],
             [
              0.5555555555555556,
              "#d8576b"
             ],
             [
              0.6666666666666666,
              "#ed7953"
             ],
             [
              0.7777777777777778,
              "#fb9f3a"
             ],
             [
              0.8888888888888888,
              "#fdca26"
             ],
             [
              1,
              "#f0f921"
             ]
            ],
            "type": "contour"
           }
          ],
          "contourcarpet": [
           {
            "colorbar": {
             "outlinewidth": 0,
             "ticks": ""
            },
            "type": "contourcarpet"
           }
          ],
          "heatmap": [
           {
            "colorbar": {
             "outlinewidth": 0,
             "ticks": ""
            },
            "colorscale": [
             [
              0,
              "#0d0887"
             ],
             [
              0.1111111111111111,
              "#46039f"
             ],
             [
              0.2222222222222222,
              "#7201a8"
             ],
             [
              0.3333333333333333,
              "#9c179e"
             ],
             [
              0.4444444444444444,
              "#bd3786"
             ],
             [
              0.5555555555555556,
              "#d8576b"
             ],
             [
              0.6666666666666666,
              "#ed7953"
             ],
             [
              0.7777777777777778,
              "#fb9f3a"
             ],
             [
              0.8888888888888888,
              "#fdca26"
             ],
             [
              1,
              "#f0f921"
             ]
            ],
            "type": "heatmap"
           }
          ],
          "heatmapgl": [
           {
            "colorbar": {
             "outlinewidth": 0,
             "ticks": ""
            },
            "colorscale": [
             [
              0,
              "#0d0887"
             ],
             [
              0.1111111111111111,
              "#46039f"
             ],
             [
              0.2222222222222222,
              "#7201a8"
             ],
             [
              0.3333333333333333,
              "#9c179e"
             ],
             [
              0.4444444444444444,
              "#bd3786"
             ],
             [
              0.5555555555555556,
              "#d8576b"
             ],
             [
              0.6666666666666666,
              "#ed7953"
             ],
             [
              0.7777777777777778,
              "#fb9f3a"
             ],
             [
              0.8888888888888888,
              "#fdca26"
             ],
             [
              1,
              "#f0f921"
             ]
            ],
            "type": "heatmapgl"
           }
          ],
          "histogram": [
           {
            "marker": {
             "colorbar": {
              "outlinewidth": 0,
              "ticks": ""
             }
            },
            "type": "histogram"
           }
          ],
          "histogram2d": [
           {
            "colorbar": {
             "outlinewidth": 0,
             "ticks": ""
            },
            "colorscale": [
             [
              0,
              "#0d0887"
             ],
             [
              0.1111111111111111,
              "#46039f"
             ],
             [
              0.2222222222222222,
              "#7201a8"
             ],
             [
              0.3333333333333333,
              "#9c179e"
             ],
             [
              0.4444444444444444,
              "#bd3786"
             ],
             [
              0.5555555555555556,
              "#d8576b"
             ],
             [
              0.6666666666666666,
              "#ed7953"
             ],
             [
              0.7777777777777778,
              "#fb9f3a"
             ],
             [
              0.8888888888888888,
              "#fdca26"
             ],
             [
              1,
              "#f0f921"
             ]
            ],
            "type": "histogram2d"
           }
          ],
          "histogram2dcontour": [
           {
            "colorbar": {
             "outlinewidth": 0,
             "ticks": ""
            },
            "colorscale": [
             [
              0,
              "#0d0887"
             ],
             [
              0.1111111111111111,
              "#46039f"
             ],
             [
              0.2222222222222222,
              "#7201a8"
             ],
             [
              0.3333333333333333,
              "#9c179e"
             ],
             [
              0.4444444444444444,
              "#bd3786"
             ],
             [
              0.5555555555555556,
              "#d8576b"
             ],
             [
              0.6666666666666666,
              "#ed7953"
             ],
             [
              0.7777777777777778,
              "#fb9f3a"
             ],
             [
              0.8888888888888888,
              "#fdca26"
             ],
             [
              1,
              "#f0f921"
             ]
            ],
            "type": "histogram2dcontour"
           }
          ],
          "mesh3d": [
           {
            "colorbar": {
             "outlinewidth": 0,
             "ticks": ""
            },
            "type": "mesh3d"
           }
          ],
          "parcoords": [
           {
            "line": {
             "colorbar": {
              "outlinewidth": 0,
              "ticks": ""
             }
            },
            "type": "parcoords"
           }
          ],
          "pie": [
           {
            "automargin": true,
            "type": "pie"
           }
          ],
          "scatter": [
           {
            "marker": {
             "colorbar": {
              "outlinewidth": 0,
              "ticks": ""
             }
            },
            "type": "scatter"
           }
          ],
          "scatter3d": [
           {
            "line": {
             "colorbar": {
              "outlinewidth": 0,
              "ticks": ""
             }
            },
            "marker": {
             "colorbar": {
              "outlinewidth": 0,
              "ticks": ""
             }
            },
            "type": "scatter3d"
           }
          ],
          "scattercarpet": [
           {
            "marker": {
             "colorbar": {
              "outlinewidth": 0,
              "ticks": ""
             }
            },
            "type": "scattercarpet"
           }
          ],
          "scattergeo": [
           {
            "marker": {
             "colorbar": {
              "outlinewidth": 0,
              "ticks": ""
             }
            },
            "type": "scattergeo"
           }
          ],
          "scattergl": [
           {
            "marker": {
             "colorbar": {
              "outlinewidth": 0,
              "ticks": ""
             }
            },
            "type": "scattergl"
           }
          ],
          "scattermapbox": [
           {
            "marker": {
             "colorbar": {
              "outlinewidth": 0,
              "ticks": ""
             }
            },
            "type": "scattermapbox"
           }
          ],
          "scatterpolar": [
           {
            "marker": {
             "colorbar": {
              "outlinewidth": 0,
              "ticks": ""
             }
            },
            "type": "scatterpolar"
           }
          ],
          "scatterpolargl": [
           {
            "marker": {
             "colorbar": {
              "outlinewidth": 0,
              "ticks": ""
             }
            },
            "type": "scatterpolargl"
           }
          ],
          "scatterternary": [
           {
            "marker": {
             "colorbar": {
              "outlinewidth": 0,
              "ticks": ""
             }
            },
            "type": "scatterternary"
           }
          ],
          "surface": [
           {
            "colorbar": {
             "outlinewidth": 0,
             "ticks": ""
            },
            "colorscale": [
             [
              0,
              "#0d0887"
             ],
             [
              0.1111111111111111,
              "#46039f"
             ],
             [
              0.2222222222222222,
              "#7201a8"
             ],
             [
              0.3333333333333333,
              "#9c179e"
             ],
             [
              0.4444444444444444,
              "#bd3786"
             ],
             [
              0.5555555555555556,
              "#d8576b"
             ],
             [
              0.6666666666666666,
              "#ed7953"
             ],
             [
              0.7777777777777778,
              "#fb9f3a"
             ],
             [
              0.8888888888888888,
              "#fdca26"
             ],
             [
              1,
              "#f0f921"
             ]
            ],
            "type": "surface"
           }
          ],
          "table": [
           {
            "cells": {
             "fill": {
              "color": "#EBF0F8"
             },
             "line": {
              "color": "white"
             }
            },
            "header": {
             "fill": {
              "color": "#C8D4E3"
             },
             "line": {
              "color": "white"
             }
            },
            "type": "table"
           }
          ]
         },
         "layout": {
          "annotationdefaults": {
           "arrowcolor": "#2a3f5f",
           "arrowhead": 0,
           "arrowwidth": 1
          },
          "coloraxis": {
           "colorbar": {
            "outlinewidth": 0,
            "ticks": ""
           }
          },
          "colorscale": {
           "diverging": [
            [
             0,
             "#8e0152"
            ],
            [
             0.1,
             "#c51b7d"
            ],
            [
             0.2,
             "#de77ae"
            ],
            [
             0.3,
             "#f1b6da"
            ],
            [
             0.4,
             "#fde0ef"
            ],
            [
             0.5,
             "#f7f7f7"
            ],
            [
             0.6,
             "#e6f5d0"
            ],
            [
             0.7,
             "#b8e186"
            ],
            [
             0.8,
             "#7fbc41"
            ],
            [
             0.9,
             "#4d9221"
            ],
            [
             1,
             "#276419"
            ]
           ],
           "sequential": [
            [
             0,
             "#0d0887"
            ],
            [
             0.1111111111111111,
             "#46039f"
            ],
            [
             0.2222222222222222,
             "#7201a8"
            ],
            [
             0.3333333333333333,
             "#9c179e"
            ],
            [
             0.4444444444444444,
             "#bd3786"
            ],
            [
             0.5555555555555556,
             "#d8576b"
            ],
            [
             0.6666666666666666,
             "#ed7953"
            ],
            [
             0.7777777777777778,
             "#fb9f3a"
            ],
            [
             0.8888888888888888,
             "#fdca26"
            ],
            [
             1,
             "#f0f921"
            ]
           ],
           "sequentialminus": [
            [
             0,
             "#0d0887"
            ],
            [
             0.1111111111111111,
             "#46039f"
            ],
            [
             0.2222222222222222,
             "#7201a8"
            ],
            [
             0.3333333333333333,
             "#9c179e"
            ],
            [
             0.4444444444444444,
             "#bd3786"
            ],
            [
             0.5555555555555556,
             "#d8576b"
            ],
            [
             0.6666666666666666,
             "#ed7953"
            ],
            [
             0.7777777777777778,
             "#fb9f3a"
            ],
            [
             0.8888888888888888,
             "#fdca26"
            ],
            [
             1,
             "#f0f921"
            ]
           ]
          },
          "colorway": [
           "#636efa",
           "#EF553B",
           "#00cc96",
           "#ab63fa",
           "#FFA15A",
           "#19d3f3",
           "#FF6692",
           "#B6E880",
           "#FF97FF",
           "#FECB52"
          ],
          "font": {
           "color": "#2a3f5f"
          },
          "geo": {
           "bgcolor": "white",
           "lakecolor": "white",
           "landcolor": "#E5ECF6",
           "showlakes": true,
           "showland": true,
           "subunitcolor": "white"
          },
          "hoverlabel": {
           "align": "left"
          },
          "hovermode": "closest",
          "mapbox": {
           "style": "light"
          },
          "paper_bgcolor": "white",
          "plot_bgcolor": "#E5ECF6",
          "polar": {
           "angularaxis": {
            "gridcolor": "white",
            "linecolor": "white",
            "ticks": ""
           },
           "bgcolor": "#E5ECF6",
           "radialaxis": {
            "gridcolor": "white",
            "linecolor": "white",
            "ticks": ""
           }
          },
          "scene": {
           "xaxis": {
            "backgroundcolor": "#E5ECF6",
            "gridcolor": "white",
            "gridwidth": 2,
            "linecolor": "white",
            "showbackground": true,
            "ticks": "",
            "zerolinecolor": "white"
           },
           "yaxis": {
            "backgroundcolor": "#E5ECF6",
            "gridcolor": "white",
            "gridwidth": 2,
            "linecolor": "white",
            "showbackground": true,
            "ticks": "",
            "zerolinecolor": "white"
           },
           "zaxis": {
            "backgroundcolor": "#E5ECF6",
            "gridcolor": "white",
            "gridwidth": 2,
            "linecolor": "white",
            "showbackground": true,
            "ticks": "",
            "zerolinecolor": "white"
           }
          },
          "shapedefaults": {
           "line": {
            "color": "#2a3f5f"
           }
          },
          "ternary": {
           "aaxis": {
            "gridcolor": "white",
            "linecolor": "white",
            "ticks": ""
           },
           "baxis": {
            "gridcolor": "white",
            "linecolor": "white",
            "ticks": ""
           },
           "bgcolor": "#E5ECF6",
           "caxis": {
            "gridcolor": "white",
            "linecolor": "white",
            "ticks": ""
           }
          },
          "title": {
           "x": 0.05
          },
          "xaxis": {
           "automargin": true,
           "gridcolor": "white",
           "linecolor": "white",
           "ticks": "",
           "title": {
            "standoff": 15
           },
           "zerolinecolor": "white",
           "zerolinewidth": 2
          },
          "yaxis": {
           "automargin": true,
           "gridcolor": "white",
           "linecolor": "white",
           "ticks": "",
           "title": {
            "standoff": 15
           },
           "zerolinecolor": "white",
           "zerolinewidth": 2
          }
         }
        },
        "title": {
         "text": "Deaths"
        },
        "width": 900
       }
      },
      "text/html": [
       "<div>\n",
       "        \n",
       "        \n",
       "            <div id=\"9893a227-09fc-4532-9f2a-2f766ee8c690\" class=\"plotly-graph-div\" style=\"height:650px; width:900px;\"></div>\n",
       "            <script type=\"text/javascript\">\n",
       "                require([\"plotly\"], function(Plotly) {\n",
       "                    window.PLOTLYENV=window.PLOTLYENV || {};\n",
       "                    \n",
       "                if (document.getElementById(\"9893a227-09fc-4532-9f2a-2f766ee8c690\")) {\n",
       "                    Plotly.newPlot(\n",
       "                        '9893a227-09fc-4532-9f2a-2f766ee8c690',\n",
       "                        [{\"domain\": {\"x\": [0.0, 1.0], \"y\": [0.0, 1.0]}, \"hovertemplate\": \"State/UnionTerritory=%{label}<br>Deaths=%{value}<extra></extra>\", \"labels\": [\"Andaman and Nicobar Islands\", \"Andhra Pradesh\", \"Arunachal Pradesh\", \"Assam\", \"Bihar\", \"Chandigarh\", \"Chhattisgarh\", \"Delhi\", \"Goa\", \"Gujarat\", \"Haryana\", \"Himachal Pradesh\", \"Jammu and Kashmir\", \"Jharkhand\", \"Karnataka\", \"Kerala\", \"Ladakh\", \"Madhya Pradesh\", \"Maharashtra\", \"Manipur\", \"Mizoram\", \"Odisha\", \"Puducherry\", \"Punjab\", \"Rajasthan\", \"Tamil Nadu\", \"Telengana\", \"Uttar Pradesh\", \"Uttarakhand\", \"West Bengal\"], \"legendgroup\": \"\", \"name\": \"\", \"showlegend\": true, \"textinfo\": \"percent+label\", \"textposition\": \"inside\", \"type\": \"pie\", \"values\": [0, 1, 0, 0, 1, 0, 0, 6, 0, 10, 0, 1, 2, 0, 4, 2, 0, 6, 24, 0, 0, 0, 0, 5, 0, 3, 7, 2, 0, 3]}],\n",
       "                        {\"autosize\": false, \"height\": 650, \"legend\": {\"tracegroupgap\": 0}, \"template\": {\"data\": {\"bar\": [{\"error_x\": {\"color\": \"#2a3f5f\"}, \"error_y\": {\"color\": \"#2a3f5f\"}, \"marker\": {\"line\": {\"color\": \"#E5ECF6\", \"width\": 0.5}}, \"type\": \"bar\"}], \"barpolar\": [{\"marker\": {\"line\": {\"color\": \"#E5ECF6\", \"width\": 0.5}}, \"type\": \"barpolar\"}], \"carpet\": [{\"aaxis\": {\"endlinecolor\": \"#2a3f5f\", \"gridcolor\": \"white\", \"linecolor\": \"white\", \"minorgridcolor\": \"white\", \"startlinecolor\": \"#2a3f5f\"}, \"baxis\": {\"endlinecolor\": \"#2a3f5f\", \"gridcolor\": \"white\", \"linecolor\": \"white\", \"minorgridcolor\": \"white\", \"startlinecolor\": \"#2a3f5f\"}, \"type\": \"carpet\"}], \"choropleth\": [{\"colorbar\": {\"outlinewidth\": 0, \"ticks\": \"\"}, \"type\": \"choropleth\"}], \"contour\": [{\"colorbar\": {\"outlinewidth\": 0, \"ticks\": \"\"}, \"colorscale\": [[0.0, \"#0d0887\"], [0.1111111111111111, \"#46039f\"], [0.2222222222222222, \"#7201a8\"], [0.3333333333333333, \"#9c179e\"], [0.4444444444444444, \"#bd3786\"], [0.5555555555555556, \"#d8576b\"], [0.6666666666666666, \"#ed7953\"], [0.7777777777777778, \"#fb9f3a\"], [0.8888888888888888, \"#fdca26\"], [1.0, \"#f0f921\"]], \"type\": \"contour\"}], \"contourcarpet\": [{\"colorbar\": {\"outlinewidth\": 0, \"ticks\": \"\"}, \"type\": \"contourcarpet\"}], \"heatmap\": [{\"colorbar\": {\"outlinewidth\": 0, \"ticks\": \"\"}, \"colorscale\": [[0.0, \"#0d0887\"], [0.1111111111111111, \"#46039f\"], [0.2222222222222222, \"#7201a8\"], [0.3333333333333333, \"#9c179e\"], [0.4444444444444444, \"#bd3786\"], [0.5555555555555556, \"#d8576b\"], [0.6666666666666666, \"#ed7953\"], [0.7777777777777778, \"#fb9f3a\"], [0.8888888888888888, \"#fdca26\"], [1.0, \"#f0f921\"]], \"type\": \"heatmap\"}], \"heatmapgl\": [{\"colorbar\": {\"outlinewidth\": 0, \"ticks\": \"\"}, \"colorscale\": [[0.0, \"#0d0887\"], [0.1111111111111111, \"#46039f\"], [0.2222222222222222, \"#7201a8\"], [0.3333333333333333, \"#9c179e\"], [0.4444444444444444, \"#bd3786\"], [0.5555555555555556, \"#d8576b\"], [0.6666666666666666, \"#ed7953\"], [0.7777777777777778, \"#fb9f3a\"], [0.8888888888888888, \"#fdca26\"], [1.0, \"#f0f921\"]], \"type\": \"heatmapgl\"}], \"histogram\": [{\"marker\": {\"colorbar\": {\"outlinewidth\": 0, \"ticks\": \"\"}}, \"type\": \"histogram\"}], \"histogram2d\": [{\"colorbar\": {\"outlinewidth\": 0, \"ticks\": \"\"}, \"colorscale\": [[0.0, \"#0d0887\"], [0.1111111111111111, \"#46039f\"], [0.2222222222222222, \"#7201a8\"], [0.3333333333333333, \"#9c179e\"], [0.4444444444444444, \"#bd3786\"], [0.5555555555555556, \"#d8576b\"], [0.6666666666666666, \"#ed7953\"], [0.7777777777777778, \"#fb9f3a\"], [0.8888888888888888, \"#fdca26\"], [1.0, \"#f0f921\"]], \"type\": \"histogram2d\"}], \"histogram2dcontour\": [{\"colorbar\": {\"outlinewidth\": 0, \"ticks\": \"\"}, \"colorscale\": [[0.0, \"#0d0887\"], [0.1111111111111111, \"#46039f\"], [0.2222222222222222, \"#7201a8\"], [0.3333333333333333, \"#9c179e\"], [0.4444444444444444, \"#bd3786\"], [0.5555555555555556, \"#d8576b\"], [0.6666666666666666, \"#ed7953\"], [0.7777777777777778, \"#fb9f3a\"], [0.8888888888888888, \"#fdca26\"], [1.0, \"#f0f921\"]], \"type\": \"histogram2dcontour\"}], \"mesh3d\": [{\"colorbar\": {\"outlinewidth\": 0, \"ticks\": \"\"}, \"type\": \"mesh3d\"}], \"parcoords\": [{\"line\": {\"colorbar\": {\"outlinewidth\": 0, \"ticks\": \"\"}}, \"type\": \"parcoords\"}], \"pie\": [{\"automargin\": true, \"type\": \"pie\"}], \"scatter\": [{\"marker\": {\"colorbar\": {\"outlinewidth\": 0, \"ticks\": \"\"}}, \"type\": \"scatter\"}], \"scatter3d\": [{\"line\": {\"colorbar\": {\"outlinewidth\": 0, \"ticks\": \"\"}}, \"marker\": {\"colorbar\": {\"outlinewidth\": 0, \"ticks\": \"\"}}, \"type\": \"scatter3d\"}], \"scattercarpet\": [{\"marker\": {\"colorbar\": {\"outlinewidth\": 0, \"ticks\": \"\"}}, \"type\": \"scattercarpet\"}], \"scattergeo\": [{\"marker\": {\"colorbar\": {\"outlinewidth\": 0, \"ticks\": \"\"}}, \"type\": \"scattergeo\"}], \"scattergl\": [{\"marker\": {\"colorbar\": {\"outlinewidth\": 0, \"ticks\": \"\"}}, \"type\": \"scattergl\"}], \"scattermapbox\": [{\"marker\": {\"colorbar\": {\"outlinewidth\": 0, \"ticks\": \"\"}}, \"type\": \"scattermapbox\"}], \"scatterpolar\": [{\"marker\": {\"colorbar\": {\"outlinewidth\": 0, \"ticks\": \"\"}}, \"type\": \"scatterpolar\"}], \"scatterpolargl\": [{\"marker\": {\"colorbar\": {\"outlinewidth\": 0, \"ticks\": \"\"}}, \"type\": \"scatterpolargl\"}], \"scatterternary\": [{\"marker\": {\"colorbar\": {\"outlinewidth\": 0, \"ticks\": \"\"}}, \"type\": \"scatterternary\"}], \"surface\": [{\"colorbar\": {\"outlinewidth\": 0, \"ticks\": \"\"}, \"colorscale\": [[0.0, \"#0d0887\"], [0.1111111111111111, \"#46039f\"], [0.2222222222222222, \"#7201a8\"], [0.3333333333333333, \"#9c179e\"], [0.4444444444444444, \"#bd3786\"], [0.5555555555555556, \"#d8576b\"], [0.6666666666666666, \"#ed7953\"], [0.7777777777777778, \"#fb9f3a\"], [0.8888888888888888, \"#fdca26\"], [1.0, \"#f0f921\"]], \"type\": \"surface\"}], \"table\": [{\"cells\": {\"fill\": {\"color\": \"#EBF0F8\"}, \"line\": {\"color\": \"white\"}}, \"header\": {\"fill\": {\"color\": \"#C8D4E3\"}, \"line\": {\"color\": \"white\"}}, \"type\": \"table\"}]}, \"layout\": {\"annotationdefaults\": {\"arrowcolor\": \"#2a3f5f\", \"arrowhead\": 0, \"arrowwidth\": 1}, \"coloraxis\": {\"colorbar\": {\"outlinewidth\": 0, \"ticks\": \"\"}}, \"colorscale\": {\"diverging\": [[0, \"#8e0152\"], [0.1, \"#c51b7d\"], [0.2, \"#de77ae\"], [0.3, \"#f1b6da\"], [0.4, \"#fde0ef\"], [0.5, \"#f7f7f7\"], [0.6, \"#e6f5d0\"], [0.7, \"#b8e186\"], [0.8, \"#7fbc41\"], [0.9, \"#4d9221\"], [1, \"#276419\"]], \"sequential\": [[0.0, \"#0d0887\"], [0.1111111111111111, \"#46039f\"], [0.2222222222222222, \"#7201a8\"], [0.3333333333333333, \"#9c179e\"], [0.4444444444444444, \"#bd3786\"], [0.5555555555555556, \"#d8576b\"], [0.6666666666666666, \"#ed7953\"], [0.7777777777777778, \"#fb9f3a\"], [0.8888888888888888, \"#fdca26\"], [1.0, \"#f0f921\"]], \"sequentialminus\": [[0.0, \"#0d0887\"], [0.1111111111111111, \"#46039f\"], [0.2222222222222222, \"#7201a8\"], [0.3333333333333333, \"#9c179e\"], [0.4444444444444444, \"#bd3786\"], [0.5555555555555556, \"#d8576b\"], [0.6666666666666666, \"#ed7953\"], [0.7777777777777778, \"#fb9f3a\"], [0.8888888888888888, \"#fdca26\"], [1.0, \"#f0f921\"]]}, \"colorway\": [\"#636efa\", \"#EF553B\", \"#00cc96\", \"#ab63fa\", \"#FFA15A\", \"#19d3f3\", \"#FF6692\", \"#B6E880\", \"#FF97FF\", \"#FECB52\"], \"font\": {\"color\": \"#2a3f5f\"}, \"geo\": {\"bgcolor\": \"white\", \"lakecolor\": \"white\", \"landcolor\": \"#E5ECF6\", \"showlakes\": true, \"showland\": true, \"subunitcolor\": \"white\"}, \"hoverlabel\": {\"align\": \"left\"}, \"hovermode\": \"closest\", \"mapbox\": {\"style\": \"light\"}, \"paper_bgcolor\": \"white\", \"plot_bgcolor\": \"#E5ECF6\", \"polar\": {\"angularaxis\": {\"gridcolor\": \"white\", \"linecolor\": \"white\", \"ticks\": \"\"}, \"bgcolor\": \"#E5ECF6\", \"radialaxis\": {\"gridcolor\": \"white\", \"linecolor\": \"white\", \"ticks\": \"\"}}, \"scene\": {\"xaxis\": {\"backgroundcolor\": \"#E5ECF6\", \"gridcolor\": \"white\", \"gridwidth\": 2, \"linecolor\": \"white\", \"showbackground\": true, \"ticks\": \"\", \"zerolinecolor\": \"white\"}, \"yaxis\": {\"backgroundcolor\": \"#E5ECF6\", \"gridcolor\": \"white\", \"gridwidth\": 2, \"linecolor\": \"white\", \"showbackground\": true, \"ticks\": \"\", \"zerolinecolor\": \"white\"}, \"zaxis\": {\"backgroundcolor\": \"#E5ECF6\", \"gridcolor\": \"white\", \"gridwidth\": 2, \"linecolor\": \"white\", \"showbackground\": true, \"ticks\": \"\", \"zerolinecolor\": \"white\"}}, \"shapedefaults\": {\"line\": {\"color\": \"#2a3f5f\"}}, \"ternary\": {\"aaxis\": {\"gridcolor\": \"white\", \"linecolor\": \"white\", \"ticks\": \"\"}, \"baxis\": {\"gridcolor\": \"white\", \"linecolor\": \"white\", \"ticks\": \"\"}, \"bgcolor\": \"#E5ECF6\", \"caxis\": {\"gridcolor\": \"white\", \"linecolor\": \"white\", \"ticks\": \"\"}}, \"title\": {\"x\": 0.05}, \"xaxis\": {\"automargin\": true, \"gridcolor\": \"white\", \"linecolor\": \"white\", \"ticks\": \"\", \"title\": {\"standoff\": 15}, \"zerolinecolor\": \"white\", \"zerolinewidth\": 2}, \"yaxis\": {\"automargin\": true, \"gridcolor\": \"white\", \"linecolor\": \"white\", \"ticks\": \"\", \"title\": {\"standoff\": 15}, \"zerolinecolor\": \"white\", \"zerolinewidth\": 2}}}, \"title\": {\"text\": \"Deaths\"}, \"width\": 900},\n",
       "                        {\"responsive\": true}\n",
       "                    ).then(function(){\n",
       "                            \n",
       "var gd = document.getElementById('9893a227-09fc-4532-9f2a-2f766ee8c690');\n",
       "var x = new MutationObserver(function (mutations, observer) {{\n",
       "        var display = window.getComputedStyle(gd).display;\n",
       "        if (!display || display === 'none') {{\n",
       "            console.log([gd, 'removed!']);\n",
       "            Plotly.purge(gd);\n",
       "            observer.disconnect();\n",
       "        }}\n",
       "}});\n",
       "\n",
       "// Listen for the removal of the full notebook cells\n",
       "var notebookContainer = gd.closest('#notebook-container');\n",
       "if (notebookContainer) {{\n",
       "    x.observe(notebookContainer, {childList: true});\n",
       "}}\n",
       "\n",
       "// Listen for the clearing of the current output cell\n",
       "var outputEl = gd.closest('.output');\n",
       "if (outputEl) {{\n",
       "    x.observe(outputEl, {childList: true});\n",
       "}}\n",
       "\n",
       "                        })\n",
       "                };\n",
       "                });\n",
       "            </script>\n",
       "        </div>"
      ]
     },
     "metadata": {},
     "output_type": "display_data"
    }
   ],
   "source": [
    "fig = px.pie(date_table.loc[date_table.last_valid_index()], values='Deaths', names='State/UnionTerritory', title='Deaths')\n",
    "fig.update_layout(\n",
    "    autosize=False,\n",
    "    width=900,\n",
    "    height=650)\n",
    "fig.update_traces(textposition='inside', textinfo='percent+label')\n",
    "fig.show()"
   ]
  },
  {
   "cell_type": "markdown",
   "metadata": {},
   "source": [
    "### Cured pie chart"
   ]
  },
  {
   "cell_type": "code",
   "execution_count": 12,
   "metadata": {
    "ExecuteTime": {
     "end_time": "2020-04-05T13:37:06.669766Z",
     "start_time": "2020-04-05T13:37:06.439755Z"
    },
    "hide_input": true,
    "jupyter": {
     "source_hidden": true
    }
   },
   "outputs": [
    {
     "data": {
      "application/vnd.plotly.v1+json": {
       "config": {
        "plotlyServerURL": "https://plot.ly"
       },
       "data": [
        {
         "domain": {
          "x": [
           0,
           1
          ],
          "y": [
           0,
           1
          ]
         },
         "hovertemplate": "State/UnionTerritory=%{label}<br>Cured=%{value}<extra></extra>",
         "labels": [
          "Andaman and Nicobar Islands",
          "Andhra Pradesh",
          "Arunachal Pradesh",
          "Assam",
          "Bihar",
          "Chandigarh",
          "Chhattisgarh",
          "Delhi",
          "Goa",
          "Gujarat",
          "Haryana",
          "Himachal Pradesh",
          "Jammu and Kashmir",
          "Jharkhand",
          "Karnataka",
          "Kerala",
          "Ladakh",
          "Madhya Pradesh",
          "Maharashtra",
          "Manipur",
          "Mizoram",
          "Odisha",
          "Puducherry",
          "Punjab",
          "Rajasthan",
          "Tamil Nadu",
          "Telengana",
          "Uttar Pradesh",
          "Uttarakhand",
          "West Bengal"
         ],
         "legendgroup": "",
         "name": "",
         "showlegend": true,
         "textinfo": "percent+label",
         "textposition": "inside",
         "type": "pie",
         "values": [
          0,
          1,
          0,
          0,
          0,
          0,
          3,
          15,
          0,
          14,
          24,
          1,
          4,
          0,
          12,
          49,
          10,
          0,
          42,
          0,
          0,
          0,
          1,
          1,
          21,
          6,
          32,
          19,
          2,
          10
         ]
        }
       ],
       "layout": {
        "autosize": false,
        "height": 650,
        "legend": {
         "tracegroupgap": 0
        },
        "template": {
         "data": {
          "bar": [
           {
            "error_x": {
             "color": "#2a3f5f"
            },
            "error_y": {
             "color": "#2a3f5f"
            },
            "marker": {
             "line": {
              "color": "#E5ECF6",
              "width": 0.5
             }
            },
            "type": "bar"
           }
          ],
          "barpolar": [
           {
            "marker": {
             "line": {
              "color": "#E5ECF6",
              "width": 0.5
             }
            },
            "type": "barpolar"
           }
          ],
          "carpet": [
           {
            "aaxis": {
             "endlinecolor": "#2a3f5f",
             "gridcolor": "white",
             "linecolor": "white",
             "minorgridcolor": "white",
             "startlinecolor": "#2a3f5f"
            },
            "baxis": {
             "endlinecolor": "#2a3f5f",
             "gridcolor": "white",
             "linecolor": "white",
             "minorgridcolor": "white",
             "startlinecolor": "#2a3f5f"
            },
            "type": "carpet"
           }
          ],
          "choropleth": [
           {
            "colorbar": {
             "outlinewidth": 0,
             "ticks": ""
            },
            "type": "choropleth"
           }
          ],
          "contour": [
           {
            "colorbar": {
             "outlinewidth": 0,
             "ticks": ""
            },
            "colorscale": [
             [
              0,
              "#0d0887"
             ],
             [
              0.1111111111111111,
              "#46039f"
             ],
             [
              0.2222222222222222,
              "#7201a8"
             ],
             [
              0.3333333333333333,
              "#9c179e"
             ],
             [
              0.4444444444444444,
              "#bd3786"
             ],
             [
              0.5555555555555556,
              "#d8576b"
             ],
             [
              0.6666666666666666,
              "#ed7953"
             ],
             [
              0.7777777777777778,
              "#fb9f3a"
             ],
             [
              0.8888888888888888,
              "#fdca26"
             ],
             [
              1,
              "#f0f921"
             ]
            ],
            "type": "contour"
           }
          ],
          "contourcarpet": [
           {
            "colorbar": {
             "outlinewidth": 0,
             "ticks": ""
            },
            "type": "contourcarpet"
           }
          ],
          "heatmap": [
           {
            "colorbar": {
             "outlinewidth": 0,
             "ticks": ""
            },
            "colorscale": [
             [
              0,
              "#0d0887"
             ],
             [
              0.1111111111111111,
              "#46039f"
             ],
             [
              0.2222222222222222,
              "#7201a8"
             ],
             [
              0.3333333333333333,
              "#9c179e"
             ],
             [
              0.4444444444444444,
              "#bd3786"
             ],
             [
              0.5555555555555556,
              "#d8576b"
             ],
             [
              0.6666666666666666,
              "#ed7953"
             ],
             [
              0.7777777777777778,
              "#fb9f3a"
             ],
             [
              0.8888888888888888,
              "#fdca26"
             ],
             [
              1,
              "#f0f921"
             ]
            ],
            "type": "heatmap"
           }
          ],
          "heatmapgl": [
           {
            "colorbar": {
             "outlinewidth": 0,
             "ticks": ""
            },
            "colorscale": [
             [
              0,
              "#0d0887"
             ],
             [
              0.1111111111111111,
              "#46039f"
             ],
             [
              0.2222222222222222,
              "#7201a8"
             ],
             [
              0.3333333333333333,
              "#9c179e"
             ],
             [
              0.4444444444444444,
              "#bd3786"
             ],
             [
              0.5555555555555556,
              "#d8576b"
             ],
             [
              0.6666666666666666,
              "#ed7953"
             ],
             [
              0.7777777777777778,
              "#fb9f3a"
             ],
             [
              0.8888888888888888,
              "#fdca26"
             ],
             [
              1,
              "#f0f921"
             ]
            ],
            "type": "heatmapgl"
           }
          ],
          "histogram": [
           {
            "marker": {
             "colorbar": {
              "outlinewidth": 0,
              "ticks": ""
             }
            },
            "type": "histogram"
           }
          ],
          "histogram2d": [
           {
            "colorbar": {
             "outlinewidth": 0,
             "ticks": ""
            },
            "colorscale": [
             [
              0,
              "#0d0887"
             ],
             [
              0.1111111111111111,
              "#46039f"
             ],
             [
              0.2222222222222222,
              "#7201a8"
             ],
             [
              0.3333333333333333,
              "#9c179e"
             ],
             [
              0.4444444444444444,
              "#bd3786"
             ],
             [
              0.5555555555555556,
              "#d8576b"
             ],
             [
              0.6666666666666666,
              "#ed7953"
             ],
             [
              0.7777777777777778,
              "#fb9f3a"
             ],
             [
              0.8888888888888888,
              "#fdca26"
             ],
             [
              1,
              "#f0f921"
             ]
            ],
            "type": "histogram2d"
           }
          ],
          "histogram2dcontour": [
           {
            "colorbar": {
             "outlinewidth": 0,
             "ticks": ""
            },
            "colorscale": [
             [
              0,
              "#0d0887"
             ],
             [
              0.1111111111111111,
              "#46039f"
             ],
             [
              0.2222222222222222,
              "#7201a8"
             ],
             [
              0.3333333333333333,
              "#9c179e"
             ],
             [
              0.4444444444444444,
              "#bd3786"
             ],
             [
              0.5555555555555556,
              "#d8576b"
             ],
             [
              0.6666666666666666,
              "#ed7953"
             ],
             [
              0.7777777777777778,
              "#fb9f3a"
             ],
             [
              0.8888888888888888,
              "#fdca26"
             ],
             [
              1,
              "#f0f921"
             ]
            ],
            "type": "histogram2dcontour"
           }
          ],
          "mesh3d": [
           {
            "colorbar": {
             "outlinewidth": 0,
             "ticks": ""
            },
            "type": "mesh3d"
           }
          ],
          "parcoords": [
           {
            "line": {
             "colorbar": {
              "outlinewidth": 0,
              "ticks": ""
             }
            },
            "type": "parcoords"
           }
          ],
          "pie": [
           {
            "automargin": true,
            "type": "pie"
           }
          ],
          "scatter": [
           {
            "marker": {
             "colorbar": {
              "outlinewidth": 0,
              "ticks": ""
             }
            },
            "type": "scatter"
           }
          ],
          "scatter3d": [
           {
            "line": {
             "colorbar": {
              "outlinewidth": 0,
              "ticks": ""
             }
            },
            "marker": {
             "colorbar": {
              "outlinewidth": 0,
              "ticks": ""
             }
            },
            "type": "scatter3d"
           }
          ],
          "scattercarpet": [
           {
            "marker": {
             "colorbar": {
              "outlinewidth": 0,
              "ticks": ""
             }
            },
            "type": "scattercarpet"
           }
          ],
          "scattergeo": [
           {
            "marker": {
             "colorbar": {
              "outlinewidth": 0,
              "ticks": ""
             }
            },
            "type": "scattergeo"
           }
          ],
          "scattergl": [
           {
            "marker": {
             "colorbar": {
              "outlinewidth": 0,
              "ticks": ""
             }
            },
            "type": "scattergl"
           }
          ],
          "scattermapbox": [
           {
            "marker": {
             "colorbar": {
              "outlinewidth": 0,
              "ticks": ""
             }
            },
            "type": "scattermapbox"
           }
          ],
          "scatterpolar": [
           {
            "marker": {
             "colorbar": {
              "outlinewidth": 0,
              "ticks": ""
             }
            },
            "type": "scatterpolar"
           }
          ],
          "scatterpolargl": [
           {
            "marker": {
             "colorbar": {
              "outlinewidth": 0,
              "ticks": ""
             }
            },
            "type": "scatterpolargl"
           }
          ],
          "scatterternary": [
           {
            "marker": {
             "colorbar": {
              "outlinewidth": 0,
              "ticks": ""
             }
            },
            "type": "scatterternary"
           }
          ],
          "surface": [
           {
            "colorbar": {
             "outlinewidth": 0,
             "ticks": ""
            },
            "colorscale": [
             [
              0,
              "#0d0887"
             ],
             [
              0.1111111111111111,
              "#46039f"
             ],
             [
              0.2222222222222222,
              "#7201a8"
             ],
             [
              0.3333333333333333,
              "#9c179e"
             ],
             [
              0.4444444444444444,
              "#bd3786"
             ],
             [
              0.5555555555555556,
              "#d8576b"
             ],
             [
              0.6666666666666666,
              "#ed7953"
             ],
             [
              0.7777777777777778,
              "#fb9f3a"
             ],
             [
              0.8888888888888888,
              "#fdca26"
             ],
             [
              1,
              "#f0f921"
             ]
            ],
            "type": "surface"
           }
          ],
          "table": [
           {
            "cells": {
             "fill": {
              "color": "#EBF0F8"
             },
             "line": {
              "color": "white"
             }
            },
            "header": {
             "fill": {
              "color": "#C8D4E3"
             },
             "line": {
              "color": "white"
             }
            },
            "type": "table"
           }
          ]
         },
         "layout": {
          "annotationdefaults": {
           "arrowcolor": "#2a3f5f",
           "arrowhead": 0,
           "arrowwidth": 1
          },
          "coloraxis": {
           "colorbar": {
            "outlinewidth": 0,
            "ticks": ""
           }
          },
          "colorscale": {
           "diverging": [
            [
             0,
             "#8e0152"
            ],
            [
             0.1,
             "#c51b7d"
            ],
            [
             0.2,
             "#de77ae"
            ],
            [
             0.3,
             "#f1b6da"
            ],
            [
             0.4,
             "#fde0ef"
            ],
            [
             0.5,
             "#f7f7f7"
            ],
            [
             0.6,
             "#e6f5d0"
            ],
            [
             0.7,
             "#b8e186"
            ],
            [
             0.8,
             "#7fbc41"
            ],
            [
             0.9,
             "#4d9221"
            ],
            [
             1,
             "#276419"
            ]
           ],
           "sequential": [
            [
             0,
             "#0d0887"
            ],
            [
             0.1111111111111111,
             "#46039f"
            ],
            [
             0.2222222222222222,
             "#7201a8"
            ],
            [
             0.3333333333333333,
             "#9c179e"
            ],
            [
             0.4444444444444444,
             "#bd3786"
            ],
            [
             0.5555555555555556,
             "#d8576b"
            ],
            [
             0.6666666666666666,
             "#ed7953"
            ],
            [
             0.7777777777777778,
             "#fb9f3a"
            ],
            [
             0.8888888888888888,
             "#fdca26"
            ],
            [
             1,
             "#f0f921"
            ]
           ],
           "sequentialminus": [
            [
             0,
             "#0d0887"
            ],
            [
             0.1111111111111111,
             "#46039f"
            ],
            [
             0.2222222222222222,
             "#7201a8"
            ],
            [
             0.3333333333333333,
             "#9c179e"
            ],
            [
             0.4444444444444444,
             "#bd3786"
            ],
            [
             0.5555555555555556,
             "#d8576b"
            ],
            [
             0.6666666666666666,
             "#ed7953"
            ],
            [
             0.7777777777777778,
             "#fb9f3a"
            ],
            [
             0.8888888888888888,
             "#fdca26"
            ],
            [
             1,
             "#f0f921"
            ]
           ]
          },
          "colorway": [
           "#636efa",
           "#EF553B",
           "#00cc96",
           "#ab63fa",
           "#FFA15A",
           "#19d3f3",
           "#FF6692",
           "#B6E880",
           "#FF97FF",
           "#FECB52"
          ],
          "font": {
           "color": "#2a3f5f"
          },
          "geo": {
           "bgcolor": "white",
           "lakecolor": "white",
           "landcolor": "#E5ECF6",
           "showlakes": true,
           "showland": true,
           "subunitcolor": "white"
          },
          "hoverlabel": {
           "align": "left"
          },
          "hovermode": "closest",
          "mapbox": {
           "style": "light"
          },
          "paper_bgcolor": "white",
          "plot_bgcolor": "#E5ECF6",
          "polar": {
           "angularaxis": {
            "gridcolor": "white",
            "linecolor": "white",
            "ticks": ""
           },
           "bgcolor": "#E5ECF6",
           "radialaxis": {
            "gridcolor": "white",
            "linecolor": "white",
            "ticks": ""
           }
          },
          "scene": {
           "xaxis": {
            "backgroundcolor": "#E5ECF6",
            "gridcolor": "white",
            "gridwidth": 2,
            "linecolor": "white",
            "showbackground": true,
            "ticks": "",
            "zerolinecolor": "white"
           },
           "yaxis": {
            "backgroundcolor": "#E5ECF6",
            "gridcolor": "white",
            "gridwidth": 2,
            "linecolor": "white",
            "showbackground": true,
            "ticks": "",
            "zerolinecolor": "white"
           },
           "zaxis": {
            "backgroundcolor": "#E5ECF6",
            "gridcolor": "white",
            "gridwidth": 2,
            "linecolor": "white",
            "showbackground": true,
            "ticks": "",
            "zerolinecolor": "white"
           }
          },
          "shapedefaults": {
           "line": {
            "color": "#2a3f5f"
           }
          },
          "ternary": {
           "aaxis": {
            "gridcolor": "white",
            "linecolor": "white",
            "ticks": ""
           },
           "baxis": {
            "gridcolor": "white",
            "linecolor": "white",
            "ticks": ""
           },
           "bgcolor": "#E5ECF6",
           "caxis": {
            "gridcolor": "white",
            "linecolor": "white",
            "ticks": ""
           }
          },
          "title": {
           "x": 0.05
          },
          "xaxis": {
           "automargin": true,
           "gridcolor": "white",
           "linecolor": "white",
           "ticks": "",
           "title": {
            "standoff": 15
           },
           "zerolinecolor": "white",
           "zerolinewidth": 2
          },
          "yaxis": {
           "automargin": true,
           "gridcolor": "white",
           "linecolor": "white",
           "ticks": "",
           "title": {
            "standoff": 15
           },
           "zerolinecolor": "white",
           "zerolinewidth": 2
          }
         }
        },
        "title": {
         "text": "Cured"
        },
        "width": 900
       }
      },
      "text/html": [
       "<div>\n",
       "        \n",
       "        \n",
       "            <div id=\"c66feab4-d5cd-4a5d-a937-1c87f1f7f82e\" class=\"plotly-graph-div\" style=\"height:650px; width:900px;\"></div>\n",
       "            <script type=\"text/javascript\">\n",
       "                require([\"plotly\"], function(Plotly) {\n",
       "                    window.PLOTLYENV=window.PLOTLYENV || {};\n",
       "                    \n",
       "                if (document.getElementById(\"c66feab4-d5cd-4a5d-a937-1c87f1f7f82e\")) {\n",
       "                    Plotly.newPlot(\n",
       "                        'c66feab4-d5cd-4a5d-a937-1c87f1f7f82e',\n",
       "                        [{\"domain\": {\"x\": [0.0, 1.0], \"y\": [0.0, 1.0]}, \"hovertemplate\": \"State/UnionTerritory=%{label}<br>Cured=%{value}<extra></extra>\", \"labels\": [\"Andaman and Nicobar Islands\", \"Andhra Pradesh\", \"Arunachal Pradesh\", \"Assam\", \"Bihar\", \"Chandigarh\", \"Chhattisgarh\", \"Delhi\", \"Goa\", \"Gujarat\", \"Haryana\", \"Himachal Pradesh\", \"Jammu and Kashmir\", \"Jharkhand\", \"Karnataka\", \"Kerala\", \"Ladakh\", \"Madhya Pradesh\", \"Maharashtra\", \"Manipur\", \"Mizoram\", \"Odisha\", \"Puducherry\", \"Punjab\", \"Rajasthan\", \"Tamil Nadu\", \"Telengana\", \"Uttar Pradesh\", \"Uttarakhand\", \"West Bengal\"], \"legendgroup\": \"\", \"name\": \"\", \"showlegend\": true, \"textinfo\": \"percent+label\", \"textposition\": \"inside\", \"type\": \"pie\", \"values\": [0, 1, 0, 0, 0, 0, 3, 15, 0, 14, 24, 1, 4, 0, 12, 49, 10, 0, 42, 0, 0, 0, 1, 1, 21, 6, 32, 19, 2, 10]}],\n",
       "                        {\"autosize\": false, \"height\": 650, \"legend\": {\"tracegroupgap\": 0}, \"template\": {\"data\": {\"bar\": [{\"error_x\": {\"color\": \"#2a3f5f\"}, \"error_y\": {\"color\": \"#2a3f5f\"}, \"marker\": {\"line\": {\"color\": \"#E5ECF6\", \"width\": 0.5}}, \"type\": \"bar\"}], \"barpolar\": [{\"marker\": {\"line\": {\"color\": \"#E5ECF6\", \"width\": 0.5}}, \"type\": \"barpolar\"}], \"carpet\": [{\"aaxis\": {\"endlinecolor\": \"#2a3f5f\", \"gridcolor\": \"white\", \"linecolor\": \"white\", \"minorgridcolor\": \"white\", \"startlinecolor\": \"#2a3f5f\"}, \"baxis\": {\"endlinecolor\": \"#2a3f5f\", \"gridcolor\": \"white\", \"linecolor\": \"white\", \"minorgridcolor\": \"white\", \"startlinecolor\": \"#2a3f5f\"}, \"type\": \"carpet\"}], \"choropleth\": [{\"colorbar\": {\"outlinewidth\": 0, \"ticks\": \"\"}, \"type\": \"choropleth\"}], \"contour\": [{\"colorbar\": {\"outlinewidth\": 0, \"ticks\": \"\"}, \"colorscale\": [[0.0, \"#0d0887\"], [0.1111111111111111, \"#46039f\"], [0.2222222222222222, \"#7201a8\"], [0.3333333333333333, \"#9c179e\"], [0.4444444444444444, \"#bd3786\"], [0.5555555555555556, \"#d8576b\"], [0.6666666666666666, \"#ed7953\"], [0.7777777777777778, \"#fb9f3a\"], [0.8888888888888888, \"#fdca26\"], [1.0, \"#f0f921\"]], \"type\": \"contour\"}], \"contourcarpet\": [{\"colorbar\": {\"outlinewidth\": 0, \"ticks\": \"\"}, \"type\": \"contourcarpet\"}], \"heatmap\": [{\"colorbar\": {\"outlinewidth\": 0, \"ticks\": \"\"}, \"colorscale\": [[0.0, \"#0d0887\"], [0.1111111111111111, \"#46039f\"], [0.2222222222222222, \"#7201a8\"], [0.3333333333333333, \"#9c179e\"], [0.4444444444444444, \"#bd3786\"], [0.5555555555555556, \"#d8576b\"], [0.6666666666666666, \"#ed7953\"], [0.7777777777777778, \"#fb9f3a\"], [0.8888888888888888, \"#fdca26\"], [1.0, \"#f0f921\"]], \"type\": \"heatmap\"}], \"heatmapgl\": [{\"colorbar\": {\"outlinewidth\": 0, \"ticks\": \"\"}, \"colorscale\": [[0.0, \"#0d0887\"], [0.1111111111111111, \"#46039f\"], [0.2222222222222222, \"#7201a8\"], [0.3333333333333333, \"#9c179e\"], [0.4444444444444444, \"#bd3786\"], [0.5555555555555556, \"#d8576b\"], [0.6666666666666666, \"#ed7953\"], [0.7777777777777778, \"#fb9f3a\"], [0.8888888888888888, \"#fdca26\"], [1.0, \"#f0f921\"]], \"type\": \"heatmapgl\"}], \"histogram\": [{\"marker\": {\"colorbar\": {\"outlinewidth\": 0, \"ticks\": \"\"}}, \"type\": \"histogram\"}], \"histogram2d\": [{\"colorbar\": {\"outlinewidth\": 0, \"ticks\": \"\"}, \"colorscale\": [[0.0, \"#0d0887\"], [0.1111111111111111, \"#46039f\"], [0.2222222222222222, \"#7201a8\"], [0.3333333333333333, \"#9c179e\"], [0.4444444444444444, \"#bd3786\"], [0.5555555555555556, \"#d8576b\"], [0.6666666666666666, \"#ed7953\"], [0.7777777777777778, \"#fb9f3a\"], [0.8888888888888888, \"#fdca26\"], [1.0, \"#f0f921\"]], \"type\": \"histogram2d\"}], \"histogram2dcontour\": [{\"colorbar\": {\"outlinewidth\": 0, \"ticks\": \"\"}, \"colorscale\": [[0.0, \"#0d0887\"], [0.1111111111111111, \"#46039f\"], [0.2222222222222222, \"#7201a8\"], [0.3333333333333333, \"#9c179e\"], [0.4444444444444444, \"#bd3786\"], [0.5555555555555556, \"#d8576b\"], [0.6666666666666666, \"#ed7953\"], [0.7777777777777778, \"#fb9f3a\"], [0.8888888888888888, \"#fdca26\"], [1.0, \"#f0f921\"]], \"type\": \"histogram2dcontour\"}], \"mesh3d\": [{\"colorbar\": {\"outlinewidth\": 0, \"ticks\": \"\"}, \"type\": \"mesh3d\"}], \"parcoords\": [{\"line\": {\"colorbar\": {\"outlinewidth\": 0, \"ticks\": \"\"}}, \"type\": \"parcoords\"}], \"pie\": [{\"automargin\": true, \"type\": \"pie\"}], \"scatter\": [{\"marker\": {\"colorbar\": {\"outlinewidth\": 0, \"ticks\": \"\"}}, \"type\": \"scatter\"}], \"scatter3d\": [{\"line\": {\"colorbar\": {\"outlinewidth\": 0, \"ticks\": \"\"}}, \"marker\": {\"colorbar\": {\"outlinewidth\": 0, \"ticks\": \"\"}}, \"type\": \"scatter3d\"}], \"scattercarpet\": [{\"marker\": {\"colorbar\": {\"outlinewidth\": 0, \"ticks\": \"\"}}, \"type\": \"scattercarpet\"}], \"scattergeo\": [{\"marker\": {\"colorbar\": {\"outlinewidth\": 0, \"ticks\": \"\"}}, \"type\": \"scattergeo\"}], \"scattergl\": [{\"marker\": {\"colorbar\": {\"outlinewidth\": 0, \"ticks\": \"\"}}, \"type\": \"scattergl\"}], \"scattermapbox\": [{\"marker\": {\"colorbar\": {\"outlinewidth\": 0, \"ticks\": \"\"}}, \"type\": \"scattermapbox\"}], \"scatterpolar\": [{\"marker\": {\"colorbar\": {\"outlinewidth\": 0, \"ticks\": \"\"}}, \"type\": \"scatterpolar\"}], \"scatterpolargl\": [{\"marker\": {\"colorbar\": {\"outlinewidth\": 0, \"ticks\": \"\"}}, \"type\": \"scatterpolargl\"}], \"scatterternary\": [{\"marker\": {\"colorbar\": {\"outlinewidth\": 0, \"ticks\": \"\"}}, \"type\": \"scatterternary\"}], \"surface\": [{\"colorbar\": {\"outlinewidth\": 0, \"ticks\": \"\"}, \"colorscale\": [[0.0, \"#0d0887\"], [0.1111111111111111, \"#46039f\"], [0.2222222222222222, \"#7201a8\"], [0.3333333333333333, \"#9c179e\"], [0.4444444444444444, \"#bd3786\"], [0.5555555555555556, \"#d8576b\"], [0.6666666666666666, \"#ed7953\"], [0.7777777777777778, \"#fb9f3a\"], [0.8888888888888888, \"#fdca26\"], [1.0, \"#f0f921\"]], \"type\": \"surface\"}], \"table\": [{\"cells\": {\"fill\": {\"color\": \"#EBF0F8\"}, \"line\": {\"color\": \"white\"}}, \"header\": {\"fill\": {\"color\": \"#C8D4E3\"}, \"line\": {\"color\": \"white\"}}, \"type\": \"table\"}]}, \"layout\": {\"annotationdefaults\": {\"arrowcolor\": \"#2a3f5f\", \"arrowhead\": 0, \"arrowwidth\": 1}, \"coloraxis\": {\"colorbar\": {\"outlinewidth\": 0, \"ticks\": \"\"}}, \"colorscale\": {\"diverging\": [[0, \"#8e0152\"], [0.1, \"#c51b7d\"], [0.2, \"#de77ae\"], [0.3, \"#f1b6da\"], [0.4, \"#fde0ef\"], [0.5, \"#f7f7f7\"], [0.6, \"#e6f5d0\"], [0.7, \"#b8e186\"], [0.8, \"#7fbc41\"], [0.9, \"#4d9221\"], [1, \"#276419\"]], \"sequential\": [[0.0, \"#0d0887\"], [0.1111111111111111, \"#46039f\"], [0.2222222222222222, \"#7201a8\"], [0.3333333333333333, \"#9c179e\"], [0.4444444444444444, \"#bd3786\"], [0.5555555555555556, \"#d8576b\"], [0.6666666666666666, \"#ed7953\"], [0.7777777777777778, \"#fb9f3a\"], [0.8888888888888888, \"#fdca26\"], [1.0, \"#f0f921\"]], \"sequentialminus\": [[0.0, \"#0d0887\"], [0.1111111111111111, \"#46039f\"], [0.2222222222222222, \"#7201a8\"], [0.3333333333333333, \"#9c179e\"], [0.4444444444444444, \"#bd3786\"], [0.5555555555555556, \"#d8576b\"], [0.6666666666666666, \"#ed7953\"], [0.7777777777777778, \"#fb9f3a\"], [0.8888888888888888, \"#fdca26\"], [1.0, \"#f0f921\"]]}, \"colorway\": [\"#636efa\", \"#EF553B\", \"#00cc96\", \"#ab63fa\", \"#FFA15A\", \"#19d3f3\", \"#FF6692\", \"#B6E880\", \"#FF97FF\", \"#FECB52\"], \"font\": {\"color\": \"#2a3f5f\"}, \"geo\": {\"bgcolor\": \"white\", \"lakecolor\": \"white\", \"landcolor\": \"#E5ECF6\", \"showlakes\": true, \"showland\": true, \"subunitcolor\": \"white\"}, \"hoverlabel\": {\"align\": \"left\"}, \"hovermode\": \"closest\", \"mapbox\": {\"style\": \"light\"}, \"paper_bgcolor\": \"white\", \"plot_bgcolor\": \"#E5ECF6\", \"polar\": {\"angularaxis\": {\"gridcolor\": \"white\", \"linecolor\": \"white\", \"ticks\": \"\"}, \"bgcolor\": \"#E5ECF6\", \"radialaxis\": {\"gridcolor\": \"white\", \"linecolor\": \"white\", \"ticks\": \"\"}}, \"scene\": {\"xaxis\": {\"backgroundcolor\": \"#E5ECF6\", \"gridcolor\": \"white\", \"gridwidth\": 2, \"linecolor\": \"white\", \"showbackground\": true, \"ticks\": \"\", \"zerolinecolor\": \"white\"}, \"yaxis\": {\"backgroundcolor\": \"#E5ECF6\", \"gridcolor\": \"white\", \"gridwidth\": 2, \"linecolor\": \"white\", \"showbackground\": true, \"ticks\": \"\", \"zerolinecolor\": \"white\"}, \"zaxis\": {\"backgroundcolor\": \"#E5ECF6\", \"gridcolor\": \"white\", \"gridwidth\": 2, \"linecolor\": \"white\", \"showbackground\": true, \"ticks\": \"\", \"zerolinecolor\": \"white\"}}, \"shapedefaults\": {\"line\": {\"color\": \"#2a3f5f\"}}, \"ternary\": {\"aaxis\": {\"gridcolor\": \"white\", \"linecolor\": \"white\", \"ticks\": \"\"}, \"baxis\": {\"gridcolor\": \"white\", \"linecolor\": \"white\", \"ticks\": \"\"}, \"bgcolor\": \"#E5ECF6\", \"caxis\": {\"gridcolor\": \"white\", \"linecolor\": \"white\", \"ticks\": \"\"}}, \"title\": {\"x\": 0.05}, \"xaxis\": {\"automargin\": true, \"gridcolor\": \"white\", \"linecolor\": \"white\", \"ticks\": \"\", \"title\": {\"standoff\": 15}, \"zerolinecolor\": \"white\", \"zerolinewidth\": 2}, \"yaxis\": {\"automargin\": true, \"gridcolor\": \"white\", \"linecolor\": \"white\", \"ticks\": \"\", \"title\": {\"standoff\": 15}, \"zerolinecolor\": \"white\", \"zerolinewidth\": 2}}}, \"title\": {\"text\": \"Cured\"}, \"width\": 900},\n",
       "                        {\"responsive\": true}\n",
       "                    ).then(function(){\n",
       "                            \n",
       "var gd = document.getElementById('c66feab4-d5cd-4a5d-a937-1c87f1f7f82e');\n",
       "var x = new MutationObserver(function (mutations, observer) {{\n",
       "        var display = window.getComputedStyle(gd).display;\n",
       "        if (!display || display === 'none') {{\n",
       "            console.log([gd, 'removed!']);\n",
       "            Plotly.purge(gd);\n",
       "            observer.disconnect();\n",
       "        }}\n",
       "}});\n",
       "\n",
       "// Listen for the removal of the full notebook cells\n",
       "var notebookContainer = gd.closest('#notebook-container');\n",
       "if (notebookContainer) {{\n",
       "    x.observe(notebookContainer, {childList: true});\n",
       "}}\n",
       "\n",
       "// Listen for the clearing of the current output cell\n",
       "var outputEl = gd.closest('.output');\n",
       "if (outputEl) {{\n",
       "    x.observe(outputEl, {childList: true});\n",
       "}}\n",
       "\n",
       "                        })\n",
       "                };\n",
       "                });\n",
       "            </script>\n",
       "        </div>"
      ]
     },
     "metadata": {},
     "output_type": "display_data"
    }
   ],
   "source": [
    "fig = px.pie(date_table.loc[date_table.last_valid_index()], values='Cured', names='State/UnionTerritory', title='Cured')\n",
    "fig.update_layout(\n",
    "    autosize=False,\n",
    "    width=900,\n",
    "    height=650)\n",
    "fig.update_traces(textposition='inside', textinfo='percent+label')\n",
    "fig.show()"
   ]
  },
  {
   "cell_type": "markdown",
   "metadata": {},
   "source": [
    "### State wise confirmed cases animation"
   ]
  },
  {
   "cell_type": "code",
   "execution_count": 14,
   "metadata": {
    "ExecuteTime": {
     "end_time": "2020-04-05T13:38:08.035354Z",
     "start_time": "2020-04-05T13:38:02.255139Z"
    },
    "hide_input": false,
    "jupyter": {
     "source_hidden": true
    }
   },
   "outputs": [
    {
     "data": {
      "application/vnd.plotly.v1+json": {
       "config": {
        "plotlyServerURL": "https://plot.ly"
       },
       "data": [
        {
         "type": "bar",
         "x": [
          "Andaman and Nicobar Islands",
          "Andhra Pradesh",
          "Arunachal Pradesh",
          "Assam",
          "Bihar",
          "Chandigarh",
          "Chhattisgarh",
          "Delhi",
          "Goa",
          "Gujarat",
          "Haryana",
          "Himachal Pradesh",
          "Jammu and Kashmir",
          "Jharkhand",
          "Karnataka",
          "Kerala",
          "Ladakh",
          "Madhya Pradesh",
          "Maharashtra",
          "Manipur",
          "Mizoram",
          "Odisha",
          "Puducherry",
          "Punjab",
          "Rajasthan",
          "Tamil Nadu",
          "Telengana",
          "Unassigned",
          "Uttar Pradesh",
          "Uttarakhand",
          "West Bengal"
         ],
         "y": [
          0,
          0,
          0,
          0,
          0,
          0,
          0,
          0,
          0,
          0,
          0,
          0,
          0,
          0,
          0,
          0,
          0,
          0,
          0,
          0,
          0,
          0,
          0,
          0,
          0,
          0,
          0,
          0,
          0,
          0,
          0
         ]
        }
       ],
       "frames": [
        {
         "data": [
          {
           "marker": {
            "color": [
             "#9370DB",
             "#F08080",
             "#2F4F4F",
             "#E6E6FA",
             "#FFE4C4",
             "#FF8C00",
             "#000000",
             "#A52A2A",
             "#A9A9A9",
             "#00FFFF",
             "#00FF00",
             "#F4A460",
             "#0000FF",
             "#8B008B",
             "#2F4F4F",
             "#1E90FF",
             "#87CEEB",
             "#3CB371",
             "#98FB98",
             "#8A2BE2",
             "#4169E1",
             "#F5DEB3",
             "#D2B48C",
             "#FF0000",
             "#F8F8FF",
             "#9400D3",
             "#FFC0CB",
             "#00FF7F",
             "#00BFFF",
             "#FFFAF0",
             "#F5F5DC",
             "#FFFACD",
             "#BDB76B"
            ]
           },
           "type": "bar",
           "x": [
            "Andaman and Nicobar Islands",
            "Andhra Pradesh",
            "Arunachal Pradesh",
            "Assam",
            "Bihar",
            "Chandigarh",
            "Chhattisgarh",
            "Delhi",
            "Goa",
            "Gujarat",
            "Haryana",
            "Himachal Pradesh",
            "Jammu and Kashmir",
            "Jharkhand",
            "Karnataka",
            "Kerala",
            "Ladakh",
            "Madhya Pradesh",
            "Maharashtra",
            "Manipur",
            "Mizoram",
            "Odisha",
            "Puducherry",
            "Punjab",
            "Rajasthan",
            "Tamil Nadu",
            "Telengana",
            "Unassigned",
            "Uttar Pradesh",
            "Uttarakhand",
            "West Bengal"
           ],
           "y": [
            0,
            0,
            0,
            0,
            0,
            0,
            0,
            0,
            0,
            0,
            0,
            0,
            0,
            0,
            0,
            1,
            0,
            0,
            0,
            0,
            0,
            0,
            0,
            0,
            0,
            0,
            0,
            0,
            0,
            0,
            0
           ]
          }
         ],
         "layout": {
          "title": {
           "text": "Confirmed cases - 2020-01-30"
          }
         }
        },
        {
         "data": [
          {
           "marker": {
            "color": [
             "#9370DB",
             "#F08080",
             "#2F4F4F",
             "#E6E6FA",
             "#FFE4C4",
             "#FF8C00",
             "#000000",
             "#A52A2A",
             "#A9A9A9",
             "#00FFFF",
             "#00FF00",
             "#F4A460",
             "#0000FF",
             "#8B008B",
             "#2F4F4F",
             "#1E90FF",
             "#87CEEB",
             "#3CB371",
             "#98FB98",
             "#8A2BE2",
             "#4169E1",
             "#F5DEB3",
             "#D2B48C",
             "#FF0000",
             "#F8F8FF",
             "#9400D3",
             "#FFC0CB",
             "#00FF7F",
             "#00BFFF",
             "#FFFAF0",
             "#F5F5DC",
             "#FFFACD",
             "#BDB76B"
            ]
           },
           "type": "bar",
           "x": [
            "Andaman and Nicobar Islands",
            "Andhra Pradesh",
            "Arunachal Pradesh",
            "Assam",
            "Bihar",
            "Chandigarh",
            "Chhattisgarh",
            "Delhi",
            "Goa",
            "Gujarat",
            "Haryana",
            "Himachal Pradesh",
            "Jammu and Kashmir",
            "Jharkhand",
            "Karnataka",
            "Kerala",
            "Ladakh",
            "Madhya Pradesh",
            "Maharashtra",
            "Manipur",
            "Mizoram",
            "Odisha",
            "Puducherry",
            "Punjab",
            "Rajasthan",
            "Tamil Nadu",
            "Telengana",
            "Unassigned",
            "Uttar Pradesh",
            "Uttarakhand",
            "West Bengal"
           ],
           "y": [
            0,
            0,
            0,
            0,
            0,
            0,
            0,
            0,
            0,
            0,
            0,
            0,
            0,
            0,
            0,
            1,
            0,
            0,
            0,
            0,
            0,
            0,
            0,
            0,
            0,
            0,
            0,
            0,
            0,
            0,
            0
           ]
          }
         ],
         "layout": {
          "title": {
           "text": "Confirmed cases - 2020-01-31"
          }
         }
        },
        {
         "data": [
          {
           "marker": {
            "color": [
             "#9370DB",
             "#F08080",
             "#2F4F4F",
             "#E6E6FA",
             "#FFE4C4",
             "#FF8C00",
             "#000000",
             "#A52A2A",
             "#A9A9A9",
             "#00FFFF",
             "#00FF00",
             "#F4A460",
             "#0000FF",
             "#8B008B",
             "#2F4F4F",
             "#1E90FF",
             "#87CEEB",
             "#3CB371",
             "#98FB98",
             "#8A2BE2",
             "#4169E1",
             "#F5DEB3",
             "#D2B48C",
             "#FF0000",
             "#F8F8FF",
             "#9400D3",
             "#FFC0CB",
             "#00FF7F",
             "#00BFFF",
             "#FFFAF0",
             "#F5F5DC",
             "#FFFACD",
             "#BDB76B"
            ]
           },
           "type": "bar",
           "x": [
            "Andaman and Nicobar Islands",
            "Andhra Pradesh",
            "Arunachal Pradesh",
            "Assam",
            "Bihar",
            "Chandigarh",
            "Chhattisgarh",
            "Delhi",
            "Goa",
            "Gujarat",
            "Haryana",
            "Himachal Pradesh",
            "Jammu and Kashmir",
            "Jharkhand",
            "Karnataka",
            "Kerala",
            "Ladakh",
            "Madhya Pradesh",
            "Maharashtra",
            "Manipur",
            "Mizoram",
            "Odisha",
            "Puducherry",
            "Punjab",
            "Rajasthan",
            "Tamil Nadu",
            "Telengana",
            "Unassigned",
            "Uttar Pradesh",
            "Uttarakhand",
            "West Bengal"
           ],
           "y": [
            0,
            0,
            0,
            0,
            0,
            0,
            0,
            0,
            0,
            0,
            0,
            0,
            0,
            0,
            0,
            2,
            0,
            0,
            0,
            0,
            0,
            0,
            0,
            0,
            0,
            0,
            0,
            0,
            0,
            0,
            0
           ]
          }
         ],
         "layout": {
          "title": {
           "text": "Confirmed cases - 2020-02-01"
          }
         }
        },
        {
         "data": [
          {
           "marker": {
            "color": [
             "#9370DB",
             "#F08080",
             "#2F4F4F",
             "#E6E6FA",
             "#FFE4C4",
             "#FF8C00",
             "#000000",
             "#A52A2A",
             "#A9A9A9",
             "#00FFFF",
             "#00FF00",
             "#F4A460",
             "#0000FF",
             "#8B008B",
             "#2F4F4F",
             "#1E90FF",
             "#87CEEB",
             "#3CB371",
             "#98FB98",
             "#8A2BE2",
             "#4169E1",
             "#F5DEB3",
             "#D2B48C",
             "#FF0000",
             "#F8F8FF",
             "#9400D3",
             "#FFC0CB",
             "#00FF7F",
             "#00BFFF",
             "#FFFAF0",
             "#F5F5DC",
             "#FFFACD",
             "#BDB76B"
            ]
           },
           "type": "bar",
           "x": [
            "Andaman and Nicobar Islands",
            "Andhra Pradesh",
            "Arunachal Pradesh",
            "Assam",
            "Bihar",
            "Chandigarh",
            "Chhattisgarh",
            "Delhi",
            "Goa",
            "Gujarat",
            "Haryana",
            "Himachal Pradesh",
            "Jammu and Kashmir",
            "Jharkhand",
            "Karnataka",
            "Kerala",
            "Ladakh",
            "Madhya Pradesh",
            "Maharashtra",
            "Manipur",
            "Mizoram",
            "Odisha",
            "Puducherry",
            "Punjab",
            "Rajasthan",
            "Tamil Nadu",
            "Telengana",
            "Unassigned",
            "Uttar Pradesh",
            "Uttarakhand",
            "West Bengal"
           ],
           "y": [
            0,
            0,
            0,
            0,
            0,
            0,
            0,
            0,
            0,
            0,
            0,
            0,
            0,
            0,
            0,
            3,
            0,
            0,
            0,
            0,
            0,
            0,
            0,
            0,
            0,
            0,
            0,
            0,
            0,
            0,
            0
           ]
          }
         ],
         "layout": {
          "title": {
           "text": "Confirmed cases - 2020-02-02"
          }
         }
        },
        {
         "data": [
          {
           "marker": {
            "color": [
             "#9370DB",
             "#F08080",
             "#2F4F4F",
             "#E6E6FA",
             "#FFE4C4",
             "#FF8C00",
             "#000000",
             "#A52A2A",
             "#A9A9A9",
             "#00FFFF",
             "#00FF00",
             "#F4A460",
             "#0000FF",
             "#8B008B",
             "#2F4F4F",
             "#1E90FF",
             "#87CEEB",
             "#3CB371",
             "#98FB98",
             "#8A2BE2",
             "#4169E1",
             "#F5DEB3",
             "#D2B48C",
             "#FF0000",
             "#F8F8FF",
             "#9400D3",
             "#FFC0CB",
             "#00FF7F",
             "#00BFFF",
             "#FFFAF0",
             "#F5F5DC",
             "#FFFACD",
             "#BDB76B"
            ]
           },
           "type": "bar",
           "x": [
            "Andaman and Nicobar Islands",
            "Andhra Pradesh",
            "Arunachal Pradesh",
            "Assam",
            "Bihar",
            "Chandigarh",
            "Chhattisgarh",
            "Delhi",
            "Goa",
            "Gujarat",
            "Haryana",
            "Himachal Pradesh",
            "Jammu and Kashmir",
            "Jharkhand",
            "Karnataka",
            "Kerala",
            "Ladakh",
            "Madhya Pradesh",
            "Maharashtra",
            "Manipur",
            "Mizoram",
            "Odisha",
            "Puducherry",
            "Punjab",
            "Rajasthan",
            "Tamil Nadu",
            "Telengana",
            "Unassigned",
            "Uttar Pradesh",
            "Uttarakhand",
            "West Bengal"
           ],
           "y": [
            0,
            0,
            0,
            0,
            0,
            0,
            0,
            0,
            0,
            0,
            0,
            0,
            0,
            0,
            0,
            3,
            0,
            0,
            0,
            0,
            0,
            0,
            0,
            0,
            0,
            0,
            0,
            0,
            0,
            0,
            0
           ]
          }
         ],
         "layout": {
          "title": {
           "text": "Confirmed cases - 2020-02-03"
          }
         }
        },
        {
         "data": [
          {
           "marker": {
            "color": [
             "#9370DB",
             "#F08080",
             "#2F4F4F",
             "#E6E6FA",
             "#FFE4C4",
             "#FF8C00",
             "#000000",
             "#A52A2A",
             "#A9A9A9",
             "#00FFFF",
             "#00FF00",
             "#F4A460",
             "#0000FF",
             "#8B008B",
             "#2F4F4F",
             "#1E90FF",
             "#87CEEB",
             "#3CB371",
             "#98FB98",
             "#8A2BE2",
             "#4169E1",
             "#F5DEB3",
             "#D2B48C",
             "#FF0000",
             "#F8F8FF",
             "#9400D3",
             "#FFC0CB",
             "#00FF7F",
             "#00BFFF",
             "#FFFAF0",
             "#F5F5DC",
             "#FFFACD",
             "#BDB76B"
            ]
           },
           "type": "bar",
           "x": [
            "Andaman and Nicobar Islands",
            "Andhra Pradesh",
            "Arunachal Pradesh",
            "Assam",
            "Bihar",
            "Chandigarh",
            "Chhattisgarh",
            "Delhi",
            "Goa",
            "Gujarat",
            "Haryana",
            "Himachal Pradesh",
            "Jammu and Kashmir",
            "Jharkhand",
            "Karnataka",
            "Kerala",
            "Ladakh",
            "Madhya Pradesh",
            "Maharashtra",
            "Manipur",
            "Mizoram",
            "Odisha",
            "Puducherry",
            "Punjab",
            "Rajasthan",
            "Tamil Nadu",
            "Telengana",
            "Unassigned",
            "Uttar Pradesh",
            "Uttarakhand",
            "West Bengal"
           ],
           "y": [
            0,
            0,
            0,
            0,
            0,
            0,
            0,
            0,
            0,
            0,
            0,
            0,
            0,
            0,
            0,
            3,
            0,
            0,
            0,
            0,
            0,
            0,
            0,
            0,
            0,
            0,
            0,
            0,
            0,
            0,
            0
           ]
          }
         ],
         "layout": {
          "title": {
           "text": "Confirmed cases - 2020-02-04"
          }
         }
        },
        {
         "data": [
          {
           "marker": {
            "color": [
             "#9370DB",
             "#F08080",
             "#2F4F4F",
             "#E6E6FA",
             "#FFE4C4",
             "#FF8C00",
             "#000000",
             "#A52A2A",
             "#A9A9A9",
             "#00FFFF",
             "#00FF00",
             "#F4A460",
             "#0000FF",
             "#8B008B",
             "#2F4F4F",
             "#1E90FF",
             "#87CEEB",
             "#3CB371",
             "#98FB98",
             "#8A2BE2",
             "#4169E1",
             "#F5DEB3",
             "#D2B48C",
             "#FF0000",
             "#F8F8FF",
             "#9400D3",
             "#FFC0CB",
             "#00FF7F",
             "#00BFFF",
             "#FFFAF0",
             "#F5F5DC",
             "#FFFACD",
             "#BDB76B"
            ]
           },
           "type": "bar",
           "x": [
            "Andaman and Nicobar Islands",
            "Andhra Pradesh",
            "Arunachal Pradesh",
            "Assam",
            "Bihar",
            "Chandigarh",
            "Chhattisgarh",
            "Delhi",
            "Goa",
            "Gujarat",
            "Haryana",
            "Himachal Pradesh",
            "Jammu and Kashmir",
            "Jharkhand",
            "Karnataka",
            "Kerala",
            "Ladakh",
            "Madhya Pradesh",
            "Maharashtra",
            "Manipur",
            "Mizoram",
            "Odisha",
            "Puducherry",
            "Punjab",
            "Rajasthan",
            "Tamil Nadu",
            "Telengana",
            "Unassigned",
            "Uttar Pradesh",
            "Uttarakhand",
            "West Bengal"
           ],
           "y": [
            0,
            0,
            0,
            0,
            0,
            0,
            0,
            0,
            0,
            0,
            0,
            0,
            0,
            0,
            0,
            3,
            0,
            0,
            0,
            0,
            0,
            0,
            0,
            0,
            0,
            0,
            0,
            0,
            0,
            0,
            0
           ]
          }
         ],
         "layout": {
          "title": {
           "text": "Confirmed cases - 2020-02-05"
          }
         }
        },
        {
         "data": [
          {
           "marker": {
            "color": [
             "#9370DB",
             "#F08080",
             "#2F4F4F",
             "#E6E6FA",
             "#FFE4C4",
             "#FF8C00",
             "#000000",
             "#A52A2A",
             "#A9A9A9",
             "#00FFFF",
             "#00FF00",
             "#F4A460",
             "#0000FF",
             "#8B008B",
             "#2F4F4F",
             "#1E90FF",
             "#87CEEB",
             "#3CB371",
             "#98FB98",
             "#8A2BE2",
             "#4169E1",
             "#F5DEB3",
             "#D2B48C",
             "#FF0000",
             "#F8F8FF",
             "#9400D3",
             "#FFC0CB",
             "#00FF7F",
             "#00BFFF",
             "#FFFAF0",
             "#F5F5DC",
             "#FFFACD",
             "#BDB76B"
            ]
           },
           "type": "bar",
           "x": [
            "Andaman and Nicobar Islands",
            "Andhra Pradesh",
            "Arunachal Pradesh",
            "Assam",
            "Bihar",
            "Chandigarh",
            "Chhattisgarh",
            "Delhi",
            "Goa",
            "Gujarat",
            "Haryana",
            "Himachal Pradesh",
            "Jammu and Kashmir",
            "Jharkhand",
            "Karnataka",
            "Kerala",
            "Ladakh",
            "Madhya Pradesh",
            "Maharashtra",
            "Manipur",
            "Mizoram",
            "Odisha",
            "Puducherry",
            "Punjab",
            "Rajasthan",
            "Tamil Nadu",
            "Telengana",
            "Unassigned",
            "Uttar Pradesh",
            "Uttarakhand",
            "West Bengal"
           ],
           "y": [
            0,
            0,
            0,
            0,
            0,
            0,
            0,
            0,
            0,
            0,
            0,
            0,
            0,
            0,
            0,
            3,
            0,
            0,
            0,
            0,
            0,
            0,
            0,
            0,
            0,
            0,
            0,
            0,
            0,
            0,
            0
           ]
          }
         ],
         "layout": {
          "title": {
           "text": "Confirmed cases - 2020-02-06"
          }
         }
        },
        {
         "data": [
          {
           "marker": {
            "color": [
             "#9370DB",
             "#F08080",
             "#2F4F4F",
             "#E6E6FA",
             "#FFE4C4",
             "#FF8C00",
             "#000000",
             "#A52A2A",
             "#A9A9A9",
             "#00FFFF",
             "#00FF00",
             "#F4A460",
             "#0000FF",
             "#8B008B",
             "#2F4F4F",
             "#1E90FF",
             "#87CEEB",
             "#3CB371",
             "#98FB98",
             "#8A2BE2",
             "#4169E1",
             "#F5DEB3",
             "#D2B48C",
             "#FF0000",
             "#F8F8FF",
             "#9400D3",
             "#FFC0CB",
             "#00FF7F",
             "#00BFFF",
             "#FFFAF0",
             "#F5F5DC",
             "#FFFACD",
             "#BDB76B"
            ]
           },
           "type": "bar",
           "x": [
            "Andaman and Nicobar Islands",
            "Andhra Pradesh",
            "Arunachal Pradesh",
            "Assam",
            "Bihar",
            "Chandigarh",
            "Chhattisgarh",
            "Delhi",
            "Goa",
            "Gujarat",
            "Haryana",
            "Himachal Pradesh",
            "Jammu and Kashmir",
            "Jharkhand",
            "Karnataka",
            "Kerala",
            "Ladakh",
            "Madhya Pradesh",
            "Maharashtra",
            "Manipur",
            "Mizoram",
            "Odisha",
            "Puducherry",
            "Punjab",
            "Rajasthan",
            "Tamil Nadu",
            "Telengana",
            "Unassigned",
            "Uttar Pradesh",
            "Uttarakhand",
            "West Bengal"
           ],
           "y": [
            0,
            0,
            0,
            0,
            0,
            0,
            0,
            0,
            0,
            0,
            0,
            0,
            0,
            0,
            0,
            3,
            0,
            0,
            0,
            0,
            0,
            0,
            0,
            0,
            0,
            0,
            0,
            0,
            0,
            0,
            0
           ]
          }
         ],
         "layout": {
          "title": {
           "text": "Confirmed cases - 2020-02-07"
          }
         }
        },
        {
         "data": [
          {
           "marker": {
            "color": [
             "#9370DB",
             "#F08080",
             "#2F4F4F",
             "#E6E6FA",
             "#FFE4C4",
             "#FF8C00",
             "#000000",
             "#A52A2A",
             "#A9A9A9",
             "#00FFFF",
             "#00FF00",
             "#F4A460",
             "#0000FF",
             "#8B008B",
             "#2F4F4F",
             "#1E90FF",
             "#87CEEB",
             "#3CB371",
             "#98FB98",
             "#8A2BE2",
             "#4169E1",
             "#F5DEB3",
             "#D2B48C",
             "#FF0000",
             "#F8F8FF",
             "#9400D3",
             "#FFC0CB",
             "#00FF7F",
             "#00BFFF",
             "#FFFAF0",
             "#F5F5DC",
             "#FFFACD",
             "#BDB76B"
            ]
           },
           "type": "bar",
           "x": [
            "Andaman and Nicobar Islands",
            "Andhra Pradesh",
            "Arunachal Pradesh",
            "Assam",
            "Bihar",
            "Chandigarh",
            "Chhattisgarh",
            "Delhi",
            "Goa",
            "Gujarat",
            "Haryana",
            "Himachal Pradesh",
            "Jammu and Kashmir",
            "Jharkhand",
            "Karnataka",
            "Kerala",
            "Ladakh",
            "Madhya Pradesh",
            "Maharashtra",
            "Manipur",
            "Mizoram",
            "Odisha",
            "Puducherry",
            "Punjab",
            "Rajasthan",
            "Tamil Nadu",
            "Telengana",
            "Unassigned",
            "Uttar Pradesh",
            "Uttarakhand",
            "West Bengal"
           ],
           "y": [
            0,
            0,
            0,
            0,
            0,
            0,
            0,
            0,
            0,
            0,
            0,
            0,
            0,
            0,
            0,
            3,
            0,
            0,
            0,
            0,
            0,
            0,
            0,
            0,
            0,
            0,
            0,
            0,
            0,
            0,
            0
           ]
          }
         ],
         "layout": {
          "title": {
           "text": "Confirmed cases - 2020-02-08"
          }
         }
        },
        {
         "data": [
          {
           "marker": {
            "color": [
             "#9370DB",
             "#F08080",
             "#2F4F4F",
             "#E6E6FA",
             "#FFE4C4",
             "#FF8C00",
             "#000000",
             "#A52A2A",
             "#A9A9A9",
             "#00FFFF",
             "#00FF00",
             "#F4A460",
             "#0000FF",
             "#8B008B",
             "#2F4F4F",
             "#1E90FF",
             "#87CEEB",
             "#3CB371",
             "#98FB98",
             "#8A2BE2",
             "#4169E1",
             "#F5DEB3",
             "#D2B48C",
             "#FF0000",
             "#F8F8FF",
             "#9400D3",
             "#FFC0CB",
             "#00FF7F",
             "#00BFFF",
             "#FFFAF0",
             "#F5F5DC",
             "#FFFACD",
             "#BDB76B"
            ]
           },
           "type": "bar",
           "x": [
            "Andaman and Nicobar Islands",
            "Andhra Pradesh",
            "Arunachal Pradesh",
            "Assam",
            "Bihar",
            "Chandigarh",
            "Chhattisgarh",
            "Delhi",
            "Goa",
            "Gujarat",
            "Haryana",
            "Himachal Pradesh",
            "Jammu and Kashmir",
            "Jharkhand",
            "Karnataka",
            "Kerala",
            "Ladakh",
            "Madhya Pradesh",
            "Maharashtra",
            "Manipur",
            "Mizoram",
            "Odisha",
            "Puducherry",
            "Punjab",
            "Rajasthan",
            "Tamil Nadu",
            "Telengana",
            "Unassigned",
            "Uttar Pradesh",
            "Uttarakhand",
            "West Bengal"
           ],
           "y": [
            0,
            0,
            0,
            0,
            0,
            0,
            0,
            0,
            0,
            0,
            0,
            0,
            0,
            0,
            0,
            3,
            0,
            0,
            0,
            0,
            0,
            0,
            0,
            0,
            0,
            0,
            0,
            0,
            0,
            0,
            0
           ]
          }
         ],
         "layout": {
          "title": {
           "text": "Confirmed cases - 2020-02-09"
          }
         }
        },
        {
         "data": [
          {
           "marker": {
            "color": [
             "#9370DB",
             "#F08080",
             "#2F4F4F",
             "#E6E6FA",
             "#FFE4C4",
             "#FF8C00",
             "#000000",
             "#A52A2A",
             "#A9A9A9",
             "#00FFFF",
             "#00FF00",
             "#F4A460",
             "#0000FF",
             "#8B008B",
             "#2F4F4F",
             "#1E90FF",
             "#87CEEB",
             "#3CB371",
             "#98FB98",
             "#8A2BE2",
             "#4169E1",
             "#F5DEB3",
             "#D2B48C",
             "#FF0000",
             "#F8F8FF",
             "#9400D3",
             "#FFC0CB",
             "#00FF7F",
             "#00BFFF",
             "#FFFAF0",
             "#F5F5DC",
             "#FFFACD",
             "#BDB76B"
            ]
           },
           "type": "bar",
           "x": [
            "Andaman and Nicobar Islands",
            "Andhra Pradesh",
            "Arunachal Pradesh",
            "Assam",
            "Bihar",
            "Chandigarh",
            "Chhattisgarh",
            "Delhi",
            "Goa",
            "Gujarat",
            "Haryana",
            "Himachal Pradesh",
            "Jammu and Kashmir",
            "Jharkhand",
            "Karnataka",
            "Kerala",
            "Ladakh",
            "Madhya Pradesh",
            "Maharashtra",
            "Manipur",
            "Mizoram",
            "Odisha",
            "Puducherry",
            "Punjab",
            "Rajasthan",
            "Tamil Nadu",
            "Telengana",
            "Unassigned",
            "Uttar Pradesh",
            "Uttarakhand",
            "West Bengal"
           ],
           "y": [
            0,
            0,
            0,
            0,
            0,
            0,
            0,
            0,
            0,
            0,
            0,
            0,
            0,
            0,
            0,
            3,
            0,
            0,
            0,
            0,
            0,
            0,
            0,
            0,
            0,
            0,
            0,
            0,
            0,
            0,
            0
           ]
          }
         ],
         "layout": {
          "title": {
           "text": "Confirmed cases - 2020-02-10"
          }
         }
        },
        {
         "data": [
          {
           "marker": {
            "color": [
             "#9370DB",
             "#F08080",
             "#2F4F4F",
             "#E6E6FA",
             "#FFE4C4",
             "#FF8C00",
             "#000000",
             "#A52A2A",
             "#A9A9A9",
             "#00FFFF",
             "#00FF00",
             "#F4A460",
             "#0000FF",
             "#8B008B",
             "#2F4F4F",
             "#1E90FF",
             "#87CEEB",
             "#3CB371",
             "#98FB98",
             "#8A2BE2",
             "#4169E1",
             "#F5DEB3",
             "#D2B48C",
             "#FF0000",
             "#F8F8FF",
             "#9400D3",
             "#FFC0CB",
             "#00FF7F",
             "#00BFFF",
             "#FFFAF0",
             "#F5F5DC",
             "#FFFACD",
             "#BDB76B"
            ]
           },
           "type": "bar",
           "x": [
            "Andaman and Nicobar Islands",
            "Andhra Pradesh",
            "Arunachal Pradesh",
            "Assam",
            "Bihar",
            "Chandigarh",
            "Chhattisgarh",
            "Delhi",
            "Goa",
            "Gujarat",
            "Haryana",
            "Himachal Pradesh",
            "Jammu and Kashmir",
            "Jharkhand",
            "Karnataka",
            "Kerala",
            "Ladakh",
            "Madhya Pradesh",
            "Maharashtra",
            "Manipur",
            "Mizoram",
            "Odisha",
            "Puducherry",
            "Punjab",
            "Rajasthan",
            "Tamil Nadu",
            "Telengana",
            "Unassigned",
            "Uttar Pradesh",
            "Uttarakhand",
            "West Bengal"
           ],
           "y": [
            0,
            0,
            0,
            0,
            0,
            0,
            0,
            0,
            0,
            0,
            0,
            0,
            0,
            0,
            0,
            3,
            0,
            0,
            0,
            0,
            0,
            0,
            0,
            0,
            0,
            0,
            0,
            0,
            0,
            0,
            0
           ]
          }
         ],
         "layout": {
          "title": {
           "text": "Confirmed cases - 2020-02-11"
          }
         }
        },
        {
         "data": [
          {
           "marker": {
            "color": [
             "#9370DB",
             "#F08080",
             "#2F4F4F",
             "#E6E6FA",
             "#FFE4C4",
             "#FF8C00",
             "#000000",
             "#A52A2A",
             "#A9A9A9",
             "#00FFFF",
             "#00FF00",
             "#F4A460",
             "#0000FF",
             "#8B008B",
             "#2F4F4F",
             "#1E90FF",
             "#87CEEB",
             "#3CB371",
             "#98FB98",
             "#8A2BE2",
             "#4169E1",
             "#F5DEB3",
             "#D2B48C",
             "#FF0000",
             "#F8F8FF",
             "#9400D3",
             "#FFC0CB",
             "#00FF7F",
             "#00BFFF",
             "#FFFAF0",
             "#F5F5DC",
             "#FFFACD",
             "#BDB76B"
            ]
           },
           "type": "bar",
           "x": [
            "Andaman and Nicobar Islands",
            "Andhra Pradesh",
            "Arunachal Pradesh",
            "Assam",
            "Bihar",
            "Chandigarh",
            "Chhattisgarh",
            "Delhi",
            "Goa",
            "Gujarat",
            "Haryana",
            "Himachal Pradesh",
            "Jammu and Kashmir",
            "Jharkhand",
            "Karnataka",
            "Kerala",
            "Ladakh",
            "Madhya Pradesh",
            "Maharashtra",
            "Manipur",
            "Mizoram",
            "Odisha",
            "Puducherry",
            "Punjab",
            "Rajasthan",
            "Tamil Nadu",
            "Telengana",
            "Unassigned",
            "Uttar Pradesh",
            "Uttarakhand",
            "West Bengal"
           ],
           "y": [
            0,
            0,
            0,
            0,
            0,
            0,
            0,
            0,
            0,
            0,
            0,
            0,
            0,
            0,
            0,
            3,
            0,
            0,
            0,
            0,
            0,
            0,
            0,
            0,
            0,
            0,
            0,
            0,
            0,
            0,
            0
           ]
          }
         ],
         "layout": {
          "title": {
           "text": "Confirmed cases - 2020-02-12"
          }
         }
        },
        {
         "data": [
          {
           "marker": {
            "color": [
             "#9370DB",
             "#F08080",
             "#2F4F4F",
             "#E6E6FA",
             "#FFE4C4",
             "#FF8C00",
             "#000000",
             "#A52A2A",
             "#A9A9A9",
             "#00FFFF",
             "#00FF00",
             "#F4A460",
             "#0000FF",
             "#8B008B",
             "#2F4F4F",
             "#1E90FF",
             "#87CEEB",
             "#3CB371",
             "#98FB98",
             "#8A2BE2",
             "#4169E1",
             "#F5DEB3",
             "#D2B48C",
             "#FF0000",
             "#F8F8FF",
             "#9400D3",
             "#FFC0CB",
             "#00FF7F",
             "#00BFFF",
             "#FFFAF0",
             "#F5F5DC",
             "#FFFACD",
             "#BDB76B"
            ]
           },
           "type": "bar",
           "x": [
            "Andaman and Nicobar Islands",
            "Andhra Pradesh",
            "Arunachal Pradesh",
            "Assam",
            "Bihar",
            "Chandigarh",
            "Chhattisgarh",
            "Delhi",
            "Goa",
            "Gujarat",
            "Haryana",
            "Himachal Pradesh",
            "Jammu and Kashmir",
            "Jharkhand",
            "Karnataka",
            "Kerala",
            "Ladakh",
            "Madhya Pradesh",
            "Maharashtra",
            "Manipur",
            "Mizoram",
            "Odisha",
            "Puducherry",
            "Punjab",
            "Rajasthan",
            "Tamil Nadu",
            "Telengana",
            "Unassigned",
            "Uttar Pradesh",
            "Uttarakhand",
            "West Bengal"
           ],
           "y": [
            0,
            0,
            0,
            0,
            0,
            0,
            0,
            0,
            0,
            0,
            0,
            0,
            0,
            0,
            0,
            3,
            0,
            0,
            0,
            0,
            0,
            0,
            0,
            0,
            0,
            0,
            0,
            0,
            0,
            0,
            0
           ]
          }
         ],
         "layout": {
          "title": {
           "text": "Confirmed cases - 2020-02-13"
          }
         }
        },
        {
         "data": [
          {
           "marker": {
            "color": [
             "#9370DB",
             "#F08080",
             "#2F4F4F",
             "#E6E6FA",
             "#FFE4C4",
             "#FF8C00",
             "#000000",
             "#A52A2A",
             "#A9A9A9",
             "#00FFFF",
             "#00FF00",
             "#F4A460",
             "#0000FF",
             "#8B008B",
             "#2F4F4F",
             "#1E90FF",
             "#87CEEB",
             "#3CB371",
             "#98FB98",
             "#8A2BE2",
             "#4169E1",
             "#F5DEB3",
             "#D2B48C",
             "#FF0000",
             "#F8F8FF",
             "#9400D3",
             "#FFC0CB",
             "#00FF7F",
             "#00BFFF",
             "#FFFAF0",
             "#F5F5DC",
             "#FFFACD",
             "#BDB76B"
            ]
           },
           "type": "bar",
           "x": [
            "Andaman and Nicobar Islands",
            "Andhra Pradesh",
            "Arunachal Pradesh",
            "Assam",
            "Bihar",
            "Chandigarh",
            "Chhattisgarh",
            "Delhi",
            "Goa",
            "Gujarat",
            "Haryana",
            "Himachal Pradesh",
            "Jammu and Kashmir",
            "Jharkhand",
            "Karnataka",
            "Kerala",
            "Ladakh",
            "Madhya Pradesh",
            "Maharashtra",
            "Manipur",
            "Mizoram",
            "Odisha",
            "Puducherry",
            "Punjab",
            "Rajasthan",
            "Tamil Nadu",
            "Telengana",
            "Unassigned",
            "Uttar Pradesh",
            "Uttarakhand",
            "West Bengal"
           ],
           "y": [
            0,
            0,
            0,
            0,
            0,
            0,
            0,
            0,
            0,
            0,
            0,
            0,
            0,
            0,
            0,
            3,
            0,
            0,
            0,
            0,
            0,
            0,
            0,
            0,
            0,
            0,
            0,
            0,
            0,
            0,
            0
           ]
          }
         ],
         "layout": {
          "title": {
           "text": "Confirmed cases - 2020-02-14"
          }
         }
        },
        {
         "data": [
          {
           "marker": {
            "color": [
             "#9370DB",
             "#F08080",
             "#2F4F4F",
             "#E6E6FA",
             "#FFE4C4",
             "#FF8C00",
             "#000000",
             "#A52A2A",
             "#A9A9A9",
             "#00FFFF",
             "#00FF00",
             "#F4A460",
             "#0000FF",
             "#8B008B",
             "#2F4F4F",
             "#1E90FF",
             "#87CEEB",
             "#3CB371",
             "#98FB98",
             "#8A2BE2",
             "#4169E1",
             "#F5DEB3",
             "#D2B48C",
             "#FF0000",
             "#F8F8FF",
             "#9400D3",
             "#FFC0CB",
             "#00FF7F",
             "#00BFFF",
             "#FFFAF0",
             "#F5F5DC",
             "#FFFACD",
             "#BDB76B"
            ]
           },
           "type": "bar",
           "x": [
            "Andaman and Nicobar Islands",
            "Andhra Pradesh",
            "Arunachal Pradesh",
            "Assam",
            "Bihar",
            "Chandigarh",
            "Chhattisgarh",
            "Delhi",
            "Goa",
            "Gujarat",
            "Haryana",
            "Himachal Pradesh",
            "Jammu and Kashmir",
            "Jharkhand",
            "Karnataka",
            "Kerala",
            "Ladakh",
            "Madhya Pradesh",
            "Maharashtra",
            "Manipur",
            "Mizoram",
            "Odisha",
            "Puducherry",
            "Punjab",
            "Rajasthan",
            "Tamil Nadu",
            "Telengana",
            "Unassigned",
            "Uttar Pradesh",
            "Uttarakhand",
            "West Bengal"
           ],
           "y": [
            0,
            0,
            0,
            0,
            0,
            0,
            0,
            0,
            0,
            0,
            0,
            0,
            0,
            0,
            0,
            3,
            0,
            0,
            0,
            0,
            0,
            0,
            0,
            0,
            0,
            0,
            0,
            0,
            0,
            0,
            0
           ]
          }
         ],
         "layout": {
          "title": {
           "text": "Confirmed cases - 2020-02-15"
          }
         }
        },
        {
         "data": [
          {
           "marker": {
            "color": [
             "#9370DB",
             "#F08080",
             "#2F4F4F",
             "#E6E6FA",
             "#FFE4C4",
             "#FF8C00",
             "#000000",
             "#A52A2A",
             "#A9A9A9",
             "#00FFFF",
             "#00FF00",
             "#F4A460",
             "#0000FF",
             "#8B008B",
             "#2F4F4F",
             "#1E90FF",
             "#87CEEB",
             "#3CB371",
             "#98FB98",
             "#8A2BE2",
             "#4169E1",
             "#F5DEB3",
             "#D2B48C",
             "#FF0000",
             "#F8F8FF",
             "#9400D3",
             "#FFC0CB",
             "#00FF7F",
             "#00BFFF",
             "#FFFAF0",
             "#F5F5DC",
             "#FFFACD",
             "#BDB76B"
            ]
           },
           "type": "bar",
           "x": [
            "Andaman and Nicobar Islands",
            "Andhra Pradesh",
            "Arunachal Pradesh",
            "Assam",
            "Bihar",
            "Chandigarh",
            "Chhattisgarh",
            "Delhi",
            "Goa",
            "Gujarat",
            "Haryana",
            "Himachal Pradesh",
            "Jammu and Kashmir",
            "Jharkhand",
            "Karnataka",
            "Kerala",
            "Ladakh",
            "Madhya Pradesh",
            "Maharashtra",
            "Manipur",
            "Mizoram",
            "Odisha",
            "Puducherry",
            "Punjab",
            "Rajasthan",
            "Tamil Nadu",
            "Telengana",
            "Unassigned",
            "Uttar Pradesh",
            "Uttarakhand",
            "West Bengal"
           ],
           "y": [
            0,
            0,
            0,
            0,
            0,
            0,
            0,
            0,
            0,
            0,
            0,
            0,
            0,
            0,
            0,
            3,
            0,
            0,
            0,
            0,
            0,
            0,
            0,
            0,
            0,
            0,
            0,
            0,
            0,
            0,
            0
           ]
          }
         ],
         "layout": {
          "title": {
           "text": "Confirmed cases - 2020-02-16"
          }
         }
        },
        {
         "data": [
          {
           "marker": {
            "color": [
             "#9370DB",
             "#F08080",
             "#2F4F4F",
             "#E6E6FA",
             "#FFE4C4",
             "#FF8C00",
             "#000000",
             "#A52A2A",
             "#A9A9A9",
             "#00FFFF",
             "#00FF00",
             "#F4A460",
             "#0000FF",
             "#8B008B",
             "#2F4F4F",
             "#1E90FF",
             "#87CEEB",
             "#3CB371",
             "#98FB98",
             "#8A2BE2",
             "#4169E1",
             "#F5DEB3",
             "#D2B48C",
             "#FF0000",
             "#F8F8FF",
             "#9400D3",
             "#FFC0CB",
             "#00FF7F",
             "#00BFFF",
             "#FFFAF0",
             "#F5F5DC",
             "#FFFACD",
             "#BDB76B"
            ]
           },
           "type": "bar",
           "x": [
            "Andaman and Nicobar Islands",
            "Andhra Pradesh",
            "Arunachal Pradesh",
            "Assam",
            "Bihar",
            "Chandigarh",
            "Chhattisgarh",
            "Delhi",
            "Goa",
            "Gujarat",
            "Haryana",
            "Himachal Pradesh",
            "Jammu and Kashmir",
            "Jharkhand",
            "Karnataka",
            "Kerala",
            "Ladakh",
            "Madhya Pradesh",
            "Maharashtra",
            "Manipur",
            "Mizoram",
            "Odisha",
            "Puducherry",
            "Punjab",
            "Rajasthan",
            "Tamil Nadu",
            "Telengana",
            "Unassigned",
            "Uttar Pradesh",
            "Uttarakhand",
            "West Bengal"
           ],
           "y": [
            0,
            0,
            0,
            0,
            0,
            0,
            0,
            0,
            0,
            0,
            0,
            0,
            0,
            0,
            0,
            3,
            0,
            0,
            0,
            0,
            0,
            0,
            0,
            0,
            0,
            0,
            0,
            0,
            0,
            0,
            0
           ]
          }
         ],
         "layout": {
          "title": {
           "text": "Confirmed cases - 2020-02-17"
          }
         }
        },
        {
         "data": [
          {
           "marker": {
            "color": [
             "#9370DB",
             "#F08080",
             "#2F4F4F",
             "#E6E6FA",
             "#FFE4C4",
             "#FF8C00",
             "#000000",
             "#A52A2A",
             "#A9A9A9",
             "#00FFFF",
             "#00FF00",
             "#F4A460",
             "#0000FF",
             "#8B008B",
             "#2F4F4F",
             "#1E90FF",
             "#87CEEB",
             "#3CB371",
             "#98FB98",
             "#8A2BE2",
             "#4169E1",
             "#F5DEB3",
             "#D2B48C",
             "#FF0000",
             "#F8F8FF",
             "#9400D3",
             "#FFC0CB",
             "#00FF7F",
             "#00BFFF",
             "#FFFAF0",
             "#F5F5DC",
             "#FFFACD",
             "#BDB76B"
            ]
           },
           "type": "bar",
           "x": [
            "Andaman and Nicobar Islands",
            "Andhra Pradesh",
            "Arunachal Pradesh",
            "Assam",
            "Bihar",
            "Chandigarh",
            "Chhattisgarh",
            "Delhi",
            "Goa",
            "Gujarat",
            "Haryana",
            "Himachal Pradesh",
            "Jammu and Kashmir",
            "Jharkhand",
            "Karnataka",
            "Kerala",
            "Ladakh",
            "Madhya Pradesh",
            "Maharashtra",
            "Manipur",
            "Mizoram",
            "Odisha",
            "Puducherry",
            "Punjab",
            "Rajasthan",
            "Tamil Nadu",
            "Telengana",
            "Unassigned",
            "Uttar Pradesh",
            "Uttarakhand",
            "West Bengal"
           ],
           "y": [
            0,
            0,
            0,
            0,
            0,
            0,
            0,
            0,
            0,
            0,
            0,
            0,
            0,
            0,
            0,
            3,
            0,
            0,
            0,
            0,
            0,
            0,
            0,
            0,
            0,
            0,
            0,
            0,
            0,
            0,
            0
           ]
          }
         ],
         "layout": {
          "title": {
           "text": "Confirmed cases - 2020-02-18"
          }
         }
        },
        {
         "data": [
          {
           "marker": {
            "color": [
             "#9370DB",
             "#F08080",
             "#2F4F4F",
             "#E6E6FA",
             "#FFE4C4",
             "#FF8C00",
             "#000000",
             "#A52A2A",
             "#A9A9A9",
             "#00FFFF",
             "#00FF00",
             "#F4A460",
             "#0000FF",
             "#8B008B",
             "#2F4F4F",
             "#1E90FF",
             "#87CEEB",
             "#3CB371",
             "#98FB98",
             "#8A2BE2",
             "#4169E1",
             "#F5DEB3",
             "#D2B48C",
             "#FF0000",
             "#F8F8FF",
             "#9400D3",
             "#FFC0CB",
             "#00FF7F",
             "#00BFFF",
             "#FFFAF0",
             "#F5F5DC",
             "#FFFACD",
             "#BDB76B"
            ]
           },
           "type": "bar",
           "x": [
            "Andaman and Nicobar Islands",
            "Andhra Pradesh",
            "Arunachal Pradesh",
            "Assam",
            "Bihar",
            "Chandigarh",
            "Chhattisgarh",
            "Delhi",
            "Goa",
            "Gujarat",
            "Haryana",
            "Himachal Pradesh",
            "Jammu and Kashmir",
            "Jharkhand",
            "Karnataka",
            "Kerala",
            "Ladakh",
            "Madhya Pradesh",
            "Maharashtra",
            "Manipur",
            "Mizoram",
            "Odisha",
            "Puducherry",
            "Punjab",
            "Rajasthan",
            "Tamil Nadu",
            "Telengana",
            "Unassigned",
            "Uttar Pradesh",
            "Uttarakhand",
            "West Bengal"
           ],
           "y": [
            0,
            0,
            0,
            0,
            0,
            0,
            0,
            0,
            0,
            0,
            0,
            0,
            0,
            0,
            0,
            3,
            0,
            0,
            0,
            0,
            0,
            0,
            0,
            0,
            0,
            0,
            0,
            0,
            0,
            0,
            0
           ]
          }
         ],
         "layout": {
          "title": {
           "text": "Confirmed cases - 2020-02-19"
          }
         }
        },
        {
         "data": [
          {
           "marker": {
            "color": [
             "#9370DB",
             "#F08080",
             "#2F4F4F",
             "#E6E6FA",
             "#FFE4C4",
             "#FF8C00",
             "#000000",
             "#A52A2A",
             "#A9A9A9",
             "#00FFFF",
             "#00FF00",
             "#F4A460",
             "#0000FF",
             "#8B008B",
             "#2F4F4F",
             "#1E90FF",
             "#87CEEB",
             "#3CB371",
             "#98FB98",
             "#8A2BE2",
             "#4169E1",
             "#F5DEB3",
             "#D2B48C",
             "#FF0000",
             "#F8F8FF",
             "#9400D3",
             "#FFC0CB",
             "#00FF7F",
             "#00BFFF",
             "#FFFAF0",
             "#F5F5DC",
             "#FFFACD",
             "#BDB76B"
            ]
           },
           "type": "bar",
           "x": [
            "Andaman and Nicobar Islands",
            "Andhra Pradesh",
            "Arunachal Pradesh",
            "Assam",
            "Bihar",
            "Chandigarh",
            "Chhattisgarh",
            "Delhi",
            "Goa",
            "Gujarat",
            "Haryana",
            "Himachal Pradesh",
            "Jammu and Kashmir",
            "Jharkhand",
            "Karnataka",
            "Kerala",
            "Ladakh",
            "Madhya Pradesh",
            "Maharashtra",
            "Manipur",
            "Mizoram",
            "Odisha",
            "Puducherry",
            "Punjab",
            "Rajasthan",
            "Tamil Nadu",
            "Telengana",
            "Unassigned",
            "Uttar Pradesh",
            "Uttarakhand",
            "West Bengal"
           ],
           "y": [
            0,
            0,
            0,
            0,
            0,
            0,
            0,
            0,
            0,
            0,
            0,
            0,
            0,
            0,
            0,
            3,
            0,
            0,
            0,
            0,
            0,
            0,
            0,
            0,
            0,
            0,
            0,
            0,
            0,
            0,
            0
           ]
          }
         ],
         "layout": {
          "title": {
           "text": "Confirmed cases - 2020-02-20"
          }
         }
        },
        {
         "data": [
          {
           "marker": {
            "color": [
             "#9370DB",
             "#F08080",
             "#2F4F4F",
             "#E6E6FA",
             "#FFE4C4",
             "#FF8C00",
             "#000000",
             "#A52A2A",
             "#A9A9A9",
             "#00FFFF",
             "#00FF00",
             "#F4A460",
             "#0000FF",
             "#8B008B",
             "#2F4F4F",
             "#1E90FF",
             "#87CEEB",
             "#3CB371",
             "#98FB98",
             "#8A2BE2",
             "#4169E1",
             "#F5DEB3",
             "#D2B48C",
             "#FF0000",
             "#F8F8FF",
             "#9400D3",
             "#FFC0CB",
             "#00FF7F",
             "#00BFFF",
             "#FFFAF0",
             "#F5F5DC",
             "#FFFACD",
             "#BDB76B"
            ]
           },
           "type": "bar",
           "x": [
            "Andaman and Nicobar Islands",
            "Andhra Pradesh",
            "Arunachal Pradesh",
            "Assam",
            "Bihar",
            "Chandigarh",
            "Chhattisgarh",
            "Delhi",
            "Goa",
            "Gujarat",
            "Haryana",
            "Himachal Pradesh",
            "Jammu and Kashmir",
            "Jharkhand",
            "Karnataka",
            "Kerala",
            "Ladakh",
            "Madhya Pradesh",
            "Maharashtra",
            "Manipur",
            "Mizoram",
            "Odisha",
            "Puducherry",
            "Punjab",
            "Rajasthan",
            "Tamil Nadu",
            "Telengana",
            "Unassigned",
            "Uttar Pradesh",
            "Uttarakhand",
            "West Bengal"
           ],
           "y": [
            0,
            0,
            0,
            0,
            0,
            0,
            0,
            0,
            0,
            0,
            0,
            0,
            0,
            0,
            0,
            3,
            0,
            0,
            0,
            0,
            0,
            0,
            0,
            0,
            0,
            0,
            0,
            0,
            0,
            0,
            0
           ]
          }
         ],
         "layout": {
          "title": {
           "text": "Confirmed cases - 2020-02-21"
          }
         }
        },
        {
         "data": [
          {
           "marker": {
            "color": [
             "#9370DB",
             "#F08080",
             "#2F4F4F",
             "#E6E6FA",
             "#FFE4C4",
             "#FF8C00",
             "#000000",
             "#A52A2A",
             "#A9A9A9",
             "#00FFFF",
             "#00FF00",
             "#F4A460",
             "#0000FF",
             "#8B008B",
             "#2F4F4F",
             "#1E90FF",
             "#87CEEB",
             "#3CB371",
             "#98FB98",
             "#8A2BE2",
             "#4169E1",
             "#F5DEB3",
             "#D2B48C",
             "#FF0000",
             "#F8F8FF",
             "#9400D3",
             "#FFC0CB",
             "#00FF7F",
             "#00BFFF",
             "#FFFAF0",
             "#F5F5DC",
             "#FFFACD",
             "#BDB76B"
            ]
           },
           "type": "bar",
           "x": [
            "Andaman and Nicobar Islands",
            "Andhra Pradesh",
            "Arunachal Pradesh",
            "Assam",
            "Bihar",
            "Chandigarh",
            "Chhattisgarh",
            "Delhi",
            "Goa",
            "Gujarat",
            "Haryana",
            "Himachal Pradesh",
            "Jammu and Kashmir",
            "Jharkhand",
            "Karnataka",
            "Kerala",
            "Ladakh",
            "Madhya Pradesh",
            "Maharashtra",
            "Manipur",
            "Mizoram",
            "Odisha",
            "Puducherry",
            "Punjab",
            "Rajasthan",
            "Tamil Nadu",
            "Telengana",
            "Unassigned",
            "Uttar Pradesh",
            "Uttarakhand",
            "West Bengal"
           ],
           "y": [
            0,
            0,
            0,
            0,
            0,
            0,
            0,
            0,
            0,
            0,
            0,
            0,
            0,
            0,
            0,
            3,
            0,
            0,
            0,
            0,
            0,
            0,
            0,
            0,
            0,
            0,
            0,
            0,
            0,
            0,
            0
           ]
          }
         ],
         "layout": {
          "title": {
           "text": "Confirmed cases - 2020-02-22"
          }
         }
        },
        {
         "data": [
          {
           "marker": {
            "color": [
             "#9370DB",
             "#F08080",
             "#2F4F4F",
             "#E6E6FA",
             "#FFE4C4",
             "#FF8C00",
             "#000000",
             "#A52A2A",
             "#A9A9A9",
             "#00FFFF",
             "#00FF00",
             "#F4A460",
             "#0000FF",
             "#8B008B",
             "#2F4F4F",
             "#1E90FF",
             "#87CEEB",
             "#3CB371",
             "#98FB98",
             "#8A2BE2",
             "#4169E1",
             "#F5DEB3",
             "#D2B48C",
             "#FF0000",
             "#F8F8FF",
             "#9400D3",
             "#FFC0CB",
             "#00FF7F",
             "#00BFFF",
             "#FFFAF0",
             "#F5F5DC",
             "#FFFACD",
             "#BDB76B"
            ]
           },
           "type": "bar",
           "x": [
            "Andaman and Nicobar Islands",
            "Andhra Pradesh",
            "Arunachal Pradesh",
            "Assam",
            "Bihar",
            "Chandigarh",
            "Chhattisgarh",
            "Delhi",
            "Goa",
            "Gujarat",
            "Haryana",
            "Himachal Pradesh",
            "Jammu and Kashmir",
            "Jharkhand",
            "Karnataka",
            "Kerala",
            "Ladakh",
            "Madhya Pradesh",
            "Maharashtra",
            "Manipur",
            "Mizoram",
            "Odisha",
            "Puducherry",
            "Punjab",
            "Rajasthan",
            "Tamil Nadu",
            "Telengana",
            "Unassigned",
            "Uttar Pradesh",
            "Uttarakhand",
            "West Bengal"
           ],
           "y": [
            0,
            0,
            0,
            0,
            0,
            0,
            0,
            0,
            0,
            0,
            0,
            0,
            0,
            0,
            0,
            3,
            0,
            0,
            0,
            0,
            0,
            0,
            0,
            0,
            0,
            0,
            0,
            0,
            0,
            0,
            0
           ]
          }
         ],
         "layout": {
          "title": {
           "text": "Confirmed cases - 2020-02-23"
          }
         }
        },
        {
         "data": [
          {
           "marker": {
            "color": [
             "#9370DB",
             "#F08080",
             "#2F4F4F",
             "#E6E6FA",
             "#FFE4C4",
             "#FF8C00",
             "#000000",
             "#A52A2A",
             "#A9A9A9",
             "#00FFFF",
             "#00FF00",
             "#F4A460",
             "#0000FF",
             "#8B008B",
             "#2F4F4F",
             "#1E90FF",
             "#87CEEB",
             "#3CB371",
             "#98FB98",
             "#8A2BE2",
             "#4169E1",
             "#F5DEB3",
             "#D2B48C",
             "#FF0000",
             "#F8F8FF",
             "#9400D3",
             "#FFC0CB",
             "#00FF7F",
             "#00BFFF",
             "#FFFAF0",
             "#F5F5DC",
             "#FFFACD",
             "#BDB76B"
            ]
           },
           "type": "bar",
           "x": [
            "Andaman and Nicobar Islands",
            "Andhra Pradesh",
            "Arunachal Pradesh",
            "Assam",
            "Bihar",
            "Chandigarh",
            "Chhattisgarh",
            "Delhi",
            "Goa",
            "Gujarat",
            "Haryana",
            "Himachal Pradesh",
            "Jammu and Kashmir",
            "Jharkhand",
            "Karnataka",
            "Kerala",
            "Ladakh",
            "Madhya Pradesh",
            "Maharashtra",
            "Manipur",
            "Mizoram",
            "Odisha",
            "Puducherry",
            "Punjab",
            "Rajasthan",
            "Tamil Nadu",
            "Telengana",
            "Unassigned",
            "Uttar Pradesh",
            "Uttarakhand",
            "West Bengal"
           ],
           "y": [
            0,
            0,
            0,
            0,
            0,
            0,
            0,
            0,
            0,
            0,
            0,
            0,
            0,
            0,
            0,
            3,
            0,
            0,
            0,
            0,
            0,
            0,
            0,
            0,
            0,
            0,
            0,
            0,
            0,
            0,
            0
           ]
          }
         ],
         "layout": {
          "title": {
           "text": "Confirmed cases - 2020-02-24"
          }
         }
        },
        {
         "data": [
          {
           "marker": {
            "color": [
             "#9370DB",
             "#F08080",
             "#2F4F4F",
             "#E6E6FA",
             "#FFE4C4",
             "#FF8C00",
             "#000000",
             "#A52A2A",
             "#A9A9A9",
             "#00FFFF",
             "#00FF00",
             "#F4A460",
             "#0000FF",
             "#8B008B",
             "#2F4F4F",
             "#1E90FF",
             "#87CEEB",
             "#3CB371",
             "#98FB98",
             "#8A2BE2",
             "#4169E1",
             "#F5DEB3",
             "#D2B48C",
             "#FF0000",
             "#F8F8FF",
             "#9400D3",
             "#FFC0CB",
             "#00FF7F",
             "#00BFFF",
             "#FFFAF0",
             "#F5F5DC",
             "#FFFACD",
             "#BDB76B"
            ]
           },
           "type": "bar",
           "x": [
            "Andaman and Nicobar Islands",
            "Andhra Pradesh",
            "Arunachal Pradesh",
            "Assam",
            "Bihar",
            "Chandigarh",
            "Chhattisgarh",
            "Delhi",
            "Goa",
            "Gujarat",
            "Haryana",
            "Himachal Pradesh",
            "Jammu and Kashmir",
            "Jharkhand",
            "Karnataka",
            "Kerala",
            "Ladakh",
            "Madhya Pradesh",
            "Maharashtra",
            "Manipur",
            "Mizoram",
            "Odisha",
            "Puducherry",
            "Punjab",
            "Rajasthan",
            "Tamil Nadu",
            "Telengana",
            "Unassigned",
            "Uttar Pradesh",
            "Uttarakhand",
            "West Bengal"
           ],
           "y": [
            0,
            0,
            0,
            0,
            0,
            0,
            0,
            0,
            0,
            0,
            0,
            0,
            0,
            0,
            0,
            3,
            0,
            0,
            0,
            0,
            0,
            0,
            0,
            0,
            0,
            0,
            0,
            0,
            0,
            0,
            0
           ]
          }
         ],
         "layout": {
          "title": {
           "text": "Confirmed cases - 2020-02-25"
          }
         }
        },
        {
         "data": [
          {
           "marker": {
            "color": [
             "#9370DB",
             "#F08080",
             "#2F4F4F",
             "#E6E6FA",
             "#FFE4C4",
             "#FF8C00",
             "#000000",
             "#A52A2A",
             "#A9A9A9",
             "#00FFFF",
             "#00FF00",
             "#F4A460",
             "#0000FF",
             "#8B008B",
             "#2F4F4F",
             "#1E90FF",
             "#87CEEB",
             "#3CB371",
             "#98FB98",
             "#8A2BE2",
             "#4169E1",
             "#F5DEB3",
             "#D2B48C",
             "#FF0000",
             "#F8F8FF",
             "#9400D3",
             "#FFC0CB",
             "#00FF7F",
             "#00BFFF",
             "#FFFAF0",
             "#F5F5DC",
             "#FFFACD",
             "#BDB76B"
            ]
           },
           "type": "bar",
           "x": [
            "Andaman and Nicobar Islands",
            "Andhra Pradesh",
            "Arunachal Pradesh",
            "Assam",
            "Bihar",
            "Chandigarh",
            "Chhattisgarh",
            "Delhi",
            "Goa",
            "Gujarat",
            "Haryana",
            "Himachal Pradesh",
            "Jammu and Kashmir",
            "Jharkhand",
            "Karnataka",
            "Kerala",
            "Ladakh",
            "Madhya Pradesh",
            "Maharashtra",
            "Manipur",
            "Mizoram",
            "Odisha",
            "Puducherry",
            "Punjab",
            "Rajasthan",
            "Tamil Nadu",
            "Telengana",
            "Unassigned",
            "Uttar Pradesh",
            "Uttarakhand",
            "West Bengal"
           ],
           "y": [
            0,
            0,
            0,
            0,
            0,
            0,
            0,
            0,
            0,
            0,
            0,
            0,
            0,
            0,
            0,
            3,
            0,
            0,
            0,
            0,
            0,
            0,
            0,
            0,
            0,
            0,
            0,
            0,
            0,
            0,
            0
           ]
          }
         ],
         "layout": {
          "title": {
           "text": "Confirmed cases - 2020-02-26"
          }
         }
        },
        {
         "data": [
          {
           "marker": {
            "color": [
             "#9370DB",
             "#F08080",
             "#2F4F4F",
             "#E6E6FA",
             "#FFE4C4",
             "#FF8C00",
             "#000000",
             "#A52A2A",
             "#A9A9A9",
             "#00FFFF",
             "#00FF00",
             "#F4A460",
             "#0000FF",
             "#8B008B",
             "#2F4F4F",
             "#1E90FF",
             "#87CEEB",
             "#3CB371",
             "#98FB98",
             "#8A2BE2",
             "#4169E1",
             "#F5DEB3",
             "#D2B48C",
             "#FF0000",
             "#F8F8FF",
             "#9400D3",
             "#FFC0CB",
             "#00FF7F",
             "#00BFFF",
             "#FFFAF0",
             "#F5F5DC",
             "#FFFACD",
             "#BDB76B"
            ]
           },
           "type": "bar",
           "x": [
            "Andaman and Nicobar Islands",
            "Andhra Pradesh",
            "Arunachal Pradesh",
            "Assam",
            "Bihar",
            "Chandigarh",
            "Chhattisgarh",
            "Delhi",
            "Goa",
            "Gujarat",
            "Haryana",
            "Himachal Pradesh",
            "Jammu and Kashmir",
            "Jharkhand",
            "Karnataka",
            "Kerala",
            "Ladakh",
            "Madhya Pradesh",
            "Maharashtra",
            "Manipur",
            "Mizoram",
            "Odisha",
            "Puducherry",
            "Punjab",
            "Rajasthan",
            "Tamil Nadu",
            "Telengana",
            "Unassigned",
            "Uttar Pradesh",
            "Uttarakhand",
            "West Bengal"
           ],
           "y": [
            0,
            0,
            0,
            0,
            0,
            0,
            0,
            0,
            0,
            0,
            0,
            0,
            0,
            0,
            0,
            3,
            0,
            0,
            0,
            0,
            0,
            0,
            0,
            0,
            0,
            0,
            0,
            0,
            0,
            0,
            0
           ]
          }
         ],
         "layout": {
          "title": {
           "text": "Confirmed cases - 2020-02-27"
          }
         }
        },
        {
         "data": [
          {
           "marker": {
            "color": [
             "#9370DB",
             "#F08080",
             "#2F4F4F",
             "#E6E6FA",
             "#FFE4C4",
             "#FF8C00",
             "#000000",
             "#A52A2A",
             "#A9A9A9",
             "#00FFFF",
             "#00FF00",
             "#F4A460",
             "#0000FF",
             "#8B008B",
             "#2F4F4F",
             "#1E90FF",
             "#87CEEB",
             "#3CB371",
             "#98FB98",
             "#8A2BE2",
             "#4169E1",
             "#F5DEB3",
             "#D2B48C",
             "#FF0000",
             "#F8F8FF",
             "#9400D3",
             "#FFC0CB",
             "#00FF7F",
             "#00BFFF",
             "#FFFAF0",
             "#F5F5DC",
             "#FFFACD",
             "#BDB76B"
            ]
           },
           "type": "bar",
           "x": [
            "Andaman and Nicobar Islands",
            "Andhra Pradesh",
            "Arunachal Pradesh",
            "Assam",
            "Bihar",
            "Chandigarh",
            "Chhattisgarh",
            "Delhi",
            "Goa",
            "Gujarat",
            "Haryana",
            "Himachal Pradesh",
            "Jammu and Kashmir",
            "Jharkhand",
            "Karnataka",
            "Kerala",
            "Ladakh",
            "Madhya Pradesh",
            "Maharashtra",
            "Manipur",
            "Mizoram",
            "Odisha",
            "Puducherry",
            "Punjab",
            "Rajasthan",
            "Tamil Nadu",
            "Telengana",
            "Unassigned",
            "Uttar Pradesh",
            "Uttarakhand",
            "West Bengal"
           ],
           "y": [
            0,
            0,
            0,
            0,
            0,
            0,
            0,
            0,
            0,
            0,
            0,
            0,
            0,
            0,
            0,
            3,
            0,
            0,
            0,
            0,
            0,
            0,
            0,
            0,
            0,
            0,
            0,
            0,
            0,
            0,
            0
           ]
          }
         ],
         "layout": {
          "title": {
           "text": "Confirmed cases - 2020-02-28"
          }
         }
        },
        {
         "data": [
          {
           "marker": {
            "color": [
             "#9370DB",
             "#F08080",
             "#2F4F4F",
             "#E6E6FA",
             "#FFE4C4",
             "#FF8C00",
             "#000000",
             "#A52A2A",
             "#A9A9A9",
             "#00FFFF",
             "#00FF00",
             "#F4A460",
             "#0000FF",
             "#8B008B",
             "#2F4F4F",
             "#1E90FF",
             "#87CEEB",
             "#3CB371",
             "#98FB98",
             "#8A2BE2",
             "#4169E1",
             "#F5DEB3",
             "#D2B48C",
             "#FF0000",
             "#F8F8FF",
             "#9400D3",
             "#FFC0CB",
             "#00FF7F",
             "#00BFFF",
             "#FFFAF0",
             "#F5F5DC",
             "#FFFACD",
             "#BDB76B"
            ]
           },
           "type": "bar",
           "x": [
            "Andaman and Nicobar Islands",
            "Andhra Pradesh",
            "Arunachal Pradesh",
            "Assam",
            "Bihar",
            "Chandigarh",
            "Chhattisgarh",
            "Delhi",
            "Goa",
            "Gujarat",
            "Haryana",
            "Himachal Pradesh",
            "Jammu and Kashmir",
            "Jharkhand",
            "Karnataka",
            "Kerala",
            "Ladakh",
            "Madhya Pradesh",
            "Maharashtra",
            "Manipur",
            "Mizoram",
            "Odisha",
            "Puducherry",
            "Punjab",
            "Rajasthan",
            "Tamil Nadu",
            "Telengana",
            "Unassigned",
            "Uttar Pradesh",
            "Uttarakhand",
            "West Bengal"
           ],
           "y": [
            0,
            0,
            0,
            0,
            0,
            0,
            0,
            0,
            0,
            0,
            0,
            0,
            0,
            0,
            0,
            3,
            0,
            0,
            0,
            0,
            0,
            0,
            0,
            0,
            0,
            0,
            0,
            0,
            0,
            0,
            0
           ]
          }
         ],
         "layout": {
          "title": {
           "text": "Confirmed cases - 2020-02-29"
          }
         }
        },
        {
         "data": [
          {
           "marker": {
            "color": [
             "#9370DB",
             "#F08080",
             "#2F4F4F",
             "#E6E6FA",
             "#FFE4C4",
             "#FF8C00",
             "#000000",
             "#A52A2A",
             "#A9A9A9",
             "#00FFFF",
             "#00FF00",
             "#F4A460",
             "#0000FF",
             "#8B008B",
             "#2F4F4F",
             "#1E90FF",
             "#87CEEB",
             "#3CB371",
             "#98FB98",
             "#8A2BE2",
             "#4169E1",
             "#F5DEB3",
             "#D2B48C",
             "#FF0000",
             "#F8F8FF",
             "#9400D3",
             "#FFC0CB",
             "#00FF7F",
             "#00BFFF",
             "#FFFAF0",
             "#F5F5DC",
             "#FFFACD",
             "#BDB76B"
            ]
           },
           "type": "bar",
           "x": [
            "Andaman and Nicobar Islands",
            "Andhra Pradesh",
            "Arunachal Pradesh",
            "Assam",
            "Bihar",
            "Chandigarh",
            "Chhattisgarh",
            "Delhi",
            "Goa",
            "Gujarat",
            "Haryana",
            "Himachal Pradesh",
            "Jammu and Kashmir",
            "Jharkhand",
            "Karnataka",
            "Kerala",
            "Ladakh",
            "Madhya Pradesh",
            "Maharashtra",
            "Manipur",
            "Mizoram",
            "Odisha",
            "Puducherry",
            "Punjab",
            "Rajasthan",
            "Tamil Nadu",
            "Telengana",
            "Unassigned",
            "Uttar Pradesh",
            "Uttarakhand",
            "West Bengal"
           ],
           "y": [
            0,
            0,
            0,
            0,
            0,
            0,
            0,
            0,
            0,
            0,
            0,
            0,
            0,
            0,
            0,
            3,
            0,
            0,
            0,
            0,
            0,
            0,
            0,
            0,
            0,
            0,
            0,
            0,
            0,
            0,
            0
           ]
          }
         ],
         "layout": {
          "title": {
           "text": "Confirmed cases - 2020-03-01"
          }
         }
        },
        {
         "data": [
          {
           "marker": {
            "color": [
             "#9370DB",
             "#F08080",
             "#2F4F4F",
             "#E6E6FA",
             "#FFE4C4",
             "#FF8C00",
             "#000000",
             "#A52A2A",
             "#A9A9A9",
             "#00FFFF",
             "#00FF00",
             "#F4A460",
             "#0000FF",
             "#8B008B",
             "#2F4F4F",
             "#1E90FF",
             "#87CEEB",
             "#3CB371",
             "#98FB98",
             "#8A2BE2",
             "#4169E1",
             "#F5DEB3",
             "#D2B48C",
             "#FF0000",
             "#F8F8FF",
             "#9400D3",
             "#FFC0CB",
             "#00FF7F",
             "#00BFFF",
             "#FFFAF0",
             "#F5F5DC",
             "#FFFACD",
             "#BDB76B"
            ]
           },
           "type": "bar",
           "x": [
            "Andaman and Nicobar Islands",
            "Andhra Pradesh",
            "Arunachal Pradesh",
            "Assam",
            "Bihar",
            "Chandigarh",
            "Chhattisgarh",
            "Delhi",
            "Goa",
            "Gujarat",
            "Haryana",
            "Himachal Pradesh",
            "Jammu and Kashmir",
            "Jharkhand",
            "Karnataka",
            "Kerala",
            "Ladakh",
            "Madhya Pradesh",
            "Maharashtra",
            "Manipur",
            "Mizoram",
            "Odisha",
            "Puducherry",
            "Punjab",
            "Rajasthan",
            "Tamil Nadu",
            "Telengana",
            "Unassigned",
            "Uttar Pradesh",
            "Uttarakhand",
            "West Bengal"
           ],
           "y": [
            0,
            0,
            0,
            0,
            0,
            0,
            0,
            1,
            0,
            0,
            0,
            0,
            0,
            0,
            0,
            3,
            0,
            0,
            0,
            0,
            0,
            0,
            0,
            0,
            0,
            0,
            1,
            0,
            0,
            0,
            0
           ]
          }
         ],
         "layout": {
          "title": {
           "text": "Confirmed cases - 2020-03-02"
          }
         }
        },
        {
         "data": [
          {
           "marker": {
            "color": [
             "#9370DB",
             "#F08080",
             "#2F4F4F",
             "#E6E6FA",
             "#FFE4C4",
             "#FF8C00",
             "#000000",
             "#A52A2A",
             "#A9A9A9",
             "#00FFFF",
             "#00FF00",
             "#F4A460",
             "#0000FF",
             "#8B008B",
             "#2F4F4F",
             "#1E90FF",
             "#87CEEB",
             "#3CB371",
             "#98FB98",
             "#8A2BE2",
             "#4169E1",
             "#F5DEB3",
             "#D2B48C",
             "#FF0000",
             "#F8F8FF",
             "#9400D3",
             "#FFC0CB",
             "#00FF7F",
             "#00BFFF",
             "#FFFAF0",
             "#F5F5DC",
             "#FFFACD",
             "#BDB76B"
            ]
           },
           "type": "bar",
           "x": [
            "Andaman and Nicobar Islands",
            "Andhra Pradesh",
            "Arunachal Pradesh",
            "Assam",
            "Bihar",
            "Chandigarh",
            "Chhattisgarh",
            "Delhi",
            "Goa",
            "Gujarat",
            "Haryana",
            "Himachal Pradesh",
            "Jammu and Kashmir",
            "Jharkhand",
            "Karnataka",
            "Kerala",
            "Ladakh",
            "Madhya Pradesh",
            "Maharashtra",
            "Manipur",
            "Mizoram",
            "Odisha",
            "Puducherry",
            "Punjab",
            "Rajasthan",
            "Tamil Nadu",
            "Telengana",
            "Unassigned",
            "Uttar Pradesh",
            "Uttarakhand",
            "West Bengal"
           ],
           "y": [
            0,
            0,
            0,
            0,
            0,
            0,
            0,
            1,
            0,
            0,
            0,
            0,
            0,
            0,
            0,
            3,
            0,
            0,
            0,
            0,
            0,
            0,
            0,
            0,
            1,
            0,
            1,
            0,
            0,
            0,
            0
           ]
          }
         ],
         "layout": {
          "title": {
           "text": "Confirmed cases - 2020-03-03"
          }
         }
        },
        {
         "data": [
          {
           "marker": {
            "color": [
             "#9370DB",
             "#F08080",
             "#2F4F4F",
             "#E6E6FA",
             "#FFE4C4",
             "#FF8C00",
             "#000000",
             "#A52A2A",
             "#A9A9A9",
             "#00FFFF",
             "#00FF00",
             "#F4A460",
             "#0000FF",
             "#8B008B",
             "#2F4F4F",
             "#1E90FF",
             "#87CEEB",
             "#3CB371",
             "#98FB98",
             "#8A2BE2",
             "#4169E1",
             "#F5DEB3",
             "#D2B48C",
             "#FF0000",
             "#F8F8FF",
             "#9400D3",
             "#FFC0CB",
             "#00FF7F",
             "#00BFFF",
             "#FFFAF0",
             "#F5F5DC",
             "#FFFACD",
             "#BDB76B"
            ]
           },
           "type": "bar",
           "x": [
            "Andaman and Nicobar Islands",
            "Andhra Pradesh",
            "Arunachal Pradesh",
            "Assam",
            "Bihar",
            "Chandigarh",
            "Chhattisgarh",
            "Delhi",
            "Goa",
            "Gujarat",
            "Haryana",
            "Himachal Pradesh",
            "Jammu and Kashmir",
            "Jharkhand",
            "Karnataka",
            "Kerala",
            "Ladakh",
            "Madhya Pradesh",
            "Maharashtra",
            "Manipur",
            "Mizoram",
            "Odisha",
            "Puducherry",
            "Punjab",
            "Rajasthan",
            "Tamil Nadu",
            "Telengana",
            "Unassigned",
            "Uttar Pradesh",
            "Uttarakhand",
            "West Bengal"
           ],
           "y": [
            0,
            0,
            0,
            0,
            0,
            0,
            0,
            1,
            0,
            0,
            2,
            0,
            0,
            0,
            0,
            3,
            0,
            0,
            0,
            0,
            0,
            0,
            0,
            0,
            15,
            0,
            1,
            0,
            6,
            0,
            0
           ]
          }
         ],
         "layout": {
          "title": {
           "text": "Confirmed cases - 2020-03-04"
          }
         }
        },
        {
         "data": [
          {
           "marker": {
            "color": [
             "#9370DB",
             "#F08080",
             "#2F4F4F",
             "#E6E6FA",
             "#FFE4C4",
             "#FF8C00",
             "#000000",
             "#A52A2A",
             "#A9A9A9",
             "#00FFFF",
             "#00FF00",
             "#F4A460",
             "#0000FF",
             "#8B008B",
             "#2F4F4F",
             "#1E90FF",
             "#87CEEB",
             "#3CB371",
             "#98FB98",
             "#8A2BE2",
             "#4169E1",
             "#F5DEB3",
             "#D2B48C",
             "#FF0000",
             "#F8F8FF",
             "#9400D3",
             "#FFC0CB",
             "#00FF7F",
             "#00BFFF",
             "#FFFAF0",
             "#F5F5DC",
             "#FFFACD",
             "#BDB76B"
            ]
           },
           "type": "bar",
           "x": [
            "Andaman and Nicobar Islands",
            "Andhra Pradesh",
            "Arunachal Pradesh",
            "Assam",
            "Bihar",
            "Chandigarh",
            "Chhattisgarh",
            "Delhi",
            "Goa",
            "Gujarat",
            "Haryana",
            "Himachal Pradesh",
            "Jammu and Kashmir",
            "Jharkhand",
            "Karnataka",
            "Kerala",
            "Ladakh",
            "Madhya Pradesh",
            "Maharashtra",
            "Manipur",
            "Mizoram",
            "Odisha",
            "Puducherry",
            "Punjab",
            "Rajasthan",
            "Tamil Nadu",
            "Telengana",
            "Unassigned",
            "Uttar Pradesh",
            "Uttarakhand",
            "West Bengal"
           ],
           "y": [
            0,
            0,
            0,
            0,
            0,
            0,
            0,
            2,
            0,
            0,
            2,
            0,
            0,
            0,
            0,
            3,
            0,
            0,
            0,
            0,
            0,
            0,
            0,
            0,
            15,
            0,
            1,
            0,
            7,
            0,
            0
           ]
          }
         ],
         "layout": {
          "title": {
           "text": "Confirmed cases - 2020-03-05"
          }
         }
        },
        {
         "data": [
          {
           "marker": {
            "color": [
             "#9370DB",
             "#F08080",
             "#2F4F4F",
             "#E6E6FA",
             "#FFE4C4",
             "#FF8C00",
             "#000000",
             "#A52A2A",
             "#A9A9A9",
             "#00FFFF",
             "#00FF00",
             "#F4A460",
             "#0000FF",
             "#8B008B",
             "#2F4F4F",
             "#1E90FF",
             "#87CEEB",
             "#3CB371",
             "#98FB98",
             "#8A2BE2",
             "#4169E1",
             "#F5DEB3",
             "#D2B48C",
             "#FF0000",
             "#F8F8FF",
             "#9400D3",
             "#FFC0CB",
             "#00FF7F",
             "#00BFFF",
             "#FFFAF0",
             "#F5F5DC",
             "#FFFACD",
             "#BDB76B"
            ]
           },
           "type": "bar",
           "x": [
            "Andaman and Nicobar Islands",
            "Andhra Pradesh",
            "Arunachal Pradesh",
            "Assam",
            "Bihar",
            "Chandigarh",
            "Chhattisgarh",
            "Delhi",
            "Goa",
            "Gujarat",
            "Haryana",
            "Himachal Pradesh",
            "Jammu and Kashmir",
            "Jharkhand",
            "Karnataka",
            "Kerala",
            "Ladakh",
            "Madhya Pradesh",
            "Maharashtra",
            "Manipur",
            "Mizoram",
            "Odisha",
            "Puducherry",
            "Punjab",
            "Rajasthan",
            "Tamil Nadu",
            "Telengana",
            "Unassigned",
            "Uttar Pradesh",
            "Uttarakhand",
            "West Bengal"
           ],
           "y": [
            0,
            0,
            0,
            0,
            0,
            0,
            0,
            3,
            0,
            0,
            2,
            0,
            0,
            0,
            0,
            3,
            0,
            0,
            0,
            0,
            0,
            0,
            0,
            0,
            15,
            0,
            1,
            0,
            7,
            0,
            0
           ]
          }
         ],
         "layout": {
          "title": {
           "text": "Confirmed cases - 2020-03-06"
          }
         }
        },
        {
         "data": [
          {
           "marker": {
            "color": [
             "#9370DB",
             "#F08080",
             "#2F4F4F",
             "#E6E6FA",
             "#FFE4C4",
             "#FF8C00",
             "#000000",
             "#A52A2A",
             "#A9A9A9",
             "#00FFFF",
             "#00FF00",
             "#F4A460",
             "#0000FF",
             "#8B008B",
             "#2F4F4F",
             "#1E90FF",
             "#87CEEB",
             "#3CB371",
             "#98FB98",
             "#8A2BE2",
             "#4169E1",
             "#F5DEB3",
             "#D2B48C",
             "#FF0000",
             "#F8F8FF",
             "#9400D3",
             "#FFC0CB",
             "#00FF7F",
             "#00BFFF",
             "#FFFAF0",
             "#F5F5DC",
             "#FFFACD",
             "#BDB76B"
            ]
           },
           "type": "bar",
           "x": [
            "Andaman and Nicobar Islands",
            "Andhra Pradesh",
            "Arunachal Pradesh",
            "Assam",
            "Bihar",
            "Chandigarh",
            "Chhattisgarh",
            "Delhi",
            "Goa",
            "Gujarat",
            "Haryana",
            "Himachal Pradesh",
            "Jammu and Kashmir",
            "Jharkhand",
            "Karnataka",
            "Kerala",
            "Ladakh",
            "Madhya Pradesh",
            "Maharashtra",
            "Manipur",
            "Mizoram",
            "Odisha",
            "Puducherry",
            "Punjab",
            "Rajasthan",
            "Tamil Nadu",
            "Telengana",
            "Unassigned",
            "Uttar Pradesh",
            "Uttarakhand",
            "West Bengal"
           ],
           "y": [
            0,
            0,
            0,
            0,
            0,
            0,
            0,
            3,
            0,
            0,
            2,
            0,
            0,
            0,
            0,
            3,
            2,
            0,
            0,
            0,
            0,
            0,
            0,
            0,
            15,
            1,
            1,
            0,
            7,
            0,
            0
           ]
          }
         ],
         "layout": {
          "title": {
           "text": "Confirmed cases - 2020-03-07"
          }
         }
        },
        {
         "data": [
          {
           "marker": {
            "color": [
             "#9370DB",
             "#F08080",
             "#2F4F4F",
             "#E6E6FA",
             "#FFE4C4",
             "#FF8C00",
             "#000000",
             "#A52A2A",
             "#A9A9A9",
             "#00FFFF",
             "#00FF00",
             "#F4A460",
             "#0000FF",
             "#8B008B",
             "#2F4F4F",
             "#1E90FF",
             "#87CEEB",
             "#3CB371",
             "#98FB98",
             "#8A2BE2",
             "#4169E1",
             "#F5DEB3",
             "#D2B48C",
             "#FF0000",
             "#F8F8FF",
             "#9400D3",
             "#FFC0CB",
             "#00FF7F",
             "#00BFFF",
             "#FFFAF0",
             "#F5F5DC",
             "#FFFACD",
             "#BDB76B"
            ]
           },
           "type": "bar",
           "x": [
            "Andaman and Nicobar Islands",
            "Andhra Pradesh",
            "Arunachal Pradesh",
            "Assam",
            "Bihar",
            "Chandigarh",
            "Chhattisgarh",
            "Delhi",
            "Goa",
            "Gujarat",
            "Haryana",
            "Himachal Pradesh",
            "Jammu and Kashmir",
            "Jharkhand",
            "Karnataka",
            "Kerala",
            "Ladakh",
            "Madhya Pradesh",
            "Maharashtra",
            "Manipur",
            "Mizoram",
            "Odisha",
            "Puducherry",
            "Punjab",
            "Rajasthan",
            "Tamil Nadu",
            "Telengana",
            "Unassigned",
            "Uttar Pradesh",
            "Uttarakhand",
            "West Bengal"
           ],
           "y": [
            0,
            0,
            0,
            0,
            0,
            0,
            0,
            3,
            0,
            0,
            2,
            0,
            0,
            0,
            0,
            8,
            2,
            0,
            0,
            0,
            0,
            0,
            0,
            0,
            15,
            1,
            1,
            0,
            7,
            0,
            0
           ]
          }
         ],
         "layout": {
          "title": {
           "text": "Confirmed cases - 2020-03-08"
          }
         }
        },
        {
         "data": [
          {
           "marker": {
            "color": [
             "#9370DB",
             "#F08080",
             "#2F4F4F",
             "#E6E6FA",
             "#FFE4C4",
             "#FF8C00",
             "#000000",
             "#A52A2A",
             "#A9A9A9",
             "#00FFFF",
             "#00FF00",
             "#F4A460",
             "#0000FF",
             "#8B008B",
             "#2F4F4F",
             "#1E90FF",
             "#87CEEB",
             "#3CB371",
             "#98FB98",
             "#8A2BE2",
             "#4169E1",
             "#F5DEB3",
             "#D2B48C",
             "#FF0000",
             "#F8F8FF",
             "#9400D3",
             "#FFC0CB",
             "#00FF7F",
             "#00BFFF",
             "#FFFAF0",
             "#F5F5DC",
             "#FFFACD",
             "#BDB76B"
            ]
           },
           "type": "bar",
           "x": [
            "Andaman and Nicobar Islands",
            "Andhra Pradesh",
            "Arunachal Pradesh",
            "Assam",
            "Bihar",
            "Chandigarh",
            "Chhattisgarh",
            "Delhi",
            "Goa",
            "Gujarat",
            "Haryana",
            "Himachal Pradesh",
            "Jammu and Kashmir",
            "Jharkhand",
            "Karnataka",
            "Kerala",
            "Ladakh",
            "Madhya Pradesh",
            "Maharashtra",
            "Manipur",
            "Mizoram",
            "Odisha",
            "Puducherry",
            "Punjab",
            "Rajasthan",
            "Tamil Nadu",
            "Telengana",
            "Unassigned",
            "Uttar Pradesh",
            "Uttarakhand",
            "West Bengal"
           ],
           "y": [
            0,
            0,
            0,
            0,
            0,
            0,
            0,
            4,
            0,
            0,
            2,
            0,
            1,
            0,
            1,
            9,
            2,
            0,
            2,
            0,
            0,
            0,
            0,
            1,
            15,
            1,
            1,
            0,
            7,
            0,
            0
           ]
          }
         ],
         "layout": {
          "title": {
           "text": "Confirmed cases - 2020-03-09"
          }
         }
        },
        {
         "data": [
          {
           "marker": {
            "color": [
             "#9370DB",
             "#F08080",
             "#2F4F4F",
             "#E6E6FA",
             "#FFE4C4",
             "#FF8C00",
             "#000000",
             "#A52A2A",
             "#A9A9A9",
             "#00FFFF",
             "#00FF00",
             "#F4A460",
             "#0000FF",
             "#8B008B",
             "#2F4F4F",
             "#1E90FF",
             "#87CEEB",
             "#3CB371",
             "#98FB98",
             "#8A2BE2",
             "#4169E1",
             "#F5DEB3",
             "#D2B48C",
             "#FF0000",
             "#F8F8FF",
             "#9400D3",
             "#FFC0CB",
             "#00FF7F",
             "#00BFFF",
             "#FFFAF0",
             "#F5F5DC",
             "#FFFACD",
             "#BDB76B"
            ]
           },
           "type": "bar",
           "x": [
            "Andaman and Nicobar Islands",
            "Andhra Pradesh",
            "Arunachal Pradesh",
            "Assam",
            "Bihar",
            "Chandigarh",
            "Chhattisgarh",
            "Delhi",
            "Goa",
            "Gujarat",
            "Haryana",
            "Himachal Pradesh",
            "Jammu and Kashmir",
            "Jharkhand",
            "Karnataka",
            "Kerala",
            "Ladakh",
            "Madhya Pradesh",
            "Maharashtra",
            "Manipur",
            "Mizoram",
            "Odisha",
            "Puducherry",
            "Punjab",
            "Rajasthan",
            "Tamil Nadu",
            "Telengana",
            "Unassigned",
            "Uttar Pradesh",
            "Uttarakhand",
            "West Bengal"
           ],
           "y": [
            0,
            0,
            0,
            0,
            0,
            0,
            0,
            4,
            0,
            0,
            2,
            0,
            1,
            0,
            4,
            15,
            2,
            0,
            5,
            0,
            0,
            0,
            0,
            1,
            15,
            1,
            1,
            0,
            7,
            0,
            0
           ]
          }
         ],
         "layout": {
          "title": {
           "text": "Confirmed cases - 2020-03-10"
          }
         }
        },
        {
         "data": [
          {
           "marker": {
            "color": [
             "#9370DB",
             "#F08080",
             "#2F4F4F",
             "#E6E6FA",
             "#FFE4C4",
             "#FF8C00",
             "#000000",
             "#A52A2A",
             "#A9A9A9",
             "#00FFFF",
             "#00FF00",
             "#F4A460",
             "#0000FF",
             "#8B008B",
             "#2F4F4F",
             "#1E90FF",
             "#87CEEB",
             "#3CB371",
             "#98FB98",
             "#8A2BE2",
             "#4169E1",
             "#F5DEB3",
             "#D2B48C",
             "#FF0000",
             "#F8F8FF",
             "#9400D3",
             "#FFC0CB",
             "#00FF7F",
             "#00BFFF",
             "#FFFAF0",
             "#F5F5DC",
             "#FFFACD",
             "#BDB76B"
            ]
           },
           "type": "bar",
           "x": [
            "Andaman and Nicobar Islands",
            "Andhra Pradesh",
            "Arunachal Pradesh",
            "Assam",
            "Bihar",
            "Chandigarh",
            "Chhattisgarh",
            "Delhi",
            "Goa",
            "Gujarat",
            "Haryana",
            "Himachal Pradesh",
            "Jammu and Kashmir",
            "Jharkhand",
            "Karnataka",
            "Kerala",
            "Ladakh",
            "Madhya Pradesh",
            "Maharashtra",
            "Manipur",
            "Mizoram",
            "Odisha",
            "Puducherry",
            "Punjab",
            "Rajasthan",
            "Tamil Nadu",
            "Telengana",
            "Unassigned",
            "Uttar Pradesh",
            "Uttarakhand",
            "West Bengal"
           ],
           "y": [
            0,
            0,
            0,
            0,
            0,
            0,
            0,
            5,
            0,
            0,
            14,
            0,
            1,
            0,
            4,
            17,
            2,
            0,
            2,
            0,
            0,
            0,
            0,
            1,
            3,
            1,
            1,
            0,
            9,
            0,
            0
           ]
          }
         ],
         "layout": {
          "title": {
           "text": "Confirmed cases - 2020-03-11"
          }
         }
        },
        {
         "data": [
          {
           "marker": {
            "color": [
             "#9370DB",
             "#F08080",
             "#2F4F4F",
             "#E6E6FA",
             "#FFE4C4",
             "#FF8C00",
             "#000000",
             "#A52A2A",
             "#A9A9A9",
             "#00FFFF",
             "#00FF00",
             "#F4A460",
             "#0000FF",
             "#8B008B",
             "#2F4F4F",
             "#1E90FF",
             "#87CEEB",
             "#3CB371",
             "#98FB98",
             "#8A2BE2",
             "#4169E1",
             "#F5DEB3",
             "#D2B48C",
             "#FF0000",
             "#F8F8FF",
             "#9400D3",
             "#FFC0CB",
             "#00FF7F",
             "#00BFFF",
             "#FFFAF0",
             "#F5F5DC",
             "#FFFACD",
             "#BDB76B"
            ]
           },
           "type": "bar",
           "x": [
            "Andaman and Nicobar Islands",
            "Andhra Pradesh",
            "Arunachal Pradesh",
            "Assam",
            "Bihar",
            "Chandigarh",
            "Chhattisgarh",
            "Delhi",
            "Goa",
            "Gujarat",
            "Haryana",
            "Himachal Pradesh",
            "Jammu and Kashmir",
            "Jharkhand",
            "Karnataka",
            "Kerala",
            "Ladakh",
            "Madhya Pradesh",
            "Maharashtra",
            "Manipur",
            "Mizoram",
            "Odisha",
            "Puducherry",
            "Punjab",
            "Rajasthan",
            "Tamil Nadu",
            "Telengana",
            "Unassigned",
            "Uttar Pradesh",
            "Uttarakhand",
            "West Bengal"
           ],
           "y": [
            0,
            1,
            0,
            0,
            0,
            0,
            0,
            6,
            0,
            0,
            14,
            0,
            1,
            0,
            4,
            17,
            3,
            0,
            11,
            0,
            0,
            0,
            0,
            1,
            3,
            1,
            1,
            0,
            11,
            0,
            0
           ]
          }
         ],
         "layout": {
          "title": {
           "text": "Confirmed cases - 2020-03-12"
          }
         }
        },
        {
         "data": [
          {
           "marker": {
            "color": [
             "#9370DB",
             "#F08080",
             "#2F4F4F",
             "#E6E6FA",
             "#FFE4C4",
             "#FF8C00",
             "#000000",
             "#A52A2A",
             "#A9A9A9",
             "#00FFFF",
             "#00FF00",
             "#F4A460",
             "#0000FF",
             "#8B008B",
             "#2F4F4F",
             "#1E90FF",
             "#87CEEB",
             "#3CB371",
             "#98FB98",
             "#8A2BE2",
             "#4169E1",
             "#F5DEB3",
             "#D2B48C",
             "#FF0000",
             "#F8F8FF",
             "#9400D3",
             "#FFC0CB",
             "#00FF7F",
             "#00BFFF",
             "#FFFAF0",
             "#F5F5DC",
             "#FFFACD",
             "#BDB76B"
            ]
           },
           "type": "bar",
           "x": [
            "Andaman and Nicobar Islands",
            "Andhra Pradesh",
            "Arunachal Pradesh",
            "Assam",
            "Bihar",
            "Chandigarh",
            "Chhattisgarh",
            "Delhi",
            "Goa",
            "Gujarat",
            "Haryana",
            "Himachal Pradesh",
            "Jammu and Kashmir",
            "Jharkhand",
            "Karnataka",
            "Kerala",
            "Ladakh",
            "Madhya Pradesh",
            "Maharashtra",
            "Manipur",
            "Mizoram",
            "Odisha",
            "Puducherry",
            "Punjab",
            "Rajasthan",
            "Tamil Nadu",
            "Telengana",
            "Unassigned",
            "Uttar Pradesh",
            "Uttarakhand",
            "West Bengal"
           ],
           "y": [
            0,
            1,
            0,
            0,
            0,
            0,
            0,
            6,
            0,
            0,
            14,
            0,
            1,
            0,
            6,
            19,
            3,
            0,
            14,
            0,
            0,
            0,
            0,
            1,
            3,
            1,
            1,
            0,
            11,
            0,
            0
           ]
          }
         ],
         "layout": {
          "title": {
           "text": "Confirmed cases - 2020-03-13"
          }
         }
        },
        {
         "data": [
          {
           "marker": {
            "color": [
             "#9370DB",
             "#F08080",
             "#2F4F4F",
             "#E6E6FA",
             "#FFE4C4",
             "#FF8C00",
             "#000000",
             "#A52A2A",
             "#A9A9A9",
             "#00FFFF",
             "#00FF00",
             "#F4A460",
             "#0000FF",
             "#8B008B",
             "#2F4F4F",
             "#1E90FF",
             "#87CEEB",
             "#3CB371",
             "#98FB98",
             "#8A2BE2",
             "#4169E1",
             "#F5DEB3",
             "#D2B48C",
             "#FF0000",
             "#F8F8FF",
             "#9400D3",
             "#FFC0CB",
             "#00FF7F",
             "#00BFFF",
             "#FFFAF0",
             "#F5F5DC",
             "#FFFACD",
             "#BDB76B"
            ]
           },
           "type": "bar",
           "x": [
            "Andaman and Nicobar Islands",
            "Andhra Pradesh",
            "Arunachal Pradesh",
            "Assam",
            "Bihar",
            "Chandigarh",
            "Chhattisgarh",
            "Delhi",
            "Goa",
            "Gujarat",
            "Haryana",
            "Himachal Pradesh",
            "Jammu and Kashmir",
            "Jharkhand",
            "Karnataka",
            "Kerala",
            "Ladakh",
            "Madhya Pradesh",
            "Maharashtra",
            "Manipur",
            "Mizoram",
            "Odisha",
            "Puducherry",
            "Punjab",
            "Rajasthan",
            "Tamil Nadu",
            "Telengana",
            "Unassigned",
            "Uttar Pradesh",
            "Uttarakhand",
            "West Bengal"
           ],
           "y": [
            0,
            1,
            0,
            0,
            0,
            0,
            0,
            7,
            0,
            0,
            14,
            0,
            2,
            0,
            6,
            19,
            3,
            0,
            14,
            0,
            0,
            0,
            0,
            1,
            3,
            1,
            1,
            0,
            12,
            0,
            0
           ]
          }
         ],
         "layout": {
          "title": {
           "text": "Confirmed cases - 2020-03-14"
          }
         }
        },
        {
         "data": [
          {
           "marker": {
            "color": [
             "#9370DB",
             "#F08080",
             "#2F4F4F",
             "#E6E6FA",
             "#FFE4C4",
             "#FF8C00",
             "#000000",
             "#A52A2A",
             "#A9A9A9",
             "#00FFFF",
             "#00FF00",
             "#F4A460",
             "#0000FF",
             "#8B008B",
             "#2F4F4F",
             "#1E90FF",
             "#87CEEB",
             "#3CB371",
             "#98FB98",
             "#8A2BE2",
             "#4169E1",
             "#F5DEB3",
             "#D2B48C",
             "#FF0000",
             "#F8F8FF",
             "#9400D3",
             "#FFC0CB",
             "#00FF7F",
             "#00BFFF",
             "#FFFAF0",
             "#F5F5DC",
             "#FFFACD",
             "#BDB76B"
            ]
           },
           "type": "bar",
           "x": [
            "Andaman and Nicobar Islands",
            "Andhra Pradesh",
            "Arunachal Pradesh",
            "Assam",
            "Bihar",
            "Chandigarh",
            "Chhattisgarh",
            "Delhi",
            "Goa",
            "Gujarat",
            "Haryana",
            "Himachal Pradesh",
            "Jammu and Kashmir",
            "Jharkhand",
            "Karnataka",
            "Kerala",
            "Ladakh",
            "Madhya Pradesh",
            "Maharashtra",
            "Manipur",
            "Mizoram",
            "Odisha",
            "Puducherry",
            "Punjab",
            "Rajasthan",
            "Tamil Nadu",
            "Telengana",
            "Unassigned",
            "Uttar Pradesh",
            "Uttarakhand",
            "West Bengal"
           ],
           "y": [
            0,
            1,
            0,
            0,
            0,
            0,
            0,
            7,
            0,
            0,
            14,
            0,
            2,
            0,
            6,
            22,
            3,
            0,
            32,
            0,
            0,
            0,
            0,
            1,
            4,
            1,
            3,
            0,
            13,
            1,
            0
           ]
          }
         ],
         "layout": {
          "title": {
           "text": "Confirmed cases - 2020-03-15"
          }
         }
        },
        {
         "data": [
          {
           "marker": {
            "color": [
             "#9370DB",
             "#F08080",
             "#2F4F4F",
             "#E6E6FA",
             "#FFE4C4",
             "#FF8C00",
             "#000000",
             "#A52A2A",
             "#A9A9A9",
             "#00FFFF",
             "#00FF00",
             "#F4A460",
             "#0000FF",
             "#8B008B",
             "#2F4F4F",
             "#1E90FF",
             "#87CEEB",
             "#3CB371",
             "#98FB98",
             "#8A2BE2",
             "#4169E1",
             "#F5DEB3",
             "#D2B48C",
             "#FF0000",
             "#F8F8FF",
             "#9400D3",
             "#FFC0CB",
             "#00FF7F",
             "#00BFFF",
             "#FFFAF0",
             "#F5F5DC",
             "#FFFACD",
             "#BDB76B"
            ]
           },
           "type": "bar",
           "x": [
            "Andaman and Nicobar Islands",
            "Andhra Pradesh",
            "Arunachal Pradesh",
            "Assam",
            "Bihar",
            "Chandigarh",
            "Chhattisgarh",
            "Delhi",
            "Goa",
            "Gujarat",
            "Haryana",
            "Himachal Pradesh",
            "Jammu and Kashmir",
            "Jharkhand",
            "Karnataka",
            "Kerala",
            "Ladakh",
            "Madhya Pradesh",
            "Maharashtra",
            "Manipur",
            "Mizoram",
            "Odisha",
            "Puducherry",
            "Punjab",
            "Rajasthan",
            "Tamil Nadu",
            "Telengana",
            "Unassigned",
            "Uttar Pradesh",
            "Uttarakhand",
            "West Bengal"
           ],
           "y": [
            0,
            1,
            0,
            0,
            0,
            0,
            0,
            7,
            0,
            0,
            14,
            0,
            3,
            0,
            6,
            23,
            4,
            0,
            32,
            0,
            0,
            1,
            0,
            1,
            4,
            1,
            3,
            0,
            13,
            1,
            0
           ]
          }
         ],
         "layout": {
          "title": {
           "text": "Confirmed cases - 2020-03-16"
          }
         }
        },
        {
         "data": [
          {
           "marker": {
            "color": [
             "#9370DB",
             "#F08080",
             "#2F4F4F",
             "#E6E6FA",
             "#FFE4C4",
             "#FF8C00",
             "#000000",
             "#A52A2A",
             "#A9A9A9",
             "#00FFFF",
             "#00FF00",
             "#F4A460",
             "#0000FF",
             "#8B008B",
             "#2F4F4F",
             "#1E90FF",
             "#87CEEB",
             "#3CB371",
             "#98FB98",
             "#8A2BE2",
             "#4169E1",
             "#F5DEB3",
             "#D2B48C",
             "#FF0000",
             "#F8F8FF",
             "#9400D3",
             "#FFC0CB",
             "#00FF7F",
             "#00BFFF",
             "#FFFAF0",
             "#F5F5DC",
             "#FFFACD",
             "#BDB76B"
            ]
           },
           "type": "bar",
           "x": [
            "Andaman and Nicobar Islands",
            "Andhra Pradesh",
            "Arunachal Pradesh",
            "Assam",
            "Bihar",
            "Chandigarh",
            "Chhattisgarh",
            "Delhi",
            "Goa",
            "Gujarat",
            "Haryana",
            "Himachal Pradesh",
            "Jammu and Kashmir",
            "Jharkhand",
            "Karnataka",
            "Kerala",
            "Ladakh",
            "Madhya Pradesh",
            "Maharashtra",
            "Manipur",
            "Mizoram",
            "Odisha",
            "Puducherry",
            "Punjab",
            "Rajasthan",
            "Tamil Nadu",
            "Telengana",
            "Unassigned",
            "Uttar Pradesh",
            "Uttarakhand",
            "West Bengal"
           ],
           "y": [
            0,
            1,
            0,
            0,
            0,
            0,
            0,
            8,
            0,
            0,
            15,
            0,
            3,
            0,
            11,
            26,
            6,
            0,
            39,
            0,
            0,
            1,
            0,
            1,
            4,
            1,
            5,
            0,
            15,
            1,
            0
           ]
          }
         ],
         "layout": {
          "title": {
           "text": "Confirmed cases - 2020-03-17"
          }
         }
        },
        {
         "data": [
          {
           "marker": {
            "color": [
             "#9370DB",
             "#F08080",
             "#2F4F4F",
             "#E6E6FA",
             "#FFE4C4",
             "#FF8C00",
             "#000000",
             "#A52A2A",
             "#A9A9A9",
             "#00FFFF",
             "#00FF00",
             "#F4A460",
             "#0000FF",
             "#8B008B",
             "#2F4F4F",
             "#1E90FF",
             "#87CEEB",
             "#3CB371",
             "#98FB98",
             "#8A2BE2",
             "#4169E1",
             "#F5DEB3",
             "#D2B48C",
             "#FF0000",
             "#F8F8FF",
             "#9400D3",
             "#FFC0CB",
             "#00FF7F",
             "#00BFFF",
             "#FFFAF0",
             "#F5F5DC",
             "#FFFACD",
             "#BDB76B"
            ]
           },
           "type": "bar",
           "x": [
            "Andaman and Nicobar Islands",
            "Andhra Pradesh",
            "Arunachal Pradesh",
            "Assam",
            "Bihar",
            "Chandigarh",
            "Chhattisgarh",
            "Delhi",
            "Goa",
            "Gujarat",
            "Haryana",
            "Himachal Pradesh",
            "Jammu and Kashmir",
            "Jharkhand",
            "Karnataka",
            "Kerala",
            "Ladakh",
            "Madhya Pradesh",
            "Maharashtra",
            "Manipur",
            "Mizoram",
            "Odisha",
            "Puducherry",
            "Punjab",
            "Rajasthan",
            "Tamil Nadu",
            "Telengana",
            "Unassigned",
            "Uttar Pradesh",
            "Uttarakhand",
            "West Bengal"
           ],
           "y": [
            0,
            1,
            0,
            0,
            0,
            0,
            0,
            10,
            0,
            0,
            17,
            0,
            3,
            0,
            11,
            27,
            8,
            0,
            42,
            0,
            0,
            1,
            1,
            1,
            4,
            1,
            6,
            0,
            16,
            1,
            1
           ]
          }
         ],
         "layout": {
          "title": {
           "text": "Confirmed cases - 2020-03-18"
          }
         }
        },
        {
         "data": [
          {
           "marker": {
            "color": [
             "#9370DB",
             "#F08080",
             "#2F4F4F",
             "#E6E6FA",
             "#FFE4C4",
             "#FF8C00",
             "#000000",
             "#A52A2A",
             "#A9A9A9",
             "#00FFFF",
             "#00FF00",
             "#F4A460",
             "#0000FF",
             "#8B008B",
             "#2F4F4F",
             "#1E90FF",
             "#87CEEB",
             "#3CB371",
             "#98FB98",
             "#8A2BE2",
             "#4169E1",
             "#F5DEB3",
             "#D2B48C",
             "#FF0000",
             "#F8F8FF",
             "#9400D3",
             "#FFC0CB",
             "#00FF7F",
             "#00BFFF",
             "#FFFAF0",
             "#F5F5DC",
             "#FFFACD",
             "#BDB76B"
            ]
           },
           "type": "bar",
           "x": [
            "Andaman and Nicobar Islands",
            "Andhra Pradesh",
            "Arunachal Pradesh",
            "Assam",
            "Bihar",
            "Chandigarh",
            "Chhattisgarh",
            "Delhi",
            "Goa",
            "Gujarat",
            "Haryana",
            "Himachal Pradesh",
            "Jammu and Kashmir",
            "Jharkhand",
            "Karnataka",
            "Kerala",
            "Ladakh",
            "Madhya Pradesh",
            "Maharashtra",
            "Manipur",
            "Mizoram",
            "Odisha",
            "Puducherry",
            "Punjab",
            "Rajasthan",
            "Tamil Nadu",
            "Telengana",
            "Unassigned",
            "Uttar Pradesh",
            "Uttarakhand",
            "West Bengal"
           ],
           "y": [
            0,
            2,
            0,
            0,
            0,
            1,
            1,
            12,
            0,
            0,
            17,
            0,
            4,
            0,
            14,
            27,
            8,
            0,
            47,
            0,
            0,
            1,
            1,
            2,
            7,
            2,
            6,
            0,
            19,
            1,
            1
           ]
          }
         ],
         "layout": {
          "title": {
           "text": "Confirmed cases - 2020-03-19"
          }
         }
        },
        {
         "data": [
          {
           "marker": {
            "color": [
             "#9370DB",
             "#F08080",
             "#2F4F4F",
             "#E6E6FA",
             "#FFE4C4",
             "#FF8C00",
             "#000000",
             "#A52A2A",
             "#A9A9A9",
             "#00FFFF",
             "#00FF00",
             "#F4A460",
             "#0000FF",
             "#8B008B",
             "#2F4F4F",
             "#1E90FF",
             "#87CEEB",
             "#3CB371",
             "#98FB98",
             "#8A2BE2",
             "#4169E1",
             "#F5DEB3",
             "#D2B48C",
             "#FF0000",
             "#F8F8FF",
             "#9400D3",
             "#FFC0CB",
             "#00FF7F",
             "#00BFFF",
             "#FFFAF0",
             "#F5F5DC",
             "#FFFACD",
             "#BDB76B"
            ]
           },
           "type": "bar",
           "x": [
            "Andaman and Nicobar Islands",
            "Andhra Pradesh",
            "Arunachal Pradesh",
            "Assam",
            "Bihar",
            "Chandigarh",
            "Chhattisgarh",
            "Delhi",
            "Goa",
            "Gujarat",
            "Haryana",
            "Himachal Pradesh",
            "Jammu and Kashmir",
            "Jharkhand",
            "Karnataka",
            "Kerala",
            "Ladakh",
            "Madhya Pradesh",
            "Maharashtra",
            "Manipur",
            "Mizoram",
            "Odisha",
            "Puducherry",
            "Punjab",
            "Rajasthan",
            "Tamil Nadu",
            "Telengana",
            "Unassigned",
            "Uttar Pradesh",
            "Uttarakhand",
            "West Bengal"
           ],
           "y": [
            0,
            3,
            0,
            0,
            0,
            1,
            1,
            17,
            0,
            5,
            17,
            0,
            4,
            0,
            15,
            28,
            10,
            0,
            52,
            0,
            0,
            2,
            1,
            2,
            17,
            3,
            17,
            0,
            23,
            3,
            2
           ]
          }
         ],
         "layout": {
          "title": {
           "text": "Confirmed cases - 2020-03-20"
          }
         }
        },
        {
         "data": [
          {
           "marker": {
            "color": [
             "#9370DB",
             "#F08080",
             "#2F4F4F",
             "#E6E6FA",
             "#FFE4C4",
             "#FF8C00",
             "#000000",
             "#A52A2A",
             "#A9A9A9",
             "#00FFFF",
             "#00FF00",
             "#F4A460",
             "#0000FF",
             "#8B008B",
             "#2F4F4F",
             "#1E90FF",
             "#87CEEB",
             "#3CB371",
             "#98FB98",
             "#8A2BE2",
             "#4169E1",
             "#F5DEB3",
             "#D2B48C",
             "#FF0000",
             "#F8F8FF",
             "#9400D3",
             "#FFC0CB",
             "#00FF7F",
             "#00BFFF",
             "#FFFAF0",
             "#F5F5DC",
             "#FFFACD",
             "#BDB76B"
            ]
           },
           "type": "bar",
           "x": [
            "Andaman and Nicobar Islands",
            "Andhra Pradesh",
            "Arunachal Pradesh",
            "Assam",
            "Bihar",
            "Chandigarh",
            "Chhattisgarh",
            "Delhi",
            "Goa",
            "Gujarat",
            "Haryana",
            "Himachal Pradesh",
            "Jammu and Kashmir",
            "Jharkhand",
            "Karnataka",
            "Kerala",
            "Ladakh",
            "Madhya Pradesh",
            "Maharashtra",
            "Manipur",
            "Mizoram",
            "Odisha",
            "Puducherry",
            "Punjab",
            "Rajasthan",
            "Tamil Nadu",
            "Telengana",
            "Unassigned",
            "Uttar Pradesh",
            "Uttarakhand",
            "West Bengal"
           ],
           "y": [
            0,
            3,
            0,
            0,
            0,
            1,
            1,
            26,
            0,
            7,
            17,
            2,
            4,
            0,
            15,
            40,
            13,
            4,
            63,
            0,
            0,
            2,
            1,
            13,
            17,
            3,
            21,
            0,
            24,
            3,
            3
           ]
          }
         ],
         "layout": {
          "title": {
           "text": "Confirmed cases - 2020-03-21"
          }
         }
        },
        {
         "data": [
          {
           "marker": {
            "color": [
             "#9370DB",
             "#F08080",
             "#2F4F4F",
             "#E6E6FA",
             "#FFE4C4",
             "#FF8C00",
             "#000000",
             "#A52A2A",
             "#A9A9A9",
             "#00FFFF",
             "#00FF00",
             "#F4A460",
             "#0000FF",
             "#8B008B",
             "#2F4F4F",
             "#1E90FF",
             "#87CEEB",
             "#3CB371",
             "#98FB98",
             "#8A2BE2",
             "#4169E1",
             "#F5DEB3",
             "#D2B48C",
             "#FF0000",
             "#F8F8FF",
             "#9400D3",
             "#FFC0CB",
             "#00FF7F",
             "#00BFFF",
             "#FFFAF0",
             "#F5F5DC",
             "#FFFACD",
             "#BDB76B"
            ]
           },
           "type": "bar",
           "x": [
            "Andaman and Nicobar Islands",
            "Andhra Pradesh",
            "Arunachal Pradesh",
            "Assam",
            "Bihar",
            "Chandigarh",
            "Chhattisgarh",
            "Delhi",
            "Goa",
            "Gujarat",
            "Haryana",
            "Himachal Pradesh",
            "Jammu and Kashmir",
            "Jharkhand",
            "Karnataka",
            "Kerala",
            "Ladakh",
            "Madhya Pradesh",
            "Maharashtra",
            "Manipur",
            "Mizoram",
            "Odisha",
            "Puducherry",
            "Punjab",
            "Rajasthan",
            "Tamil Nadu",
            "Telengana",
            "Unassigned",
            "Uttar Pradesh",
            "Uttarakhand",
            "West Bengal"
           ],
           "y": [
            0,
            5,
            0,
            0,
            2,
            5,
            1,
            29,
            0,
            18,
            21,
            2,
            4,
            0,
            26,
            52,
            13,
            4,
            67,
            0,
            0,
            2,
            1,
            21,
            24,
            7,
            22,
            0,
            27,
            3,
            4
           ]
          }
         ],
         "layout": {
          "title": {
           "text": "Confirmed cases - 2020-03-22"
          }
         }
        },
        {
         "data": [
          {
           "marker": {
            "color": [
             "#9370DB",
             "#F08080",
             "#2F4F4F",
             "#E6E6FA",
             "#FFE4C4",
             "#FF8C00",
             "#000000",
             "#A52A2A",
             "#A9A9A9",
             "#00FFFF",
             "#00FF00",
             "#F4A460",
             "#0000FF",
             "#8B008B",
             "#2F4F4F",
             "#1E90FF",
             "#87CEEB",
             "#3CB371",
             "#98FB98",
             "#8A2BE2",
             "#4169E1",
             "#F5DEB3",
             "#D2B48C",
             "#FF0000",
             "#F8F8FF",
             "#9400D3",
             "#FFC0CB",
             "#00FF7F",
             "#00BFFF",
             "#FFFAF0",
             "#F5F5DC",
             "#FFFACD",
             "#BDB76B"
            ]
           },
           "type": "bar",
           "x": [
            "Andaman and Nicobar Islands",
            "Andhra Pradesh",
            "Arunachal Pradesh",
            "Assam",
            "Bihar",
            "Chandigarh",
            "Chhattisgarh",
            "Delhi",
            "Goa",
            "Gujarat",
            "Haryana",
            "Himachal Pradesh",
            "Jammu and Kashmir",
            "Jharkhand",
            "Karnataka",
            "Kerala",
            "Ladakh",
            "Madhya Pradesh",
            "Maharashtra",
            "Manipur",
            "Mizoram",
            "Odisha",
            "Puducherry",
            "Punjab",
            "Rajasthan",
            "Tamil Nadu",
            "Telengana",
            "Unassigned",
            "Uttar Pradesh",
            "Uttarakhand",
            "West Bengal"
           ],
           "y": [
            0,
            7,
            0,
            0,
            2,
            6,
            1,
            29,
            0,
            29,
            26,
            2,
            4,
            0,
            33,
            67,
            13,
            6,
            74,
            0,
            0,
            2,
            1,
            21,
            28,
            9,
            32,
            0,
            31,
            3,
            7
           ]
          }
         ],
         "layout": {
          "title": {
           "text": "Confirmed cases - 2020-03-23"
          }
         }
        },
        {
         "data": [
          {
           "marker": {
            "color": [
             "#9370DB",
             "#F08080",
             "#2F4F4F",
             "#E6E6FA",
             "#FFE4C4",
             "#FF8C00",
             "#000000",
             "#A52A2A",
             "#A9A9A9",
             "#00FFFF",
             "#00FF00",
             "#F4A460",
             "#0000FF",
             "#8B008B",
             "#2F4F4F",
             "#1E90FF",
             "#87CEEB",
             "#3CB371",
             "#98FB98",
             "#8A2BE2",
             "#4169E1",
             "#F5DEB3",
             "#D2B48C",
             "#FF0000",
             "#F8F8FF",
             "#9400D3",
             "#FFC0CB",
             "#00FF7F",
             "#00BFFF",
             "#FFFAF0",
             "#F5F5DC",
             "#FFFACD",
             "#BDB76B"
            ]
           },
           "type": "bar",
           "x": [
            "Andaman and Nicobar Islands",
            "Andhra Pradesh",
            "Arunachal Pradesh",
            "Assam",
            "Bihar",
            "Chandigarh",
            "Chhattisgarh",
            "Delhi",
            "Goa",
            "Gujarat",
            "Haryana",
            "Himachal Pradesh",
            "Jammu and Kashmir",
            "Jharkhand",
            "Karnataka",
            "Kerala",
            "Ladakh",
            "Madhya Pradesh",
            "Maharashtra",
            "Manipur",
            "Mizoram",
            "Odisha",
            "Puducherry",
            "Punjab",
            "Rajasthan",
            "Tamil Nadu",
            "Telengana",
            "Unassigned",
            "Uttar Pradesh",
            "Uttarakhand",
            "West Bengal"
           ],
           "y": [
            0,
            8,
            0,
            0,
            3,
            7,
            1,
            30,
            0,
            33,
            28,
            3,
            4,
            0,
            37,
            95,
            13,
            7,
            89,
            1,
            0,
            2,
            1,
            29,
            32,
            15,
            35,
            0,
            33,
            4,
            9
           ]
          }
         ],
         "layout": {
          "title": {
           "text": "Confirmed cases - 2020-03-24"
          }
         }
        },
        {
         "data": [
          {
           "marker": {
            "color": [
             "#9370DB",
             "#F08080",
             "#2F4F4F",
             "#E6E6FA",
             "#FFE4C4",
             "#FF8C00",
             "#000000",
             "#A52A2A",
             "#A9A9A9",
             "#00FFFF",
             "#00FF00",
             "#F4A460",
             "#0000FF",
             "#8B008B",
             "#2F4F4F",
             "#1E90FF",
             "#87CEEB",
             "#3CB371",
             "#98FB98",
             "#8A2BE2",
             "#4169E1",
             "#F5DEB3",
             "#D2B48C",
             "#FF0000",
             "#F8F8FF",
             "#9400D3",
             "#FFC0CB",
             "#00FF7F",
             "#00BFFF",
             "#FFFAF0",
             "#F5F5DC",
             "#FFFACD",
             "#BDB76B"
            ]
           },
           "type": "bar",
           "x": [
            "Andaman and Nicobar Islands",
            "Andhra Pradesh",
            "Arunachal Pradesh",
            "Assam",
            "Bihar",
            "Chandigarh",
            "Chhattisgarh",
            "Delhi",
            "Goa",
            "Gujarat",
            "Haryana",
            "Himachal Pradesh",
            "Jammu and Kashmir",
            "Jharkhand",
            "Karnataka",
            "Kerala",
            "Ladakh",
            "Madhya Pradesh",
            "Maharashtra",
            "Manipur",
            "Mizoram",
            "Odisha",
            "Puducherry",
            "Punjab",
            "Rajasthan",
            "Tamil Nadu",
            "Telengana",
            "Unassigned",
            "Uttar Pradesh",
            "Uttarakhand",
            "West Bengal"
           ],
           "y": [
            0,
            9,
            0,
            0,
            4,
            7,
            1,
            31,
            0,
            38,
            28,
            3,
            7,
            0,
            41,
            109,
            13,
            14,
            128,
            1,
            1,
            2,
            1,
            29,
            36,
            18,
            35,
            0,
            37,
            4,
            9
           ]
          }
         ],
         "layout": {
          "title": {
           "text": "Confirmed cases - 2020-03-25"
          }
         }
        },
        {
         "data": [
          {
           "marker": {
            "color": [
             "#9370DB",
             "#F08080",
             "#2F4F4F",
             "#E6E6FA",
             "#FFE4C4",
             "#FF8C00",
             "#000000",
             "#A52A2A",
             "#A9A9A9",
             "#00FFFF",
             "#00FF00",
             "#F4A460",
             "#0000FF",
             "#8B008B",
             "#2F4F4F",
             "#1E90FF",
             "#87CEEB",
             "#3CB371",
             "#98FB98",
             "#8A2BE2",
             "#4169E1",
             "#F5DEB3",
             "#D2B48C",
             "#FF0000",
             "#F8F8FF",
             "#9400D3",
             "#FFC0CB",
             "#00FF7F",
             "#00BFFF",
             "#FFFAF0",
             "#F5F5DC",
             "#FFFACD",
             "#BDB76B"
            ]
           },
           "type": "bar",
           "x": [
            "Andaman and Nicobar Islands",
            "Andhra Pradesh",
            "Arunachal Pradesh",
            "Assam",
            "Bihar",
            "Chandigarh",
            "Chhattisgarh",
            "Delhi",
            "Goa",
            "Gujarat",
            "Haryana",
            "Himachal Pradesh",
            "Jammu and Kashmir",
            "Jharkhand",
            "Karnataka",
            "Kerala",
            "Ladakh",
            "Madhya Pradesh",
            "Maharashtra",
            "Manipur",
            "Mizoram",
            "Odisha",
            "Puducherry",
            "Punjab",
            "Rajasthan",
            "Tamil Nadu",
            "Telengana",
            "Unassigned",
            "Uttar Pradesh",
            "Uttarakhand",
            "West Bengal"
           ],
           "y": [
            1,
            11,
            0,
            0,
            6,
            7,
            6,
            36,
            3,
            43,
            30,
            3,
            13,
            0,
            55,
            118,
            13,
            20,
            124,
            1,
            1,
            2,
            1,
            33,
            41,
            26,
            44,
            0,
            41,
            5,
            10
           ]
          }
         ],
         "layout": {
          "title": {
           "text": "Confirmed cases - 2020-03-26"
          }
         }
        },
        {
         "data": [
          {
           "marker": {
            "color": [
             "#9370DB",
             "#F08080",
             "#2F4F4F",
             "#E6E6FA",
             "#FFE4C4",
             "#FF8C00",
             "#000000",
             "#A52A2A",
             "#A9A9A9",
             "#00FFFF",
             "#00FF00",
             "#F4A460",
             "#0000FF",
             "#8B008B",
             "#2F4F4F",
             "#1E90FF",
             "#87CEEB",
             "#3CB371",
             "#98FB98",
             "#8A2BE2",
             "#4169E1",
             "#F5DEB3",
             "#D2B48C",
             "#FF0000",
             "#F8F8FF",
             "#9400D3",
             "#FFC0CB",
             "#00FF7F",
             "#00BFFF",
             "#FFFAF0",
             "#F5F5DC",
             "#FFFACD",
             "#BDB76B"
            ]
           },
           "type": "bar",
           "x": [
            "Andaman and Nicobar Islands",
            "Andhra Pradesh",
            "Arunachal Pradesh",
            "Assam",
            "Bihar",
            "Chandigarh",
            "Chhattisgarh",
            "Delhi",
            "Goa",
            "Gujarat",
            "Haryana",
            "Himachal Pradesh",
            "Jammu and Kashmir",
            "Jharkhand",
            "Karnataka",
            "Kerala",
            "Ladakh",
            "Madhya Pradesh",
            "Maharashtra",
            "Manipur",
            "Mizoram",
            "Odisha",
            "Puducherry",
            "Punjab",
            "Rajasthan",
            "Tamil Nadu",
            "Telengana",
            "Unassigned",
            "Uttar Pradesh",
            "Uttarakhand",
            "West Bengal"
           ],
           "y": [
            1,
            12,
            0,
            0,
            6,
            7,
            6,
            36,
            3,
            43,
            30,
            3,
            13,
            0,
            55,
            137,
            13,
            20,
            130,
            1,
            1,
            2,
            1,
            33,
            41,
            29,
            45,
            0,
            41,
            5,
            10
           ]
          }
         ],
         "layout": {
          "title": {
           "text": "Confirmed cases - 2020-03-27"
          }
         }
        },
        {
         "data": [
          {
           "marker": {
            "color": [
             "#9370DB",
             "#F08080",
             "#2F4F4F",
             "#E6E6FA",
             "#FFE4C4",
             "#FF8C00",
             "#000000",
             "#A52A2A",
             "#A9A9A9",
             "#00FFFF",
             "#00FF00",
             "#F4A460",
             "#0000FF",
             "#8B008B",
             "#2F4F4F",
             "#1E90FF",
             "#87CEEB",
             "#3CB371",
             "#98FB98",
             "#8A2BE2",
             "#4169E1",
             "#F5DEB3",
             "#D2B48C",
             "#FF0000",
             "#F8F8FF",
             "#9400D3",
             "#FFC0CB",
             "#00FF7F",
             "#00BFFF",
             "#FFFAF0",
             "#F5F5DC",
             "#FFFACD",
             "#BDB76B"
            ]
           },
           "type": "bar",
           "x": [
            "Andaman and Nicobar Islands",
            "Andhra Pradesh",
            "Arunachal Pradesh",
            "Assam",
            "Bihar",
            "Chandigarh",
            "Chhattisgarh",
            "Delhi",
            "Goa",
            "Gujarat",
            "Haryana",
            "Himachal Pradesh",
            "Jammu and Kashmir",
            "Jharkhand",
            "Karnataka",
            "Kerala",
            "Ladakh",
            "Madhya Pradesh",
            "Maharashtra",
            "Manipur",
            "Mizoram",
            "Odisha",
            "Puducherry",
            "Punjab",
            "Rajasthan",
            "Tamil Nadu",
            "Telengana",
            "Unassigned",
            "Uttar Pradesh",
            "Uttarakhand",
            "West Bengal"
           ],
           "y": [
            6,
            14,
            0,
            0,
            9,
            8,
            6,
            39,
            3,
            45,
            33,
            3,
            20,
            0,
            55,
            176,
            13,
            30,
            180,
            1,
            1,
            3,
            1,
            38,
            54,
            40,
            56,
            0,
            55,
            5,
            15
           ]
          }
         ],
         "layout": {
          "title": {
           "text": "Confirmed cases - 2020-03-28"
          }
         }
        },
        {
         "data": [
          {
           "marker": {
            "color": [
             "#9370DB",
             "#F08080",
             "#2F4F4F",
             "#E6E6FA",
             "#FFE4C4",
             "#FF8C00",
             "#000000",
             "#A52A2A",
             "#A9A9A9",
             "#00FFFF",
             "#00FF00",
             "#F4A460",
             "#0000FF",
             "#8B008B",
             "#2F4F4F",
             "#1E90FF",
             "#87CEEB",
             "#3CB371",
             "#98FB98",
             "#8A2BE2",
             "#4169E1",
             "#F5DEB3",
             "#D2B48C",
             "#FF0000",
             "#F8F8FF",
             "#9400D3",
             "#FFC0CB",
             "#00FF7F",
             "#00BFFF",
             "#FFFAF0",
             "#F5F5DC",
             "#FFFACD",
             "#BDB76B"
            ]
           },
           "type": "bar",
           "x": [
            "Andaman and Nicobar Islands",
            "Andhra Pradesh",
            "Arunachal Pradesh",
            "Assam",
            "Bihar",
            "Chandigarh",
            "Chhattisgarh",
            "Delhi",
            "Goa",
            "Gujarat",
            "Haryana",
            "Himachal Pradesh",
            "Jammu and Kashmir",
            "Jharkhand",
            "Karnataka",
            "Kerala",
            "Ladakh",
            "Madhya Pradesh",
            "Maharashtra",
            "Manipur",
            "Mizoram",
            "Odisha",
            "Puducherry",
            "Punjab",
            "Rajasthan",
            "Tamil Nadu",
            "Telengana",
            "Unassigned",
            "Uttar Pradesh",
            "Uttarakhand",
            "West Bengal"
           ],
           "y": [
            9,
            19,
            0,
            0,
            11,
            8,
            7,
            49,
            5,
            58,
            33,
            3,
            31,
            0,
            76,
            182,
            13,
            30,
            186,
            1,
            1,
            3,
            1,
            38,
            55,
            49,
            66,
            0,
            65,
            7,
            18
           ]
          }
         ],
         "layout": {
          "title": {
           "text": "Confirmed cases - 2020-03-29"
          }
         }
        },
        {
         "data": [
          {
           "marker": {
            "color": [
             "#9370DB",
             "#F08080",
             "#2F4F4F",
             "#E6E6FA",
             "#FFE4C4",
             "#FF8C00",
             "#000000",
             "#A52A2A",
             "#A9A9A9",
             "#00FFFF",
             "#00FF00",
             "#F4A460",
             "#0000FF",
             "#8B008B",
             "#2F4F4F",
             "#1E90FF",
             "#87CEEB",
             "#3CB371",
             "#98FB98",
             "#8A2BE2",
             "#4169E1",
             "#F5DEB3",
             "#D2B48C",
             "#FF0000",
             "#F8F8FF",
             "#9400D3",
             "#FFC0CB",
             "#00FF7F",
             "#00BFFF",
             "#FFFAF0",
             "#F5F5DC",
             "#FFFACD",
             "#BDB76B"
            ]
           },
           "type": "bar",
           "x": [
            "Andaman and Nicobar Islands",
            "Andhra Pradesh",
            "Arunachal Pradesh",
            "Assam",
            "Bihar",
            "Chandigarh",
            "Chhattisgarh",
            "Delhi",
            "Goa",
            "Gujarat",
            "Haryana",
            "Himachal Pradesh",
            "Jammu and Kashmir",
            "Jharkhand",
            "Karnataka",
            "Kerala",
            "Ladakh",
            "Madhya Pradesh",
            "Maharashtra",
            "Manipur",
            "Mizoram",
            "Odisha",
            "Puducherry",
            "Punjab",
            "Rajasthan",
            "Tamil Nadu",
            "Telengana",
            "Unassigned",
            "Uttar Pradesh",
            "Uttarakhand",
            "West Bengal"
           ],
           "y": [
            9,
            23,
            0,
            0,
            15,
            8,
            7,
            87,
            5,
            69,
            36,
            3,
            48,
            0,
            83,
            202,
            13,
            47,
            198,
            1,
            1,
            3,
            1,
            38,
            59,
            67,
            71,
            46,
            82,
            7,
            22
           ]
          }
         ],
         "layout": {
          "title": {
           "text": "Confirmed cases - 2020-03-30"
          }
         }
        },
        {
         "data": [
          {
           "marker": {
            "color": [
             "#9370DB",
             "#F08080",
             "#2F4F4F",
             "#E6E6FA",
             "#FFE4C4",
             "#FF8C00",
             "#000000",
             "#A52A2A",
             "#A9A9A9",
             "#00FFFF",
             "#00FF00",
             "#F4A460",
             "#0000FF",
             "#8B008B",
             "#2F4F4F",
             "#1E90FF",
             "#87CEEB",
             "#3CB371",
             "#98FB98",
             "#8A2BE2",
             "#4169E1",
             "#F5DEB3",
             "#D2B48C",
             "#FF0000",
             "#F8F8FF",
             "#9400D3",
             "#FFC0CB",
             "#00FF7F",
             "#00BFFF",
             "#FFFAF0",
             "#F5F5DC",
             "#FFFACD",
             "#BDB76B"
            ]
           },
           "type": "bar",
           "x": [
            "Andaman and Nicobar Islands",
            "Andhra Pradesh",
            "Arunachal Pradesh",
            "Assam",
            "Bihar",
            "Chandigarh",
            "Chhattisgarh",
            "Delhi",
            "Goa",
            "Gujarat",
            "Haryana",
            "Himachal Pradesh",
            "Jammu and Kashmir",
            "Jharkhand",
            "Karnataka",
            "Kerala",
            "Ladakh",
            "Madhya Pradesh",
            "Maharashtra",
            "Manipur",
            "Mizoram",
            "Odisha",
            "Puducherry",
            "Punjab",
            "Rajasthan",
            "Tamil Nadu",
            "Telengana",
            "Unassigned",
            "Uttar Pradesh",
            "Uttarakhand",
            "West Bengal"
           ],
           "y": [
            10,
            40,
            0,
            0,
            15,
            13,
            8,
            97,
            5,
            73,
            40,
            3,
            54,
            0,
            83,
            234,
            13,
            47,
            216,
            1,
            1,
            3,
            1,
            41,
            74,
            74,
            79,
            38,
            101,
            7,
            26
           ]
          }
         ],
         "layout": {
          "title": {
           "text": "Confirmed cases - 2020-03-31"
          }
         }
        },
        {
         "data": [
          {
           "marker": {
            "color": [
             "#9370DB",
             "#F08080",
             "#2F4F4F",
             "#E6E6FA",
             "#FFE4C4",
             "#FF8C00",
             "#000000",
             "#A52A2A",
             "#A9A9A9",
             "#00FFFF",
             "#00FF00",
             "#F4A460",
             "#0000FF",
             "#8B008B",
             "#2F4F4F",
             "#1E90FF",
             "#87CEEB",
             "#3CB371",
             "#98FB98",
             "#8A2BE2",
             "#4169E1",
             "#F5DEB3",
             "#D2B48C",
             "#FF0000",
             "#F8F8FF",
             "#9400D3",
             "#FFC0CB",
             "#00FF7F",
             "#00BFFF",
             "#FFFAF0",
             "#F5F5DC",
             "#FFFACD",
             "#BDB76B"
            ]
           },
           "type": "bar",
           "x": [
            "Andaman and Nicobar Islands",
            "Andhra Pradesh",
            "Arunachal Pradesh",
            "Assam",
            "Bihar",
            "Chandigarh",
            "Chhattisgarh",
            "Delhi",
            "Goa",
            "Gujarat",
            "Haryana",
            "Himachal Pradesh",
            "Jammu and Kashmir",
            "Jharkhand",
            "Karnataka",
            "Kerala",
            "Ladakh",
            "Madhya Pradesh",
            "Maharashtra",
            "Manipur",
            "Mizoram",
            "Odisha",
            "Puducherry",
            "Punjab",
            "Rajasthan",
            "Tamil Nadu",
            "Telengana",
            "Unassigned",
            "Uttar Pradesh",
            "Uttarakhand",
            "West Bengal"
           ],
           "y": [
            10,
            83,
            0,
            1,
            23,
            16,
            9,
            152,
            5,
            82,
            43,
            3,
            62,
            1,
            101,
            241,
            13,
            66,
            302,
            1,
            1,
            4,
            3,
            42,
            93,
            234,
            96,
            0,
            103,
            7,
            37
           ]
          }
         ],
         "layout": {
          "title": {
           "text": "Confirmed cases - 2020-04-01"
          }
         }
        },
        {
         "data": [
          {
           "marker": {
            "color": [
             "#9370DB",
             "#F08080",
             "#2F4F4F",
             "#E6E6FA",
             "#FFE4C4",
             "#FF8C00",
             "#000000",
             "#A52A2A",
             "#A9A9A9",
             "#00FFFF",
             "#00FF00",
             "#F4A460",
             "#0000FF",
             "#8B008B",
             "#2F4F4F",
             "#1E90FF",
             "#87CEEB",
             "#3CB371",
             "#98FB98",
             "#8A2BE2",
             "#4169E1",
             "#F5DEB3",
             "#D2B48C",
             "#FF0000",
             "#F8F8FF",
             "#9400D3",
             "#FFC0CB",
             "#00FF7F",
             "#00BFFF",
             "#FFFAF0",
             "#F5F5DC",
             "#FFFACD",
             "#BDB76B"
            ]
           },
           "type": "bar",
           "x": [
            "Andaman and Nicobar Islands",
            "Andhra Pradesh",
            "Arunachal Pradesh",
            "Assam",
            "Bihar",
            "Chandigarh",
            "Chhattisgarh",
            "Delhi",
            "Goa",
            "Gujarat",
            "Haryana",
            "Himachal Pradesh",
            "Jammu and Kashmir",
            "Jharkhand",
            "Karnataka",
            "Kerala",
            "Ladakh",
            "Madhya Pradesh",
            "Maharashtra",
            "Manipur",
            "Mizoram",
            "Odisha",
            "Puducherry",
            "Punjab",
            "Rajasthan",
            "Tamil Nadu",
            "Telengana",
            "Unassigned",
            "Uttar Pradesh",
            "Uttarakhand",
            "West Bengal"
           ],
           "y": [
            10,
            86,
            0,
            5,
            24,
            16,
            9,
            219,
            5,
            87,
            43,
            3,
            62,
            1,
            110,
            265,
            13,
            99,
            335,
            1,
            1,
            4,
            3,
            46,
            108,
            234,
            107,
            0,
            113,
            7,
            53
           ]
          }
         ],
         "layout": {
          "title": {
           "text": "Confirmed cases - 2020-04-02"
          }
         }
        },
        {
         "data": [
          {
           "marker": {
            "color": [
             "#9370DB",
             "#F08080",
             "#2F4F4F",
             "#E6E6FA",
             "#FFE4C4",
             "#FF8C00",
             "#000000",
             "#A52A2A",
             "#A9A9A9",
             "#00FFFF",
             "#00FF00",
             "#F4A460",
             "#0000FF",
             "#8B008B",
             "#2F4F4F",
             "#1E90FF",
             "#87CEEB",
             "#3CB371",
             "#98FB98",
             "#8A2BE2",
             "#4169E1",
             "#F5DEB3",
             "#D2B48C",
             "#FF0000",
             "#F8F8FF",
             "#9400D3",
             "#FFC0CB",
             "#00FF7F",
             "#00BFFF",
             "#FFFAF0",
             "#F5F5DC",
             "#FFFACD",
             "#BDB76B"
            ]
           },
           "type": "bar",
           "x": [
            "Andaman and Nicobar Islands",
            "Andhra Pradesh",
            "Arunachal Pradesh",
            "Assam",
            "Bihar",
            "Chandigarh",
            "Chhattisgarh",
            "Delhi",
            "Goa",
            "Gujarat",
            "Haryana",
            "Himachal Pradesh",
            "Jammu and Kashmir",
            "Jharkhand",
            "Karnataka",
            "Kerala",
            "Ladakh",
            "Madhya Pradesh",
            "Maharashtra",
            "Manipur",
            "Mizoram",
            "Odisha",
            "Puducherry",
            "Punjab",
            "Rajasthan",
            "Tamil Nadu",
            "Telengana",
            "Unassigned",
            "Uttar Pradesh",
            "Uttarakhand",
            "West Bengal"
           ],
           "y": [
            10,
            132,
            1,
            16,
            29,
            18,
            9,
            219,
            6,
            95,
            49,
            6,
            75,
            2,
            124,
            286,
            14,
            104,
            335,
            2,
            1,
            5,
            5,
            48,
            167,
            309,
            158,
            77,
            172,
            10,
            63
           ]
          }
         ],
         "layout": {
          "title": {
           "text": "Confirmed cases - 2020-04-03"
          }
         }
        },
        {
         "data": [
          {
           "marker": {
            "color": [
             "#9370DB",
             "#F08080",
             "#2F4F4F",
             "#E6E6FA",
             "#FFE4C4",
             "#FF8C00",
             "#000000",
             "#A52A2A",
             "#A9A9A9",
             "#00FFFF",
             "#00FF00",
             "#F4A460",
             "#0000FF",
             "#8B008B",
             "#2F4F4F",
             "#1E90FF",
             "#87CEEB",
             "#3CB371",
             "#98FB98",
             "#8A2BE2",
             "#4169E1",
             "#F5DEB3",
             "#D2B48C",
             "#FF0000",
             "#F8F8FF",
             "#9400D3",
             "#FFC0CB",
             "#00FF7F",
             "#00BFFF",
             "#FFFAF0",
             "#F5F5DC",
             "#FFFACD",
             "#BDB76B"
            ]
           },
           "type": "bar",
           "x": [
            "Andaman and Nicobar Islands",
            "Andhra Pradesh",
            "Arunachal Pradesh",
            "Assam",
            "Bihar",
            "Chandigarh",
            "Chhattisgarh",
            "Delhi",
            "Goa",
            "Gujarat",
            "Haryana",
            "Himachal Pradesh",
            "Jammu and Kashmir",
            "Jharkhand",
            "Karnataka",
            "Kerala",
            "Ladakh",
            "Madhya Pradesh",
            "Maharashtra",
            "Manipur",
            "Mizoram",
            "Odisha",
            "Puducherry",
            "Punjab",
            "Rajasthan",
            "Tamil Nadu",
            "Telengana",
            "Unassigned",
            "Uttar Pradesh",
            "Uttarakhand",
            "West Bengal"
           ],
           "y": [
            10,
            161,
            1,
            24,
            30,
            18,
            9,
            445,
            7,
            105,
            49,
            6,
            75,
            2,
            128,
            295,
            14,
            104,
            490,
            2,
            1,
            5,
            5,
            57,
            200,
            411,
            159,
            0,
            174,
            16,
            69
           ]
          }
         ],
         "layout": {
          "title": {
           "text": "Confirmed cases - 2020-04-04"
          }
         }
        },
        {
         "data": [
          {
           "marker": {
            "color": [
             "#9370DB",
             "#F08080",
             "#2F4F4F",
             "#E6E6FA",
             "#FFE4C4",
             "#FF8C00",
             "#000000",
             "#A52A2A",
             "#A9A9A9",
             "#00FFFF",
             "#00FF00",
             "#F4A460",
             "#0000FF",
             "#8B008B",
             "#2F4F4F",
             "#1E90FF",
             "#87CEEB",
             "#3CB371",
             "#98FB98",
             "#8A2BE2",
             "#4169E1",
             "#F5DEB3",
             "#D2B48C",
             "#FF0000",
             "#F8F8FF",
             "#9400D3",
             "#FFC0CB",
             "#00FF7F",
             "#00BFFF",
             "#FFFAF0",
             "#F5F5DC",
             "#FFFACD",
             "#BDB76B"
            ]
           },
           "type": "bar",
           "x": [
            "Andaman and Nicobar Islands",
            "Andhra Pradesh",
            "Arunachal Pradesh",
            "Assam",
            "Bihar",
            "Chandigarh",
            "Chhattisgarh",
            "Delhi",
            "Goa",
            "Gujarat",
            "Haryana",
            "Himachal Pradesh",
            "Jammu and Kashmir",
            "Jharkhand",
            "Karnataka",
            "Kerala",
            "Ladakh",
            "Madhya Pradesh",
            "Maharashtra",
            "Manipur",
            "Mizoram",
            "Odisha",
            "Puducherry",
            "Punjab",
            "Rajasthan",
            "Tamil Nadu",
            "Telengana",
            "Unassigned",
            "Uttar Pradesh",
            "Uttarakhand",
            "West Bengal"
           ],
           "y": [
            10,
            161,
            1,
            24,
            30,
            18,
            9,
            445,
            7,
            105,
            49,
            6,
            92,
            2,
            144,
            306,
            14,
            104,
            490,
            2,
            1,
            20,
            5,
            57,
            200,
            485,
            269,
            0,
            227,
            22,
            69
           ]
          }
         ],
         "layout": {
          "title": {
           "text": "Confirmed cases - 2020-04-05"
          }
         }
        }
       ],
       "layout": {
        "height": 750,
        "template": {
         "data": {
          "bar": [
           {
            "error_x": {
             "color": "#2a3f5f"
            },
            "error_y": {
             "color": "#2a3f5f"
            },
            "marker": {
             "line": {
              "color": "#E5ECF6",
              "width": 0.5
             }
            },
            "type": "bar"
           }
          ],
          "barpolar": [
           {
            "marker": {
             "line": {
              "color": "#E5ECF6",
              "width": 0.5
             }
            },
            "type": "barpolar"
           }
          ],
          "carpet": [
           {
            "aaxis": {
             "endlinecolor": "#2a3f5f",
             "gridcolor": "white",
             "linecolor": "white",
             "minorgridcolor": "white",
             "startlinecolor": "#2a3f5f"
            },
            "baxis": {
             "endlinecolor": "#2a3f5f",
             "gridcolor": "white",
             "linecolor": "white",
             "minorgridcolor": "white",
             "startlinecolor": "#2a3f5f"
            },
            "type": "carpet"
           }
          ],
          "choropleth": [
           {
            "colorbar": {
             "outlinewidth": 0,
             "ticks": ""
            },
            "type": "choropleth"
           }
          ],
          "contour": [
           {
            "colorbar": {
             "outlinewidth": 0,
             "ticks": ""
            },
            "colorscale": [
             [
              0,
              "#0d0887"
             ],
             [
              0.1111111111111111,
              "#46039f"
             ],
             [
              0.2222222222222222,
              "#7201a8"
             ],
             [
              0.3333333333333333,
              "#9c179e"
             ],
             [
              0.4444444444444444,
              "#bd3786"
             ],
             [
              0.5555555555555556,
              "#d8576b"
             ],
             [
              0.6666666666666666,
              "#ed7953"
             ],
             [
              0.7777777777777778,
              "#fb9f3a"
             ],
             [
              0.8888888888888888,
              "#fdca26"
             ],
             [
              1,
              "#f0f921"
             ]
            ],
            "type": "contour"
           }
          ],
          "contourcarpet": [
           {
            "colorbar": {
             "outlinewidth": 0,
             "ticks": ""
            },
            "type": "contourcarpet"
           }
          ],
          "heatmap": [
           {
            "colorbar": {
             "outlinewidth": 0,
             "ticks": ""
            },
            "colorscale": [
             [
              0,
              "#0d0887"
             ],
             [
              0.1111111111111111,
              "#46039f"
             ],
             [
              0.2222222222222222,
              "#7201a8"
             ],
             [
              0.3333333333333333,
              "#9c179e"
             ],
             [
              0.4444444444444444,
              "#bd3786"
             ],
             [
              0.5555555555555556,
              "#d8576b"
             ],
             [
              0.6666666666666666,
              "#ed7953"
             ],
             [
              0.7777777777777778,
              "#fb9f3a"
             ],
             [
              0.8888888888888888,
              "#fdca26"
             ],
             [
              1,
              "#f0f921"
             ]
            ],
            "type": "heatmap"
           }
          ],
          "heatmapgl": [
           {
            "colorbar": {
             "outlinewidth": 0,
             "ticks": ""
            },
            "colorscale": [
             [
              0,
              "#0d0887"
             ],
             [
              0.1111111111111111,
              "#46039f"
             ],
             [
              0.2222222222222222,
              "#7201a8"
             ],
             [
              0.3333333333333333,
              "#9c179e"
             ],
             [
              0.4444444444444444,
              "#bd3786"
             ],
             [
              0.5555555555555556,
              "#d8576b"
             ],
             [
              0.6666666666666666,
              "#ed7953"
             ],
             [
              0.7777777777777778,
              "#fb9f3a"
             ],
             [
              0.8888888888888888,
              "#fdca26"
             ],
             [
              1,
              "#f0f921"
             ]
            ],
            "type": "heatmapgl"
           }
          ],
          "histogram": [
           {
            "marker": {
             "colorbar": {
              "outlinewidth": 0,
              "ticks": ""
             }
            },
            "type": "histogram"
           }
          ],
          "histogram2d": [
           {
            "colorbar": {
             "outlinewidth": 0,
             "ticks": ""
            },
            "colorscale": [
             [
              0,
              "#0d0887"
             ],
             [
              0.1111111111111111,
              "#46039f"
             ],
             [
              0.2222222222222222,
              "#7201a8"
             ],
             [
              0.3333333333333333,
              "#9c179e"
             ],
             [
              0.4444444444444444,
              "#bd3786"
             ],
             [
              0.5555555555555556,
              "#d8576b"
             ],
             [
              0.6666666666666666,
              "#ed7953"
             ],
             [
              0.7777777777777778,
              "#fb9f3a"
             ],
             [
              0.8888888888888888,
              "#fdca26"
             ],
             [
              1,
              "#f0f921"
             ]
            ],
            "type": "histogram2d"
           }
          ],
          "histogram2dcontour": [
           {
            "colorbar": {
             "outlinewidth": 0,
             "ticks": ""
            },
            "colorscale": [
             [
              0,
              "#0d0887"
             ],
             [
              0.1111111111111111,
              "#46039f"
             ],
             [
              0.2222222222222222,
              "#7201a8"
             ],
             [
              0.3333333333333333,
              "#9c179e"
             ],
             [
              0.4444444444444444,
              "#bd3786"
             ],
             [
              0.5555555555555556,
              "#d8576b"
             ],
             [
              0.6666666666666666,
              "#ed7953"
             ],
             [
              0.7777777777777778,
              "#fb9f3a"
             ],
             [
              0.8888888888888888,
              "#fdca26"
             ],
             [
              1,
              "#f0f921"
             ]
            ],
            "type": "histogram2dcontour"
           }
          ],
          "mesh3d": [
           {
            "colorbar": {
             "outlinewidth": 0,
             "ticks": ""
            },
            "type": "mesh3d"
           }
          ],
          "parcoords": [
           {
            "line": {
             "colorbar": {
              "outlinewidth": 0,
              "ticks": ""
             }
            },
            "type": "parcoords"
           }
          ],
          "pie": [
           {
            "automargin": true,
            "type": "pie"
           }
          ],
          "scatter": [
           {
            "marker": {
             "colorbar": {
              "outlinewidth": 0,
              "ticks": ""
             }
            },
            "type": "scatter"
           }
          ],
          "scatter3d": [
           {
            "line": {
             "colorbar": {
              "outlinewidth": 0,
              "ticks": ""
             }
            },
            "marker": {
             "colorbar": {
              "outlinewidth": 0,
              "ticks": ""
             }
            },
            "type": "scatter3d"
           }
          ],
          "scattercarpet": [
           {
            "marker": {
             "colorbar": {
              "outlinewidth": 0,
              "ticks": ""
             }
            },
            "type": "scattercarpet"
           }
          ],
          "scattergeo": [
           {
            "marker": {
             "colorbar": {
              "outlinewidth": 0,
              "ticks": ""
             }
            },
            "type": "scattergeo"
           }
          ],
          "scattergl": [
           {
            "marker": {
             "colorbar": {
              "outlinewidth": 0,
              "ticks": ""
             }
            },
            "type": "scattergl"
           }
          ],
          "scattermapbox": [
           {
            "marker": {
             "colorbar": {
              "outlinewidth": 0,
              "ticks": ""
             }
            },
            "type": "scattermapbox"
           }
          ],
          "scatterpolar": [
           {
            "marker": {
             "colorbar": {
              "outlinewidth": 0,
              "ticks": ""
             }
            },
            "type": "scatterpolar"
           }
          ],
          "scatterpolargl": [
           {
            "marker": {
             "colorbar": {
              "outlinewidth": 0,
              "ticks": ""
             }
            },
            "type": "scatterpolargl"
           }
          ],
          "scatterternary": [
           {
            "marker": {
             "colorbar": {
              "outlinewidth": 0,
              "ticks": ""
             }
            },
            "type": "scatterternary"
           }
          ],
          "surface": [
           {
            "colorbar": {
             "outlinewidth": 0,
             "ticks": ""
            },
            "colorscale": [
             [
              0,
              "#0d0887"
             ],
             [
              0.1111111111111111,
              "#46039f"
             ],
             [
              0.2222222222222222,
              "#7201a8"
             ],
             [
              0.3333333333333333,
              "#9c179e"
             ],
             [
              0.4444444444444444,
              "#bd3786"
             ],
             [
              0.5555555555555556,
              "#d8576b"
             ],
             [
              0.6666666666666666,
              "#ed7953"
             ],
             [
              0.7777777777777778,
              "#fb9f3a"
             ],
             [
              0.8888888888888888,
              "#fdca26"
             ],
             [
              1,
              "#f0f921"
             ]
            ],
            "type": "surface"
           }
          ],
          "table": [
           {
            "cells": {
             "fill": {
              "color": "#EBF0F8"
             },
             "line": {
              "color": "white"
             }
            },
            "header": {
             "fill": {
              "color": "#C8D4E3"
             },
             "line": {
              "color": "white"
             }
            },
            "type": "table"
           }
          ]
         },
         "layout": {
          "annotationdefaults": {
           "arrowcolor": "#2a3f5f",
           "arrowhead": 0,
           "arrowwidth": 1
          },
          "coloraxis": {
           "colorbar": {
            "outlinewidth": 0,
            "ticks": ""
           }
          },
          "colorscale": {
           "diverging": [
            [
             0,
             "#8e0152"
            ],
            [
             0.1,
             "#c51b7d"
            ],
            [
             0.2,
             "#de77ae"
            ],
            [
             0.3,
             "#f1b6da"
            ],
            [
             0.4,
             "#fde0ef"
            ],
            [
             0.5,
             "#f7f7f7"
            ],
            [
             0.6,
             "#e6f5d0"
            ],
            [
             0.7,
             "#b8e186"
            ],
            [
             0.8,
             "#7fbc41"
            ],
            [
             0.9,
             "#4d9221"
            ],
            [
             1,
             "#276419"
            ]
           ],
           "sequential": [
            [
             0,
             "#0d0887"
            ],
            [
             0.1111111111111111,
             "#46039f"
            ],
            [
             0.2222222222222222,
             "#7201a8"
            ],
            [
             0.3333333333333333,
             "#9c179e"
            ],
            [
             0.4444444444444444,
             "#bd3786"
            ],
            [
             0.5555555555555556,
             "#d8576b"
            ],
            [
             0.6666666666666666,
             "#ed7953"
            ],
            [
             0.7777777777777778,
             "#fb9f3a"
            ],
            [
             0.8888888888888888,
             "#fdca26"
            ],
            [
             1,
             "#f0f921"
            ]
           ],
           "sequentialminus": [
            [
             0,
             "#0d0887"
            ],
            [
             0.1111111111111111,
             "#46039f"
            ],
            [
             0.2222222222222222,
             "#7201a8"
            ],
            [
             0.3333333333333333,
             "#9c179e"
            ],
            [
             0.4444444444444444,
             "#bd3786"
            ],
            [
             0.5555555555555556,
             "#d8576b"
            ],
            [
             0.6666666666666666,
             "#ed7953"
            ],
            [
             0.7777777777777778,
             "#fb9f3a"
            ],
            [
             0.8888888888888888,
             "#fdca26"
            ],
            [
             1,
             "#f0f921"
            ]
           ]
          },
          "colorway": [
           "#636efa",
           "#EF553B",
           "#00cc96",
           "#ab63fa",
           "#FFA15A",
           "#19d3f3",
           "#FF6692",
           "#B6E880",
           "#FF97FF",
           "#FECB52"
          ],
          "font": {
           "color": "#2a3f5f"
          },
          "geo": {
           "bgcolor": "white",
           "lakecolor": "white",
           "landcolor": "#E5ECF6",
           "showlakes": true,
           "showland": true,
           "subunitcolor": "white"
          },
          "hoverlabel": {
           "align": "left"
          },
          "hovermode": "closest",
          "mapbox": {
           "style": "light"
          },
          "paper_bgcolor": "white",
          "plot_bgcolor": "#E5ECF6",
          "polar": {
           "angularaxis": {
            "gridcolor": "white",
            "linecolor": "white",
            "ticks": ""
           },
           "bgcolor": "#E5ECF6",
           "radialaxis": {
            "gridcolor": "white",
            "linecolor": "white",
            "ticks": ""
           }
          },
          "scene": {
           "xaxis": {
            "backgroundcolor": "#E5ECF6",
            "gridcolor": "white",
            "gridwidth": 2,
            "linecolor": "white",
            "showbackground": true,
            "ticks": "",
            "zerolinecolor": "white"
           },
           "yaxis": {
            "backgroundcolor": "#E5ECF6",
            "gridcolor": "white",
            "gridwidth": 2,
            "linecolor": "white",
            "showbackground": true,
            "ticks": "",
            "zerolinecolor": "white"
           },
           "zaxis": {
            "backgroundcolor": "#E5ECF6",
            "gridcolor": "white",
            "gridwidth": 2,
            "linecolor": "white",
            "showbackground": true,
            "ticks": "",
            "zerolinecolor": "white"
           }
          },
          "shapedefaults": {
           "line": {
            "color": "#2a3f5f"
           }
          },
          "ternary": {
           "aaxis": {
            "gridcolor": "white",
            "linecolor": "white",
            "ticks": ""
           },
           "baxis": {
            "gridcolor": "white",
            "linecolor": "white",
            "ticks": ""
           },
           "bgcolor": "#E5ECF6",
           "caxis": {
            "gridcolor": "white",
            "linecolor": "white",
            "ticks": ""
           }
          },
          "title": {
           "x": 0.05
          },
          "xaxis": {
           "automargin": true,
           "gridcolor": "white",
           "linecolor": "white",
           "ticks": "",
           "title": {
            "standoff": 15
           },
           "zerolinecolor": "white",
           "zerolinewidth": 2
          },
          "yaxis": {
           "automargin": true,
           "gridcolor": "white",
           "linecolor": "white",
           "ticks": "",
           "title": {
            "standoff": 15
           },
           "zerolinecolor": "white",
           "zerolinewidth": 2
          }
         }
        },
        "title": {
         "text": "Confirmed cases"
        },
        "updatemenus": [
         {
          "buttons": [
           {
            "args": [
             null
            ],
            "label": "Play",
            "method": "animate"
           }
          ],
          "type": "buttons"
         }
        ],
        "width": 1000,
        "xaxis": {
         "title": {
          "text": "State"
         },
         "type": "category"
        },
        "yaxis": {
         "autorange": false,
         "range": [
          0,
          500
         ],
         "title": {
          "text": "Count"
         }
        }
       }
      },
      "text/html": [
       "<div>\n",
       "        \n",
       "        \n",
       "            <div id=\"d01480a8-8d08-4794-8531-874a6a98d86e\" class=\"plotly-graph-div\" style=\"height:750px; width:1000px;\"></div>\n",
       "            <script type=\"text/javascript\">\n",
       "                require([\"plotly\"], function(Plotly) {\n",
       "                    window.PLOTLYENV=window.PLOTLYENV || {};\n",
       "                    \n",
       "                if (document.getElementById(\"d01480a8-8d08-4794-8531-874a6a98d86e\")) {\n",
       "                    Plotly.newPlot(\n",
       "                        'd01480a8-8d08-4794-8531-874a6a98d86e',\n",
       "                        [{\"type\": \"bar\", \"x\": [\"Andaman and Nicobar Islands\", \"Andhra Pradesh\", \"Arunachal Pradesh\", \"Assam\", \"Bihar\", \"Chandigarh\", \"Chhattisgarh\", \"Delhi\", \"Goa\", \"Gujarat\", \"Haryana\", \"Himachal Pradesh\", \"Jammu and Kashmir\", \"Jharkhand\", \"Karnataka\", \"Kerala\", \"Ladakh\", \"Madhya Pradesh\", \"Maharashtra\", \"Manipur\", \"Mizoram\", \"Odisha\", \"Puducherry\", \"Punjab\", \"Rajasthan\", \"Tamil Nadu\", \"Telengana\", \"Unassigned\", \"Uttar Pradesh\", \"Uttarakhand\", \"West Bengal\"], \"y\": [0, 0, 0, 0, 0, 0, 0, 0, 0, 0, 0, 0, 0, 0, 0, 0, 0, 0, 0, 0, 0, 0, 0, 0, 0, 0, 0, 0, 0, 0, 0]}],\n",
       "                        {\"height\": 750, \"template\": {\"data\": {\"bar\": [{\"error_x\": {\"color\": \"#2a3f5f\"}, \"error_y\": {\"color\": \"#2a3f5f\"}, \"marker\": {\"line\": {\"color\": \"#E5ECF6\", \"width\": 0.5}}, \"type\": \"bar\"}], \"barpolar\": [{\"marker\": {\"line\": {\"color\": \"#E5ECF6\", \"width\": 0.5}}, \"type\": \"barpolar\"}], \"carpet\": [{\"aaxis\": {\"endlinecolor\": \"#2a3f5f\", \"gridcolor\": \"white\", \"linecolor\": \"white\", \"minorgridcolor\": \"white\", \"startlinecolor\": \"#2a3f5f\"}, \"baxis\": {\"endlinecolor\": \"#2a3f5f\", \"gridcolor\": \"white\", \"linecolor\": \"white\", \"minorgridcolor\": \"white\", \"startlinecolor\": \"#2a3f5f\"}, \"type\": \"carpet\"}], \"choropleth\": [{\"colorbar\": {\"outlinewidth\": 0, \"ticks\": \"\"}, \"type\": \"choropleth\"}], \"contour\": [{\"colorbar\": {\"outlinewidth\": 0, \"ticks\": \"\"}, \"colorscale\": [[0.0, \"#0d0887\"], [0.1111111111111111, \"#46039f\"], [0.2222222222222222, \"#7201a8\"], [0.3333333333333333, \"#9c179e\"], [0.4444444444444444, \"#bd3786\"], [0.5555555555555556, \"#d8576b\"], [0.6666666666666666, \"#ed7953\"], [0.7777777777777778, \"#fb9f3a\"], [0.8888888888888888, \"#fdca26\"], [1.0, \"#f0f921\"]], \"type\": \"contour\"}], \"contourcarpet\": [{\"colorbar\": {\"outlinewidth\": 0, \"ticks\": \"\"}, \"type\": \"contourcarpet\"}], \"heatmap\": [{\"colorbar\": {\"outlinewidth\": 0, \"ticks\": \"\"}, \"colorscale\": [[0.0, \"#0d0887\"], [0.1111111111111111, \"#46039f\"], [0.2222222222222222, \"#7201a8\"], [0.3333333333333333, \"#9c179e\"], [0.4444444444444444, \"#bd3786\"], [0.5555555555555556, \"#d8576b\"], [0.6666666666666666, \"#ed7953\"], [0.7777777777777778, \"#fb9f3a\"], [0.8888888888888888, \"#fdca26\"], [1.0, \"#f0f921\"]], \"type\": \"heatmap\"}], \"heatmapgl\": [{\"colorbar\": {\"outlinewidth\": 0, \"ticks\": \"\"}, \"colorscale\": [[0.0, \"#0d0887\"], [0.1111111111111111, \"#46039f\"], [0.2222222222222222, \"#7201a8\"], [0.3333333333333333, \"#9c179e\"], [0.4444444444444444, \"#bd3786\"], [0.5555555555555556, \"#d8576b\"], [0.6666666666666666, \"#ed7953\"], [0.7777777777777778, \"#fb9f3a\"], [0.8888888888888888, \"#fdca26\"], [1.0, \"#f0f921\"]], \"type\": \"heatmapgl\"}], \"histogram\": [{\"marker\": {\"colorbar\": {\"outlinewidth\": 0, \"ticks\": \"\"}}, \"type\": \"histogram\"}], \"histogram2d\": [{\"colorbar\": {\"outlinewidth\": 0, \"ticks\": \"\"}, \"colorscale\": [[0.0, \"#0d0887\"], [0.1111111111111111, \"#46039f\"], [0.2222222222222222, \"#7201a8\"], [0.3333333333333333, \"#9c179e\"], [0.4444444444444444, \"#bd3786\"], [0.5555555555555556, \"#d8576b\"], [0.6666666666666666, \"#ed7953\"], [0.7777777777777778, \"#fb9f3a\"], [0.8888888888888888, \"#fdca26\"], [1.0, \"#f0f921\"]], \"type\": \"histogram2d\"}], \"histogram2dcontour\": [{\"colorbar\": {\"outlinewidth\": 0, \"ticks\": \"\"}, \"colorscale\": [[0.0, \"#0d0887\"], [0.1111111111111111, \"#46039f\"], [0.2222222222222222, \"#7201a8\"], [0.3333333333333333, \"#9c179e\"], [0.4444444444444444, \"#bd3786\"], [0.5555555555555556, \"#d8576b\"], [0.6666666666666666, \"#ed7953\"], [0.7777777777777778, \"#fb9f3a\"], [0.8888888888888888, \"#fdca26\"], [1.0, \"#f0f921\"]], \"type\": \"histogram2dcontour\"}], \"mesh3d\": [{\"colorbar\": {\"outlinewidth\": 0, \"ticks\": \"\"}, \"type\": \"mesh3d\"}], \"parcoords\": [{\"line\": {\"colorbar\": {\"outlinewidth\": 0, \"ticks\": \"\"}}, \"type\": \"parcoords\"}], \"pie\": [{\"automargin\": true, \"type\": \"pie\"}], \"scatter\": [{\"marker\": {\"colorbar\": {\"outlinewidth\": 0, \"ticks\": \"\"}}, \"type\": \"scatter\"}], \"scatter3d\": [{\"line\": {\"colorbar\": {\"outlinewidth\": 0, \"ticks\": \"\"}}, \"marker\": {\"colorbar\": {\"outlinewidth\": 0, \"ticks\": \"\"}}, \"type\": \"scatter3d\"}], \"scattercarpet\": [{\"marker\": {\"colorbar\": {\"outlinewidth\": 0, \"ticks\": \"\"}}, \"type\": \"scattercarpet\"}], \"scattergeo\": [{\"marker\": {\"colorbar\": {\"outlinewidth\": 0, \"ticks\": \"\"}}, \"type\": \"scattergeo\"}], \"scattergl\": [{\"marker\": {\"colorbar\": {\"outlinewidth\": 0, \"ticks\": \"\"}}, \"type\": \"scattergl\"}], \"scattermapbox\": [{\"marker\": {\"colorbar\": {\"outlinewidth\": 0, \"ticks\": \"\"}}, \"type\": \"scattermapbox\"}], \"scatterpolar\": [{\"marker\": {\"colorbar\": {\"outlinewidth\": 0, \"ticks\": \"\"}}, \"type\": \"scatterpolar\"}], \"scatterpolargl\": [{\"marker\": {\"colorbar\": {\"outlinewidth\": 0, \"ticks\": \"\"}}, \"type\": \"scatterpolargl\"}], \"scatterternary\": [{\"marker\": {\"colorbar\": {\"outlinewidth\": 0, \"ticks\": \"\"}}, \"type\": \"scatterternary\"}], \"surface\": [{\"colorbar\": {\"outlinewidth\": 0, \"ticks\": \"\"}, \"colorscale\": [[0.0, \"#0d0887\"], [0.1111111111111111, \"#46039f\"], [0.2222222222222222, \"#7201a8\"], [0.3333333333333333, \"#9c179e\"], [0.4444444444444444, \"#bd3786\"], [0.5555555555555556, \"#d8576b\"], [0.6666666666666666, \"#ed7953\"], [0.7777777777777778, \"#fb9f3a\"], [0.8888888888888888, \"#fdca26\"], [1.0, \"#f0f921\"]], \"type\": \"surface\"}], \"table\": [{\"cells\": {\"fill\": {\"color\": \"#EBF0F8\"}, \"line\": {\"color\": \"white\"}}, \"header\": {\"fill\": {\"color\": \"#C8D4E3\"}, \"line\": {\"color\": \"white\"}}, \"type\": \"table\"}]}, \"layout\": {\"annotationdefaults\": {\"arrowcolor\": \"#2a3f5f\", \"arrowhead\": 0, \"arrowwidth\": 1}, \"coloraxis\": {\"colorbar\": {\"outlinewidth\": 0, \"ticks\": \"\"}}, \"colorscale\": {\"diverging\": [[0, \"#8e0152\"], [0.1, \"#c51b7d\"], [0.2, \"#de77ae\"], [0.3, \"#f1b6da\"], [0.4, \"#fde0ef\"], [0.5, \"#f7f7f7\"], [0.6, \"#e6f5d0\"], [0.7, \"#b8e186\"], [0.8, \"#7fbc41\"], [0.9, \"#4d9221\"], [1, \"#276419\"]], \"sequential\": [[0.0, \"#0d0887\"], [0.1111111111111111, \"#46039f\"], [0.2222222222222222, \"#7201a8\"], [0.3333333333333333, \"#9c179e\"], [0.4444444444444444, \"#bd3786\"], [0.5555555555555556, \"#d8576b\"], [0.6666666666666666, \"#ed7953\"], [0.7777777777777778, \"#fb9f3a\"], [0.8888888888888888, \"#fdca26\"], [1.0, \"#f0f921\"]], \"sequentialminus\": [[0.0, \"#0d0887\"], [0.1111111111111111, \"#46039f\"], [0.2222222222222222, \"#7201a8\"], [0.3333333333333333, \"#9c179e\"], [0.4444444444444444, \"#bd3786\"], [0.5555555555555556, \"#d8576b\"], [0.6666666666666666, \"#ed7953\"], [0.7777777777777778, \"#fb9f3a\"], [0.8888888888888888, \"#fdca26\"], [1.0, \"#f0f921\"]]}, \"colorway\": [\"#636efa\", \"#EF553B\", \"#00cc96\", \"#ab63fa\", \"#FFA15A\", \"#19d3f3\", \"#FF6692\", \"#B6E880\", \"#FF97FF\", \"#FECB52\"], \"font\": {\"color\": \"#2a3f5f\"}, \"geo\": {\"bgcolor\": \"white\", \"lakecolor\": \"white\", \"landcolor\": \"#E5ECF6\", \"showlakes\": true, \"showland\": true, \"subunitcolor\": \"white\"}, \"hoverlabel\": {\"align\": \"left\"}, \"hovermode\": \"closest\", \"mapbox\": {\"style\": \"light\"}, \"paper_bgcolor\": \"white\", \"plot_bgcolor\": \"#E5ECF6\", \"polar\": {\"angularaxis\": {\"gridcolor\": \"white\", \"linecolor\": \"white\", \"ticks\": \"\"}, \"bgcolor\": \"#E5ECF6\", \"radialaxis\": {\"gridcolor\": \"white\", \"linecolor\": \"white\", \"ticks\": \"\"}}, \"scene\": {\"xaxis\": {\"backgroundcolor\": \"#E5ECF6\", \"gridcolor\": \"white\", \"gridwidth\": 2, \"linecolor\": \"white\", \"showbackground\": true, \"ticks\": \"\", \"zerolinecolor\": \"white\"}, \"yaxis\": {\"backgroundcolor\": \"#E5ECF6\", \"gridcolor\": \"white\", \"gridwidth\": 2, \"linecolor\": \"white\", \"showbackground\": true, \"ticks\": \"\", \"zerolinecolor\": \"white\"}, \"zaxis\": {\"backgroundcolor\": \"#E5ECF6\", \"gridcolor\": \"white\", \"gridwidth\": 2, \"linecolor\": \"white\", \"showbackground\": true, \"ticks\": \"\", \"zerolinecolor\": \"white\"}}, \"shapedefaults\": {\"line\": {\"color\": \"#2a3f5f\"}}, \"ternary\": {\"aaxis\": {\"gridcolor\": \"white\", \"linecolor\": \"white\", \"ticks\": \"\"}, \"baxis\": {\"gridcolor\": \"white\", \"linecolor\": \"white\", \"ticks\": \"\"}, \"bgcolor\": \"#E5ECF6\", \"caxis\": {\"gridcolor\": \"white\", \"linecolor\": \"white\", \"ticks\": \"\"}}, \"title\": {\"x\": 0.05}, \"xaxis\": {\"automargin\": true, \"gridcolor\": \"white\", \"linecolor\": \"white\", \"ticks\": \"\", \"title\": {\"standoff\": 15}, \"zerolinecolor\": \"white\", \"zerolinewidth\": 2}, \"yaxis\": {\"automargin\": true, \"gridcolor\": \"white\", \"linecolor\": \"white\", \"ticks\": \"\", \"title\": {\"standoff\": 15}, \"zerolinecolor\": \"white\", \"zerolinewidth\": 2}}}, \"title\": {\"text\": \"Confirmed cases\"}, \"updatemenus\": [{\"buttons\": [{\"args\": [null], \"label\": \"Play\", \"method\": \"animate\"}], \"type\": \"buttons\"}], \"width\": 1000, \"xaxis\": {\"title\": {\"text\": \"State\"}, \"type\": \"category\"}, \"yaxis\": {\"autorange\": false, \"range\": [0, 500], \"title\": {\"text\": \"Count\"}}},\n",
       "                        {\"responsive\": true}\n",
       "                    ).then(function(){\n",
       "                            Plotly.addFrames('d01480a8-8d08-4794-8531-874a6a98d86e', [{\"data\": [{\"marker\": {\"color\": [\"#9370DB\", \"#F08080\", \"#2F4F4F\", \"#E6E6FA\", \"#FFE4C4\", \"#FF8C00\", \"#000000\", \"#A52A2A\", \"#A9A9A9\", \"#00FFFF\", \"#00FF00\", \"#F4A460\", \"#0000FF\", \"#8B008B\", \"#2F4F4F\", \"#1E90FF\", \"#87CEEB\", \"#3CB371\", \"#98FB98\", \"#8A2BE2\", \"#4169E1\", \"#F5DEB3\", \"#D2B48C\", \"#FF0000\", \"#F8F8FF\", \"#9400D3\", \"#FFC0CB\", \"#00FF7F\", \"#00BFFF\", \"#FFFAF0\", \"#F5F5DC\", \"#FFFACD\", \"#BDB76B\"]}, \"x\": [\"Andaman and Nicobar Islands\", \"Andhra Pradesh\", \"Arunachal Pradesh\", \"Assam\", \"Bihar\", \"Chandigarh\", \"Chhattisgarh\", \"Delhi\", \"Goa\", \"Gujarat\", \"Haryana\", \"Himachal Pradesh\", \"Jammu and Kashmir\", \"Jharkhand\", \"Karnataka\", \"Kerala\", \"Ladakh\", \"Madhya Pradesh\", \"Maharashtra\", \"Manipur\", \"Mizoram\", \"Odisha\", \"Puducherry\", \"Punjab\", \"Rajasthan\", \"Tamil Nadu\", \"Telengana\", \"Unassigned\", \"Uttar Pradesh\", \"Uttarakhand\", \"West Bengal\"], \"y\": [0.0, 0.0, 0.0, 0.0, 0.0, 0.0, 0.0, 0.0, 0.0, 0.0, 0.0, 0.0, 0.0, 0.0, 0.0, 1.0, 0.0, 0.0, 0.0, 0.0, 0.0, 0.0, 0.0, 0.0, 0.0, 0.0, 0.0, 0.0, 0.0, 0.0, 0.0], \"type\": \"bar\"}], \"layout\": {\"title\": {\"text\": \"Confirmed cases - 2020-01-30\"}}}, {\"data\": [{\"marker\": {\"color\": [\"#9370DB\", \"#F08080\", \"#2F4F4F\", \"#E6E6FA\", \"#FFE4C4\", \"#FF8C00\", \"#000000\", \"#A52A2A\", \"#A9A9A9\", \"#00FFFF\", \"#00FF00\", \"#F4A460\", \"#0000FF\", \"#8B008B\", \"#2F4F4F\", \"#1E90FF\", \"#87CEEB\", \"#3CB371\", \"#98FB98\", \"#8A2BE2\", \"#4169E1\", \"#F5DEB3\", \"#D2B48C\", \"#FF0000\", \"#F8F8FF\", \"#9400D3\", \"#FFC0CB\", \"#00FF7F\", \"#00BFFF\", \"#FFFAF0\", \"#F5F5DC\", \"#FFFACD\", \"#BDB76B\"]}, \"x\": [\"Andaman and Nicobar Islands\", \"Andhra Pradesh\", \"Arunachal Pradesh\", \"Assam\", \"Bihar\", \"Chandigarh\", \"Chhattisgarh\", \"Delhi\", \"Goa\", \"Gujarat\", \"Haryana\", \"Himachal Pradesh\", \"Jammu and Kashmir\", \"Jharkhand\", \"Karnataka\", \"Kerala\", \"Ladakh\", \"Madhya Pradesh\", \"Maharashtra\", \"Manipur\", \"Mizoram\", \"Odisha\", \"Puducherry\", \"Punjab\", \"Rajasthan\", \"Tamil Nadu\", \"Telengana\", \"Unassigned\", \"Uttar Pradesh\", \"Uttarakhand\", \"West Bengal\"], \"y\": [0.0, 0.0, 0.0, 0.0, 0.0, 0.0, 0.0, 0.0, 0.0, 0.0, 0.0, 0.0, 0.0, 0.0, 0.0, 1.0, 0.0, 0.0, 0.0, 0.0, 0.0, 0.0, 0.0, 0.0, 0.0, 0.0, 0.0, 0.0, 0.0, 0.0, 0.0], \"type\": \"bar\"}], \"layout\": {\"title\": {\"text\": \"Confirmed cases - 2020-01-31\"}}}, {\"data\": [{\"marker\": {\"color\": [\"#9370DB\", \"#F08080\", \"#2F4F4F\", \"#E6E6FA\", \"#FFE4C4\", \"#FF8C00\", \"#000000\", \"#A52A2A\", \"#A9A9A9\", \"#00FFFF\", \"#00FF00\", \"#F4A460\", \"#0000FF\", \"#8B008B\", \"#2F4F4F\", \"#1E90FF\", \"#87CEEB\", \"#3CB371\", \"#98FB98\", \"#8A2BE2\", \"#4169E1\", \"#F5DEB3\", \"#D2B48C\", \"#FF0000\", \"#F8F8FF\", \"#9400D3\", \"#FFC0CB\", \"#00FF7F\", \"#00BFFF\", \"#FFFAF0\", \"#F5F5DC\", \"#FFFACD\", \"#BDB76B\"]}, \"x\": [\"Andaman and Nicobar Islands\", \"Andhra Pradesh\", \"Arunachal Pradesh\", \"Assam\", \"Bihar\", \"Chandigarh\", \"Chhattisgarh\", \"Delhi\", \"Goa\", \"Gujarat\", \"Haryana\", \"Himachal Pradesh\", \"Jammu and Kashmir\", \"Jharkhand\", \"Karnataka\", \"Kerala\", \"Ladakh\", \"Madhya Pradesh\", \"Maharashtra\", \"Manipur\", \"Mizoram\", \"Odisha\", \"Puducherry\", \"Punjab\", \"Rajasthan\", \"Tamil Nadu\", \"Telengana\", \"Unassigned\", \"Uttar Pradesh\", \"Uttarakhand\", \"West Bengal\"], \"y\": [0.0, 0.0, 0.0, 0.0, 0.0, 0.0, 0.0, 0.0, 0.0, 0.0, 0.0, 0.0, 0.0, 0.0, 0.0, 2.0, 0.0, 0.0, 0.0, 0.0, 0.0, 0.0, 0.0, 0.0, 0.0, 0.0, 0.0, 0.0, 0.0, 0.0, 0.0], \"type\": \"bar\"}], \"layout\": {\"title\": {\"text\": \"Confirmed cases - 2020-02-01\"}}}, {\"data\": [{\"marker\": {\"color\": [\"#9370DB\", \"#F08080\", \"#2F4F4F\", \"#E6E6FA\", \"#FFE4C4\", \"#FF8C00\", \"#000000\", \"#A52A2A\", \"#A9A9A9\", \"#00FFFF\", \"#00FF00\", \"#F4A460\", \"#0000FF\", \"#8B008B\", \"#2F4F4F\", \"#1E90FF\", \"#87CEEB\", \"#3CB371\", \"#98FB98\", \"#8A2BE2\", \"#4169E1\", \"#F5DEB3\", \"#D2B48C\", \"#FF0000\", \"#F8F8FF\", \"#9400D3\", \"#FFC0CB\", \"#00FF7F\", \"#00BFFF\", \"#FFFAF0\", \"#F5F5DC\", \"#FFFACD\", \"#BDB76B\"]}, \"x\": [\"Andaman and Nicobar Islands\", \"Andhra Pradesh\", \"Arunachal Pradesh\", \"Assam\", \"Bihar\", \"Chandigarh\", \"Chhattisgarh\", \"Delhi\", \"Goa\", \"Gujarat\", \"Haryana\", \"Himachal Pradesh\", \"Jammu and Kashmir\", \"Jharkhand\", \"Karnataka\", \"Kerala\", \"Ladakh\", \"Madhya Pradesh\", \"Maharashtra\", \"Manipur\", \"Mizoram\", \"Odisha\", \"Puducherry\", \"Punjab\", \"Rajasthan\", \"Tamil Nadu\", \"Telengana\", \"Unassigned\", \"Uttar Pradesh\", \"Uttarakhand\", \"West Bengal\"], \"y\": [0.0, 0.0, 0.0, 0.0, 0.0, 0.0, 0.0, 0.0, 0.0, 0.0, 0.0, 0.0, 0.0, 0.0, 0.0, 3.0, 0.0, 0.0, 0.0, 0.0, 0.0, 0.0, 0.0, 0.0, 0.0, 0.0, 0.0, 0.0, 0.0, 0.0, 0.0], \"type\": \"bar\"}], \"layout\": {\"title\": {\"text\": \"Confirmed cases - 2020-02-02\"}}}, {\"data\": [{\"marker\": {\"color\": [\"#9370DB\", \"#F08080\", \"#2F4F4F\", \"#E6E6FA\", \"#FFE4C4\", \"#FF8C00\", \"#000000\", \"#A52A2A\", \"#A9A9A9\", \"#00FFFF\", \"#00FF00\", \"#F4A460\", \"#0000FF\", \"#8B008B\", \"#2F4F4F\", \"#1E90FF\", \"#87CEEB\", \"#3CB371\", \"#98FB98\", \"#8A2BE2\", \"#4169E1\", \"#F5DEB3\", \"#D2B48C\", \"#FF0000\", \"#F8F8FF\", \"#9400D3\", \"#FFC0CB\", \"#00FF7F\", \"#00BFFF\", \"#FFFAF0\", \"#F5F5DC\", \"#FFFACD\", \"#BDB76B\"]}, \"x\": [\"Andaman and Nicobar Islands\", \"Andhra Pradesh\", \"Arunachal Pradesh\", \"Assam\", \"Bihar\", \"Chandigarh\", \"Chhattisgarh\", \"Delhi\", \"Goa\", \"Gujarat\", \"Haryana\", \"Himachal Pradesh\", \"Jammu and Kashmir\", \"Jharkhand\", \"Karnataka\", \"Kerala\", \"Ladakh\", \"Madhya Pradesh\", \"Maharashtra\", \"Manipur\", \"Mizoram\", \"Odisha\", \"Puducherry\", \"Punjab\", \"Rajasthan\", \"Tamil Nadu\", \"Telengana\", \"Unassigned\", \"Uttar Pradesh\", \"Uttarakhand\", \"West Bengal\"], \"y\": [0.0, 0.0, 0.0, 0.0, 0.0, 0.0, 0.0, 0.0, 0.0, 0.0, 0.0, 0.0, 0.0, 0.0, 0.0, 3.0, 0.0, 0.0, 0.0, 0.0, 0.0, 0.0, 0.0, 0.0, 0.0, 0.0, 0.0, 0.0, 0.0, 0.0, 0.0], \"type\": \"bar\"}], \"layout\": {\"title\": {\"text\": \"Confirmed cases - 2020-02-03\"}}}, {\"data\": [{\"marker\": {\"color\": [\"#9370DB\", \"#F08080\", \"#2F4F4F\", \"#E6E6FA\", \"#FFE4C4\", \"#FF8C00\", \"#000000\", \"#A52A2A\", \"#A9A9A9\", \"#00FFFF\", \"#00FF00\", \"#F4A460\", \"#0000FF\", \"#8B008B\", \"#2F4F4F\", \"#1E90FF\", \"#87CEEB\", \"#3CB371\", \"#98FB98\", \"#8A2BE2\", \"#4169E1\", \"#F5DEB3\", \"#D2B48C\", \"#FF0000\", \"#F8F8FF\", \"#9400D3\", \"#FFC0CB\", \"#00FF7F\", \"#00BFFF\", \"#FFFAF0\", \"#F5F5DC\", \"#FFFACD\", \"#BDB76B\"]}, \"x\": [\"Andaman and Nicobar Islands\", \"Andhra Pradesh\", \"Arunachal Pradesh\", \"Assam\", \"Bihar\", \"Chandigarh\", \"Chhattisgarh\", \"Delhi\", \"Goa\", \"Gujarat\", \"Haryana\", \"Himachal Pradesh\", \"Jammu and Kashmir\", \"Jharkhand\", \"Karnataka\", \"Kerala\", \"Ladakh\", \"Madhya Pradesh\", \"Maharashtra\", \"Manipur\", \"Mizoram\", \"Odisha\", \"Puducherry\", \"Punjab\", \"Rajasthan\", \"Tamil Nadu\", \"Telengana\", \"Unassigned\", \"Uttar Pradesh\", \"Uttarakhand\", \"West Bengal\"], \"y\": [0.0, 0.0, 0.0, 0.0, 0.0, 0.0, 0.0, 0.0, 0.0, 0.0, 0.0, 0.0, 0.0, 0.0, 0.0, 3.0, 0.0, 0.0, 0.0, 0.0, 0.0, 0.0, 0.0, 0.0, 0.0, 0.0, 0.0, 0.0, 0.0, 0.0, 0.0], \"type\": \"bar\"}], \"layout\": {\"title\": {\"text\": \"Confirmed cases - 2020-02-04\"}}}, {\"data\": [{\"marker\": {\"color\": [\"#9370DB\", \"#F08080\", \"#2F4F4F\", \"#E6E6FA\", \"#FFE4C4\", \"#FF8C00\", \"#000000\", \"#A52A2A\", \"#A9A9A9\", \"#00FFFF\", \"#00FF00\", \"#F4A460\", \"#0000FF\", \"#8B008B\", \"#2F4F4F\", \"#1E90FF\", \"#87CEEB\", \"#3CB371\", \"#98FB98\", \"#8A2BE2\", \"#4169E1\", \"#F5DEB3\", \"#D2B48C\", \"#FF0000\", \"#F8F8FF\", \"#9400D3\", \"#FFC0CB\", \"#00FF7F\", \"#00BFFF\", \"#FFFAF0\", \"#F5F5DC\", \"#FFFACD\", \"#BDB76B\"]}, \"x\": [\"Andaman and Nicobar Islands\", \"Andhra Pradesh\", \"Arunachal Pradesh\", \"Assam\", \"Bihar\", \"Chandigarh\", \"Chhattisgarh\", \"Delhi\", \"Goa\", \"Gujarat\", \"Haryana\", \"Himachal Pradesh\", \"Jammu and Kashmir\", \"Jharkhand\", \"Karnataka\", \"Kerala\", \"Ladakh\", \"Madhya Pradesh\", \"Maharashtra\", \"Manipur\", \"Mizoram\", \"Odisha\", \"Puducherry\", \"Punjab\", \"Rajasthan\", \"Tamil Nadu\", \"Telengana\", \"Unassigned\", \"Uttar Pradesh\", \"Uttarakhand\", \"West Bengal\"], \"y\": [0.0, 0.0, 0.0, 0.0, 0.0, 0.0, 0.0, 0.0, 0.0, 0.0, 0.0, 0.0, 0.0, 0.0, 0.0, 3.0, 0.0, 0.0, 0.0, 0.0, 0.0, 0.0, 0.0, 0.0, 0.0, 0.0, 0.0, 0.0, 0.0, 0.0, 0.0], \"type\": \"bar\"}], \"layout\": {\"title\": {\"text\": \"Confirmed cases - 2020-02-05\"}}}, {\"data\": [{\"marker\": {\"color\": [\"#9370DB\", \"#F08080\", \"#2F4F4F\", \"#E6E6FA\", \"#FFE4C4\", \"#FF8C00\", \"#000000\", \"#A52A2A\", \"#A9A9A9\", \"#00FFFF\", \"#00FF00\", \"#F4A460\", \"#0000FF\", \"#8B008B\", \"#2F4F4F\", \"#1E90FF\", \"#87CEEB\", \"#3CB371\", \"#98FB98\", \"#8A2BE2\", \"#4169E1\", \"#F5DEB3\", \"#D2B48C\", \"#FF0000\", \"#F8F8FF\", \"#9400D3\", \"#FFC0CB\", \"#00FF7F\", \"#00BFFF\", \"#FFFAF0\", \"#F5F5DC\", \"#FFFACD\", \"#BDB76B\"]}, \"x\": [\"Andaman and Nicobar Islands\", \"Andhra Pradesh\", \"Arunachal Pradesh\", \"Assam\", \"Bihar\", \"Chandigarh\", \"Chhattisgarh\", \"Delhi\", \"Goa\", \"Gujarat\", \"Haryana\", \"Himachal Pradesh\", \"Jammu and Kashmir\", \"Jharkhand\", \"Karnataka\", \"Kerala\", \"Ladakh\", \"Madhya Pradesh\", \"Maharashtra\", \"Manipur\", \"Mizoram\", \"Odisha\", \"Puducherry\", \"Punjab\", \"Rajasthan\", \"Tamil Nadu\", \"Telengana\", \"Unassigned\", \"Uttar Pradesh\", \"Uttarakhand\", \"West Bengal\"], \"y\": [0.0, 0.0, 0.0, 0.0, 0.0, 0.0, 0.0, 0.0, 0.0, 0.0, 0.0, 0.0, 0.0, 0.0, 0.0, 3.0, 0.0, 0.0, 0.0, 0.0, 0.0, 0.0, 0.0, 0.0, 0.0, 0.0, 0.0, 0.0, 0.0, 0.0, 0.0], \"type\": \"bar\"}], \"layout\": {\"title\": {\"text\": \"Confirmed cases - 2020-02-06\"}}}, {\"data\": [{\"marker\": {\"color\": [\"#9370DB\", \"#F08080\", \"#2F4F4F\", \"#E6E6FA\", \"#FFE4C4\", \"#FF8C00\", \"#000000\", \"#A52A2A\", \"#A9A9A9\", \"#00FFFF\", \"#00FF00\", \"#F4A460\", \"#0000FF\", \"#8B008B\", \"#2F4F4F\", \"#1E90FF\", \"#87CEEB\", \"#3CB371\", \"#98FB98\", \"#8A2BE2\", \"#4169E1\", \"#F5DEB3\", \"#D2B48C\", \"#FF0000\", \"#F8F8FF\", \"#9400D3\", \"#FFC0CB\", \"#00FF7F\", \"#00BFFF\", \"#FFFAF0\", \"#F5F5DC\", \"#FFFACD\", \"#BDB76B\"]}, \"x\": [\"Andaman and Nicobar Islands\", \"Andhra Pradesh\", \"Arunachal Pradesh\", \"Assam\", \"Bihar\", \"Chandigarh\", \"Chhattisgarh\", \"Delhi\", \"Goa\", \"Gujarat\", \"Haryana\", \"Himachal Pradesh\", \"Jammu and Kashmir\", \"Jharkhand\", \"Karnataka\", \"Kerala\", \"Ladakh\", \"Madhya Pradesh\", \"Maharashtra\", \"Manipur\", \"Mizoram\", \"Odisha\", \"Puducherry\", \"Punjab\", \"Rajasthan\", \"Tamil Nadu\", \"Telengana\", \"Unassigned\", \"Uttar Pradesh\", \"Uttarakhand\", \"West Bengal\"], \"y\": [0.0, 0.0, 0.0, 0.0, 0.0, 0.0, 0.0, 0.0, 0.0, 0.0, 0.0, 0.0, 0.0, 0.0, 0.0, 3.0, 0.0, 0.0, 0.0, 0.0, 0.0, 0.0, 0.0, 0.0, 0.0, 0.0, 0.0, 0.0, 0.0, 0.0, 0.0], \"type\": \"bar\"}], \"layout\": {\"title\": {\"text\": \"Confirmed cases - 2020-02-07\"}}}, {\"data\": [{\"marker\": {\"color\": [\"#9370DB\", \"#F08080\", \"#2F4F4F\", \"#E6E6FA\", \"#FFE4C4\", \"#FF8C00\", \"#000000\", \"#A52A2A\", \"#A9A9A9\", \"#00FFFF\", \"#00FF00\", \"#F4A460\", \"#0000FF\", \"#8B008B\", \"#2F4F4F\", \"#1E90FF\", \"#87CEEB\", \"#3CB371\", \"#98FB98\", \"#8A2BE2\", \"#4169E1\", \"#F5DEB3\", \"#D2B48C\", \"#FF0000\", \"#F8F8FF\", \"#9400D3\", \"#FFC0CB\", \"#00FF7F\", \"#00BFFF\", \"#FFFAF0\", \"#F5F5DC\", \"#FFFACD\", \"#BDB76B\"]}, \"x\": [\"Andaman and Nicobar Islands\", \"Andhra Pradesh\", \"Arunachal Pradesh\", \"Assam\", \"Bihar\", \"Chandigarh\", \"Chhattisgarh\", \"Delhi\", \"Goa\", \"Gujarat\", \"Haryana\", \"Himachal Pradesh\", \"Jammu and Kashmir\", \"Jharkhand\", \"Karnataka\", \"Kerala\", \"Ladakh\", \"Madhya Pradesh\", \"Maharashtra\", \"Manipur\", \"Mizoram\", \"Odisha\", \"Puducherry\", \"Punjab\", \"Rajasthan\", \"Tamil Nadu\", \"Telengana\", \"Unassigned\", \"Uttar Pradesh\", \"Uttarakhand\", \"West Bengal\"], \"y\": [0.0, 0.0, 0.0, 0.0, 0.0, 0.0, 0.0, 0.0, 0.0, 0.0, 0.0, 0.0, 0.0, 0.0, 0.0, 3.0, 0.0, 0.0, 0.0, 0.0, 0.0, 0.0, 0.0, 0.0, 0.0, 0.0, 0.0, 0.0, 0.0, 0.0, 0.0], \"type\": \"bar\"}], \"layout\": {\"title\": {\"text\": \"Confirmed cases - 2020-02-08\"}}}, {\"data\": [{\"marker\": {\"color\": [\"#9370DB\", \"#F08080\", \"#2F4F4F\", \"#E6E6FA\", \"#FFE4C4\", \"#FF8C00\", \"#000000\", \"#A52A2A\", \"#A9A9A9\", \"#00FFFF\", \"#00FF00\", \"#F4A460\", \"#0000FF\", \"#8B008B\", \"#2F4F4F\", \"#1E90FF\", \"#87CEEB\", \"#3CB371\", \"#98FB98\", \"#8A2BE2\", \"#4169E1\", \"#F5DEB3\", \"#D2B48C\", \"#FF0000\", \"#F8F8FF\", \"#9400D3\", \"#FFC0CB\", \"#00FF7F\", \"#00BFFF\", \"#FFFAF0\", \"#F5F5DC\", \"#FFFACD\", \"#BDB76B\"]}, \"x\": [\"Andaman and Nicobar Islands\", \"Andhra Pradesh\", \"Arunachal Pradesh\", \"Assam\", \"Bihar\", \"Chandigarh\", \"Chhattisgarh\", \"Delhi\", \"Goa\", \"Gujarat\", \"Haryana\", \"Himachal Pradesh\", \"Jammu and Kashmir\", \"Jharkhand\", \"Karnataka\", \"Kerala\", \"Ladakh\", \"Madhya Pradesh\", \"Maharashtra\", \"Manipur\", \"Mizoram\", \"Odisha\", \"Puducherry\", \"Punjab\", \"Rajasthan\", \"Tamil Nadu\", \"Telengana\", \"Unassigned\", \"Uttar Pradesh\", \"Uttarakhand\", \"West Bengal\"], \"y\": [0.0, 0.0, 0.0, 0.0, 0.0, 0.0, 0.0, 0.0, 0.0, 0.0, 0.0, 0.0, 0.0, 0.0, 0.0, 3.0, 0.0, 0.0, 0.0, 0.0, 0.0, 0.0, 0.0, 0.0, 0.0, 0.0, 0.0, 0.0, 0.0, 0.0, 0.0], \"type\": \"bar\"}], \"layout\": {\"title\": {\"text\": \"Confirmed cases - 2020-02-09\"}}}, {\"data\": [{\"marker\": {\"color\": [\"#9370DB\", \"#F08080\", \"#2F4F4F\", \"#E6E6FA\", \"#FFE4C4\", \"#FF8C00\", \"#000000\", \"#A52A2A\", \"#A9A9A9\", \"#00FFFF\", \"#00FF00\", \"#F4A460\", \"#0000FF\", \"#8B008B\", \"#2F4F4F\", \"#1E90FF\", \"#87CEEB\", \"#3CB371\", \"#98FB98\", \"#8A2BE2\", \"#4169E1\", \"#F5DEB3\", \"#D2B48C\", \"#FF0000\", \"#F8F8FF\", \"#9400D3\", \"#FFC0CB\", \"#00FF7F\", \"#00BFFF\", \"#FFFAF0\", \"#F5F5DC\", \"#FFFACD\", \"#BDB76B\"]}, \"x\": [\"Andaman and Nicobar Islands\", \"Andhra Pradesh\", \"Arunachal Pradesh\", \"Assam\", \"Bihar\", \"Chandigarh\", \"Chhattisgarh\", \"Delhi\", \"Goa\", \"Gujarat\", \"Haryana\", \"Himachal Pradesh\", \"Jammu and Kashmir\", \"Jharkhand\", \"Karnataka\", \"Kerala\", \"Ladakh\", \"Madhya Pradesh\", \"Maharashtra\", \"Manipur\", \"Mizoram\", \"Odisha\", \"Puducherry\", \"Punjab\", \"Rajasthan\", \"Tamil Nadu\", \"Telengana\", \"Unassigned\", \"Uttar Pradesh\", \"Uttarakhand\", \"West Bengal\"], \"y\": [0.0, 0.0, 0.0, 0.0, 0.0, 0.0, 0.0, 0.0, 0.0, 0.0, 0.0, 0.0, 0.0, 0.0, 0.0, 3.0, 0.0, 0.0, 0.0, 0.0, 0.0, 0.0, 0.0, 0.0, 0.0, 0.0, 0.0, 0.0, 0.0, 0.0, 0.0], \"type\": \"bar\"}], \"layout\": {\"title\": {\"text\": \"Confirmed cases - 2020-02-10\"}}}, {\"data\": [{\"marker\": {\"color\": [\"#9370DB\", \"#F08080\", \"#2F4F4F\", \"#E6E6FA\", \"#FFE4C4\", \"#FF8C00\", \"#000000\", \"#A52A2A\", \"#A9A9A9\", \"#00FFFF\", \"#00FF00\", \"#F4A460\", \"#0000FF\", \"#8B008B\", \"#2F4F4F\", \"#1E90FF\", \"#87CEEB\", \"#3CB371\", \"#98FB98\", \"#8A2BE2\", \"#4169E1\", \"#F5DEB3\", \"#D2B48C\", \"#FF0000\", \"#F8F8FF\", \"#9400D3\", \"#FFC0CB\", \"#00FF7F\", \"#00BFFF\", \"#FFFAF0\", \"#F5F5DC\", \"#FFFACD\", \"#BDB76B\"]}, \"x\": [\"Andaman and Nicobar Islands\", \"Andhra Pradesh\", \"Arunachal Pradesh\", \"Assam\", \"Bihar\", \"Chandigarh\", \"Chhattisgarh\", \"Delhi\", \"Goa\", \"Gujarat\", \"Haryana\", \"Himachal Pradesh\", \"Jammu and Kashmir\", \"Jharkhand\", \"Karnataka\", \"Kerala\", \"Ladakh\", \"Madhya Pradesh\", \"Maharashtra\", \"Manipur\", \"Mizoram\", \"Odisha\", \"Puducherry\", \"Punjab\", \"Rajasthan\", \"Tamil Nadu\", \"Telengana\", \"Unassigned\", \"Uttar Pradesh\", \"Uttarakhand\", \"West Bengal\"], \"y\": [0.0, 0.0, 0.0, 0.0, 0.0, 0.0, 0.0, 0.0, 0.0, 0.0, 0.0, 0.0, 0.0, 0.0, 0.0, 3.0, 0.0, 0.0, 0.0, 0.0, 0.0, 0.0, 0.0, 0.0, 0.0, 0.0, 0.0, 0.0, 0.0, 0.0, 0.0], \"type\": \"bar\"}], \"layout\": {\"title\": {\"text\": \"Confirmed cases - 2020-02-11\"}}}, {\"data\": [{\"marker\": {\"color\": [\"#9370DB\", \"#F08080\", \"#2F4F4F\", \"#E6E6FA\", \"#FFE4C4\", \"#FF8C00\", \"#000000\", \"#A52A2A\", \"#A9A9A9\", \"#00FFFF\", \"#00FF00\", \"#F4A460\", \"#0000FF\", \"#8B008B\", \"#2F4F4F\", \"#1E90FF\", \"#87CEEB\", \"#3CB371\", \"#98FB98\", \"#8A2BE2\", \"#4169E1\", \"#F5DEB3\", \"#D2B48C\", \"#FF0000\", \"#F8F8FF\", \"#9400D3\", \"#FFC0CB\", \"#00FF7F\", \"#00BFFF\", \"#FFFAF0\", \"#F5F5DC\", \"#FFFACD\", \"#BDB76B\"]}, \"x\": [\"Andaman and Nicobar Islands\", \"Andhra Pradesh\", \"Arunachal Pradesh\", \"Assam\", \"Bihar\", \"Chandigarh\", \"Chhattisgarh\", \"Delhi\", \"Goa\", \"Gujarat\", \"Haryana\", \"Himachal Pradesh\", \"Jammu and Kashmir\", \"Jharkhand\", \"Karnataka\", \"Kerala\", \"Ladakh\", \"Madhya Pradesh\", \"Maharashtra\", \"Manipur\", \"Mizoram\", \"Odisha\", \"Puducherry\", \"Punjab\", \"Rajasthan\", \"Tamil Nadu\", \"Telengana\", \"Unassigned\", \"Uttar Pradesh\", \"Uttarakhand\", \"West Bengal\"], \"y\": [0.0, 0.0, 0.0, 0.0, 0.0, 0.0, 0.0, 0.0, 0.0, 0.0, 0.0, 0.0, 0.0, 0.0, 0.0, 3.0, 0.0, 0.0, 0.0, 0.0, 0.0, 0.0, 0.0, 0.0, 0.0, 0.0, 0.0, 0.0, 0.0, 0.0, 0.0], \"type\": \"bar\"}], \"layout\": {\"title\": {\"text\": \"Confirmed cases - 2020-02-12\"}}}, {\"data\": [{\"marker\": {\"color\": [\"#9370DB\", \"#F08080\", \"#2F4F4F\", \"#E6E6FA\", \"#FFE4C4\", \"#FF8C00\", \"#000000\", \"#A52A2A\", \"#A9A9A9\", \"#00FFFF\", \"#00FF00\", \"#F4A460\", \"#0000FF\", \"#8B008B\", \"#2F4F4F\", \"#1E90FF\", \"#87CEEB\", \"#3CB371\", \"#98FB98\", \"#8A2BE2\", \"#4169E1\", \"#F5DEB3\", \"#D2B48C\", \"#FF0000\", \"#F8F8FF\", \"#9400D3\", \"#FFC0CB\", \"#00FF7F\", \"#00BFFF\", \"#FFFAF0\", \"#F5F5DC\", \"#FFFACD\", \"#BDB76B\"]}, \"x\": [\"Andaman and Nicobar Islands\", \"Andhra Pradesh\", \"Arunachal Pradesh\", \"Assam\", \"Bihar\", \"Chandigarh\", \"Chhattisgarh\", \"Delhi\", \"Goa\", \"Gujarat\", \"Haryana\", \"Himachal Pradesh\", \"Jammu and Kashmir\", \"Jharkhand\", \"Karnataka\", \"Kerala\", \"Ladakh\", \"Madhya Pradesh\", \"Maharashtra\", \"Manipur\", \"Mizoram\", \"Odisha\", \"Puducherry\", \"Punjab\", \"Rajasthan\", \"Tamil Nadu\", \"Telengana\", \"Unassigned\", \"Uttar Pradesh\", \"Uttarakhand\", \"West Bengal\"], \"y\": [0.0, 0.0, 0.0, 0.0, 0.0, 0.0, 0.0, 0.0, 0.0, 0.0, 0.0, 0.0, 0.0, 0.0, 0.0, 3.0, 0.0, 0.0, 0.0, 0.0, 0.0, 0.0, 0.0, 0.0, 0.0, 0.0, 0.0, 0.0, 0.0, 0.0, 0.0], \"type\": \"bar\"}], \"layout\": {\"title\": {\"text\": \"Confirmed cases - 2020-02-13\"}}}, {\"data\": [{\"marker\": {\"color\": [\"#9370DB\", \"#F08080\", \"#2F4F4F\", \"#E6E6FA\", \"#FFE4C4\", \"#FF8C00\", \"#000000\", \"#A52A2A\", \"#A9A9A9\", \"#00FFFF\", \"#00FF00\", \"#F4A460\", \"#0000FF\", \"#8B008B\", \"#2F4F4F\", \"#1E90FF\", \"#87CEEB\", \"#3CB371\", \"#98FB98\", \"#8A2BE2\", \"#4169E1\", \"#F5DEB3\", \"#D2B48C\", \"#FF0000\", \"#F8F8FF\", \"#9400D3\", \"#FFC0CB\", \"#00FF7F\", \"#00BFFF\", \"#FFFAF0\", \"#F5F5DC\", \"#FFFACD\", \"#BDB76B\"]}, \"x\": [\"Andaman and Nicobar Islands\", \"Andhra Pradesh\", \"Arunachal Pradesh\", \"Assam\", \"Bihar\", \"Chandigarh\", \"Chhattisgarh\", \"Delhi\", \"Goa\", \"Gujarat\", \"Haryana\", \"Himachal Pradesh\", \"Jammu and Kashmir\", \"Jharkhand\", \"Karnataka\", \"Kerala\", \"Ladakh\", \"Madhya Pradesh\", \"Maharashtra\", \"Manipur\", \"Mizoram\", \"Odisha\", \"Puducherry\", \"Punjab\", \"Rajasthan\", \"Tamil Nadu\", \"Telengana\", \"Unassigned\", \"Uttar Pradesh\", \"Uttarakhand\", \"West Bengal\"], \"y\": [0.0, 0.0, 0.0, 0.0, 0.0, 0.0, 0.0, 0.0, 0.0, 0.0, 0.0, 0.0, 0.0, 0.0, 0.0, 3.0, 0.0, 0.0, 0.0, 0.0, 0.0, 0.0, 0.0, 0.0, 0.0, 0.0, 0.0, 0.0, 0.0, 0.0, 0.0], \"type\": \"bar\"}], \"layout\": {\"title\": {\"text\": \"Confirmed cases - 2020-02-14\"}}}, {\"data\": [{\"marker\": {\"color\": [\"#9370DB\", \"#F08080\", \"#2F4F4F\", \"#E6E6FA\", \"#FFE4C4\", \"#FF8C00\", \"#000000\", \"#A52A2A\", \"#A9A9A9\", \"#00FFFF\", \"#00FF00\", \"#F4A460\", \"#0000FF\", \"#8B008B\", \"#2F4F4F\", \"#1E90FF\", \"#87CEEB\", \"#3CB371\", \"#98FB98\", \"#8A2BE2\", \"#4169E1\", \"#F5DEB3\", \"#D2B48C\", \"#FF0000\", \"#F8F8FF\", \"#9400D3\", \"#FFC0CB\", \"#00FF7F\", \"#00BFFF\", \"#FFFAF0\", \"#F5F5DC\", \"#FFFACD\", \"#BDB76B\"]}, \"x\": [\"Andaman and Nicobar Islands\", \"Andhra Pradesh\", \"Arunachal Pradesh\", \"Assam\", \"Bihar\", \"Chandigarh\", \"Chhattisgarh\", \"Delhi\", \"Goa\", \"Gujarat\", \"Haryana\", \"Himachal Pradesh\", \"Jammu and Kashmir\", \"Jharkhand\", \"Karnataka\", \"Kerala\", \"Ladakh\", \"Madhya Pradesh\", \"Maharashtra\", \"Manipur\", \"Mizoram\", \"Odisha\", \"Puducherry\", \"Punjab\", \"Rajasthan\", \"Tamil Nadu\", \"Telengana\", \"Unassigned\", \"Uttar Pradesh\", \"Uttarakhand\", \"West Bengal\"], \"y\": [0.0, 0.0, 0.0, 0.0, 0.0, 0.0, 0.0, 0.0, 0.0, 0.0, 0.0, 0.0, 0.0, 0.0, 0.0, 3.0, 0.0, 0.0, 0.0, 0.0, 0.0, 0.0, 0.0, 0.0, 0.0, 0.0, 0.0, 0.0, 0.0, 0.0, 0.0], \"type\": \"bar\"}], \"layout\": {\"title\": {\"text\": \"Confirmed cases - 2020-02-15\"}}}, {\"data\": [{\"marker\": {\"color\": [\"#9370DB\", \"#F08080\", \"#2F4F4F\", \"#E6E6FA\", \"#FFE4C4\", \"#FF8C00\", \"#000000\", \"#A52A2A\", \"#A9A9A9\", \"#00FFFF\", \"#00FF00\", \"#F4A460\", \"#0000FF\", \"#8B008B\", \"#2F4F4F\", \"#1E90FF\", \"#87CEEB\", \"#3CB371\", \"#98FB98\", \"#8A2BE2\", \"#4169E1\", \"#F5DEB3\", \"#D2B48C\", \"#FF0000\", \"#F8F8FF\", \"#9400D3\", \"#FFC0CB\", \"#00FF7F\", \"#00BFFF\", \"#FFFAF0\", \"#F5F5DC\", \"#FFFACD\", \"#BDB76B\"]}, \"x\": [\"Andaman and Nicobar Islands\", \"Andhra Pradesh\", \"Arunachal Pradesh\", \"Assam\", \"Bihar\", \"Chandigarh\", \"Chhattisgarh\", \"Delhi\", \"Goa\", \"Gujarat\", \"Haryana\", \"Himachal Pradesh\", \"Jammu and Kashmir\", \"Jharkhand\", \"Karnataka\", \"Kerala\", \"Ladakh\", \"Madhya Pradesh\", \"Maharashtra\", \"Manipur\", \"Mizoram\", \"Odisha\", \"Puducherry\", \"Punjab\", \"Rajasthan\", \"Tamil Nadu\", \"Telengana\", \"Unassigned\", \"Uttar Pradesh\", \"Uttarakhand\", \"West Bengal\"], \"y\": [0.0, 0.0, 0.0, 0.0, 0.0, 0.0, 0.0, 0.0, 0.0, 0.0, 0.0, 0.0, 0.0, 0.0, 0.0, 3.0, 0.0, 0.0, 0.0, 0.0, 0.0, 0.0, 0.0, 0.0, 0.0, 0.0, 0.0, 0.0, 0.0, 0.0, 0.0], \"type\": \"bar\"}], \"layout\": {\"title\": {\"text\": \"Confirmed cases - 2020-02-16\"}}}, {\"data\": [{\"marker\": {\"color\": [\"#9370DB\", \"#F08080\", \"#2F4F4F\", \"#E6E6FA\", \"#FFE4C4\", \"#FF8C00\", \"#000000\", \"#A52A2A\", \"#A9A9A9\", \"#00FFFF\", \"#00FF00\", \"#F4A460\", \"#0000FF\", \"#8B008B\", \"#2F4F4F\", \"#1E90FF\", \"#87CEEB\", \"#3CB371\", \"#98FB98\", \"#8A2BE2\", \"#4169E1\", \"#F5DEB3\", \"#D2B48C\", \"#FF0000\", \"#F8F8FF\", \"#9400D3\", \"#FFC0CB\", \"#00FF7F\", \"#00BFFF\", \"#FFFAF0\", \"#F5F5DC\", \"#FFFACD\", \"#BDB76B\"]}, \"x\": [\"Andaman and Nicobar Islands\", \"Andhra Pradesh\", \"Arunachal Pradesh\", \"Assam\", \"Bihar\", \"Chandigarh\", \"Chhattisgarh\", \"Delhi\", \"Goa\", \"Gujarat\", \"Haryana\", \"Himachal Pradesh\", \"Jammu and Kashmir\", \"Jharkhand\", \"Karnataka\", \"Kerala\", \"Ladakh\", \"Madhya Pradesh\", \"Maharashtra\", \"Manipur\", \"Mizoram\", \"Odisha\", \"Puducherry\", \"Punjab\", \"Rajasthan\", \"Tamil Nadu\", \"Telengana\", \"Unassigned\", \"Uttar Pradesh\", \"Uttarakhand\", \"West Bengal\"], \"y\": [0.0, 0.0, 0.0, 0.0, 0.0, 0.0, 0.0, 0.0, 0.0, 0.0, 0.0, 0.0, 0.0, 0.0, 0.0, 3.0, 0.0, 0.0, 0.0, 0.0, 0.0, 0.0, 0.0, 0.0, 0.0, 0.0, 0.0, 0.0, 0.0, 0.0, 0.0], \"type\": \"bar\"}], \"layout\": {\"title\": {\"text\": \"Confirmed cases - 2020-02-17\"}}}, {\"data\": [{\"marker\": {\"color\": [\"#9370DB\", \"#F08080\", \"#2F4F4F\", \"#E6E6FA\", \"#FFE4C4\", \"#FF8C00\", \"#000000\", \"#A52A2A\", \"#A9A9A9\", \"#00FFFF\", \"#00FF00\", \"#F4A460\", \"#0000FF\", \"#8B008B\", \"#2F4F4F\", \"#1E90FF\", \"#87CEEB\", \"#3CB371\", \"#98FB98\", \"#8A2BE2\", \"#4169E1\", \"#F5DEB3\", \"#D2B48C\", \"#FF0000\", \"#F8F8FF\", \"#9400D3\", \"#FFC0CB\", \"#00FF7F\", \"#00BFFF\", \"#FFFAF0\", \"#F5F5DC\", \"#FFFACD\", \"#BDB76B\"]}, \"x\": [\"Andaman and Nicobar Islands\", \"Andhra Pradesh\", \"Arunachal Pradesh\", \"Assam\", \"Bihar\", \"Chandigarh\", \"Chhattisgarh\", \"Delhi\", \"Goa\", \"Gujarat\", \"Haryana\", \"Himachal Pradesh\", \"Jammu and Kashmir\", \"Jharkhand\", \"Karnataka\", \"Kerala\", \"Ladakh\", \"Madhya Pradesh\", \"Maharashtra\", \"Manipur\", \"Mizoram\", \"Odisha\", \"Puducherry\", \"Punjab\", \"Rajasthan\", \"Tamil Nadu\", \"Telengana\", \"Unassigned\", \"Uttar Pradesh\", \"Uttarakhand\", \"West Bengal\"], \"y\": [0.0, 0.0, 0.0, 0.0, 0.0, 0.0, 0.0, 0.0, 0.0, 0.0, 0.0, 0.0, 0.0, 0.0, 0.0, 3.0, 0.0, 0.0, 0.0, 0.0, 0.0, 0.0, 0.0, 0.0, 0.0, 0.0, 0.0, 0.0, 0.0, 0.0, 0.0], \"type\": \"bar\"}], \"layout\": {\"title\": {\"text\": \"Confirmed cases - 2020-02-18\"}}}, {\"data\": [{\"marker\": {\"color\": [\"#9370DB\", \"#F08080\", \"#2F4F4F\", \"#E6E6FA\", \"#FFE4C4\", \"#FF8C00\", \"#000000\", \"#A52A2A\", \"#A9A9A9\", \"#00FFFF\", \"#00FF00\", \"#F4A460\", \"#0000FF\", \"#8B008B\", \"#2F4F4F\", \"#1E90FF\", \"#87CEEB\", \"#3CB371\", \"#98FB98\", \"#8A2BE2\", \"#4169E1\", \"#F5DEB3\", \"#D2B48C\", \"#FF0000\", \"#F8F8FF\", \"#9400D3\", \"#FFC0CB\", \"#00FF7F\", \"#00BFFF\", \"#FFFAF0\", \"#F5F5DC\", \"#FFFACD\", \"#BDB76B\"]}, \"x\": [\"Andaman and Nicobar Islands\", \"Andhra Pradesh\", \"Arunachal Pradesh\", \"Assam\", \"Bihar\", \"Chandigarh\", \"Chhattisgarh\", \"Delhi\", \"Goa\", \"Gujarat\", \"Haryana\", \"Himachal Pradesh\", \"Jammu and Kashmir\", \"Jharkhand\", \"Karnataka\", \"Kerala\", \"Ladakh\", \"Madhya Pradesh\", \"Maharashtra\", \"Manipur\", \"Mizoram\", \"Odisha\", \"Puducherry\", \"Punjab\", \"Rajasthan\", \"Tamil Nadu\", \"Telengana\", \"Unassigned\", \"Uttar Pradesh\", \"Uttarakhand\", \"West Bengal\"], \"y\": [0.0, 0.0, 0.0, 0.0, 0.0, 0.0, 0.0, 0.0, 0.0, 0.0, 0.0, 0.0, 0.0, 0.0, 0.0, 3.0, 0.0, 0.0, 0.0, 0.0, 0.0, 0.0, 0.0, 0.0, 0.0, 0.0, 0.0, 0.0, 0.0, 0.0, 0.0], \"type\": \"bar\"}], \"layout\": {\"title\": {\"text\": \"Confirmed cases - 2020-02-19\"}}}, {\"data\": [{\"marker\": {\"color\": [\"#9370DB\", \"#F08080\", \"#2F4F4F\", \"#E6E6FA\", \"#FFE4C4\", \"#FF8C00\", \"#000000\", \"#A52A2A\", \"#A9A9A9\", \"#00FFFF\", \"#00FF00\", \"#F4A460\", \"#0000FF\", \"#8B008B\", \"#2F4F4F\", \"#1E90FF\", \"#87CEEB\", \"#3CB371\", \"#98FB98\", \"#8A2BE2\", \"#4169E1\", \"#F5DEB3\", \"#D2B48C\", \"#FF0000\", \"#F8F8FF\", \"#9400D3\", \"#FFC0CB\", \"#00FF7F\", \"#00BFFF\", \"#FFFAF0\", \"#F5F5DC\", \"#FFFACD\", \"#BDB76B\"]}, \"x\": [\"Andaman and Nicobar Islands\", \"Andhra Pradesh\", \"Arunachal Pradesh\", \"Assam\", \"Bihar\", \"Chandigarh\", \"Chhattisgarh\", \"Delhi\", \"Goa\", \"Gujarat\", \"Haryana\", \"Himachal Pradesh\", \"Jammu and Kashmir\", \"Jharkhand\", \"Karnataka\", \"Kerala\", \"Ladakh\", \"Madhya Pradesh\", \"Maharashtra\", \"Manipur\", \"Mizoram\", \"Odisha\", \"Puducherry\", \"Punjab\", \"Rajasthan\", \"Tamil Nadu\", \"Telengana\", \"Unassigned\", \"Uttar Pradesh\", \"Uttarakhand\", \"West Bengal\"], \"y\": [0.0, 0.0, 0.0, 0.0, 0.0, 0.0, 0.0, 0.0, 0.0, 0.0, 0.0, 0.0, 0.0, 0.0, 0.0, 3.0, 0.0, 0.0, 0.0, 0.0, 0.0, 0.0, 0.0, 0.0, 0.0, 0.0, 0.0, 0.0, 0.0, 0.0, 0.0], \"type\": \"bar\"}], \"layout\": {\"title\": {\"text\": \"Confirmed cases - 2020-02-20\"}}}, {\"data\": [{\"marker\": {\"color\": [\"#9370DB\", \"#F08080\", \"#2F4F4F\", \"#E6E6FA\", \"#FFE4C4\", \"#FF8C00\", \"#000000\", \"#A52A2A\", \"#A9A9A9\", \"#00FFFF\", \"#00FF00\", \"#F4A460\", \"#0000FF\", \"#8B008B\", \"#2F4F4F\", \"#1E90FF\", \"#87CEEB\", \"#3CB371\", \"#98FB98\", \"#8A2BE2\", \"#4169E1\", \"#F5DEB3\", \"#D2B48C\", \"#FF0000\", \"#F8F8FF\", \"#9400D3\", \"#FFC0CB\", \"#00FF7F\", \"#00BFFF\", \"#FFFAF0\", \"#F5F5DC\", \"#FFFACD\", \"#BDB76B\"]}, \"x\": [\"Andaman and Nicobar Islands\", \"Andhra Pradesh\", \"Arunachal Pradesh\", \"Assam\", \"Bihar\", \"Chandigarh\", \"Chhattisgarh\", \"Delhi\", \"Goa\", \"Gujarat\", \"Haryana\", \"Himachal Pradesh\", \"Jammu and Kashmir\", \"Jharkhand\", \"Karnataka\", \"Kerala\", \"Ladakh\", \"Madhya Pradesh\", \"Maharashtra\", \"Manipur\", \"Mizoram\", \"Odisha\", \"Puducherry\", \"Punjab\", \"Rajasthan\", \"Tamil Nadu\", \"Telengana\", \"Unassigned\", \"Uttar Pradesh\", \"Uttarakhand\", \"West Bengal\"], \"y\": [0.0, 0.0, 0.0, 0.0, 0.0, 0.0, 0.0, 0.0, 0.0, 0.0, 0.0, 0.0, 0.0, 0.0, 0.0, 3.0, 0.0, 0.0, 0.0, 0.0, 0.0, 0.0, 0.0, 0.0, 0.0, 0.0, 0.0, 0.0, 0.0, 0.0, 0.0], \"type\": \"bar\"}], \"layout\": {\"title\": {\"text\": \"Confirmed cases - 2020-02-21\"}}}, {\"data\": [{\"marker\": {\"color\": [\"#9370DB\", \"#F08080\", \"#2F4F4F\", \"#E6E6FA\", \"#FFE4C4\", \"#FF8C00\", \"#000000\", \"#A52A2A\", \"#A9A9A9\", \"#00FFFF\", \"#00FF00\", \"#F4A460\", \"#0000FF\", \"#8B008B\", \"#2F4F4F\", \"#1E90FF\", \"#87CEEB\", \"#3CB371\", \"#98FB98\", \"#8A2BE2\", \"#4169E1\", \"#F5DEB3\", \"#D2B48C\", \"#FF0000\", \"#F8F8FF\", \"#9400D3\", \"#FFC0CB\", \"#00FF7F\", \"#00BFFF\", \"#FFFAF0\", \"#F5F5DC\", \"#FFFACD\", \"#BDB76B\"]}, \"x\": [\"Andaman and Nicobar Islands\", \"Andhra Pradesh\", \"Arunachal Pradesh\", \"Assam\", \"Bihar\", \"Chandigarh\", \"Chhattisgarh\", \"Delhi\", \"Goa\", \"Gujarat\", \"Haryana\", \"Himachal Pradesh\", \"Jammu and Kashmir\", \"Jharkhand\", \"Karnataka\", \"Kerala\", \"Ladakh\", \"Madhya Pradesh\", \"Maharashtra\", \"Manipur\", \"Mizoram\", \"Odisha\", \"Puducherry\", \"Punjab\", \"Rajasthan\", \"Tamil Nadu\", \"Telengana\", \"Unassigned\", \"Uttar Pradesh\", \"Uttarakhand\", \"West Bengal\"], \"y\": [0.0, 0.0, 0.0, 0.0, 0.0, 0.0, 0.0, 0.0, 0.0, 0.0, 0.0, 0.0, 0.0, 0.0, 0.0, 3.0, 0.0, 0.0, 0.0, 0.0, 0.0, 0.0, 0.0, 0.0, 0.0, 0.0, 0.0, 0.0, 0.0, 0.0, 0.0], \"type\": \"bar\"}], \"layout\": {\"title\": {\"text\": \"Confirmed cases - 2020-02-22\"}}}, {\"data\": [{\"marker\": {\"color\": [\"#9370DB\", \"#F08080\", \"#2F4F4F\", \"#E6E6FA\", \"#FFE4C4\", \"#FF8C00\", \"#000000\", \"#A52A2A\", \"#A9A9A9\", \"#00FFFF\", \"#00FF00\", \"#F4A460\", \"#0000FF\", \"#8B008B\", \"#2F4F4F\", \"#1E90FF\", \"#87CEEB\", \"#3CB371\", \"#98FB98\", \"#8A2BE2\", \"#4169E1\", \"#F5DEB3\", \"#D2B48C\", \"#FF0000\", \"#F8F8FF\", \"#9400D3\", \"#FFC0CB\", \"#00FF7F\", \"#00BFFF\", \"#FFFAF0\", \"#F5F5DC\", \"#FFFACD\", \"#BDB76B\"]}, \"x\": [\"Andaman and Nicobar Islands\", \"Andhra Pradesh\", \"Arunachal Pradesh\", \"Assam\", \"Bihar\", \"Chandigarh\", \"Chhattisgarh\", \"Delhi\", \"Goa\", \"Gujarat\", \"Haryana\", \"Himachal Pradesh\", \"Jammu and Kashmir\", \"Jharkhand\", \"Karnataka\", \"Kerala\", \"Ladakh\", \"Madhya Pradesh\", \"Maharashtra\", \"Manipur\", \"Mizoram\", \"Odisha\", \"Puducherry\", \"Punjab\", \"Rajasthan\", \"Tamil Nadu\", \"Telengana\", \"Unassigned\", \"Uttar Pradesh\", \"Uttarakhand\", \"West Bengal\"], \"y\": [0.0, 0.0, 0.0, 0.0, 0.0, 0.0, 0.0, 0.0, 0.0, 0.0, 0.0, 0.0, 0.0, 0.0, 0.0, 3.0, 0.0, 0.0, 0.0, 0.0, 0.0, 0.0, 0.0, 0.0, 0.0, 0.0, 0.0, 0.0, 0.0, 0.0, 0.0], \"type\": \"bar\"}], \"layout\": {\"title\": {\"text\": \"Confirmed cases - 2020-02-23\"}}}, {\"data\": [{\"marker\": {\"color\": [\"#9370DB\", \"#F08080\", \"#2F4F4F\", \"#E6E6FA\", \"#FFE4C4\", \"#FF8C00\", \"#000000\", \"#A52A2A\", \"#A9A9A9\", \"#00FFFF\", \"#00FF00\", \"#F4A460\", \"#0000FF\", \"#8B008B\", \"#2F4F4F\", \"#1E90FF\", \"#87CEEB\", \"#3CB371\", \"#98FB98\", \"#8A2BE2\", \"#4169E1\", \"#F5DEB3\", \"#D2B48C\", \"#FF0000\", \"#F8F8FF\", \"#9400D3\", \"#FFC0CB\", \"#00FF7F\", \"#00BFFF\", \"#FFFAF0\", \"#F5F5DC\", \"#FFFACD\", \"#BDB76B\"]}, \"x\": [\"Andaman and Nicobar Islands\", \"Andhra Pradesh\", \"Arunachal Pradesh\", \"Assam\", \"Bihar\", \"Chandigarh\", \"Chhattisgarh\", \"Delhi\", \"Goa\", \"Gujarat\", \"Haryana\", \"Himachal Pradesh\", \"Jammu and Kashmir\", \"Jharkhand\", \"Karnataka\", \"Kerala\", \"Ladakh\", \"Madhya Pradesh\", \"Maharashtra\", \"Manipur\", \"Mizoram\", \"Odisha\", \"Puducherry\", \"Punjab\", \"Rajasthan\", \"Tamil Nadu\", \"Telengana\", \"Unassigned\", \"Uttar Pradesh\", \"Uttarakhand\", \"West Bengal\"], \"y\": [0.0, 0.0, 0.0, 0.0, 0.0, 0.0, 0.0, 0.0, 0.0, 0.0, 0.0, 0.0, 0.0, 0.0, 0.0, 3.0, 0.0, 0.0, 0.0, 0.0, 0.0, 0.0, 0.0, 0.0, 0.0, 0.0, 0.0, 0.0, 0.0, 0.0, 0.0], \"type\": \"bar\"}], \"layout\": {\"title\": {\"text\": \"Confirmed cases - 2020-02-24\"}}}, {\"data\": [{\"marker\": {\"color\": [\"#9370DB\", \"#F08080\", \"#2F4F4F\", \"#E6E6FA\", \"#FFE4C4\", \"#FF8C00\", \"#000000\", \"#A52A2A\", \"#A9A9A9\", \"#00FFFF\", \"#00FF00\", \"#F4A460\", \"#0000FF\", \"#8B008B\", \"#2F4F4F\", \"#1E90FF\", \"#87CEEB\", \"#3CB371\", \"#98FB98\", \"#8A2BE2\", \"#4169E1\", \"#F5DEB3\", \"#D2B48C\", \"#FF0000\", \"#F8F8FF\", \"#9400D3\", \"#FFC0CB\", \"#00FF7F\", \"#00BFFF\", \"#FFFAF0\", \"#F5F5DC\", \"#FFFACD\", \"#BDB76B\"]}, \"x\": [\"Andaman and Nicobar Islands\", \"Andhra Pradesh\", \"Arunachal Pradesh\", \"Assam\", \"Bihar\", \"Chandigarh\", \"Chhattisgarh\", \"Delhi\", \"Goa\", \"Gujarat\", \"Haryana\", \"Himachal Pradesh\", \"Jammu and Kashmir\", \"Jharkhand\", \"Karnataka\", \"Kerala\", \"Ladakh\", \"Madhya Pradesh\", \"Maharashtra\", \"Manipur\", \"Mizoram\", \"Odisha\", \"Puducherry\", \"Punjab\", \"Rajasthan\", \"Tamil Nadu\", \"Telengana\", \"Unassigned\", \"Uttar Pradesh\", \"Uttarakhand\", \"West Bengal\"], \"y\": [0.0, 0.0, 0.0, 0.0, 0.0, 0.0, 0.0, 0.0, 0.0, 0.0, 0.0, 0.0, 0.0, 0.0, 0.0, 3.0, 0.0, 0.0, 0.0, 0.0, 0.0, 0.0, 0.0, 0.0, 0.0, 0.0, 0.0, 0.0, 0.0, 0.0, 0.0], \"type\": \"bar\"}], \"layout\": {\"title\": {\"text\": \"Confirmed cases - 2020-02-25\"}}}, {\"data\": [{\"marker\": {\"color\": [\"#9370DB\", \"#F08080\", \"#2F4F4F\", \"#E6E6FA\", \"#FFE4C4\", \"#FF8C00\", \"#000000\", \"#A52A2A\", \"#A9A9A9\", \"#00FFFF\", \"#00FF00\", \"#F4A460\", \"#0000FF\", \"#8B008B\", \"#2F4F4F\", \"#1E90FF\", \"#87CEEB\", \"#3CB371\", \"#98FB98\", \"#8A2BE2\", \"#4169E1\", \"#F5DEB3\", \"#D2B48C\", \"#FF0000\", \"#F8F8FF\", \"#9400D3\", \"#FFC0CB\", \"#00FF7F\", \"#00BFFF\", \"#FFFAF0\", \"#F5F5DC\", \"#FFFACD\", \"#BDB76B\"]}, \"x\": [\"Andaman and Nicobar Islands\", \"Andhra Pradesh\", \"Arunachal Pradesh\", \"Assam\", \"Bihar\", \"Chandigarh\", \"Chhattisgarh\", \"Delhi\", \"Goa\", \"Gujarat\", \"Haryana\", \"Himachal Pradesh\", \"Jammu and Kashmir\", \"Jharkhand\", \"Karnataka\", \"Kerala\", \"Ladakh\", \"Madhya Pradesh\", \"Maharashtra\", \"Manipur\", \"Mizoram\", \"Odisha\", \"Puducherry\", \"Punjab\", \"Rajasthan\", \"Tamil Nadu\", \"Telengana\", \"Unassigned\", \"Uttar Pradesh\", \"Uttarakhand\", \"West Bengal\"], \"y\": [0.0, 0.0, 0.0, 0.0, 0.0, 0.0, 0.0, 0.0, 0.0, 0.0, 0.0, 0.0, 0.0, 0.0, 0.0, 3.0, 0.0, 0.0, 0.0, 0.0, 0.0, 0.0, 0.0, 0.0, 0.0, 0.0, 0.0, 0.0, 0.0, 0.0, 0.0], \"type\": \"bar\"}], \"layout\": {\"title\": {\"text\": \"Confirmed cases - 2020-02-26\"}}}, {\"data\": [{\"marker\": {\"color\": [\"#9370DB\", \"#F08080\", \"#2F4F4F\", \"#E6E6FA\", \"#FFE4C4\", \"#FF8C00\", \"#000000\", \"#A52A2A\", \"#A9A9A9\", \"#00FFFF\", \"#00FF00\", \"#F4A460\", \"#0000FF\", \"#8B008B\", \"#2F4F4F\", \"#1E90FF\", \"#87CEEB\", \"#3CB371\", \"#98FB98\", \"#8A2BE2\", \"#4169E1\", \"#F5DEB3\", \"#D2B48C\", \"#FF0000\", \"#F8F8FF\", \"#9400D3\", \"#FFC0CB\", \"#00FF7F\", \"#00BFFF\", \"#FFFAF0\", \"#F5F5DC\", \"#FFFACD\", \"#BDB76B\"]}, \"x\": [\"Andaman and Nicobar Islands\", \"Andhra Pradesh\", \"Arunachal Pradesh\", \"Assam\", \"Bihar\", \"Chandigarh\", \"Chhattisgarh\", \"Delhi\", \"Goa\", \"Gujarat\", \"Haryana\", \"Himachal Pradesh\", \"Jammu and Kashmir\", \"Jharkhand\", \"Karnataka\", \"Kerala\", \"Ladakh\", \"Madhya Pradesh\", \"Maharashtra\", \"Manipur\", \"Mizoram\", \"Odisha\", \"Puducherry\", \"Punjab\", \"Rajasthan\", \"Tamil Nadu\", \"Telengana\", \"Unassigned\", \"Uttar Pradesh\", \"Uttarakhand\", \"West Bengal\"], \"y\": [0.0, 0.0, 0.0, 0.0, 0.0, 0.0, 0.0, 0.0, 0.0, 0.0, 0.0, 0.0, 0.0, 0.0, 0.0, 3.0, 0.0, 0.0, 0.0, 0.0, 0.0, 0.0, 0.0, 0.0, 0.0, 0.0, 0.0, 0.0, 0.0, 0.0, 0.0], \"type\": \"bar\"}], \"layout\": {\"title\": {\"text\": \"Confirmed cases - 2020-02-27\"}}}, {\"data\": [{\"marker\": {\"color\": [\"#9370DB\", \"#F08080\", \"#2F4F4F\", \"#E6E6FA\", \"#FFE4C4\", \"#FF8C00\", \"#000000\", \"#A52A2A\", \"#A9A9A9\", \"#00FFFF\", \"#00FF00\", \"#F4A460\", \"#0000FF\", \"#8B008B\", \"#2F4F4F\", \"#1E90FF\", \"#87CEEB\", \"#3CB371\", \"#98FB98\", \"#8A2BE2\", \"#4169E1\", \"#F5DEB3\", \"#D2B48C\", \"#FF0000\", \"#F8F8FF\", \"#9400D3\", \"#FFC0CB\", \"#00FF7F\", \"#00BFFF\", \"#FFFAF0\", \"#F5F5DC\", \"#FFFACD\", \"#BDB76B\"]}, \"x\": [\"Andaman and Nicobar Islands\", \"Andhra Pradesh\", \"Arunachal Pradesh\", \"Assam\", \"Bihar\", \"Chandigarh\", \"Chhattisgarh\", \"Delhi\", \"Goa\", \"Gujarat\", \"Haryana\", \"Himachal Pradesh\", \"Jammu and Kashmir\", \"Jharkhand\", \"Karnataka\", \"Kerala\", \"Ladakh\", \"Madhya Pradesh\", \"Maharashtra\", \"Manipur\", \"Mizoram\", \"Odisha\", \"Puducherry\", \"Punjab\", \"Rajasthan\", \"Tamil Nadu\", \"Telengana\", \"Unassigned\", \"Uttar Pradesh\", \"Uttarakhand\", \"West Bengal\"], \"y\": [0.0, 0.0, 0.0, 0.0, 0.0, 0.0, 0.0, 0.0, 0.0, 0.0, 0.0, 0.0, 0.0, 0.0, 0.0, 3.0, 0.0, 0.0, 0.0, 0.0, 0.0, 0.0, 0.0, 0.0, 0.0, 0.0, 0.0, 0.0, 0.0, 0.0, 0.0], \"type\": \"bar\"}], \"layout\": {\"title\": {\"text\": \"Confirmed cases - 2020-02-28\"}}}, {\"data\": [{\"marker\": {\"color\": [\"#9370DB\", \"#F08080\", \"#2F4F4F\", \"#E6E6FA\", \"#FFE4C4\", \"#FF8C00\", \"#000000\", \"#A52A2A\", \"#A9A9A9\", \"#00FFFF\", \"#00FF00\", \"#F4A460\", \"#0000FF\", \"#8B008B\", \"#2F4F4F\", \"#1E90FF\", \"#87CEEB\", \"#3CB371\", \"#98FB98\", \"#8A2BE2\", \"#4169E1\", \"#F5DEB3\", \"#D2B48C\", \"#FF0000\", \"#F8F8FF\", \"#9400D3\", \"#FFC0CB\", \"#00FF7F\", \"#00BFFF\", \"#FFFAF0\", \"#F5F5DC\", \"#FFFACD\", \"#BDB76B\"]}, \"x\": [\"Andaman and Nicobar Islands\", \"Andhra Pradesh\", \"Arunachal Pradesh\", \"Assam\", \"Bihar\", \"Chandigarh\", \"Chhattisgarh\", \"Delhi\", \"Goa\", \"Gujarat\", \"Haryana\", \"Himachal Pradesh\", \"Jammu and Kashmir\", \"Jharkhand\", \"Karnataka\", \"Kerala\", \"Ladakh\", \"Madhya Pradesh\", \"Maharashtra\", \"Manipur\", \"Mizoram\", \"Odisha\", \"Puducherry\", \"Punjab\", \"Rajasthan\", \"Tamil Nadu\", \"Telengana\", \"Unassigned\", \"Uttar Pradesh\", \"Uttarakhand\", \"West Bengal\"], \"y\": [0.0, 0.0, 0.0, 0.0, 0.0, 0.0, 0.0, 0.0, 0.0, 0.0, 0.0, 0.0, 0.0, 0.0, 0.0, 3.0, 0.0, 0.0, 0.0, 0.0, 0.0, 0.0, 0.0, 0.0, 0.0, 0.0, 0.0, 0.0, 0.0, 0.0, 0.0], \"type\": \"bar\"}], \"layout\": {\"title\": {\"text\": \"Confirmed cases - 2020-02-29\"}}}, {\"data\": [{\"marker\": {\"color\": [\"#9370DB\", \"#F08080\", \"#2F4F4F\", \"#E6E6FA\", \"#FFE4C4\", \"#FF8C00\", \"#000000\", \"#A52A2A\", \"#A9A9A9\", \"#00FFFF\", \"#00FF00\", \"#F4A460\", \"#0000FF\", \"#8B008B\", \"#2F4F4F\", \"#1E90FF\", \"#87CEEB\", \"#3CB371\", \"#98FB98\", \"#8A2BE2\", \"#4169E1\", \"#F5DEB3\", \"#D2B48C\", \"#FF0000\", \"#F8F8FF\", \"#9400D3\", \"#FFC0CB\", \"#00FF7F\", \"#00BFFF\", \"#FFFAF0\", \"#F5F5DC\", \"#FFFACD\", \"#BDB76B\"]}, \"x\": [\"Andaman and Nicobar Islands\", \"Andhra Pradesh\", \"Arunachal Pradesh\", \"Assam\", \"Bihar\", \"Chandigarh\", \"Chhattisgarh\", \"Delhi\", \"Goa\", \"Gujarat\", \"Haryana\", \"Himachal Pradesh\", \"Jammu and Kashmir\", \"Jharkhand\", \"Karnataka\", \"Kerala\", \"Ladakh\", \"Madhya Pradesh\", \"Maharashtra\", \"Manipur\", \"Mizoram\", \"Odisha\", \"Puducherry\", \"Punjab\", \"Rajasthan\", \"Tamil Nadu\", \"Telengana\", \"Unassigned\", \"Uttar Pradesh\", \"Uttarakhand\", \"West Bengal\"], \"y\": [0.0, 0.0, 0.0, 0.0, 0.0, 0.0, 0.0, 0.0, 0.0, 0.0, 0.0, 0.0, 0.0, 0.0, 0.0, 3.0, 0.0, 0.0, 0.0, 0.0, 0.0, 0.0, 0.0, 0.0, 0.0, 0.0, 0.0, 0.0, 0.0, 0.0, 0.0], \"type\": \"bar\"}], \"layout\": {\"title\": {\"text\": \"Confirmed cases - 2020-03-01\"}}}, {\"data\": [{\"marker\": {\"color\": [\"#9370DB\", \"#F08080\", \"#2F4F4F\", \"#E6E6FA\", \"#FFE4C4\", \"#FF8C00\", \"#000000\", \"#A52A2A\", \"#A9A9A9\", \"#00FFFF\", \"#00FF00\", \"#F4A460\", \"#0000FF\", \"#8B008B\", \"#2F4F4F\", \"#1E90FF\", \"#87CEEB\", \"#3CB371\", \"#98FB98\", \"#8A2BE2\", \"#4169E1\", \"#F5DEB3\", \"#D2B48C\", \"#FF0000\", \"#F8F8FF\", \"#9400D3\", \"#FFC0CB\", \"#00FF7F\", \"#00BFFF\", \"#FFFAF0\", \"#F5F5DC\", \"#FFFACD\", \"#BDB76B\"]}, \"x\": [\"Andaman and Nicobar Islands\", \"Andhra Pradesh\", \"Arunachal Pradesh\", \"Assam\", \"Bihar\", \"Chandigarh\", \"Chhattisgarh\", \"Delhi\", \"Goa\", \"Gujarat\", \"Haryana\", \"Himachal Pradesh\", \"Jammu and Kashmir\", \"Jharkhand\", \"Karnataka\", \"Kerala\", \"Ladakh\", \"Madhya Pradesh\", \"Maharashtra\", \"Manipur\", \"Mizoram\", \"Odisha\", \"Puducherry\", \"Punjab\", \"Rajasthan\", \"Tamil Nadu\", \"Telengana\", \"Unassigned\", \"Uttar Pradesh\", \"Uttarakhand\", \"West Bengal\"], \"y\": [0.0, 0.0, 0.0, 0.0, 0.0, 0.0, 0.0, 1.0, 0.0, 0.0, 0.0, 0.0, 0.0, 0.0, 0.0, 3.0, 0.0, 0.0, 0.0, 0.0, 0.0, 0.0, 0.0, 0.0, 0.0, 0.0, 1.0, 0.0, 0.0, 0.0, 0.0], \"type\": \"bar\"}], \"layout\": {\"title\": {\"text\": \"Confirmed cases - 2020-03-02\"}}}, {\"data\": [{\"marker\": {\"color\": [\"#9370DB\", \"#F08080\", \"#2F4F4F\", \"#E6E6FA\", \"#FFE4C4\", \"#FF8C00\", \"#000000\", \"#A52A2A\", \"#A9A9A9\", \"#00FFFF\", \"#00FF00\", \"#F4A460\", \"#0000FF\", \"#8B008B\", \"#2F4F4F\", \"#1E90FF\", \"#87CEEB\", \"#3CB371\", \"#98FB98\", \"#8A2BE2\", \"#4169E1\", \"#F5DEB3\", \"#D2B48C\", \"#FF0000\", \"#F8F8FF\", \"#9400D3\", \"#FFC0CB\", \"#00FF7F\", \"#00BFFF\", \"#FFFAF0\", \"#F5F5DC\", \"#FFFACD\", \"#BDB76B\"]}, \"x\": [\"Andaman and Nicobar Islands\", \"Andhra Pradesh\", \"Arunachal Pradesh\", \"Assam\", \"Bihar\", \"Chandigarh\", \"Chhattisgarh\", \"Delhi\", \"Goa\", \"Gujarat\", \"Haryana\", \"Himachal Pradesh\", \"Jammu and Kashmir\", \"Jharkhand\", \"Karnataka\", \"Kerala\", \"Ladakh\", \"Madhya Pradesh\", \"Maharashtra\", \"Manipur\", \"Mizoram\", \"Odisha\", \"Puducherry\", \"Punjab\", \"Rajasthan\", \"Tamil Nadu\", \"Telengana\", \"Unassigned\", \"Uttar Pradesh\", \"Uttarakhand\", \"West Bengal\"], \"y\": [0.0, 0.0, 0.0, 0.0, 0.0, 0.0, 0.0, 1.0, 0.0, 0.0, 0.0, 0.0, 0.0, 0.0, 0.0, 3.0, 0.0, 0.0, 0.0, 0.0, 0.0, 0.0, 0.0, 0.0, 1.0, 0.0, 1.0, 0.0, 0.0, 0.0, 0.0], \"type\": \"bar\"}], \"layout\": {\"title\": {\"text\": \"Confirmed cases - 2020-03-03\"}}}, {\"data\": [{\"marker\": {\"color\": [\"#9370DB\", \"#F08080\", \"#2F4F4F\", \"#E6E6FA\", \"#FFE4C4\", \"#FF8C00\", \"#000000\", \"#A52A2A\", \"#A9A9A9\", \"#00FFFF\", \"#00FF00\", \"#F4A460\", \"#0000FF\", \"#8B008B\", \"#2F4F4F\", \"#1E90FF\", \"#87CEEB\", \"#3CB371\", \"#98FB98\", \"#8A2BE2\", \"#4169E1\", \"#F5DEB3\", \"#D2B48C\", \"#FF0000\", \"#F8F8FF\", \"#9400D3\", \"#FFC0CB\", \"#00FF7F\", \"#00BFFF\", \"#FFFAF0\", \"#F5F5DC\", \"#FFFACD\", \"#BDB76B\"]}, \"x\": [\"Andaman and Nicobar Islands\", \"Andhra Pradesh\", \"Arunachal Pradesh\", \"Assam\", \"Bihar\", \"Chandigarh\", \"Chhattisgarh\", \"Delhi\", \"Goa\", \"Gujarat\", \"Haryana\", \"Himachal Pradesh\", \"Jammu and Kashmir\", \"Jharkhand\", \"Karnataka\", \"Kerala\", \"Ladakh\", \"Madhya Pradesh\", \"Maharashtra\", \"Manipur\", \"Mizoram\", \"Odisha\", \"Puducherry\", \"Punjab\", \"Rajasthan\", \"Tamil Nadu\", \"Telengana\", \"Unassigned\", \"Uttar Pradesh\", \"Uttarakhand\", \"West Bengal\"], \"y\": [0.0, 0.0, 0.0, 0.0, 0.0, 0.0, 0.0, 1.0, 0.0, 0.0, 2.0, 0.0, 0.0, 0.0, 0.0, 3.0, 0.0, 0.0, 0.0, 0.0, 0.0, 0.0, 0.0, 0.0, 15.0, 0.0, 1.0, 0.0, 6.0, 0.0, 0.0], \"type\": \"bar\"}], \"layout\": {\"title\": {\"text\": \"Confirmed cases - 2020-03-04\"}}}, {\"data\": [{\"marker\": {\"color\": [\"#9370DB\", \"#F08080\", \"#2F4F4F\", \"#E6E6FA\", \"#FFE4C4\", \"#FF8C00\", \"#000000\", \"#A52A2A\", \"#A9A9A9\", \"#00FFFF\", \"#00FF00\", \"#F4A460\", \"#0000FF\", \"#8B008B\", \"#2F4F4F\", \"#1E90FF\", \"#87CEEB\", \"#3CB371\", \"#98FB98\", \"#8A2BE2\", \"#4169E1\", \"#F5DEB3\", \"#D2B48C\", \"#FF0000\", \"#F8F8FF\", \"#9400D3\", \"#FFC0CB\", \"#00FF7F\", \"#00BFFF\", \"#FFFAF0\", \"#F5F5DC\", \"#FFFACD\", \"#BDB76B\"]}, \"x\": [\"Andaman and Nicobar Islands\", \"Andhra Pradesh\", \"Arunachal Pradesh\", \"Assam\", \"Bihar\", \"Chandigarh\", \"Chhattisgarh\", \"Delhi\", \"Goa\", \"Gujarat\", \"Haryana\", \"Himachal Pradesh\", \"Jammu and Kashmir\", \"Jharkhand\", \"Karnataka\", \"Kerala\", \"Ladakh\", \"Madhya Pradesh\", \"Maharashtra\", \"Manipur\", \"Mizoram\", \"Odisha\", \"Puducherry\", \"Punjab\", \"Rajasthan\", \"Tamil Nadu\", \"Telengana\", \"Unassigned\", \"Uttar Pradesh\", \"Uttarakhand\", \"West Bengal\"], \"y\": [0.0, 0.0, 0.0, 0.0, 0.0, 0.0, 0.0, 2.0, 0.0, 0.0, 2.0, 0.0, 0.0, 0.0, 0.0, 3.0, 0.0, 0.0, 0.0, 0.0, 0.0, 0.0, 0.0, 0.0, 15.0, 0.0, 1.0, 0.0, 7.0, 0.0, 0.0], \"type\": \"bar\"}], \"layout\": {\"title\": {\"text\": \"Confirmed cases - 2020-03-05\"}}}, {\"data\": [{\"marker\": {\"color\": [\"#9370DB\", \"#F08080\", \"#2F4F4F\", \"#E6E6FA\", \"#FFE4C4\", \"#FF8C00\", \"#000000\", \"#A52A2A\", \"#A9A9A9\", \"#00FFFF\", \"#00FF00\", \"#F4A460\", \"#0000FF\", \"#8B008B\", \"#2F4F4F\", \"#1E90FF\", \"#87CEEB\", \"#3CB371\", \"#98FB98\", \"#8A2BE2\", \"#4169E1\", \"#F5DEB3\", \"#D2B48C\", \"#FF0000\", \"#F8F8FF\", \"#9400D3\", \"#FFC0CB\", \"#00FF7F\", \"#00BFFF\", \"#FFFAF0\", \"#F5F5DC\", \"#FFFACD\", \"#BDB76B\"]}, \"x\": [\"Andaman and Nicobar Islands\", \"Andhra Pradesh\", \"Arunachal Pradesh\", \"Assam\", \"Bihar\", \"Chandigarh\", \"Chhattisgarh\", \"Delhi\", \"Goa\", \"Gujarat\", \"Haryana\", \"Himachal Pradesh\", \"Jammu and Kashmir\", \"Jharkhand\", \"Karnataka\", \"Kerala\", \"Ladakh\", \"Madhya Pradesh\", \"Maharashtra\", \"Manipur\", \"Mizoram\", \"Odisha\", \"Puducherry\", \"Punjab\", \"Rajasthan\", \"Tamil Nadu\", \"Telengana\", \"Unassigned\", \"Uttar Pradesh\", \"Uttarakhand\", \"West Bengal\"], \"y\": [0.0, 0.0, 0.0, 0.0, 0.0, 0.0, 0.0, 3.0, 0.0, 0.0, 2.0, 0.0, 0.0, 0.0, 0.0, 3.0, 0.0, 0.0, 0.0, 0.0, 0.0, 0.0, 0.0, 0.0, 15.0, 0.0, 1.0, 0.0, 7.0, 0.0, 0.0], \"type\": \"bar\"}], \"layout\": {\"title\": {\"text\": \"Confirmed cases - 2020-03-06\"}}}, {\"data\": [{\"marker\": {\"color\": [\"#9370DB\", \"#F08080\", \"#2F4F4F\", \"#E6E6FA\", \"#FFE4C4\", \"#FF8C00\", \"#000000\", \"#A52A2A\", \"#A9A9A9\", \"#00FFFF\", \"#00FF00\", \"#F4A460\", \"#0000FF\", \"#8B008B\", \"#2F4F4F\", \"#1E90FF\", \"#87CEEB\", \"#3CB371\", \"#98FB98\", \"#8A2BE2\", \"#4169E1\", \"#F5DEB3\", \"#D2B48C\", \"#FF0000\", \"#F8F8FF\", \"#9400D3\", \"#FFC0CB\", \"#00FF7F\", \"#00BFFF\", \"#FFFAF0\", \"#F5F5DC\", \"#FFFACD\", \"#BDB76B\"]}, \"x\": [\"Andaman and Nicobar Islands\", \"Andhra Pradesh\", \"Arunachal Pradesh\", \"Assam\", \"Bihar\", \"Chandigarh\", \"Chhattisgarh\", \"Delhi\", \"Goa\", \"Gujarat\", \"Haryana\", \"Himachal Pradesh\", \"Jammu and Kashmir\", \"Jharkhand\", \"Karnataka\", \"Kerala\", \"Ladakh\", \"Madhya Pradesh\", \"Maharashtra\", \"Manipur\", \"Mizoram\", \"Odisha\", \"Puducherry\", \"Punjab\", \"Rajasthan\", \"Tamil Nadu\", \"Telengana\", \"Unassigned\", \"Uttar Pradesh\", \"Uttarakhand\", \"West Bengal\"], \"y\": [0.0, 0.0, 0.0, 0.0, 0.0, 0.0, 0.0, 3.0, 0.0, 0.0, 2.0, 0.0, 0.0, 0.0, 0.0, 3.0, 2.0, 0.0, 0.0, 0.0, 0.0, 0.0, 0.0, 0.0, 15.0, 1.0, 1.0, 0.0, 7.0, 0.0, 0.0], \"type\": \"bar\"}], \"layout\": {\"title\": {\"text\": \"Confirmed cases - 2020-03-07\"}}}, {\"data\": [{\"marker\": {\"color\": [\"#9370DB\", \"#F08080\", \"#2F4F4F\", \"#E6E6FA\", \"#FFE4C4\", \"#FF8C00\", \"#000000\", \"#A52A2A\", \"#A9A9A9\", \"#00FFFF\", \"#00FF00\", \"#F4A460\", \"#0000FF\", \"#8B008B\", \"#2F4F4F\", \"#1E90FF\", \"#87CEEB\", \"#3CB371\", \"#98FB98\", \"#8A2BE2\", \"#4169E1\", \"#F5DEB3\", \"#D2B48C\", \"#FF0000\", \"#F8F8FF\", \"#9400D3\", \"#FFC0CB\", \"#00FF7F\", \"#00BFFF\", \"#FFFAF0\", \"#F5F5DC\", \"#FFFACD\", \"#BDB76B\"]}, \"x\": [\"Andaman and Nicobar Islands\", \"Andhra Pradesh\", \"Arunachal Pradesh\", \"Assam\", \"Bihar\", \"Chandigarh\", \"Chhattisgarh\", \"Delhi\", \"Goa\", \"Gujarat\", \"Haryana\", \"Himachal Pradesh\", \"Jammu and Kashmir\", \"Jharkhand\", \"Karnataka\", \"Kerala\", \"Ladakh\", \"Madhya Pradesh\", \"Maharashtra\", \"Manipur\", \"Mizoram\", \"Odisha\", \"Puducherry\", \"Punjab\", \"Rajasthan\", \"Tamil Nadu\", \"Telengana\", \"Unassigned\", \"Uttar Pradesh\", \"Uttarakhand\", \"West Bengal\"], \"y\": [0.0, 0.0, 0.0, 0.0, 0.0, 0.0, 0.0, 3.0, 0.0, 0.0, 2.0, 0.0, 0.0, 0.0, 0.0, 8.0, 2.0, 0.0, 0.0, 0.0, 0.0, 0.0, 0.0, 0.0, 15.0, 1.0, 1.0, 0.0, 7.0, 0.0, 0.0], \"type\": \"bar\"}], \"layout\": {\"title\": {\"text\": \"Confirmed cases - 2020-03-08\"}}}, {\"data\": [{\"marker\": {\"color\": [\"#9370DB\", \"#F08080\", \"#2F4F4F\", \"#E6E6FA\", \"#FFE4C4\", \"#FF8C00\", \"#000000\", \"#A52A2A\", \"#A9A9A9\", \"#00FFFF\", \"#00FF00\", \"#F4A460\", \"#0000FF\", \"#8B008B\", \"#2F4F4F\", \"#1E90FF\", \"#87CEEB\", \"#3CB371\", \"#98FB98\", \"#8A2BE2\", \"#4169E1\", \"#F5DEB3\", \"#D2B48C\", \"#FF0000\", \"#F8F8FF\", \"#9400D3\", \"#FFC0CB\", \"#00FF7F\", \"#00BFFF\", \"#FFFAF0\", \"#F5F5DC\", \"#FFFACD\", \"#BDB76B\"]}, \"x\": [\"Andaman and Nicobar Islands\", \"Andhra Pradesh\", \"Arunachal Pradesh\", \"Assam\", \"Bihar\", \"Chandigarh\", \"Chhattisgarh\", \"Delhi\", \"Goa\", \"Gujarat\", \"Haryana\", \"Himachal Pradesh\", \"Jammu and Kashmir\", \"Jharkhand\", \"Karnataka\", \"Kerala\", \"Ladakh\", \"Madhya Pradesh\", \"Maharashtra\", \"Manipur\", \"Mizoram\", \"Odisha\", \"Puducherry\", \"Punjab\", \"Rajasthan\", \"Tamil Nadu\", \"Telengana\", \"Unassigned\", \"Uttar Pradesh\", \"Uttarakhand\", \"West Bengal\"], \"y\": [0.0, 0.0, 0.0, 0.0, 0.0, 0.0, 0.0, 4.0, 0.0, 0.0, 2.0, 0.0, 1.0, 0.0, 1.0, 9.0, 2.0, 0.0, 2.0, 0.0, 0.0, 0.0, 0.0, 1.0, 15.0, 1.0, 1.0, 0.0, 7.0, 0.0, 0.0], \"type\": \"bar\"}], \"layout\": {\"title\": {\"text\": \"Confirmed cases - 2020-03-09\"}}}, {\"data\": [{\"marker\": {\"color\": [\"#9370DB\", \"#F08080\", \"#2F4F4F\", \"#E6E6FA\", \"#FFE4C4\", \"#FF8C00\", \"#000000\", \"#A52A2A\", \"#A9A9A9\", \"#00FFFF\", \"#00FF00\", \"#F4A460\", \"#0000FF\", \"#8B008B\", \"#2F4F4F\", \"#1E90FF\", \"#87CEEB\", \"#3CB371\", \"#98FB98\", \"#8A2BE2\", \"#4169E1\", \"#F5DEB3\", \"#D2B48C\", \"#FF0000\", \"#F8F8FF\", \"#9400D3\", \"#FFC0CB\", \"#00FF7F\", \"#00BFFF\", \"#FFFAF0\", \"#F5F5DC\", \"#FFFACD\", \"#BDB76B\"]}, \"x\": [\"Andaman and Nicobar Islands\", \"Andhra Pradesh\", \"Arunachal Pradesh\", \"Assam\", \"Bihar\", \"Chandigarh\", \"Chhattisgarh\", \"Delhi\", \"Goa\", \"Gujarat\", \"Haryana\", \"Himachal Pradesh\", \"Jammu and Kashmir\", \"Jharkhand\", \"Karnataka\", \"Kerala\", \"Ladakh\", \"Madhya Pradesh\", \"Maharashtra\", \"Manipur\", \"Mizoram\", \"Odisha\", \"Puducherry\", \"Punjab\", \"Rajasthan\", \"Tamil Nadu\", \"Telengana\", \"Unassigned\", \"Uttar Pradesh\", \"Uttarakhand\", \"West Bengal\"], \"y\": [0.0, 0.0, 0.0, 0.0, 0.0, 0.0, 0.0, 4.0, 0.0, 0.0, 2.0, 0.0, 1.0, 0.0, 4.0, 15.0, 2.0, 0.0, 5.0, 0.0, 0.0, 0.0, 0.0, 1.0, 15.0, 1.0, 1.0, 0.0, 7.0, 0.0, 0.0], \"type\": \"bar\"}], \"layout\": {\"title\": {\"text\": \"Confirmed cases - 2020-03-10\"}}}, {\"data\": [{\"marker\": {\"color\": [\"#9370DB\", \"#F08080\", \"#2F4F4F\", \"#E6E6FA\", \"#FFE4C4\", \"#FF8C00\", \"#000000\", \"#A52A2A\", \"#A9A9A9\", \"#00FFFF\", \"#00FF00\", \"#F4A460\", \"#0000FF\", \"#8B008B\", \"#2F4F4F\", \"#1E90FF\", \"#87CEEB\", \"#3CB371\", \"#98FB98\", \"#8A2BE2\", \"#4169E1\", \"#F5DEB3\", \"#D2B48C\", \"#FF0000\", \"#F8F8FF\", \"#9400D3\", \"#FFC0CB\", \"#00FF7F\", \"#00BFFF\", \"#FFFAF0\", \"#F5F5DC\", \"#FFFACD\", \"#BDB76B\"]}, \"x\": [\"Andaman and Nicobar Islands\", \"Andhra Pradesh\", \"Arunachal Pradesh\", \"Assam\", \"Bihar\", \"Chandigarh\", \"Chhattisgarh\", \"Delhi\", \"Goa\", \"Gujarat\", \"Haryana\", \"Himachal Pradesh\", \"Jammu and Kashmir\", \"Jharkhand\", \"Karnataka\", \"Kerala\", \"Ladakh\", \"Madhya Pradesh\", \"Maharashtra\", \"Manipur\", \"Mizoram\", \"Odisha\", \"Puducherry\", \"Punjab\", \"Rajasthan\", \"Tamil Nadu\", \"Telengana\", \"Unassigned\", \"Uttar Pradesh\", \"Uttarakhand\", \"West Bengal\"], \"y\": [0.0, 0.0, 0.0, 0.0, 0.0, 0.0, 0.0, 5.0, 0.0, 0.0, 14.0, 0.0, 1.0, 0.0, 4.0, 17.0, 2.0, 0.0, 2.0, 0.0, 0.0, 0.0, 0.0, 1.0, 3.0, 1.0, 1.0, 0.0, 9.0, 0.0, 0.0], \"type\": \"bar\"}], \"layout\": {\"title\": {\"text\": \"Confirmed cases - 2020-03-11\"}}}, {\"data\": [{\"marker\": {\"color\": [\"#9370DB\", \"#F08080\", \"#2F4F4F\", \"#E6E6FA\", \"#FFE4C4\", \"#FF8C00\", \"#000000\", \"#A52A2A\", \"#A9A9A9\", \"#00FFFF\", \"#00FF00\", \"#F4A460\", \"#0000FF\", \"#8B008B\", \"#2F4F4F\", \"#1E90FF\", \"#87CEEB\", \"#3CB371\", \"#98FB98\", \"#8A2BE2\", \"#4169E1\", \"#F5DEB3\", \"#D2B48C\", \"#FF0000\", \"#F8F8FF\", \"#9400D3\", \"#FFC0CB\", \"#00FF7F\", \"#00BFFF\", \"#FFFAF0\", \"#F5F5DC\", \"#FFFACD\", \"#BDB76B\"]}, \"x\": [\"Andaman and Nicobar Islands\", \"Andhra Pradesh\", \"Arunachal Pradesh\", \"Assam\", \"Bihar\", \"Chandigarh\", \"Chhattisgarh\", \"Delhi\", \"Goa\", \"Gujarat\", \"Haryana\", \"Himachal Pradesh\", \"Jammu and Kashmir\", \"Jharkhand\", \"Karnataka\", \"Kerala\", \"Ladakh\", \"Madhya Pradesh\", \"Maharashtra\", \"Manipur\", \"Mizoram\", \"Odisha\", \"Puducherry\", \"Punjab\", \"Rajasthan\", \"Tamil Nadu\", \"Telengana\", \"Unassigned\", \"Uttar Pradesh\", \"Uttarakhand\", \"West Bengal\"], \"y\": [0.0, 1.0, 0.0, 0.0, 0.0, 0.0, 0.0, 6.0, 0.0, 0.0, 14.0, 0.0, 1.0, 0.0, 4.0, 17.0, 3.0, 0.0, 11.0, 0.0, 0.0, 0.0, 0.0, 1.0, 3.0, 1.0, 1.0, 0.0, 11.0, 0.0, 0.0], \"type\": \"bar\"}], \"layout\": {\"title\": {\"text\": \"Confirmed cases - 2020-03-12\"}}}, {\"data\": [{\"marker\": {\"color\": [\"#9370DB\", \"#F08080\", \"#2F4F4F\", \"#E6E6FA\", \"#FFE4C4\", \"#FF8C00\", \"#000000\", \"#A52A2A\", \"#A9A9A9\", \"#00FFFF\", \"#00FF00\", \"#F4A460\", \"#0000FF\", \"#8B008B\", \"#2F4F4F\", \"#1E90FF\", \"#87CEEB\", \"#3CB371\", \"#98FB98\", \"#8A2BE2\", \"#4169E1\", \"#F5DEB3\", \"#D2B48C\", \"#FF0000\", \"#F8F8FF\", \"#9400D3\", \"#FFC0CB\", \"#00FF7F\", \"#00BFFF\", \"#FFFAF0\", \"#F5F5DC\", \"#FFFACD\", \"#BDB76B\"]}, \"x\": [\"Andaman and Nicobar Islands\", \"Andhra Pradesh\", \"Arunachal Pradesh\", \"Assam\", \"Bihar\", \"Chandigarh\", \"Chhattisgarh\", \"Delhi\", \"Goa\", \"Gujarat\", \"Haryana\", \"Himachal Pradesh\", \"Jammu and Kashmir\", \"Jharkhand\", \"Karnataka\", \"Kerala\", \"Ladakh\", \"Madhya Pradesh\", \"Maharashtra\", \"Manipur\", \"Mizoram\", \"Odisha\", \"Puducherry\", \"Punjab\", \"Rajasthan\", \"Tamil Nadu\", \"Telengana\", \"Unassigned\", \"Uttar Pradesh\", \"Uttarakhand\", \"West Bengal\"], \"y\": [0.0, 1.0, 0.0, 0.0, 0.0, 0.0, 0.0, 6.0, 0.0, 0.0, 14.0, 0.0, 1.0, 0.0, 6.0, 19.0, 3.0, 0.0, 14.0, 0.0, 0.0, 0.0, 0.0, 1.0, 3.0, 1.0, 1.0, 0.0, 11.0, 0.0, 0.0], \"type\": \"bar\"}], \"layout\": {\"title\": {\"text\": \"Confirmed cases - 2020-03-13\"}}}, {\"data\": [{\"marker\": {\"color\": [\"#9370DB\", \"#F08080\", \"#2F4F4F\", \"#E6E6FA\", \"#FFE4C4\", \"#FF8C00\", \"#000000\", \"#A52A2A\", \"#A9A9A9\", \"#00FFFF\", \"#00FF00\", \"#F4A460\", \"#0000FF\", \"#8B008B\", \"#2F4F4F\", \"#1E90FF\", \"#87CEEB\", \"#3CB371\", \"#98FB98\", \"#8A2BE2\", \"#4169E1\", \"#F5DEB3\", \"#D2B48C\", \"#FF0000\", \"#F8F8FF\", \"#9400D3\", \"#FFC0CB\", \"#00FF7F\", \"#00BFFF\", \"#FFFAF0\", \"#F5F5DC\", \"#FFFACD\", \"#BDB76B\"]}, \"x\": [\"Andaman and Nicobar Islands\", \"Andhra Pradesh\", \"Arunachal Pradesh\", \"Assam\", \"Bihar\", \"Chandigarh\", \"Chhattisgarh\", \"Delhi\", \"Goa\", \"Gujarat\", \"Haryana\", \"Himachal Pradesh\", \"Jammu and Kashmir\", \"Jharkhand\", \"Karnataka\", \"Kerala\", \"Ladakh\", \"Madhya Pradesh\", \"Maharashtra\", \"Manipur\", \"Mizoram\", \"Odisha\", \"Puducherry\", \"Punjab\", \"Rajasthan\", \"Tamil Nadu\", \"Telengana\", \"Unassigned\", \"Uttar Pradesh\", \"Uttarakhand\", \"West Bengal\"], \"y\": [0.0, 1.0, 0.0, 0.0, 0.0, 0.0, 0.0, 7.0, 0.0, 0.0, 14.0, 0.0, 2.0, 0.0, 6.0, 19.0, 3.0, 0.0, 14.0, 0.0, 0.0, 0.0, 0.0, 1.0, 3.0, 1.0, 1.0, 0.0, 12.0, 0.0, 0.0], \"type\": \"bar\"}], \"layout\": {\"title\": {\"text\": \"Confirmed cases - 2020-03-14\"}}}, {\"data\": [{\"marker\": {\"color\": [\"#9370DB\", \"#F08080\", \"#2F4F4F\", \"#E6E6FA\", \"#FFE4C4\", \"#FF8C00\", \"#000000\", \"#A52A2A\", \"#A9A9A9\", \"#00FFFF\", \"#00FF00\", \"#F4A460\", \"#0000FF\", \"#8B008B\", \"#2F4F4F\", \"#1E90FF\", \"#87CEEB\", \"#3CB371\", \"#98FB98\", \"#8A2BE2\", \"#4169E1\", \"#F5DEB3\", \"#D2B48C\", \"#FF0000\", \"#F8F8FF\", \"#9400D3\", \"#FFC0CB\", \"#00FF7F\", \"#00BFFF\", \"#FFFAF0\", \"#F5F5DC\", \"#FFFACD\", \"#BDB76B\"]}, \"x\": [\"Andaman and Nicobar Islands\", \"Andhra Pradesh\", \"Arunachal Pradesh\", \"Assam\", \"Bihar\", \"Chandigarh\", \"Chhattisgarh\", \"Delhi\", \"Goa\", \"Gujarat\", \"Haryana\", \"Himachal Pradesh\", \"Jammu and Kashmir\", \"Jharkhand\", \"Karnataka\", \"Kerala\", \"Ladakh\", \"Madhya Pradesh\", \"Maharashtra\", \"Manipur\", \"Mizoram\", \"Odisha\", \"Puducherry\", \"Punjab\", \"Rajasthan\", \"Tamil Nadu\", \"Telengana\", \"Unassigned\", \"Uttar Pradesh\", \"Uttarakhand\", \"West Bengal\"], \"y\": [0.0, 1.0, 0.0, 0.0, 0.0, 0.0, 0.0, 7.0, 0.0, 0.0, 14.0, 0.0, 2.0, 0.0, 6.0, 22.0, 3.0, 0.0, 32.0, 0.0, 0.0, 0.0, 0.0, 1.0, 4.0, 1.0, 3.0, 0.0, 13.0, 1.0, 0.0], \"type\": \"bar\"}], \"layout\": {\"title\": {\"text\": \"Confirmed cases - 2020-03-15\"}}}, {\"data\": [{\"marker\": {\"color\": [\"#9370DB\", \"#F08080\", \"#2F4F4F\", \"#E6E6FA\", \"#FFE4C4\", \"#FF8C00\", \"#000000\", \"#A52A2A\", \"#A9A9A9\", \"#00FFFF\", \"#00FF00\", \"#F4A460\", \"#0000FF\", \"#8B008B\", \"#2F4F4F\", \"#1E90FF\", \"#87CEEB\", \"#3CB371\", \"#98FB98\", \"#8A2BE2\", \"#4169E1\", \"#F5DEB3\", \"#D2B48C\", \"#FF0000\", \"#F8F8FF\", \"#9400D3\", \"#FFC0CB\", \"#00FF7F\", \"#00BFFF\", \"#FFFAF0\", \"#F5F5DC\", \"#FFFACD\", \"#BDB76B\"]}, \"x\": [\"Andaman and Nicobar Islands\", \"Andhra Pradesh\", \"Arunachal Pradesh\", \"Assam\", \"Bihar\", \"Chandigarh\", \"Chhattisgarh\", \"Delhi\", \"Goa\", \"Gujarat\", \"Haryana\", \"Himachal Pradesh\", \"Jammu and Kashmir\", \"Jharkhand\", \"Karnataka\", \"Kerala\", \"Ladakh\", \"Madhya Pradesh\", \"Maharashtra\", \"Manipur\", \"Mizoram\", \"Odisha\", \"Puducherry\", \"Punjab\", \"Rajasthan\", \"Tamil Nadu\", \"Telengana\", \"Unassigned\", \"Uttar Pradesh\", \"Uttarakhand\", \"West Bengal\"], \"y\": [0.0, 1.0, 0.0, 0.0, 0.0, 0.0, 0.0, 7.0, 0.0, 0.0, 14.0, 0.0, 3.0, 0.0, 6.0, 23.0, 4.0, 0.0, 32.0, 0.0, 0.0, 1.0, 0.0, 1.0, 4.0, 1.0, 3.0, 0.0, 13.0, 1.0, 0.0], \"type\": \"bar\"}], \"layout\": {\"title\": {\"text\": \"Confirmed cases - 2020-03-16\"}}}, {\"data\": [{\"marker\": {\"color\": [\"#9370DB\", \"#F08080\", \"#2F4F4F\", \"#E6E6FA\", \"#FFE4C4\", \"#FF8C00\", \"#000000\", \"#A52A2A\", \"#A9A9A9\", \"#00FFFF\", \"#00FF00\", \"#F4A460\", \"#0000FF\", \"#8B008B\", \"#2F4F4F\", \"#1E90FF\", \"#87CEEB\", \"#3CB371\", \"#98FB98\", \"#8A2BE2\", \"#4169E1\", \"#F5DEB3\", \"#D2B48C\", \"#FF0000\", \"#F8F8FF\", \"#9400D3\", \"#FFC0CB\", \"#00FF7F\", \"#00BFFF\", \"#FFFAF0\", \"#F5F5DC\", \"#FFFACD\", \"#BDB76B\"]}, \"x\": [\"Andaman and Nicobar Islands\", \"Andhra Pradesh\", \"Arunachal Pradesh\", \"Assam\", \"Bihar\", \"Chandigarh\", \"Chhattisgarh\", \"Delhi\", \"Goa\", \"Gujarat\", \"Haryana\", \"Himachal Pradesh\", \"Jammu and Kashmir\", \"Jharkhand\", \"Karnataka\", \"Kerala\", \"Ladakh\", \"Madhya Pradesh\", \"Maharashtra\", \"Manipur\", \"Mizoram\", \"Odisha\", \"Puducherry\", \"Punjab\", \"Rajasthan\", \"Tamil Nadu\", \"Telengana\", \"Unassigned\", \"Uttar Pradesh\", \"Uttarakhand\", \"West Bengal\"], \"y\": [0.0, 1.0, 0.0, 0.0, 0.0, 0.0, 0.0, 8.0, 0.0, 0.0, 15.0, 0.0, 3.0, 0.0, 11.0, 26.0, 6.0, 0.0, 39.0, 0.0, 0.0, 1.0, 0.0, 1.0, 4.0, 1.0, 5.0, 0.0, 15.0, 1.0, 0.0], \"type\": \"bar\"}], \"layout\": {\"title\": {\"text\": \"Confirmed cases - 2020-03-17\"}}}, {\"data\": [{\"marker\": {\"color\": [\"#9370DB\", \"#F08080\", \"#2F4F4F\", \"#E6E6FA\", \"#FFE4C4\", \"#FF8C00\", \"#000000\", \"#A52A2A\", \"#A9A9A9\", \"#00FFFF\", \"#00FF00\", \"#F4A460\", \"#0000FF\", \"#8B008B\", \"#2F4F4F\", \"#1E90FF\", \"#87CEEB\", \"#3CB371\", \"#98FB98\", \"#8A2BE2\", \"#4169E1\", \"#F5DEB3\", \"#D2B48C\", \"#FF0000\", \"#F8F8FF\", \"#9400D3\", \"#FFC0CB\", \"#00FF7F\", \"#00BFFF\", \"#FFFAF0\", \"#F5F5DC\", \"#FFFACD\", \"#BDB76B\"]}, \"x\": [\"Andaman and Nicobar Islands\", \"Andhra Pradesh\", \"Arunachal Pradesh\", \"Assam\", \"Bihar\", \"Chandigarh\", \"Chhattisgarh\", \"Delhi\", \"Goa\", \"Gujarat\", \"Haryana\", \"Himachal Pradesh\", \"Jammu and Kashmir\", \"Jharkhand\", \"Karnataka\", \"Kerala\", \"Ladakh\", \"Madhya Pradesh\", \"Maharashtra\", \"Manipur\", \"Mizoram\", \"Odisha\", \"Puducherry\", \"Punjab\", \"Rajasthan\", \"Tamil Nadu\", \"Telengana\", \"Unassigned\", \"Uttar Pradesh\", \"Uttarakhand\", \"West Bengal\"], \"y\": [0.0, 1.0, 0.0, 0.0, 0.0, 0.0, 0.0, 10.0, 0.0, 0.0, 17.0, 0.0, 3.0, 0.0, 11.0, 27.0, 8.0, 0.0, 42.0, 0.0, 0.0, 1.0, 1.0, 1.0, 4.0, 1.0, 6.0, 0.0, 16.0, 1.0, 1.0], \"type\": \"bar\"}], \"layout\": {\"title\": {\"text\": \"Confirmed cases - 2020-03-18\"}}}, {\"data\": [{\"marker\": {\"color\": [\"#9370DB\", \"#F08080\", \"#2F4F4F\", \"#E6E6FA\", \"#FFE4C4\", \"#FF8C00\", \"#000000\", \"#A52A2A\", \"#A9A9A9\", \"#00FFFF\", \"#00FF00\", \"#F4A460\", \"#0000FF\", \"#8B008B\", \"#2F4F4F\", \"#1E90FF\", \"#87CEEB\", \"#3CB371\", \"#98FB98\", \"#8A2BE2\", \"#4169E1\", \"#F5DEB3\", \"#D2B48C\", \"#FF0000\", \"#F8F8FF\", \"#9400D3\", \"#FFC0CB\", \"#00FF7F\", \"#00BFFF\", \"#FFFAF0\", \"#F5F5DC\", \"#FFFACD\", \"#BDB76B\"]}, \"x\": [\"Andaman and Nicobar Islands\", \"Andhra Pradesh\", \"Arunachal Pradesh\", \"Assam\", \"Bihar\", \"Chandigarh\", \"Chhattisgarh\", \"Delhi\", \"Goa\", \"Gujarat\", \"Haryana\", \"Himachal Pradesh\", \"Jammu and Kashmir\", \"Jharkhand\", \"Karnataka\", \"Kerala\", \"Ladakh\", \"Madhya Pradesh\", \"Maharashtra\", \"Manipur\", \"Mizoram\", \"Odisha\", \"Puducherry\", \"Punjab\", \"Rajasthan\", \"Tamil Nadu\", \"Telengana\", \"Unassigned\", \"Uttar Pradesh\", \"Uttarakhand\", \"West Bengal\"], \"y\": [0.0, 2.0, 0.0, 0.0, 0.0, 1.0, 1.0, 12.0, 0.0, 0.0, 17.0, 0.0, 4.0, 0.0, 14.0, 27.0, 8.0, 0.0, 47.0, 0.0, 0.0, 1.0, 1.0, 2.0, 7.0, 2.0, 6.0, 0.0, 19.0, 1.0, 1.0], \"type\": \"bar\"}], \"layout\": {\"title\": {\"text\": \"Confirmed cases - 2020-03-19\"}}}, {\"data\": [{\"marker\": {\"color\": [\"#9370DB\", \"#F08080\", \"#2F4F4F\", \"#E6E6FA\", \"#FFE4C4\", \"#FF8C00\", \"#000000\", \"#A52A2A\", \"#A9A9A9\", \"#00FFFF\", \"#00FF00\", \"#F4A460\", \"#0000FF\", \"#8B008B\", \"#2F4F4F\", \"#1E90FF\", \"#87CEEB\", \"#3CB371\", \"#98FB98\", \"#8A2BE2\", \"#4169E1\", \"#F5DEB3\", \"#D2B48C\", \"#FF0000\", \"#F8F8FF\", \"#9400D3\", \"#FFC0CB\", \"#00FF7F\", \"#00BFFF\", \"#FFFAF0\", \"#F5F5DC\", \"#FFFACD\", \"#BDB76B\"]}, \"x\": [\"Andaman and Nicobar Islands\", \"Andhra Pradesh\", \"Arunachal Pradesh\", \"Assam\", \"Bihar\", \"Chandigarh\", \"Chhattisgarh\", \"Delhi\", \"Goa\", \"Gujarat\", \"Haryana\", \"Himachal Pradesh\", \"Jammu and Kashmir\", \"Jharkhand\", \"Karnataka\", \"Kerala\", \"Ladakh\", \"Madhya Pradesh\", \"Maharashtra\", \"Manipur\", \"Mizoram\", \"Odisha\", \"Puducherry\", \"Punjab\", \"Rajasthan\", \"Tamil Nadu\", \"Telengana\", \"Unassigned\", \"Uttar Pradesh\", \"Uttarakhand\", \"West Bengal\"], \"y\": [0.0, 3.0, 0.0, 0.0, 0.0, 1.0, 1.0, 17.0, 0.0, 5.0, 17.0, 0.0, 4.0, 0.0, 15.0, 28.0, 10.0, 0.0, 52.0, 0.0, 0.0, 2.0, 1.0, 2.0, 17.0, 3.0, 17.0, 0.0, 23.0, 3.0, 2.0], \"type\": \"bar\"}], \"layout\": {\"title\": {\"text\": \"Confirmed cases - 2020-03-20\"}}}, {\"data\": [{\"marker\": {\"color\": [\"#9370DB\", \"#F08080\", \"#2F4F4F\", \"#E6E6FA\", \"#FFE4C4\", \"#FF8C00\", \"#000000\", \"#A52A2A\", \"#A9A9A9\", \"#00FFFF\", \"#00FF00\", \"#F4A460\", \"#0000FF\", \"#8B008B\", \"#2F4F4F\", \"#1E90FF\", \"#87CEEB\", \"#3CB371\", \"#98FB98\", \"#8A2BE2\", \"#4169E1\", \"#F5DEB3\", \"#D2B48C\", \"#FF0000\", \"#F8F8FF\", \"#9400D3\", \"#FFC0CB\", \"#00FF7F\", \"#00BFFF\", \"#FFFAF0\", \"#F5F5DC\", \"#FFFACD\", \"#BDB76B\"]}, \"x\": [\"Andaman and Nicobar Islands\", \"Andhra Pradesh\", \"Arunachal Pradesh\", \"Assam\", \"Bihar\", \"Chandigarh\", \"Chhattisgarh\", \"Delhi\", \"Goa\", \"Gujarat\", \"Haryana\", \"Himachal Pradesh\", \"Jammu and Kashmir\", \"Jharkhand\", \"Karnataka\", \"Kerala\", \"Ladakh\", \"Madhya Pradesh\", \"Maharashtra\", \"Manipur\", \"Mizoram\", \"Odisha\", \"Puducherry\", \"Punjab\", \"Rajasthan\", \"Tamil Nadu\", \"Telengana\", \"Unassigned\", \"Uttar Pradesh\", \"Uttarakhand\", \"West Bengal\"], \"y\": [0.0, 3.0, 0.0, 0.0, 0.0, 1.0, 1.0, 26.0, 0.0, 7.0, 17.0, 2.0, 4.0, 0.0, 15.0, 40.0, 13.0, 4.0, 63.0, 0.0, 0.0, 2.0, 1.0, 13.0, 17.0, 3.0, 21.0, 0.0, 24.0, 3.0, 3.0], \"type\": \"bar\"}], \"layout\": {\"title\": {\"text\": \"Confirmed cases - 2020-03-21\"}}}, {\"data\": [{\"marker\": {\"color\": [\"#9370DB\", \"#F08080\", \"#2F4F4F\", \"#E6E6FA\", \"#FFE4C4\", \"#FF8C00\", \"#000000\", \"#A52A2A\", \"#A9A9A9\", \"#00FFFF\", \"#00FF00\", \"#F4A460\", \"#0000FF\", \"#8B008B\", \"#2F4F4F\", \"#1E90FF\", \"#87CEEB\", \"#3CB371\", \"#98FB98\", \"#8A2BE2\", \"#4169E1\", \"#F5DEB3\", \"#D2B48C\", \"#FF0000\", \"#F8F8FF\", \"#9400D3\", \"#FFC0CB\", \"#00FF7F\", \"#00BFFF\", \"#FFFAF0\", \"#F5F5DC\", \"#FFFACD\", \"#BDB76B\"]}, \"x\": [\"Andaman and Nicobar Islands\", \"Andhra Pradesh\", \"Arunachal Pradesh\", \"Assam\", \"Bihar\", \"Chandigarh\", \"Chhattisgarh\", \"Delhi\", \"Goa\", \"Gujarat\", \"Haryana\", \"Himachal Pradesh\", \"Jammu and Kashmir\", \"Jharkhand\", \"Karnataka\", \"Kerala\", \"Ladakh\", \"Madhya Pradesh\", \"Maharashtra\", \"Manipur\", \"Mizoram\", \"Odisha\", \"Puducherry\", \"Punjab\", \"Rajasthan\", \"Tamil Nadu\", \"Telengana\", \"Unassigned\", \"Uttar Pradesh\", \"Uttarakhand\", \"West Bengal\"], \"y\": [0.0, 5.0, 0.0, 0.0, 2.0, 5.0, 1.0, 29.0, 0.0, 18.0, 21.0, 2.0, 4.0, 0.0, 26.0, 52.0, 13.0, 4.0, 67.0, 0.0, 0.0, 2.0, 1.0, 21.0, 24.0, 7.0, 22.0, 0.0, 27.0, 3.0, 4.0], \"type\": \"bar\"}], \"layout\": {\"title\": {\"text\": \"Confirmed cases - 2020-03-22\"}}}, {\"data\": [{\"marker\": {\"color\": [\"#9370DB\", \"#F08080\", \"#2F4F4F\", \"#E6E6FA\", \"#FFE4C4\", \"#FF8C00\", \"#000000\", \"#A52A2A\", \"#A9A9A9\", \"#00FFFF\", \"#00FF00\", \"#F4A460\", \"#0000FF\", \"#8B008B\", \"#2F4F4F\", \"#1E90FF\", \"#87CEEB\", \"#3CB371\", \"#98FB98\", \"#8A2BE2\", \"#4169E1\", \"#F5DEB3\", \"#D2B48C\", \"#FF0000\", \"#F8F8FF\", \"#9400D3\", \"#FFC0CB\", \"#00FF7F\", \"#00BFFF\", \"#FFFAF0\", \"#F5F5DC\", \"#FFFACD\", \"#BDB76B\"]}, \"x\": [\"Andaman and Nicobar Islands\", \"Andhra Pradesh\", \"Arunachal Pradesh\", \"Assam\", \"Bihar\", \"Chandigarh\", \"Chhattisgarh\", \"Delhi\", \"Goa\", \"Gujarat\", \"Haryana\", \"Himachal Pradesh\", \"Jammu and Kashmir\", \"Jharkhand\", \"Karnataka\", \"Kerala\", \"Ladakh\", \"Madhya Pradesh\", \"Maharashtra\", \"Manipur\", \"Mizoram\", \"Odisha\", \"Puducherry\", \"Punjab\", \"Rajasthan\", \"Tamil Nadu\", \"Telengana\", \"Unassigned\", \"Uttar Pradesh\", \"Uttarakhand\", \"West Bengal\"], \"y\": [0.0, 7.0, 0.0, 0.0, 2.0, 6.0, 1.0, 29.0, 0.0, 29.0, 26.0, 2.0, 4.0, 0.0, 33.0, 67.0, 13.0, 6.0, 74.0, 0.0, 0.0, 2.0, 1.0, 21.0, 28.0, 9.0, 32.0, 0.0, 31.0, 3.0, 7.0], \"type\": \"bar\"}], \"layout\": {\"title\": {\"text\": \"Confirmed cases - 2020-03-23\"}}}, {\"data\": [{\"marker\": {\"color\": [\"#9370DB\", \"#F08080\", \"#2F4F4F\", \"#E6E6FA\", \"#FFE4C4\", \"#FF8C00\", \"#000000\", \"#A52A2A\", \"#A9A9A9\", \"#00FFFF\", \"#00FF00\", \"#F4A460\", \"#0000FF\", \"#8B008B\", \"#2F4F4F\", \"#1E90FF\", \"#87CEEB\", \"#3CB371\", \"#98FB98\", \"#8A2BE2\", \"#4169E1\", \"#F5DEB3\", \"#D2B48C\", \"#FF0000\", \"#F8F8FF\", \"#9400D3\", \"#FFC0CB\", \"#00FF7F\", \"#00BFFF\", \"#FFFAF0\", \"#F5F5DC\", \"#FFFACD\", \"#BDB76B\"]}, \"x\": [\"Andaman and Nicobar Islands\", \"Andhra Pradesh\", \"Arunachal Pradesh\", \"Assam\", \"Bihar\", \"Chandigarh\", \"Chhattisgarh\", \"Delhi\", \"Goa\", \"Gujarat\", \"Haryana\", \"Himachal Pradesh\", \"Jammu and Kashmir\", \"Jharkhand\", \"Karnataka\", \"Kerala\", \"Ladakh\", \"Madhya Pradesh\", \"Maharashtra\", \"Manipur\", \"Mizoram\", \"Odisha\", \"Puducherry\", \"Punjab\", \"Rajasthan\", \"Tamil Nadu\", \"Telengana\", \"Unassigned\", \"Uttar Pradesh\", \"Uttarakhand\", \"West Bengal\"], \"y\": [0.0, 8.0, 0.0, 0.0, 3.0, 7.0, 1.0, 30.0, 0.0, 33.0, 28.0, 3.0, 4.0, 0.0, 37.0, 95.0, 13.0, 7.0, 89.0, 1.0, 0.0, 2.0, 1.0, 29.0, 32.0, 15.0, 35.0, 0.0, 33.0, 4.0, 9.0], \"type\": \"bar\"}], \"layout\": {\"title\": {\"text\": \"Confirmed cases - 2020-03-24\"}}}, {\"data\": [{\"marker\": {\"color\": [\"#9370DB\", \"#F08080\", \"#2F4F4F\", \"#E6E6FA\", \"#FFE4C4\", \"#FF8C00\", \"#000000\", \"#A52A2A\", \"#A9A9A9\", \"#00FFFF\", \"#00FF00\", \"#F4A460\", \"#0000FF\", \"#8B008B\", \"#2F4F4F\", \"#1E90FF\", \"#87CEEB\", \"#3CB371\", \"#98FB98\", \"#8A2BE2\", \"#4169E1\", \"#F5DEB3\", \"#D2B48C\", \"#FF0000\", \"#F8F8FF\", \"#9400D3\", \"#FFC0CB\", \"#00FF7F\", \"#00BFFF\", \"#FFFAF0\", \"#F5F5DC\", \"#FFFACD\", \"#BDB76B\"]}, \"x\": [\"Andaman and Nicobar Islands\", \"Andhra Pradesh\", \"Arunachal Pradesh\", \"Assam\", \"Bihar\", \"Chandigarh\", \"Chhattisgarh\", \"Delhi\", \"Goa\", \"Gujarat\", \"Haryana\", \"Himachal Pradesh\", \"Jammu and Kashmir\", \"Jharkhand\", \"Karnataka\", \"Kerala\", \"Ladakh\", \"Madhya Pradesh\", \"Maharashtra\", \"Manipur\", \"Mizoram\", \"Odisha\", \"Puducherry\", \"Punjab\", \"Rajasthan\", \"Tamil Nadu\", \"Telengana\", \"Unassigned\", \"Uttar Pradesh\", \"Uttarakhand\", \"West Bengal\"], \"y\": [0.0, 9.0, 0.0, 0.0, 4.0, 7.0, 1.0, 31.0, 0.0, 38.0, 28.0, 3.0, 7.0, 0.0, 41.0, 109.0, 13.0, 14.0, 128.0, 1.0, 1.0, 2.0, 1.0, 29.0, 36.0, 18.0, 35.0, 0.0, 37.0, 4.0, 9.0], \"type\": \"bar\"}], \"layout\": {\"title\": {\"text\": \"Confirmed cases - 2020-03-25\"}}}, {\"data\": [{\"marker\": {\"color\": [\"#9370DB\", \"#F08080\", \"#2F4F4F\", \"#E6E6FA\", \"#FFE4C4\", \"#FF8C00\", \"#000000\", \"#A52A2A\", \"#A9A9A9\", \"#00FFFF\", \"#00FF00\", \"#F4A460\", \"#0000FF\", \"#8B008B\", \"#2F4F4F\", \"#1E90FF\", \"#87CEEB\", \"#3CB371\", \"#98FB98\", \"#8A2BE2\", \"#4169E1\", \"#F5DEB3\", \"#D2B48C\", \"#FF0000\", \"#F8F8FF\", \"#9400D3\", \"#FFC0CB\", \"#00FF7F\", \"#00BFFF\", \"#FFFAF0\", \"#F5F5DC\", \"#FFFACD\", \"#BDB76B\"]}, \"x\": [\"Andaman and Nicobar Islands\", \"Andhra Pradesh\", \"Arunachal Pradesh\", \"Assam\", \"Bihar\", \"Chandigarh\", \"Chhattisgarh\", \"Delhi\", \"Goa\", \"Gujarat\", \"Haryana\", \"Himachal Pradesh\", \"Jammu and Kashmir\", \"Jharkhand\", \"Karnataka\", \"Kerala\", \"Ladakh\", \"Madhya Pradesh\", \"Maharashtra\", \"Manipur\", \"Mizoram\", \"Odisha\", \"Puducherry\", \"Punjab\", \"Rajasthan\", \"Tamil Nadu\", \"Telengana\", \"Unassigned\", \"Uttar Pradesh\", \"Uttarakhand\", \"West Bengal\"], \"y\": [1.0, 11.0, 0.0, 0.0, 6.0, 7.0, 6.0, 36.0, 3.0, 43.0, 30.0, 3.0, 13.0, 0.0, 55.0, 118.0, 13.0, 20.0, 124.0, 1.0, 1.0, 2.0, 1.0, 33.0, 41.0, 26.0, 44.0, 0.0, 41.0, 5.0, 10.0], \"type\": \"bar\"}], \"layout\": {\"title\": {\"text\": \"Confirmed cases - 2020-03-26\"}}}, {\"data\": [{\"marker\": {\"color\": [\"#9370DB\", \"#F08080\", \"#2F4F4F\", \"#E6E6FA\", \"#FFE4C4\", \"#FF8C00\", \"#000000\", \"#A52A2A\", \"#A9A9A9\", \"#00FFFF\", \"#00FF00\", \"#F4A460\", \"#0000FF\", \"#8B008B\", \"#2F4F4F\", \"#1E90FF\", \"#87CEEB\", \"#3CB371\", \"#98FB98\", \"#8A2BE2\", \"#4169E1\", \"#F5DEB3\", \"#D2B48C\", \"#FF0000\", \"#F8F8FF\", \"#9400D3\", \"#FFC0CB\", \"#00FF7F\", \"#00BFFF\", \"#FFFAF0\", \"#F5F5DC\", \"#FFFACD\", \"#BDB76B\"]}, \"x\": [\"Andaman and Nicobar Islands\", \"Andhra Pradesh\", \"Arunachal Pradesh\", \"Assam\", \"Bihar\", \"Chandigarh\", \"Chhattisgarh\", \"Delhi\", \"Goa\", \"Gujarat\", \"Haryana\", \"Himachal Pradesh\", \"Jammu and Kashmir\", \"Jharkhand\", \"Karnataka\", \"Kerala\", \"Ladakh\", \"Madhya Pradesh\", \"Maharashtra\", \"Manipur\", \"Mizoram\", \"Odisha\", \"Puducherry\", \"Punjab\", \"Rajasthan\", \"Tamil Nadu\", \"Telengana\", \"Unassigned\", \"Uttar Pradesh\", \"Uttarakhand\", \"West Bengal\"], \"y\": [1.0, 12.0, 0.0, 0.0, 6.0, 7.0, 6.0, 36.0, 3.0, 43.0, 30.0, 3.0, 13.0, 0.0, 55.0, 137.0, 13.0, 20.0, 130.0, 1.0, 1.0, 2.0, 1.0, 33.0, 41.0, 29.0, 45.0, 0.0, 41.0, 5.0, 10.0], \"type\": \"bar\"}], \"layout\": {\"title\": {\"text\": \"Confirmed cases - 2020-03-27\"}}}, {\"data\": [{\"marker\": {\"color\": [\"#9370DB\", \"#F08080\", \"#2F4F4F\", \"#E6E6FA\", \"#FFE4C4\", \"#FF8C00\", \"#000000\", \"#A52A2A\", \"#A9A9A9\", \"#00FFFF\", \"#00FF00\", \"#F4A460\", \"#0000FF\", \"#8B008B\", \"#2F4F4F\", \"#1E90FF\", \"#87CEEB\", \"#3CB371\", \"#98FB98\", \"#8A2BE2\", \"#4169E1\", \"#F5DEB3\", \"#D2B48C\", \"#FF0000\", \"#F8F8FF\", \"#9400D3\", \"#FFC0CB\", \"#00FF7F\", \"#00BFFF\", \"#FFFAF0\", \"#F5F5DC\", \"#FFFACD\", \"#BDB76B\"]}, \"x\": [\"Andaman and Nicobar Islands\", \"Andhra Pradesh\", \"Arunachal Pradesh\", \"Assam\", \"Bihar\", \"Chandigarh\", \"Chhattisgarh\", \"Delhi\", \"Goa\", \"Gujarat\", \"Haryana\", \"Himachal Pradesh\", \"Jammu and Kashmir\", \"Jharkhand\", \"Karnataka\", \"Kerala\", \"Ladakh\", \"Madhya Pradesh\", \"Maharashtra\", \"Manipur\", \"Mizoram\", \"Odisha\", \"Puducherry\", \"Punjab\", \"Rajasthan\", \"Tamil Nadu\", \"Telengana\", \"Unassigned\", \"Uttar Pradesh\", \"Uttarakhand\", \"West Bengal\"], \"y\": [6.0, 14.0, 0.0, 0.0, 9.0, 8.0, 6.0, 39.0, 3.0, 45.0, 33.0, 3.0, 20.0, 0.0, 55.0, 176.0, 13.0, 30.0, 180.0, 1.0, 1.0, 3.0, 1.0, 38.0, 54.0, 40.0, 56.0, 0.0, 55.0, 5.0, 15.0], \"type\": \"bar\"}], \"layout\": {\"title\": {\"text\": \"Confirmed cases - 2020-03-28\"}}}, {\"data\": [{\"marker\": {\"color\": [\"#9370DB\", \"#F08080\", \"#2F4F4F\", \"#E6E6FA\", \"#FFE4C4\", \"#FF8C00\", \"#000000\", \"#A52A2A\", \"#A9A9A9\", \"#00FFFF\", \"#00FF00\", \"#F4A460\", \"#0000FF\", \"#8B008B\", \"#2F4F4F\", \"#1E90FF\", \"#87CEEB\", \"#3CB371\", \"#98FB98\", \"#8A2BE2\", \"#4169E1\", \"#F5DEB3\", \"#D2B48C\", \"#FF0000\", \"#F8F8FF\", \"#9400D3\", \"#FFC0CB\", \"#00FF7F\", \"#00BFFF\", \"#FFFAF0\", \"#F5F5DC\", \"#FFFACD\", \"#BDB76B\"]}, \"x\": [\"Andaman and Nicobar Islands\", \"Andhra Pradesh\", \"Arunachal Pradesh\", \"Assam\", \"Bihar\", \"Chandigarh\", \"Chhattisgarh\", \"Delhi\", \"Goa\", \"Gujarat\", \"Haryana\", \"Himachal Pradesh\", \"Jammu and Kashmir\", \"Jharkhand\", \"Karnataka\", \"Kerala\", \"Ladakh\", \"Madhya Pradesh\", \"Maharashtra\", \"Manipur\", \"Mizoram\", \"Odisha\", \"Puducherry\", \"Punjab\", \"Rajasthan\", \"Tamil Nadu\", \"Telengana\", \"Unassigned\", \"Uttar Pradesh\", \"Uttarakhand\", \"West Bengal\"], \"y\": [9.0, 19.0, 0.0, 0.0, 11.0, 8.0, 7.0, 49.0, 5.0, 58.0, 33.0, 3.0, 31.0, 0.0, 76.0, 182.0, 13.0, 30.0, 186.0, 1.0, 1.0, 3.0, 1.0, 38.0, 55.0, 49.0, 66.0, 0.0, 65.0, 7.0, 18.0], \"type\": \"bar\"}], \"layout\": {\"title\": {\"text\": \"Confirmed cases - 2020-03-29\"}}}, {\"data\": [{\"marker\": {\"color\": [\"#9370DB\", \"#F08080\", \"#2F4F4F\", \"#E6E6FA\", \"#FFE4C4\", \"#FF8C00\", \"#000000\", \"#A52A2A\", \"#A9A9A9\", \"#00FFFF\", \"#00FF00\", \"#F4A460\", \"#0000FF\", \"#8B008B\", \"#2F4F4F\", \"#1E90FF\", \"#87CEEB\", \"#3CB371\", \"#98FB98\", \"#8A2BE2\", \"#4169E1\", \"#F5DEB3\", \"#D2B48C\", \"#FF0000\", \"#F8F8FF\", \"#9400D3\", \"#FFC0CB\", \"#00FF7F\", \"#00BFFF\", \"#FFFAF0\", \"#F5F5DC\", \"#FFFACD\", \"#BDB76B\"]}, \"x\": [\"Andaman and Nicobar Islands\", \"Andhra Pradesh\", \"Arunachal Pradesh\", \"Assam\", \"Bihar\", \"Chandigarh\", \"Chhattisgarh\", \"Delhi\", \"Goa\", \"Gujarat\", \"Haryana\", \"Himachal Pradesh\", \"Jammu and Kashmir\", \"Jharkhand\", \"Karnataka\", \"Kerala\", \"Ladakh\", \"Madhya Pradesh\", \"Maharashtra\", \"Manipur\", \"Mizoram\", \"Odisha\", \"Puducherry\", \"Punjab\", \"Rajasthan\", \"Tamil Nadu\", \"Telengana\", \"Unassigned\", \"Uttar Pradesh\", \"Uttarakhand\", \"West Bengal\"], \"y\": [9.0, 23.0, 0.0, 0.0, 15.0, 8.0, 7.0, 87.0, 5.0, 69.0, 36.0, 3.0, 48.0, 0.0, 83.0, 202.0, 13.0, 47.0, 198.0, 1.0, 1.0, 3.0, 1.0, 38.0, 59.0, 67.0, 71.0, 46.0, 82.0, 7.0, 22.0], \"type\": \"bar\"}], \"layout\": {\"title\": {\"text\": \"Confirmed cases - 2020-03-30\"}}}, {\"data\": [{\"marker\": {\"color\": [\"#9370DB\", \"#F08080\", \"#2F4F4F\", \"#E6E6FA\", \"#FFE4C4\", \"#FF8C00\", \"#000000\", \"#A52A2A\", \"#A9A9A9\", \"#00FFFF\", \"#00FF00\", \"#F4A460\", \"#0000FF\", \"#8B008B\", \"#2F4F4F\", \"#1E90FF\", \"#87CEEB\", \"#3CB371\", \"#98FB98\", \"#8A2BE2\", \"#4169E1\", \"#F5DEB3\", \"#D2B48C\", \"#FF0000\", \"#F8F8FF\", \"#9400D3\", \"#FFC0CB\", \"#00FF7F\", \"#00BFFF\", \"#FFFAF0\", \"#F5F5DC\", \"#FFFACD\", \"#BDB76B\"]}, \"x\": [\"Andaman and Nicobar Islands\", \"Andhra Pradesh\", \"Arunachal Pradesh\", \"Assam\", \"Bihar\", \"Chandigarh\", \"Chhattisgarh\", \"Delhi\", \"Goa\", \"Gujarat\", \"Haryana\", \"Himachal Pradesh\", \"Jammu and Kashmir\", \"Jharkhand\", \"Karnataka\", \"Kerala\", \"Ladakh\", \"Madhya Pradesh\", \"Maharashtra\", \"Manipur\", \"Mizoram\", \"Odisha\", \"Puducherry\", \"Punjab\", \"Rajasthan\", \"Tamil Nadu\", \"Telengana\", \"Unassigned\", \"Uttar Pradesh\", \"Uttarakhand\", \"West Bengal\"], \"y\": [10.0, 40.0, 0.0, 0.0, 15.0, 13.0, 8.0, 97.0, 5.0, 73.0, 40.0, 3.0, 54.0, 0.0, 83.0, 234.0, 13.0, 47.0, 216.0, 1.0, 1.0, 3.0, 1.0, 41.0, 74.0, 74.0, 79.0, 38.0, 101.0, 7.0, 26.0], \"type\": \"bar\"}], \"layout\": {\"title\": {\"text\": \"Confirmed cases - 2020-03-31\"}}}, {\"data\": [{\"marker\": {\"color\": [\"#9370DB\", \"#F08080\", \"#2F4F4F\", \"#E6E6FA\", \"#FFE4C4\", \"#FF8C00\", \"#000000\", \"#A52A2A\", \"#A9A9A9\", \"#00FFFF\", \"#00FF00\", \"#F4A460\", \"#0000FF\", \"#8B008B\", \"#2F4F4F\", \"#1E90FF\", \"#87CEEB\", \"#3CB371\", \"#98FB98\", \"#8A2BE2\", \"#4169E1\", \"#F5DEB3\", \"#D2B48C\", \"#FF0000\", \"#F8F8FF\", \"#9400D3\", \"#FFC0CB\", \"#00FF7F\", \"#00BFFF\", \"#FFFAF0\", \"#F5F5DC\", \"#FFFACD\", \"#BDB76B\"]}, \"x\": [\"Andaman and Nicobar Islands\", \"Andhra Pradesh\", \"Arunachal Pradesh\", \"Assam\", \"Bihar\", \"Chandigarh\", \"Chhattisgarh\", \"Delhi\", \"Goa\", \"Gujarat\", \"Haryana\", \"Himachal Pradesh\", \"Jammu and Kashmir\", \"Jharkhand\", \"Karnataka\", \"Kerala\", \"Ladakh\", \"Madhya Pradesh\", \"Maharashtra\", \"Manipur\", \"Mizoram\", \"Odisha\", \"Puducherry\", \"Punjab\", \"Rajasthan\", \"Tamil Nadu\", \"Telengana\", \"Unassigned\", \"Uttar Pradesh\", \"Uttarakhand\", \"West Bengal\"], \"y\": [10.0, 83.0, 0.0, 1.0, 23.0, 16.0, 9.0, 152.0, 5.0, 82.0, 43.0, 3.0, 62.0, 1.0, 101.0, 241.0, 13.0, 66.0, 302.0, 1.0, 1.0, 4.0, 3.0, 42.0, 93.0, 234.0, 96.0, 0.0, 103.0, 7.0, 37.0], \"type\": \"bar\"}], \"layout\": {\"title\": {\"text\": \"Confirmed cases - 2020-04-01\"}}}, {\"data\": [{\"marker\": {\"color\": [\"#9370DB\", \"#F08080\", \"#2F4F4F\", \"#E6E6FA\", \"#FFE4C4\", \"#FF8C00\", \"#000000\", \"#A52A2A\", \"#A9A9A9\", \"#00FFFF\", \"#00FF00\", \"#F4A460\", \"#0000FF\", \"#8B008B\", \"#2F4F4F\", \"#1E90FF\", \"#87CEEB\", \"#3CB371\", \"#98FB98\", \"#8A2BE2\", \"#4169E1\", \"#F5DEB3\", \"#D2B48C\", \"#FF0000\", \"#F8F8FF\", \"#9400D3\", \"#FFC0CB\", \"#00FF7F\", \"#00BFFF\", \"#FFFAF0\", \"#F5F5DC\", \"#FFFACD\", \"#BDB76B\"]}, \"x\": [\"Andaman and Nicobar Islands\", \"Andhra Pradesh\", \"Arunachal Pradesh\", \"Assam\", \"Bihar\", \"Chandigarh\", \"Chhattisgarh\", \"Delhi\", \"Goa\", \"Gujarat\", \"Haryana\", \"Himachal Pradesh\", \"Jammu and Kashmir\", \"Jharkhand\", \"Karnataka\", \"Kerala\", \"Ladakh\", \"Madhya Pradesh\", \"Maharashtra\", \"Manipur\", \"Mizoram\", \"Odisha\", \"Puducherry\", \"Punjab\", \"Rajasthan\", \"Tamil Nadu\", \"Telengana\", \"Unassigned\", \"Uttar Pradesh\", \"Uttarakhand\", \"West Bengal\"], \"y\": [10.0, 86.0, 0.0, 5.0, 24.0, 16.0, 9.0, 219.0, 5.0, 87.0, 43.0, 3.0, 62.0, 1.0, 110.0, 265.0, 13.0, 99.0, 335.0, 1.0, 1.0, 4.0, 3.0, 46.0, 108.0, 234.0, 107.0, 0.0, 113.0, 7.0, 53.0], \"type\": \"bar\"}], \"layout\": {\"title\": {\"text\": \"Confirmed cases - 2020-04-02\"}}}, {\"data\": [{\"marker\": {\"color\": [\"#9370DB\", \"#F08080\", \"#2F4F4F\", \"#E6E6FA\", \"#FFE4C4\", \"#FF8C00\", \"#000000\", \"#A52A2A\", \"#A9A9A9\", \"#00FFFF\", \"#00FF00\", \"#F4A460\", \"#0000FF\", \"#8B008B\", \"#2F4F4F\", \"#1E90FF\", \"#87CEEB\", \"#3CB371\", \"#98FB98\", \"#8A2BE2\", \"#4169E1\", \"#F5DEB3\", \"#D2B48C\", \"#FF0000\", \"#F8F8FF\", \"#9400D3\", \"#FFC0CB\", \"#00FF7F\", \"#00BFFF\", \"#FFFAF0\", \"#F5F5DC\", \"#FFFACD\", \"#BDB76B\"]}, \"x\": [\"Andaman and Nicobar Islands\", \"Andhra Pradesh\", \"Arunachal Pradesh\", \"Assam\", \"Bihar\", \"Chandigarh\", \"Chhattisgarh\", \"Delhi\", \"Goa\", \"Gujarat\", \"Haryana\", \"Himachal Pradesh\", \"Jammu and Kashmir\", \"Jharkhand\", \"Karnataka\", \"Kerala\", \"Ladakh\", \"Madhya Pradesh\", \"Maharashtra\", \"Manipur\", \"Mizoram\", \"Odisha\", \"Puducherry\", \"Punjab\", \"Rajasthan\", \"Tamil Nadu\", \"Telengana\", \"Unassigned\", \"Uttar Pradesh\", \"Uttarakhand\", \"West Bengal\"], \"y\": [10, 132, 1, 16, 29, 18, 9, 219, 6, 95, 49, 6, 75, 2, 124, 286, 14, 104, 335, 2, 1, 5, 5, 48, 167, 309, 158, 77, 172, 10, 63], \"type\": \"bar\"}], \"layout\": {\"title\": {\"text\": \"Confirmed cases - 2020-04-03\"}}}, {\"data\": [{\"marker\": {\"color\": [\"#9370DB\", \"#F08080\", \"#2F4F4F\", \"#E6E6FA\", \"#FFE4C4\", \"#FF8C00\", \"#000000\", \"#A52A2A\", \"#A9A9A9\", \"#00FFFF\", \"#00FF00\", \"#F4A460\", \"#0000FF\", \"#8B008B\", \"#2F4F4F\", \"#1E90FF\", \"#87CEEB\", \"#3CB371\", \"#98FB98\", \"#8A2BE2\", \"#4169E1\", \"#F5DEB3\", \"#D2B48C\", \"#FF0000\", \"#F8F8FF\", \"#9400D3\", \"#FFC0CB\", \"#00FF7F\", \"#00BFFF\", \"#FFFAF0\", \"#F5F5DC\", \"#FFFACD\", \"#BDB76B\"]}, \"x\": [\"Andaman and Nicobar Islands\", \"Andhra Pradesh\", \"Arunachal Pradesh\", \"Assam\", \"Bihar\", \"Chandigarh\", \"Chhattisgarh\", \"Delhi\", \"Goa\", \"Gujarat\", \"Haryana\", \"Himachal Pradesh\", \"Jammu and Kashmir\", \"Jharkhand\", \"Karnataka\", \"Kerala\", \"Ladakh\", \"Madhya Pradesh\", \"Maharashtra\", \"Manipur\", \"Mizoram\", \"Odisha\", \"Puducherry\", \"Punjab\", \"Rajasthan\", \"Tamil Nadu\", \"Telengana\", \"Unassigned\", \"Uttar Pradesh\", \"Uttarakhand\", \"West Bengal\"], \"y\": [10.0, 161.0, 1.0, 24.0, 30.0, 18.0, 9.0, 445.0, 7.0, 105.0, 49.0, 6.0, 75.0, 2.0, 128.0, 295.0, 14.0, 104.0, 490.0, 2.0, 1.0, 5.0, 5.0, 57.0, 200.0, 411.0, 159.0, 0.0, 174.0, 16.0, 69.0], \"type\": \"bar\"}], \"layout\": {\"title\": {\"text\": \"Confirmed cases - 2020-04-04\"}}}, {\"data\": [{\"marker\": {\"color\": [\"#9370DB\", \"#F08080\", \"#2F4F4F\", \"#E6E6FA\", \"#FFE4C4\", \"#FF8C00\", \"#000000\", \"#A52A2A\", \"#A9A9A9\", \"#00FFFF\", \"#00FF00\", \"#F4A460\", \"#0000FF\", \"#8B008B\", \"#2F4F4F\", \"#1E90FF\", \"#87CEEB\", \"#3CB371\", \"#98FB98\", \"#8A2BE2\", \"#4169E1\", \"#F5DEB3\", \"#D2B48C\", \"#FF0000\", \"#F8F8FF\", \"#9400D3\", \"#FFC0CB\", \"#00FF7F\", \"#00BFFF\", \"#FFFAF0\", \"#F5F5DC\", \"#FFFACD\", \"#BDB76B\"]}, \"x\": [\"Andaman and Nicobar Islands\", \"Andhra Pradesh\", \"Arunachal Pradesh\", \"Assam\", \"Bihar\", \"Chandigarh\", \"Chhattisgarh\", \"Delhi\", \"Goa\", \"Gujarat\", \"Haryana\", \"Himachal Pradesh\", \"Jammu and Kashmir\", \"Jharkhand\", \"Karnataka\", \"Kerala\", \"Ladakh\", \"Madhya Pradesh\", \"Maharashtra\", \"Manipur\", \"Mizoram\", \"Odisha\", \"Puducherry\", \"Punjab\", \"Rajasthan\", \"Tamil Nadu\", \"Telengana\", \"Unassigned\", \"Uttar Pradesh\", \"Uttarakhand\", \"West Bengal\"], \"y\": [10.0, 161.0, 1.0, 24.0, 30.0, 18.0, 9.0, 445.0, 7.0, 105.0, 49.0, 6.0, 92.0, 2.0, 144.0, 306.0, 14.0, 104.0, 490.0, 2.0, 1.0, 20.0, 5.0, 57.0, 200.0, 485.0, 269.0, 0.0, 227.0, 22.0, 69.0], \"type\": \"bar\"}], \"layout\": {\"title\": {\"text\": \"Confirmed cases - 2020-04-05\"}}}]);\n",
       "                        }).then(function(){\n",
       "                            \n",
       "var gd = document.getElementById('d01480a8-8d08-4794-8531-874a6a98d86e');\n",
       "var x = new MutationObserver(function (mutations, observer) {{\n",
       "        var display = window.getComputedStyle(gd).display;\n",
       "        if (!display || display === 'none') {{\n",
       "            console.log([gd, 'removed!']);\n",
       "            Plotly.purge(gd);\n",
       "            observer.disconnect();\n",
       "        }}\n",
       "}});\n",
       "\n",
       "// Listen for the removal of the full notebook cells\n",
       "var notebookContainer = gd.closest('#notebook-container');\n",
       "if (notebookContainer) {{\n",
       "    x.observe(notebookContainer, {childList: true});\n",
       "}}\n",
       "\n",
       "// Listen for the clearing of the current output cell\n",
       "var outputEl = gd.closest('.output');\n",
       "if (outputEl) {{\n",
       "    x.observe(outputEl, {childList: true});\n",
       "}}\n",
       "\n",
       "                        })\n",
       "                };\n",
       "                });\n",
       "            </script>\n",
       "        </div>"
      ]
     },
     "metadata": {},
     "output_type": "display_data"
    }
   ],
   "source": [
    "import matplotlib\n",
    "\n",
    "hex_colors_dic = {}\n",
    "rgb_colors_dic = {}\n",
    "hex_colors_only = []\n",
    "for name, hex in matplotlib.colors.cnames.items():\n",
    "    hex_colors_only.append(hex)\n",
    "    hex_colors_dic[name] = hex\n",
    "    rgb_colors_dic[name] = matplotlib.colors.to_rgb(hex)\n",
    "    \n",
    "dummy = pd.DataFrame()\n",
    "\n",
    "dummy['State'] = covid_19_india_df['State/UnionTerritory'].unique()\n",
    "\n",
    "import plotly.io as pio\n",
    "\n",
    "def animate_bar_chart():\n",
    "    frames = []\n",
    "    grouped = covid_19_india_df[['Date', 'State/UnionTerritory', 'Confirmed', 'Deaths', 'Cured']].groupby(['Date'])\n",
    "    #colors = px.colors.n_colors('rgb(127, 60, 141)', 'rgb(165, 170, 153)', 33, colortype='rgb')\n",
    "    colors = np.random.choice(hex_colors_only, 33).tolist()\n",
    "    for name, group in iter(grouped):\n",
    "        merged = pd.merge(group, dummy, how='outer', left_on='State/UnionTerritory', right_on='State')        \n",
    "        merged.fillna(0, inplace=True)\n",
    "        merged.sort_values('State', inplace=True)\n",
    "        frames.append(go.Frame(data = [go.Bar(x = merged['State'].tolist(), y=merged['Confirmed'].tolist(), marker_color=colors)], \n",
    "                              layout=go.Layout(title='Confirmed cases - '+group.Date.iloc[0].strftime('%Y-%m-%d'))))\n",
    "    \n",
    "    fig = go.Figure(\n",
    "        data = [go.Bar(x = merged['State'].tolist(), y = [0] * len(merged['State'].tolist()))],\n",
    "        frames=frames, \n",
    "        layout=go.Layout(\n",
    "            width=1000,\n",
    "            height=750,\n",
    "            xaxis=dict(type='category'),\n",
    "            yaxis=dict(range=[0, 500], autorange=False),            \n",
    "            title=\"Confirmed cases\",\n",
    "            xaxis_title=\"State\",\n",
    "            yaxis_title=\"Count\",\n",
    "            updatemenus=[dict(\n",
    "                type=\"buttons\",\n",
    "                buttons=[dict(label=\"Play\",\n",
    "                              method=\"animate\",\n",
    "                              args=[None])])]))\n",
    "    fig.show()\n",
    "                                       \n",
    "                                       \n",
    "\n",
    "animate_bar_chart()"
   ]
  },
  {
   "cell_type": "code",
   "execution_count": null,
   "metadata": {},
   "outputs": [],
   "source": []
  }
 ],
 "metadata": {
  "hide_input": true,
  "kernelspec": {
   "display_name": "Python 3",
   "language": "python",
   "name": "python3"
  },
  "language_info": {
   "codemirror_mode": {
    "name": "ipython",
    "version": 3
   },
   "file_extension": ".py",
   "mimetype": "text/x-python",
   "name": "python",
   "nbconvert_exporter": "python",
   "pygments_lexer": "ipython3",
   "version": "3.6.2"
  },
  "toc": {
   "base_numbering": 1,
   "nav_menu": {},
   "number_sections": true,
   "sideBar": true,
   "skip_h1_title": false,
   "title_cell": "Table of Contents",
   "title_sidebar": "Contents",
   "toc_cell": false,
   "toc_position": {
    "height": "calc(100% - 180px)",
    "left": "10px",
    "top": "150px",
    "width": "384px"
   },
   "toc_section_display": true,
   "toc_window_display": true
  }
 },
 "nbformat": 4,
 "nbformat_minor": 4
}
